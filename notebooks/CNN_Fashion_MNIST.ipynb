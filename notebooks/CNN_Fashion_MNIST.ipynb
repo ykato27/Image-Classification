{
  "nbformat": 4,
  "nbformat_minor": 0,
  "metadata": {
    "colab": {
      "name": "CNN-Fashion-MNIST.ipynb",
      "provenance": [],
      "authorship_tag": "ABX9TyPE2qvlnjAZdlpqBBvmp7di",
      "include_colab_link": true
    },
    "kernelspec": {
      "name": "python3",
      "display_name": "Python 3"
    },
    "language_info": {
      "name": "python"
    },
    "accelerator": "GPU"
  },
  "cells": [
    {
      "cell_type": "markdown",
      "metadata": {
        "id": "view-in-github",
        "colab_type": "text"
      },
      "source": [
        "<a href=\"https://colab.research.google.com/github/ykato27/Image-Classification/blob/main/CNN_Fashion_MNIST.ipynb\" target=\"_parent\"><img src=\"https://colab.research.google.com/assets/colab-badge.svg\" alt=\"Open In Colab\"/></a>"
      ]
    },
    {
      "cell_type": "code",
      "metadata": {
        "id": "4SCgZUoiasv3"
      },
      "source": [
        "from collections import defaultdict\n",
        "\n",
        "import matplotlib.pyplot as plt\n",
        "import numpy as np\n",
        "import torch\n",
        "import torch.nn as nn\n",
        "import torchvision.datasets as datasets\n",
        "import torchvision.transforms as transforms"
      ],
      "execution_count": 1,
      "outputs": []
    },
    {
      "cell_type": "markdown",
      "metadata": {
        "id": "riq2_X-VbxDo"
      },
      "source": [
        "## Fashion-MNISTとは\n",
        "- Fashion-MNIST は、オンラインショップ Zalando 上の衣類の画像から作成されたデータセット\n",
        "- 6万枚の学習データ、1万枚のテストデータで構成されている\n",
        "- 各サンプルは大きさが 28×28 のグレースケール画像で、10クラスのいずれかがラベル付けされている"
      ]
    },
    {
      "cell_type": "markdown",
      "metadata": {
        "id": "xcMGmDR_cIge"
      },
      "source": [
        "## Fashion-MNIST読み込み\n",
        "- 引数\n",
        "    - root: データセットを保存するディレクトリのパスを指定します。\n",
        "    - train: True を指定した場合は学習データ、False を指定した場合はテストデータをダウンロードします。\n",
        "    - transform: 画像に対して行う前処理を指定します。今回は、transforms.ToTensor のみを指定しました。 この Transformer は、画素値を範囲が [0, 255] の uint8 型から範囲が [0, 1] の float32 型にし、Pytorch で扱う Tensor に変換を行います。\n",
        "    - download: True を指定した場合は、データセットがローカルにない場合は、ネットからダウンロードします。"
      ]
    },
    {
      "cell_type": "code",
      "metadata": {
        "id": "uB-xSEwca17c"
      },
      "source": [
        "data_transform = transforms.ToTensor()\n",
        "\n",
        "# 学習データを読み込む DataLoader を作成する。\n",
        "train_dataset = datasets.FashionMNIST(\n",
        "    root=\"datasets\", train=True, transform=data_transform, download=True\n",
        ")\n",
        "train_data_loader = torch.utils.data.DataLoader(\n",
        "    train_dataset, batch_size=64, shuffle=True\n",
        ")\n",
        "\n",
        "# テストデータを読み込む DataLoader を作成する。\n",
        "test_dataset = datasets.FashionMNIST(\n",
        "    root=\"datasets\", train=False, transform=data_transform, download=True\n",
        ")\n",
        "test_data_loader = torch.utils.data.DataLoader(\n",
        "    test_dataset, batch_size=64, shuffle=True\n",
        ")"
      ],
      "execution_count": 2,
      "outputs": []
    },
    {
      "cell_type": "markdown",
      "metadata": {
        "id": "IVGdftQFcYWv"
      },
      "source": [
        "## Fashion-MNISTの中身\n",
        "- FashionMNIST.classes (list): クラス名一覧\n",
        "- FashionMNIST.class_to_idx (dict): クラス名、値がクラス ID の辞書\n",
        "- FashionMNIST.data (Tensor): 画像一覧\n",
        "- FashionMNIST.targets (Tensor): ラベル一覧"
      ]
    },
    {
      "cell_type": "code",
      "metadata": {
        "colab": {
          "base_uri": "https://localhost:8080/",
          "height": 276
        },
        "id": "U0o5xjkwa585",
        "outputId": "f96b7557-03e6-4de1-eedf-6825db6097f5"
      },
      "source": [
        "# 各クラスのラベルを持つサンプルを1つずつ取得する。\n",
        "class_ids, sample_indices = np.unique(train_dataset.targets, return_index=True)\n",
        "\n",
        "fig = plt.figure(figsize=(10, 4))\n",
        "fig.suptitle(\n",
        "    \"Examples of every class in the Fashion-MNIST dataset\", fontsize=\"x-large\"\n",
        ")\n",
        "\n",
        "for i in class_ids:\n",
        "    img = train_dataset.data[sample_indices[i]]\n",
        "    class_name = train_dataset.classes[i]\n",
        "\n",
        "    ax = fig.add_subplot(2, 5, i + 1)\n",
        "    ax.set_title(f\"{i}: {class_name}\")\n",
        "    ax.set_axis_off()\n",
        "    ax.imshow(img, cmap=\"gray\")\n",
        "\n",
        "plt.show()"
      ],
      "execution_count": 3,
      "outputs": [
        {
          "output_type": "display_data",
          "data": {
            "image/png": "[encoded data removed]",
            "text/plain": [
              "<Figure size 720x288 with 10 Axes>"
            ]
          },
          "metadata": {
            "tags": [],
            "needs_background": "light"
          }
        }
      ]
    },
    {
      "cell_type": "code",
      "metadata": {
        "id": "s_0i77OGa877"
      },
      "source": [
        "class Net(nn.Module):\n",
        "    def __init__(self):\n",
        "        super().__init__()\n",
        "        self.features = nn.Sequential(\n",
        "            nn.Conv2d(1, 32, kernel_size=3, padding=1),\n",
        "            nn.ReLU(),\n",
        "            nn.MaxPool2d(kernel_size=2),\n",
        "            nn.Conv2d(32, 64, kernel_size=3, padding=1),\n",
        "            nn.ReLU(),\n",
        "            nn.MaxPool2d(kernel_size=2),\n",
        "        )\n",
        "\n",
        "        self.classifier = nn.Sequential(\n",
        "            nn.Dropout(),\n",
        "            nn.Linear(64 * 7 * 7, 128),\n",
        "            nn.ReLU(),\n",
        "            nn.Dropout(),\n",
        "            nn.Linear(128, 10),\n",
        "            nn.LogSoftmax(dim=1),\n",
        "        )\n",
        "\n",
        "    def forward(self, x):\n",
        "        x = self.features(x)\n",
        "        x = torch.flatten(x, 1)\n",
        "        x = self.classifier(x)\n",
        "\n",
        "        return x"
      ],
      "execution_count": 4,
      "outputs": []
    },
    {
      "cell_type": "code",
      "metadata": {
        "id": "i4wh-EKWbAiM"
      },
      "source": [
        "nll_loss = nn.NLLLoss()"
      ],
      "execution_count": 5,
      "outputs": []
    },
    {
      "cell_type": "code",
      "metadata": {
        "id": "DcX1O6AZbEWi"
      },
      "source": [
        "# 計算を実行するデバイスを選択する。\n",
        "# CUDA が利用可能な場合は、GPU、そうでない場合は CPU を選択する。\n",
        "device = torch.device(\"cuda\" if torch.cuda.is_available() else \"cpu\")\n",
        "\n",
        "# モデルを計算を実行するデバイスに転送する。\n",
        "model = Net().to(device)"
      ],
      "execution_count": 6,
      "outputs": []
    },
    {
      "cell_type": "code",
      "metadata": {
        "id": "dnBWiC4gbFnX"
      },
      "source": [
        "# Optimizer を作成する。\n",
        "optim = torch.optim.Adam(model.parameters())"
      ],
      "execution_count": 7,
      "outputs": []
    },
    {
      "cell_type": "code",
      "metadata": {
        "id": "V3QzDCwSbHeO"
      },
      "source": [
        "def train(model, device, data_loader, optim):\n",
        "    \"\"\"\n",
        "    1エポック分の学習を行う。\n",
        "        :param model: モデル\n",
        "        :param device: デバイス\n",
        "        :param data_loader: Data Loader\n",
        "        :param optim: Optimizer\n",
        "    \"\"\"\n",
        "    # モデルを学習モードに設定する。\n",
        "    model.train()\n",
        "\n",
        "    total_loss = 0\n",
        "    total_correct = 0\n",
        "    for data, target in data_loader:\n",
        "        # データ及びラベルを計算を実行するデバイスに転送する。\n",
        "        data, target = data.to(device), target.to(device)\n",
        "\n",
        "        # 順伝搬を行う。\n",
        "        output = model(data)\n",
        "\n",
        "        # 損失関数の値を計算する。\n",
        "        loss = nll_loss(output, target)\n",
        "        total_loss += float(loss)\n",
        "\n",
        "        # 逆伝搬を行う。\n",
        "        optim.zero_grad()\n",
        "        loss.backward()\n",
        "\n",
        "        # パラメータを更新する。\n",
        "        optim.step()\n",
        "\n",
        "        # 確率の最も高いクラスを予測ラベルとする。\n",
        "        pred_target = output.argmax(dim=1)\n",
        "\n",
        "        # 正答数を計算する。\n",
        "        total_correct += int((pred_target == target).sum())\n",
        "\n",
        "    # 損失関数の値の平均及び精度を計算する。\n",
        "    avg_loss = total_loss / len(data_loader.dataset)\n",
        "    accuracy = total_correct / len(data_loader.dataset)\n",
        "\n",
        "    return avg_loss, accuracy"
      ],
      "execution_count": 8,
      "outputs": []
    },
    {
      "cell_type": "code",
      "metadata": {
        "id": "4OnVs2xUbJeN"
      },
      "source": [
        "def test(model, device, data_loader):\n",
        "    \"\"\"\n",
        "    テストデータに対する損失の平均及び精度を計算する。\n",
        "        :param model: モデル\n",
        "        :param device: デバイス\n",
        "        :param data_loader: Data Loader\n",
        "    \"\"\"\n",
        "    # モデルをテストモードに設定する。\n",
        "    model.eval()\n",
        "\n",
        "    with torch.no_grad():\n",
        "        total_loss = 0\n",
        "        total_correct = 0\n",
        "        for data, target in data_loader:\n",
        "            # データ及びラベルを計算を実行するデバイスに転送する。\n",
        "            data, target = data.to(device), target.to(device)\n",
        "\n",
        "            # 順伝搬する。\n",
        "            output = model(data)\n",
        "\n",
        "            # 損失を計算する。\n",
        "            loss = nll_loss(output, target)\n",
        "            total_loss += float(loss)\n",
        "\n",
        "            # 確率の最も高いクラスを予測ラベルとする。\n",
        "            pred_target = output.argmax(dim=1)\n",
        "\n",
        "            # 正答数を計算する。\n",
        "            total_correct += int((pred_target == target).sum())\n",
        "\n",
        "    # 損失の平均及び精度を計算する。\n",
        "    avg_loss = total_loss / len(data_loader.dataset)\n",
        "    accuracy = total_correct / len(data_loader.dataset)\n",
        "\n",
        "    return avg_loss, accuracy"
      ],
      "execution_count": 9,
      "outputs": []
    },
    {
      "cell_type": "code",
      "metadata": {
        "colab": {
          "base_uri": "https://localhost:8080/"
        },
        "id": "vuuUqqAubLyc",
        "outputId": "5f4499c3-d383-4ec5-d5f1-2bb4b4bc4287"
      },
      "source": [
        "%%time\n",
        "n_epochs = 100\n",
        "\n",
        "history = defaultdict(list)\n",
        "for epoch in range(n_epochs):\n",
        "    # 1エポック分、学習する。\n",
        "    train_loss, train_accuracy = train(model, device, train_data_loader, optim)\n",
        "    history[\"train_loss\"].append(train_loss)\n",
        "    history[\"train_accuracy\"].append(train_accuracy)\n",
        "\n",
        "    # 評価する。\n",
        "    test_loss, test_accuracy = test(model, device, test_data_loader)\n",
        "    history[\"test_loss\"].append(test_loss)\n",
        "    history[\"test_accuracy\"].append(test_accuracy)\n",
        "\n",
        "    print(\n",
        "        f\"epoch {epoch + 1} \"\n",
        "        f\"[train] loss: {train_loss:.6f}, accuracy: {train_accuracy:.0%} \"\n",
        "        f\"[test] loss: {test_loss:.6f}, accuracy: {test_accuracy:.0%}\"\n",
        "    )"
      ],
      "execution_count": 10,
      "outputs": [
        {
          "output_type": "stream",
          "text": [
            "epoch 1 [train] loss: 0.009385, accuracy: 78% [test] loss: 0.006115, accuracy: 86%\n",
            "epoch 2 [train] loss: 0.006446, accuracy: 85% [test] loss: 0.005349, accuracy: 87%\n",
            "epoch 3 [train] loss: 0.005651, accuracy: 87% [test] loss: 0.004750, accuracy: 89%\n",
            "epoch 4 [train] loss: 0.005233, accuracy: 88% [test] loss: 0.004550, accuracy: 89%\n",
            "epoch 5 [train] loss: 0.004921, accuracy: 88% [test] loss: 0.004440, accuracy: 90%\n",
            "epoch 6 [train] loss: 0.004621, accuracy: 89% [test] loss: 0.004278, accuracy: 90%\n",
            "epoch 7 [train] loss: 0.004444, accuracy: 90% [test] loss: 0.004128, accuracy: 91%\n",
            "epoch 8 [train] loss: 0.004314, accuracy: 90% [test] loss: 0.003931, accuracy: 91%\n",
            "epoch 9 [train] loss: 0.004125, accuracy: 90% [test] loss: 0.003806, accuracy: 91%\n",
            "epoch 10 [train] loss: 0.004023, accuracy: 90% [test] loss: 0.003812, accuracy: 91%\n",
            "epoch 11 [train] loss: 0.003880, accuracy: 91% [test] loss: 0.003777, accuracy: 91%\n",
            "epoch 12 [train] loss: 0.003801, accuracy: 91% [test] loss: 0.003721, accuracy: 92%\n",
            "epoch 13 [train] loss: 0.003696, accuracy: 91% [test] loss: 0.003618, accuracy: 92%\n",
            "epoch 14 [train] loss: 0.003656, accuracy: 91% [test] loss: 0.003510, accuracy: 92%\n",
            "epoch 15 [train] loss: 0.003591, accuracy: 91% [test] loss: 0.003597, accuracy: 92%\n",
            "epoch 16 [train] loss: 0.003525, accuracy: 92% [test] loss: 0.003657, accuracy: 92%\n",
            "epoch 17 [train] loss: 0.003406, accuracy: 92% [test] loss: 0.003684, accuracy: 92%\n",
            "epoch 18 [train] loss: 0.003419, accuracy: 92% [test] loss: 0.003400, accuracy: 92%\n",
            "epoch 19 [train] loss: 0.003383, accuracy: 92% [test] loss: 0.003546, accuracy: 92%\n",
            "epoch 20 [train] loss: 0.003296, accuracy: 92% [test] loss: 0.003374, accuracy: 92%\n",
            "epoch 21 [train] loss: 0.003285, accuracy: 92% [test] loss: 0.003419, accuracy: 92%\n",
            "epoch 22 [train] loss: 0.003211, accuracy: 92% [test] loss: 0.003415, accuracy: 92%\n",
            "epoch 23 [train] loss: 0.003185, accuracy: 92% [test] loss: 0.003386, accuracy: 92%\n",
            "epoch 24 [train] loss: 0.003160, accuracy: 92% [test] loss: 0.003711, accuracy: 92%\n",
            "epoch 25 [train] loss: 0.003116, accuracy: 92% [test] loss: 0.003328, accuracy: 92%\n",
            "epoch 26 [train] loss: 0.003032, accuracy: 93% [test] loss: 0.003334, accuracy: 93%\n",
            "epoch 27 [train] loss: 0.002984, accuracy: 93% [test] loss: 0.003354, accuracy: 92%\n",
            "epoch 28 [train] loss: 0.002998, accuracy: 93% [test] loss: 0.003364, accuracy: 92%\n",
            "epoch 29 [train] loss: 0.002962, accuracy: 93% [test] loss: 0.003401, accuracy: 92%\n",
            "epoch 30 [train] loss: 0.002933, accuracy: 93% [test] loss: 0.003377, accuracy: 93%\n",
            "epoch 31 [train] loss: 0.002924, accuracy: 93% [test] loss: 0.003365, accuracy: 93%\n",
            "epoch 32 [train] loss: 0.002880, accuracy: 93% [test] loss: 0.003353, accuracy: 93%\n",
            "epoch 33 [train] loss: 0.002869, accuracy: 93% [test] loss: 0.003443, accuracy: 92%\n",
            "epoch 34 [train] loss: 0.002836, accuracy: 93% [test] loss: 0.003352, accuracy: 93%\n",
            "epoch 35 [train] loss: 0.002815, accuracy: 93% [test] loss: 0.003441, accuracy: 93%\n",
            "epoch 36 [train] loss: 0.002818, accuracy: 93% [test] loss: 0.003396, accuracy: 93%\n",
            "epoch 37 [train] loss: 0.002722, accuracy: 93% [test] loss: 0.003392, accuracy: 93%\n",
            "epoch 38 [train] loss: 0.002760, accuracy: 93% [test] loss: 0.003349, accuracy: 93%\n",
            "epoch 39 [train] loss: 0.002692, accuracy: 93% [test] loss: 0.003435, accuracy: 93%\n",
            "epoch 40 [train] loss: 0.002727, accuracy: 93% [test] loss: 0.003390, accuracy: 93%\n",
            "epoch 41 [train] loss: 0.002634, accuracy: 94% [test] loss: 0.003385, accuracy: 93%\n",
            "epoch 42 [train] loss: 0.002661, accuracy: 94% [test] loss: 0.003348, accuracy: 93%\n",
            "epoch 43 [train] loss: 0.002623, accuracy: 93% [test] loss: 0.003658, accuracy: 92%\n",
            "epoch 44 [train] loss: 0.002606, accuracy: 94% [test] loss: 0.003430, accuracy: 93%\n",
            "epoch 45 [train] loss: 0.002634, accuracy: 94% [test] loss: 0.003367, accuracy: 93%\n",
            "epoch 46 [train] loss: 0.002607, accuracy: 94% [test] loss: 0.003416, accuracy: 93%\n",
            "epoch 47 [train] loss: 0.002552, accuracy: 94% [test] loss: 0.003574, accuracy: 92%\n",
            "epoch 48 [train] loss: 0.002606, accuracy: 94% [test] loss: 0.003439, accuracy: 93%\n",
            "epoch 49 [train] loss: 0.002525, accuracy: 94% [test] loss: 0.003542, accuracy: 93%\n",
            "epoch 50 [train] loss: 0.002528, accuracy: 94% [test] loss: 0.003477, accuracy: 93%\n",
            "epoch 51 [train] loss: 0.002542, accuracy: 94% [test] loss: 0.003328, accuracy: 93%\n",
            "epoch 52 [train] loss: 0.002502, accuracy: 94% [test] loss: 0.003431, accuracy: 93%\n",
            "epoch 53 [train] loss: 0.002486, accuracy: 94% [test] loss: 0.003308, accuracy: 93%\n",
            "epoch 54 [train] loss: 0.002505, accuracy: 94% [test] loss: 0.003294, accuracy: 93%\n",
            "epoch 55 [train] loss: 0.002473, accuracy: 94% [test] loss: 0.003531, accuracy: 93%\n",
            "epoch 56 [train] loss: 0.002478, accuracy: 94% [test] loss: 0.003399, accuracy: 93%\n",
            "epoch 57 [train] loss: 0.002444, accuracy: 94% [test] loss: 0.003518, accuracy: 93%\n",
            "epoch 58 [train] loss: 0.002458, accuracy: 94% [test] loss: 0.003403, accuracy: 93%\n",
            "epoch 59 [train] loss: 0.002421, accuracy: 94% [test] loss: 0.003472, accuracy: 93%\n",
            "epoch 60 [train] loss: 0.002467, accuracy: 94% [test] loss: 0.003388, accuracy: 93%\n",
            "epoch 61 [train] loss: 0.002389, accuracy: 94% [test] loss: 0.003328, accuracy: 93%\n",
            "epoch 62 [train] loss: 0.002439, accuracy: 94% [test] loss: 0.003369, accuracy: 93%\n",
            "epoch 63 [train] loss: 0.002377, accuracy: 94% [test] loss: 0.003448, accuracy: 93%\n",
            "epoch 64 [train] loss: 0.002396, accuracy: 94% [test] loss: 0.003464, accuracy: 93%\n",
            "epoch 65 [train] loss: 0.002355, accuracy: 94% [test] loss: 0.003379, accuracy: 93%\n",
            "epoch 66 [train] loss: 0.002327, accuracy: 94% [test] loss: 0.003459, accuracy: 93%\n",
            "epoch 67 [train] loss: 0.002350, accuracy: 94% [test] loss: 0.003454, accuracy: 93%\n",
            "epoch 68 [train] loss: 0.002330, accuracy: 94% [test] loss: 0.003328, accuracy: 93%\n",
            "epoch 69 [train] loss: 0.002366, accuracy: 94% [test] loss: 0.003424, accuracy: 93%\n",
            "epoch 70 [train] loss: 0.002288, accuracy: 94% [test] loss: 0.003322, accuracy: 93%\n",
            "epoch 71 [train] loss: 0.002314, accuracy: 94% [test] loss: 0.003400, accuracy: 93%\n",
            "epoch 72 [train] loss: 0.002295, accuracy: 94% [test] loss: 0.003468, accuracy: 93%\n",
            "epoch 73 [train] loss: 0.002315, accuracy: 94% [test] loss: 0.003291, accuracy: 93%\n",
            "epoch 74 [train] loss: 0.002262, accuracy: 94% [test] loss: 0.003439, accuracy: 93%\n",
            "epoch 75 [train] loss: 0.002286, accuracy: 94% [test] loss: 0.003355, accuracy: 93%\n",
            "epoch 76 [train] loss: 0.002274, accuracy: 95% [test] loss: 0.003493, accuracy: 93%\n",
            "epoch 77 [train] loss: 0.002279, accuracy: 94% [test] loss: 0.003547, accuracy: 93%\n",
            "epoch 78 [train] loss: 0.002251, accuracy: 95% [test] loss: 0.003482, accuracy: 93%\n",
            "epoch 79 [train] loss: 0.002231, accuracy: 95% [test] loss: 0.003425, accuracy: 94%\n",
            "epoch 80 [train] loss: 0.002221, accuracy: 95% [test] loss: 0.003483, accuracy: 93%\n",
            "epoch 81 [train] loss: 0.002260, accuracy: 94% [test] loss: 0.003392, accuracy: 93%\n",
            "epoch 82 [train] loss: 0.002210, accuracy: 95% [test] loss: 0.003417, accuracy: 93%\n",
            "epoch 83 [train] loss: 0.002221, accuracy: 95% [test] loss: 0.003412, accuracy: 93%\n",
            "epoch 84 [train] loss: 0.002240, accuracy: 95% [test] loss: 0.003410, accuracy: 93%\n",
            "epoch 85 [train] loss: 0.002229, accuracy: 95% [test] loss: 0.003518, accuracy: 93%\n",
            "epoch 86 [train] loss: 0.002231, accuracy: 95% [test] loss: 0.003473, accuracy: 93%\n",
            "epoch 87 [train] loss: 0.002231, accuracy: 95% [test] loss: 0.003490, accuracy: 93%\n",
            "epoch 88 [train] loss: 0.002157, accuracy: 95% [test] loss: 0.003366, accuracy: 93%\n",
            "epoch 89 [train] loss: 0.002200, accuracy: 95% [test] loss: 0.003603, accuracy: 93%\n",
            "epoch 90 [train] loss: 0.002202, accuracy: 95% [test] loss: 0.003592, accuracy: 93%\n",
            "epoch 91 [train] loss: 0.002171, accuracy: 95% [test] loss: 0.003556, accuracy: 93%\n",
            "epoch 92 [train] loss: 0.002148, accuracy: 95% [test] loss: 0.003469, accuracy: 93%\n",
            "epoch 93 [train] loss: 0.002153, accuracy: 95% [test] loss: 0.003586, accuracy: 93%\n",
            "epoch 94 [train] loss: 0.002120, accuracy: 95% [test] loss: 0.003434, accuracy: 93%\n",
            "epoch 95 [train] loss: 0.002200, accuracy: 95% [test] loss: 0.003421, accuracy: 93%\n",
            "epoch 96 [train] loss: 0.002101, accuracy: 95% [test] loss: 0.003543, accuracy: 93%\n",
            "epoch 97 [train] loss: 0.002153, accuracy: 95% [test] loss: 0.003483, accuracy: 93%\n",
            "epoch 98 [train] loss: 0.002090, accuracy: 95% [test] loss: 0.003509, accuracy: 93%\n",
            "epoch 99 [train] loss: 0.002079, accuracy: 95% [test] loss: 0.003456, accuracy: 93%\n",
            "epoch 100 [train] loss: 0.002142, accuracy: 95% [test] loss: 0.003567, accuracy: 93%\n",
            "CPU times: user 10min 3s, sys: 10.5 s, total: 10min 14s\n",
            "Wall time: 10min 17s\n"
          ],
          "name": "stdout"
        }
      ]
    },
    {
      "cell_type": "code",
      "metadata": {
        "colab": {
          "base_uri": "https://localhost:8080/",
          "height": 241
        },
        "id": "cc68rRrMbOCm",
        "outputId": "4e3324cf-0d2e-4851-d1ba-9ab6a636f822"
      },
      "source": [
        "epochs = np.arange(1, n_epochs + 1)\n",
        "\n",
        "fig, [ax1, ax2] = plt.subplots(1, 2, figsize=(8, 3))\n",
        "\n",
        "# 損失の推移\n",
        "ax1.set_title(\"Loss\")\n",
        "ax1.plot(epochs, history[\"train_loss\"], label=\"train\")\n",
        "ax1.plot(epochs, history[\"test_loss\"], label=\"test\")\n",
        "ax1.set_xlabel(\"Epoch\")\n",
        "ax1.legend()\n",
        "\n",
        "# 精度の推移\n",
        "ax2.set_title(\"Accuracy\")\n",
        "ax2.plot(epochs, history[\"train_accuracy\"], label=\"train\")\n",
        "ax2.plot(epochs, history[\"test_accuracy\"], label=\"test\")\n",
        "ax2.set_xlabel(\"Epoch\")\n",
        "ax2.legend()\n",
        "\n",
        "plt.show()"
      ],
      "execution_count": 11,
      "outputs": [
        {
          "output_type": "display_data",
          "data": {
            "image/png": "[encoded data removed]",
            "text/plain": [
              "<Figure size 576x216 with 2 Axes>"
            ]
          },
          "metadata": {
            "tags": [],
            "needs_background": "light"
          }
        }
      ]
    },
    {
      "cell_type": "code",
      "metadata": {
        "id": "eO8LxZfYbQx_"
      },
      "source": [
        ""
      ],
      "execution_count": 11,
      "outputs": []
    }
  ]
}