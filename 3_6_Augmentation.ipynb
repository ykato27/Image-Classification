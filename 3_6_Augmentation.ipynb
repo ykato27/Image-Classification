{
  "nbformat": 4,
  "nbformat_minor": 0,
  "metadata": {
    "colab": {
      "name": "3-6_Augmentation.ipynb",
      "provenance": [],
      "collapsed_sections": [],
      "machine_shape": "hm",
      "include_colab_link": true
    },
    "kernelspec": {
      "name": "python3",
      "display_name": "Python 3"
    },
    "accelerator": "GPU",
    "widgets": {
      "application/vnd.jupyter.widget-state+json": {
        "894c7acdf57a418ab8de2d89329a5f59": {
          "model_module": "@jupyter-widgets/controls",
          "model_name": "HBoxModel",
          "model_module_version": "1.5.0",
          "state": {
            "_view_name": "HBoxView",
            "_dom_classes": [],
            "_model_name": "HBoxModel",
            "_view_module": "@jupyter-widgets/controls",
            "_model_module_version": "1.5.0",
            "_view_count": null,
            "_view_module_version": "1.5.0",
            "box_style": "",
            "layout": "IPY_MODEL_af7c0a5b201b4754bdfa32ef8e39a1b1",
            "_model_module": "@jupyter-widgets/controls",
            "children": [
              "IPY_MODEL_971742d666c74a42b4bf6c497f686723",
              "IPY_MODEL_467be4329f3b4601b875a343115404b5",
              "IPY_MODEL_ff5cce16372f4d23aab9ba117c1a8f63"
            ]
          }
        },
        "af7c0a5b201b4754bdfa32ef8e39a1b1": {
          "model_module": "@jupyter-widgets/base",
          "model_name": "LayoutModel",
          "model_module_version": "1.2.0",
          "state": {
            "_view_name": "LayoutView",
            "grid_template_rows": null,
            "right": null,
            "justify_content": null,
            "_view_module": "@jupyter-widgets/base",
            "overflow": null,
            "_model_module_version": "1.2.0",
            "_view_count": null,
            "flex_flow": null,
            "width": null,
            "min_width": null,
            "border": null,
            "align_items": null,
            "bottom": null,
            "_model_module": "@jupyter-widgets/base",
            "top": null,
            "grid_column": null,
            "overflow_y": null,
            "overflow_x": null,
            "grid_auto_flow": null,
            "grid_area": null,
            "grid_template_columns": null,
            "flex": null,
            "_model_name": "LayoutModel",
            "justify_items": null,
            "grid_row": null,
            "max_height": null,
            "align_content": null,
            "visibility": null,
            "align_self": null,
            "height": null,
            "min_height": null,
            "padding": null,
            "grid_auto_rows": null,
            "grid_gap": null,
            "max_width": null,
            "order": null,
            "_view_module_version": "1.2.0",
            "grid_template_areas": null,
            "object_position": null,
            "object_fit": null,
            "grid_auto_columns": null,
            "margin": null,
            "display": null,
            "left": null
          }
        },
        "971742d666c74a42b4bf6c497f686723": {
          "model_module": "@jupyter-widgets/controls",
          "model_name": "HTMLModel",
          "model_module_version": "1.5.0",
          "state": {
            "_view_name": "HTMLView",
            "style": "IPY_MODEL_2a7a111d55414f9188f3632185e1da7e",
            "_dom_classes": [],
            "description": "",
            "_model_name": "HTMLModel",
            "placeholder": "​",
            "_view_module": "@jupyter-widgets/controls",
            "_model_module_version": "1.5.0",
            "value": "",
            "_view_count": null,
            "_view_module_version": "1.5.0",
            "description_tooltip": null,
            "_model_module": "@jupyter-widgets/controls",
            "layout": "IPY_MODEL_54ffc0a1ed7f4287a2c4c49b9388cdc7"
          }
        },
        "467be4329f3b4601b875a343115404b5": {
          "model_module": "@jupyter-widgets/controls",
          "model_name": "FloatProgressModel",
          "model_module_version": "1.5.0",
          "state": {
            "_view_name": "ProgressView",
            "style": "IPY_MODEL_abc21a0ad5b740839f4a8df6edcdf5ad",
            "_dom_classes": [],
            "description": "",
            "_model_name": "FloatProgressModel",
            "bar_style": "success",
            "max": 170498071,
            "_view_module": "@jupyter-widgets/controls",
            "_model_module_version": "1.5.0",
            "value": 170498071,
            "_view_count": null,
            "_view_module_version": "1.5.0",
            "orientation": "horizontal",
            "min": 0,
            "description_tooltip": null,
            "_model_module": "@jupyter-widgets/controls",
            "layout": "IPY_MODEL_b8b0ea8f1f76431c9a2d2af3fb1cefd9"
          }
        },
        "ff5cce16372f4d23aab9ba117c1a8f63": {
          "model_module": "@jupyter-widgets/controls",
          "model_name": "HTMLModel",
          "model_module_version": "1.5.0",
          "state": {
            "_view_name": "HTMLView",
            "style": "IPY_MODEL_b343948f076a4c57a0d6b77ec29cdc1e",
            "_dom_classes": [],
            "description": "",
            "_model_name": "HTMLModel",
            "placeholder": "​",
            "_view_module": "@jupyter-widgets/controls",
            "_model_module_version": "1.5.0",
            "value": " 170499072/? [00:03&lt;00:00, 57845567.94it/s]",
            "_view_count": null,
            "_view_module_version": "1.5.0",
            "description_tooltip": null,
            "_model_module": "@jupyter-widgets/controls",
            "layout": "IPY_MODEL_d9c68e59cbaf42d097f72274993805e9"
          }
        },
        "2a7a111d55414f9188f3632185e1da7e": {
          "model_module": "@jupyter-widgets/controls",
          "model_name": "DescriptionStyleModel",
          "model_module_version": "1.5.0",
          "state": {
            "_view_name": "StyleView",
            "_model_name": "DescriptionStyleModel",
            "description_width": "",
            "_view_module": "@jupyter-widgets/base",
            "_model_module_version": "1.5.0",
            "_view_count": null,
            "_view_module_version": "1.2.0",
            "_model_module": "@jupyter-widgets/controls"
          }
        },
        "54ffc0a1ed7f4287a2c4c49b9388cdc7": {
          "model_module": "@jupyter-widgets/base",
          "model_name": "LayoutModel",
          "model_module_version": "1.2.0",
          "state": {
            "_view_name": "LayoutView",
            "grid_template_rows": null,
            "right": null,
            "justify_content": null,
            "_view_module": "@jupyter-widgets/base",
            "overflow": null,
            "_model_module_version": "1.2.0",
            "_view_count": null,
            "flex_flow": null,
            "width": null,
            "min_width": null,
            "border": null,
            "align_items": null,
            "bottom": null,
            "_model_module": "@jupyter-widgets/base",
            "top": null,
            "grid_column": null,
            "overflow_y": null,
            "overflow_x": null,
            "grid_auto_flow": null,
            "grid_area": null,
            "grid_template_columns": null,
            "flex": null,
            "_model_name": "LayoutModel",
            "justify_items": null,
            "grid_row": null,
            "max_height": null,
            "align_content": null,
            "visibility": null,
            "align_self": null,
            "height": null,
            "min_height": null,
            "padding": null,
            "grid_auto_rows": null,
            "grid_gap": null,
            "max_width": null,
            "order": null,
            "_view_module_version": "1.2.0",
            "grid_template_areas": null,
            "object_position": null,
            "object_fit": null,
            "grid_auto_columns": null,
            "margin": null,
            "display": null,
            "left": null
          }
        },
        "abc21a0ad5b740839f4a8df6edcdf5ad": {
          "model_module": "@jupyter-widgets/controls",
          "model_name": "ProgressStyleModel",
          "model_module_version": "1.5.0",
          "state": {
            "_view_name": "StyleView",
            "_model_name": "ProgressStyleModel",
            "description_width": "",
            "_view_module": "@jupyter-widgets/base",
            "_model_module_version": "1.5.0",
            "_view_count": null,
            "_view_module_version": "1.2.0",
            "bar_color": null,
            "_model_module": "@jupyter-widgets/controls"
          }
        },
        "b8b0ea8f1f76431c9a2d2af3fb1cefd9": {
          "model_module": "@jupyter-widgets/base",
          "model_name": "LayoutModel",
          "model_module_version": "1.2.0",
          "state": {
            "_view_name": "LayoutView",
            "grid_template_rows": null,
            "right": null,
            "justify_content": null,
            "_view_module": "@jupyter-widgets/base",
            "overflow": null,
            "_model_module_version": "1.2.0",
            "_view_count": null,
            "flex_flow": null,
            "width": null,
            "min_width": null,
            "border": null,
            "align_items": null,
            "bottom": null,
            "_model_module": "@jupyter-widgets/base",
            "top": null,
            "grid_column": null,
            "overflow_y": null,
            "overflow_x": null,
            "grid_auto_flow": null,
            "grid_area": null,
            "grid_template_columns": null,
            "flex": null,
            "_model_name": "LayoutModel",
            "justify_items": null,
            "grid_row": null,
            "max_height": null,
            "align_content": null,
            "visibility": null,
            "align_self": null,
            "height": null,
            "min_height": null,
            "padding": null,
            "grid_auto_rows": null,
            "grid_gap": null,
            "max_width": null,
            "order": null,
            "_view_module_version": "1.2.0",
            "grid_template_areas": null,
            "object_position": null,
            "object_fit": null,
            "grid_auto_columns": null,
            "margin": null,
            "display": null,
            "left": null
          }
        },
        "b343948f076a4c57a0d6b77ec29cdc1e": {
          "model_module": "@jupyter-widgets/controls",
          "model_name": "DescriptionStyleModel",
          "model_module_version": "1.5.0",
          "state": {
            "_view_name": "StyleView",
            "_model_name": "DescriptionStyleModel",
            "description_width": "",
            "_view_module": "@jupyter-widgets/base",
            "_model_module_version": "1.5.0",
            "_view_count": null,
            "_view_module_version": "1.2.0",
            "_model_module": "@jupyter-widgets/controls"
          }
        },
        "d9c68e59cbaf42d097f72274993805e9": {
          "model_module": "@jupyter-widgets/base",
          "model_name": "LayoutModel",
          "model_module_version": "1.2.0",
          "state": {
            "_view_name": "LayoutView",
            "grid_template_rows": null,
            "right": null,
            "justify_content": null,
            "_view_module": "@jupyter-widgets/base",
            "overflow": null,
            "_model_module_version": "1.2.0",
            "_view_count": null,
            "flex_flow": null,
            "width": null,
            "min_width": null,
            "border": null,
            "align_items": null,
            "bottom": null,
            "_model_module": "@jupyter-widgets/base",
            "top": null,
            "grid_column": null,
            "overflow_y": null,
            "overflow_x": null,
            "grid_auto_flow": null,
            "grid_area": null,
            "grid_template_columns": null,
            "flex": null,
            "_model_name": "LayoutModel",
            "justify_items": null,
            "grid_row": null,
            "max_height": null,
            "align_content": null,
            "visibility": null,
            "align_self": null,
            "height": null,
            "min_height": null,
            "padding": null,
            "grid_auto_rows": null,
            "grid_gap": null,
            "max_width": null,
            "order": null,
            "_view_module_version": "1.2.0",
            "grid_template_areas": null,
            "object_position": null,
            "object_fit": null,
            "grid_auto_columns": null,
            "margin": null,
            "display": null,
            "left": null
          }
        },
        "b535213b400d49a8b67bc7c16b7e445c": {
          "model_module": "@jupyter-widgets/controls",
          "model_name": "HBoxModel",
          "model_module_version": "1.5.0",
          "state": {
            "_view_name": "HBoxView",
            "_dom_classes": [],
            "_model_name": "HBoxModel",
            "_view_module": "@jupyter-widgets/controls",
            "_model_module_version": "1.5.0",
            "_view_count": null,
            "_view_module_version": "1.5.0",
            "box_style": "",
            "layout": "IPY_MODEL_f6464166efea4acd8e6bd7340f18d411",
            "_model_module": "@jupyter-widgets/controls",
            "children": [
              "IPY_MODEL_7b6769b80f54496abe463c55ba364c15",
              "IPY_MODEL_86965a2c48554bb1990126727b3dbe59",
              "IPY_MODEL_0bfffa1fe1714c2298dbf506a7f8aef1"
            ]
          }
        },
        "f6464166efea4acd8e6bd7340f18d411": {
          "model_module": "@jupyter-widgets/base",
          "model_name": "LayoutModel",
          "model_module_version": "1.2.0",
          "state": {
            "_view_name": "LayoutView",
            "grid_template_rows": null,
            "right": null,
            "justify_content": null,
            "_view_module": "@jupyter-widgets/base",
            "overflow": null,
            "_model_module_version": "1.2.0",
            "_view_count": null,
            "flex_flow": null,
            "width": null,
            "min_width": null,
            "border": null,
            "align_items": null,
            "bottom": null,
            "_model_module": "@jupyter-widgets/base",
            "top": null,
            "grid_column": null,
            "overflow_y": null,
            "overflow_x": null,
            "grid_auto_flow": null,
            "grid_area": null,
            "grid_template_columns": null,
            "flex": null,
            "_model_name": "LayoutModel",
            "justify_items": null,
            "grid_row": null,
            "max_height": null,
            "align_content": null,
            "visibility": null,
            "align_self": null,
            "height": null,
            "min_height": null,
            "padding": null,
            "grid_auto_rows": null,
            "grid_gap": null,
            "max_width": null,
            "order": null,
            "_view_module_version": "1.2.0",
            "grid_template_areas": null,
            "object_position": null,
            "object_fit": null,
            "grid_auto_columns": null,
            "margin": null,
            "display": null,
            "left": null
          }
        },
        "7b6769b80f54496abe463c55ba364c15": {
          "model_module": "@jupyter-widgets/controls",
          "model_name": "HTMLModel",
          "model_module_version": "1.5.0",
          "state": {
            "_view_name": "HTMLView",
            "style": "IPY_MODEL_e1f121994f414c1e94610e9bda077d18",
            "_dom_classes": [],
            "description": "",
            "_model_name": "HTMLModel",
            "placeholder": "​",
            "_view_module": "@jupyter-widgets/controls",
            "_model_module_version": "1.5.0",
            "value": "",
            "_view_count": null,
            "_view_module_version": "1.5.0",
            "description_tooltip": null,
            "_model_module": "@jupyter-widgets/controls",
            "layout": "IPY_MODEL_142a266c6d7d439cb22382ce27a351e0"
          }
        },
        "86965a2c48554bb1990126727b3dbe59": {
          "model_module": "@jupyter-widgets/controls",
          "model_name": "FloatProgressModel",
          "model_module_version": "1.5.0",
          "state": {
            "_view_name": "ProgressView",
            "style": "IPY_MODEL_ddd3edc6d6484de4b916990f71ee7851",
            "_dom_classes": [],
            "description": "",
            "_model_name": "FloatProgressModel",
            "bar_style": "success",
            "max": 170498071,
            "_view_module": "@jupyter-widgets/controls",
            "_model_module_version": "1.5.0",
            "value": 170498071,
            "_view_count": null,
            "_view_module_version": "1.5.0",
            "orientation": "horizontal",
            "min": 0,
            "description_tooltip": null,
            "_model_module": "@jupyter-widgets/controls",
            "layout": "IPY_MODEL_ed006a5531bb4a23ae3434ff9c4c7756"
          }
        },
        "0bfffa1fe1714c2298dbf506a7f8aef1": {
          "model_module": "@jupyter-widgets/controls",
          "model_name": "HTMLModel",
          "model_module_version": "1.5.0",
          "state": {
            "_view_name": "HTMLView",
            "style": "IPY_MODEL_17aac7422ba64a22a0432bb294025ce9",
            "_dom_classes": [],
            "description": "",
            "_model_name": "HTMLModel",
            "placeholder": "​",
            "_view_module": "@jupyter-widgets/controls",
            "_model_module_version": "1.5.0",
            "value": " 170499072/? [00:03&lt;00:00, 57895599.14it/s]",
            "_view_count": null,
            "_view_module_version": "1.5.0",
            "description_tooltip": null,
            "_model_module": "@jupyter-widgets/controls",
            "layout": "IPY_MODEL_9d4318bedfa94fb3ae244976b5cba5aa"
          }
        },
        "e1f121994f414c1e94610e9bda077d18": {
          "model_module": "@jupyter-widgets/controls",
          "model_name": "DescriptionStyleModel",
          "model_module_version": "1.5.0",
          "state": {
            "_view_name": "StyleView",
            "_model_name": "DescriptionStyleModel",
            "description_width": "",
            "_view_module": "@jupyter-widgets/base",
            "_model_module_version": "1.5.0",
            "_view_count": null,
            "_view_module_version": "1.2.0",
            "_model_module": "@jupyter-widgets/controls"
          }
        },
        "142a266c6d7d439cb22382ce27a351e0": {
          "model_module": "@jupyter-widgets/base",
          "model_name": "LayoutModel",
          "model_module_version": "1.2.0",
          "state": {
            "_view_name": "LayoutView",
            "grid_template_rows": null,
            "right": null,
            "justify_content": null,
            "_view_module": "@jupyter-widgets/base",
            "overflow": null,
            "_model_module_version": "1.2.0",
            "_view_count": null,
            "flex_flow": null,
            "width": null,
            "min_width": null,
            "border": null,
            "align_items": null,
            "bottom": null,
            "_model_module": "@jupyter-widgets/base",
            "top": null,
            "grid_column": null,
            "overflow_y": null,
            "overflow_x": null,
            "grid_auto_flow": null,
            "grid_area": null,
            "grid_template_columns": null,
            "flex": null,
            "_model_name": "LayoutModel",
            "justify_items": null,
            "grid_row": null,
            "max_height": null,
            "align_content": null,
            "visibility": null,
            "align_self": null,
            "height": null,
            "min_height": null,
            "padding": null,
            "grid_auto_rows": null,
            "grid_gap": null,
            "max_width": null,
            "order": null,
            "_view_module_version": "1.2.0",
            "grid_template_areas": null,
            "object_position": null,
            "object_fit": null,
            "grid_auto_columns": null,
            "margin": null,
            "display": null,
            "left": null
          }
        },
        "ddd3edc6d6484de4b916990f71ee7851": {
          "model_module": "@jupyter-widgets/controls",
          "model_name": "ProgressStyleModel",
          "model_module_version": "1.5.0",
          "state": {
            "_view_name": "StyleView",
            "_model_name": "ProgressStyleModel",
            "description_width": "",
            "_view_module": "@jupyter-widgets/base",
            "_model_module_version": "1.5.0",
            "_view_count": null,
            "_view_module_version": "1.2.0",
            "bar_color": null,
            "_model_module": "@jupyter-widgets/controls"
          }
        },
        "ed006a5531bb4a23ae3434ff9c4c7756": {
          "model_module": "@jupyter-widgets/base",
          "model_name": "LayoutModel",
          "model_module_version": "1.2.0",
          "state": {
            "_view_name": "LayoutView",
            "grid_template_rows": null,
            "right": null,
            "justify_content": null,
            "_view_module": "@jupyter-widgets/base",
            "overflow": null,
            "_model_module_version": "1.2.0",
            "_view_count": null,
            "flex_flow": null,
            "width": null,
            "min_width": null,
            "border": null,
            "align_items": null,
            "bottom": null,
            "_model_module": "@jupyter-widgets/base",
            "top": null,
            "grid_column": null,
            "overflow_y": null,
            "overflow_x": null,
            "grid_auto_flow": null,
            "grid_area": null,
            "grid_template_columns": null,
            "flex": null,
            "_model_name": "LayoutModel",
            "justify_items": null,
            "grid_row": null,
            "max_height": null,
            "align_content": null,
            "visibility": null,
            "align_self": null,
            "height": null,
            "min_height": null,
            "padding": null,
            "grid_auto_rows": null,
            "grid_gap": null,
            "max_width": null,
            "order": null,
            "_view_module_version": "1.2.0",
            "grid_template_areas": null,
            "object_position": null,
            "object_fit": null,
            "grid_auto_columns": null,
            "margin": null,
            "display": null,
            "left": null
          }
        },
        "17aac7422ba64a22a0432bb294025ce9": {
          "model_module": "@jupyter-widgets/controls",
          "model_name": "DescriptionStyleModel",
          "model_module_version": "1.5.0",
          "state": {
            "_view_name": "StyleView",
            "_model_name": "DescriptionStyleModel",
            "description_width": "",
            "_view_module": "@jupyter-widgets/base",
            "_model_module_version": "1.5.0",
            "_view_count": null,
            "_view_module_version": "1.2.0",
            "_model_module": "@jupyter-widgets/controls"
          }
        },
        "9d4318bedfa94fb3ae244976b5cba5aa": {
          "model_module": "@jupyter-widgets/base",
          "model_name": "LayoutModel",
          "model_module_version": "1.2.0",
          "state": {
            "_view_name": "LayoutView",
            "grid_template_rows": null,
            "right": null,
            "justify_content": null,
            "_view_module": "@jupyter-widgets/base",
            "overflow": null,
            "_model_module_version": "1.2.0",
            "_view_count": null,
            "flex_flow": null,
            "width": null,
            "min_width": null,
            "border": null,
            "align_items": null,
            "bottom": null,
            "_model_module": "@jupyter-widgets/base",
            "top": null,
            "grid_column": null,
            "overflow_y": null,
            "overflow_x": null,
            "grid_auto_flow": null,
            "grid_area": null,
            "grid_template_columns": null,
            "flex": null,
            "_model_name": "LayoutModel",
            "justify_items": null,
            "grid_row": null,
            "max_height": null,
            "align_content": null,
            "visibility": null,
            "align_self": null,
            "height": null,
            "min_height": null,
            "padding": null,
            "grid_auto_rows": null,
            "grid_gap": null,
            "max_width": null,
            "order": null,
            "_view_module_version": "1.2.0",
            "grid_template_areas": null,
            "object_position": null,
            "object_fit": null,
            "grid_auto_columns": null,
            "margin": null,
            "display": null,
            "left": null
          }
        }
      }
    }
  },
  "cells": [
    {
      "cell_type": "markdown",
      "metadata": {
        "id": "view-in-github",
        "colab_type": "text"
      },
      "source": [
        "<a href=\"https://colab.research.google.com/github/ykato27/Image-Classification/blob/main/3_6_Augmentation.ipynb\" target=\"_parent\"><img src=\"https://colab.research.google.com/assets/colab-badge.svg\" alt=\"Open In Colab\"/></a>"
      ]
    },
    {
      "cell_type": "markdown",
      "metadata": {
        "id": "asKh_30RILL1"
      },
      "source": [
        "# データ増大（data augmentation）\n",
        "\n",
        "データ増大（データ拡張，data augmentation）は，元の入力データをランダムに変形することにより，似たようなデータを増やす技術です．データ増大はNumPyでもできるのですが，ここでは Keras の`ImageDataGenerator` を用いて実現します．\n",
        "\n",
        "Data augmentation is a technique to increase the number of similar data by randomly transforming the original input data. Although data augmentation can be done with NumPy, we will use the `ImageDataGenerator` of Keras to achieve this.\n"
      ]
    },
    {
      "cell_type": "markdown",
      "metadata": {
        "id": "0N0LMOWyQYCq"
      },
      "source": [
        "## Cifar-10\n",
        "\n",
        "Cifar-10 （Canadian Institute For Advanced Research）は，10種類に分類された 6万枚の $32\\times 32$のカラー画像データです．分類は，車，鳥，猫，鹿，犬，カエル，馬，船，トラックであり，それぞれ6000枚が用意されています． Cifar-10 は人気のあるデータセットですが，MNIST よりもはるかに学習が難しいです．\n",
        "\n",
        "Cifar-10 (Canadian Institute For Advanced Research) is a collection of 60,000 $32\\times 32$ color images classified into 10 categories. The categories are cars, birds, cats, deer, dogs, frogs, horses, boats, and trucks, and there are 6,000 images of each category. Cifar-10 is a popular dataset, but it is much harder to train than MNIST.\n",
        "\n",
        "\n"
      ]
    },
    {
      "cell_type": "markdown",
      "metadata": {
        "id": "rvpHnir1V7Oy"
      },
      "source": [
        "**Cifar-10 の読み込み Loading Cifar-10**\n",
        "\n",
        "\n",
        "`cifar10.load_data()` でデータを読み込むと NumPy 配列の形式になります．\n",
        "\n",
        "`cifar10.load_data()` loads the data in the form of NumPy array."
      ]
    },
    {
      "cell_type": "code",
      "metadata": {
        "id": "pXJhtbf0x_Ao",
        "colab": {
          "base_uri": "https://localhost:8080/"
        },
        "outputId": "9ab6c90c-ea07-48e6-d246-359007b4754a"
      },
      "source": [
        "import numpy as np\n",
        "import matplotlib.pyplot as plt\n",
        "from keras.preprocessing.image import ImageDataGenerator\n",
        "from keras.datasets import cifar10\n",
        "from tensorflow.keras.utils import to_categorical\n",
        "\n",
        "# データの読み込み\n",
        "(X_train, y_train), (X_test, y_test) = cifar10.load_data()\n"
      ],
      "execution_count": 1,
      "outputs": [
        {
          "output_type": "stream",
          "name": "stdout",
          "text": [
            "Downloading data from https://www.cs.toronto.edu/~kriz/cifar-10-python.tar.gz\n",
            "170500096/170498071 [==============================] - 3s 0us/step\n",
            "170508288/170498071 [==============================] - 3s 0us/step\n"
          ]
        }
      ]
    },
    {
      "cell_type": "markdown",
      "metadata": {
        "id": "IhIemV2tVECZ"
      },
      "source": [
        "訓練用入力データセットは $32\\times 32$ で色について3チャンネル（RGB）のデータが50000枚です．チャンネルが最後になっています．\n",
        "\n",
        "The input dataset for training is $32\\times 32$ with 50000 pieces of 3-channel (RGB) data for colors. The channel is in last place."
      ]
    },
    {
      "cell_type": "code",
      "metadata": {
        "id": "ViSe5X90qn29",
        "colab": {
          "base_uri": "https://localhost:8080/"
        },
        "outputId": "08e18177-42f7-4bfa-c02f-a7b786205882"
      },
      "source": [
        "X_train.shape"
      ],
      "execution_count": 2,
      "outputs": [
        {
          "output_type": "execute_result",
          "data": {
            "text/plain": [
              "(50000, 32, 32, 3)"
            ]
          },
          "metadata": {},
          "execution_count": 2
        }
      ]
    },
    {
      "cell_type": "markdown",
      "metadata": {
        "id": "rlfjlyp3YF6V"
      },
      "source": [
        "値は0以上255以下の整数値なので，255で割って実数値とします．また，Keras の `to_categorical()` 関数を用いてラベルを one-hot 表現に変換します．\n",
        "\n",
        "Since the value is an integer between 0 and 255, divide it by 255 to make it a real number between 0 and 1. We also use the `to_categorical()` function of Keras to convert the label to a one-hot representation."
      ]
    },
    {
      "cell_type": "code",
      "metadata": {
        "id": "dCnsAthTXfuO"
      },
      "source": [
        "#0以上1以下の値にしてから，Kerasのデータ形式に変換\n",
        "#array[:, :, :, ::-1]で最後のインデックスを逆順に並べることにより，色をRGBからBGRに直す\n",
        "x_train, x_test = X_train[:, :, :, ::-1] / 255.0, X_test[:, :, :, ::-1] / 255.0\n",
        "\n",
        "\n",
        "#Kerasのto_categorical 関数を用いてラベルを hot-one 表現に変換\n",
        "y_train, y_test = to_categorical(y_train), to_categorical(y_test)"
      ],
      "execution_count": 3,
      "outputs": []
    },
    {
      "cell_type": "markdown",
      "metadata": {
        "id": "A2_qLtbPYmbT"
      },
      "source": [
        "**画像を一枚ずつ見てみる**\n",
        "\n",
        "画像を表示させるのは PyPlot でもできますが，ここではより高機能な cv2 （OpenCV）を使います．\n",
        "\n",
        "Let's look at the images one by one.\n",
        "\n",
        "Displaying images can be done with PyPlot, but here we will use the more powerful tool cv2 (OpenCV)."
      ]
    },
    {
      "cell_type": "code",
      "metadata": {
        "id": "0_bB94B-Ymmf",
        "colab": {
          "base_uri": "https://localhost:8080/",
          "height": 305
        },
        "outputId": "c6471d62-472a-45c2-bce7-76e412a03755"
      },
      "source": [
        "import cv2\n",
        "#サポートバッチのインポート\n",
        "from google.colab.patches import cv2_imshow\n",
        "\n",
        "i = 0\n",
        "image = x_train[i]*255\n",
        "cv2_imshow(image)\n",
        "resized_image = cv2.resize(image,(256,256), interpolation=cv2.INTER_AREA)\n",
        "cv2_imshow(resized_image)"
      ],
      "execution_count": 4,
      "outputs": [
        {
          "output_type": "display_data",
          "data": {
            "image/png": "[encoded data removed]",
            "text/plain": [
              "<PIL.Image.Image image mode=RGB size=32x32 at 0x7F0579E96150>"
            ]
          },
          "metadata": {}
        },
        {
          "output_type": "display_data",
          "data": {
            "image/png": "[encoded data removed]",
            "text/plain": [
              "<PIL.Image.Image image mode=RGB size=256x256 at 0x7F0579EFE610>"
            ]
          },
          "metadata": {}
        }
      ]
    },
    {
      "cell_type": "markdown",
      "metadata": {
        "id": "gGm76yTmcbKW"
      },
      "source": [
        "**画像をまとめて表示させる**\n",
        "\n",
        "画像を4列で拡大して表示させます．\n",
        "\n",
        "Display enlarged images in four columns."
      ]
    },
    {
      "cell_type": "code",
      "metadata": {
        "id": "zC41VSh2dF4Y",
        "colab": {
          "base_uri": "https://localhost:8080/",
          "height": 337
        },
        "outputId": "79e23380-dc33-4049-e0b3-eaf4cc7b0fe0"
      },
      "source": [
        "def show_imgs(imgs):\n",
        "  # imgs: 表示させる画像のデータセット \n",
        "  imgs_num = len(imgs) #画像の数\n",
        "  row_num = np.ceil(imgs_num/4).astype('int8')#行数\n",
        "  for i in range(row_num):\n",
        "    row_images =[]\n",
        "    for j in range(4):\n",
        "      if 4*i+j < imgs_num:\n",
        "        resized_image = cv2.resize(imgs[4*i+j],(64,64), interpolation=cv2.INTER_AREA)\n",
        "        row_images.append(resized_image)\n",
        "    \n",
        "    #4つの画像を横方向に結合して表示\n",
        "    row_images = np.concatenate(np.array(row_images), axis=1)\n",
        "    cv2_imshow(row_images*255.0)\n",
        "    \n",
        "show_imgs(x_train[0:20])\n"
      ],
      "execution_count": 5,
      "outputs": [
        {
          "output_type": "display_data",
          "data": {
            "image/png": "[encoded data removed]",
            "text/plain": [
              "<PIL.Image.Image image mode=RGB size=256x64 at 0x7F051D09BD10>"
            ]
          },
          "metadata": {}
        },
        {
          "output_type": "display_data",
          "data": {
            "image/png": "[encoded data removed]",
            "text/plain": [
              "<PIL.Image.Image image mode=RGB size=256x64 at 0x7F051D09BE90>"
            ]
          },
          "metadata": {}
        },
        {
          "output_type": "display_data",
          "data": {
            "image/png": "[encoded data removed]",
            "text/plain": [
              "<PIL.Image.Image image mode=RGB size=256x64 at 0x7F051D09BC90>"
            ]
          },
          "metadata": {}
        },
        {
          "output_type": "display_data",
          "data": {
            "image/png": "[encoded data removed]",
            "text/plain": [
              "<PIL.Image.Image image mode=RGB size=256x64 at 0x7F051D09BE50>"
            ]
          },
          "metadata": {}
        },
        {
          "output_type": "display_data",
          "data": {
            "image/png": "[encoded data removed]",
            "text/plain": [
              "<PIL.Image.Image image mode=RGB size=256x64 at 0x7F051D09BD50>"
            ]
          },
          "metadata": {}
        }
      ]
    },
    {
      "cell_type": "markdown",
      "metadata": {
        "id": "oib9mL7Pgd5F"
      },
      "source": [
        "## 9.2 Keras でデータ増大 Augmentation by Keras\n",
        "\n",
        "Keras には `ImageDataGenerator` といデータ増大のためのクラスが用意されています． `ImageDataGenerator` には様々なパラメータがありますが，例えば以下のようなものがあります．\n",
        "\n",
        "Keras provides a class for data augmentation called `ImageDataGenerator`. The `ImageDataGenerator` has various parameters as follows.\n"
      ]
    },
    {
      "cell_type": "markdown",
      "metadata": {
        "id": "2rVXwngQSI0B"
      },
      "source": [
        "####横方向のシフト Horizontal shift"
      ]
    },
    {
      "cell_type": "code",
      "metadata": {
        "id": "Ttm3rzJEjBnf"
      },
      "source": [
        "datagen = ImageDataGenerator(width_shift_range=0.5)"
      ],
      "execution_count": 6,
      "outputs": []
    },
    {
      "cell_type": "markdown",
      "metadata": {
        "id": "pNueT2bOjfUk"
      },
      "source": [
        "とすると，**横方向にランダムに最大で 50% 平行移動**するインスタンスが生成されます．\n",
        "\n",
        "`datagen.flow(データセット, batch_size)` は `[0]` をつけたり，`for` で呼びだすと実行されます． 画像の選び方，シフトさせ具合は乱数で決まっているので，下の`x` と `y` は等しくありません．\n",
        "\n",
        "The above cell creates an instance that **randomly moves up to 50% parallel in the horizontal direction.**\n",
        "\n",
        "`datagen.flow(dataset, batch_size)` will be executed with `[0]` or by calling `for`. Note that `x` and `y` below are not equal, since the selection and shifting of images is determined by random numbers."
      ]
    },
    {
      "cell_type": "code",
      "metadata": {
        "id": "cNxsDjEXI4lA",
        "colab": {
          "base_uri": "https://localhost:8080/"
        },
        "outputId": "86062dd5-51a3-4fb3-c8d6-fce611921576"
      },
      "source": [
        "datagen.flow(x_train, batch_size=10)[0].shape"
      ],
      "execution_count": 7,
      "outputs": [
        {
          "output_type": "execute_result",
          "data": {
            "text/plain": [
              "(10, 32, 32, 3)"
            ]
          },
          "metadata": {},
          "execution_count": 7
        }
      ]
    },
    {
      "cell_type": "code",
      "metadata": {
        "id": "OKG7obkv3JhJ",
        "colab": {
          "base_uri": "https://localhost:8080/",
          "height": 418
        },
        "outputId": "8305862a-9e0b-4c96-8431-6918b1034eef"
      },
      "source": [
        "x = datagen.flow(x_train, batch_size=10)[0]\n",
        "y = datagen.flow(x_train, batch_size=10)[0]\n",
        "\n",
        "print(x.shape, y.shape)\n",
        "show_imgs(x)\n",
        "show_imgs(y)\n"
      ],
      "execution_count": 8,
      "outputs": [
        {
          "output_type": "stream",
          "name": "stdout",
          "text": [
            "(10, 32, 32, 3) (10, 32, 32, 3)\n"
          ]
        },
        {
          "output_type": "display_data",
          "data": {
            "image/png": "[encoded data removed]",
            "text/plain": [
              "<PIL.Image.Image image mode=RGB size=256x64 at 0x7F051D09B5D0>"
            ]
          },
          "metadata": {}
        },
        {
          "output_type": "display_data",
          "data": {
            "image/png": "[encoded data removed]",
            "text/plain": [
              "<PIL.Image.Image image mode=RGB size=256x64 at 0x7F051D0AFE50>"
            ]
          },
          "metadata": {}
        },
        {
          "output_type": "display_data",
          "data": {
            "image/png": "[encoded data removed]",
            "text/plain": [
              "<PIL.Image.Image image mode=RGB size=128x64 at 0x7F051D09B450>"
            ]
          },
          "metadata": {}
        },
        {
          "output_type": "display_data",
          "data": {
            "image/png": "[encoded data removed]",
            "text/plain": [
              "<PIL.Image.Image image mode=RGB size=256x64 at 0x7F051D09B950>"
            ]
          },
          "metadata": {}
        },
        {
          "output_type": "display_data",
          "data": {
            "image/png": "[encoded data removed]",
            "text/plain": [
              "<PIL.Image.Image image mode=RGB size=256x64 at 0x7F051D09BE10>"
            ]
          },
          "metadata": {}
        },
        {
          "output_type": "display_data",
          "data": {
            "image/png": "[encoded data removed]",
            "text/plain": [
              "<PIL.Image.Image image mode=RGB size=128x64 at 0x7F051D09BD50>"
            ]
          },
          "metadata": {}
        }
      ]
    },
    {
      "cell_type": "code",
      "metadata": {
        "id": "MHgTSyOcjuJN",
        "colab": {
          "base_uri": "https://localhost:8080/",
          "height": 209
        },
        "outputId": "c8f95cff-fffd-4668-9faf-56ee2fcffd9f"
      },
      "source": [
        "max_img_num = 12\n",
        "imgs = []\n",
        "for img in datagen.flow(x_train[1:2], batch_size=1):\n",
        "    imgs.append(img[0])\n",
        "    # datagen.flowは無限ループするため必要な枚数取得できたらループを抜ける\n",
        "    if len(imgs) >= max_img_num: \n",
        "      break\n",
        "show_imgs(imgs)"
      ],
      "execution_count": 9,
      "outputs": [
        {
          "output_type": "display_data",
          "data": {
            "image/png": "[encoded data removed]",
            "text/plain": [
              "<PIL.Image.Image image mode=RGB size=256x64 at 0x7F051D0BB650>"
            ]
          },
          "metadata": {}
        },
        {
          "output_type": "display_data",
          "data": {
            "image/png": "[encoded data removed]",
            "text/plain": [
              "<PIL.Image.Image image mode=RGB size=256x64 at 0x7F0526DF7110>"
            ]
          },
          "metadata": {}
        },
        {
          "output_type": "display_data",
          "data": {
            "image/png": "[encoded data removed]",
            "text/plain": [
              "<PIL.Image.Image image mode=RGB size=256x64 at 0x7F0526DF7190>"
            ]
          },
          "metadata": {}
        }
      ]
    },
    {
      "cell_type": "markdown",
      "metadata": {
        "id": "DqfJ13WZ5M8k"
      },
      "source": [
        "**縦方向のシフト vertical shift**"
      ]
    },
    {
      "cell_type": "code",
      "metadata": {
        "id": "03E6Zzkg5DXx",
        "colab": {
          "base_uri": "https://localhost:8080/",
          "height": 209
        },
        "outputId": "b8e85a5e-6b97-42d3-8e7c-a43d09c8ed06"
      },
      "source": [
        "datagen = ImageDataGenerator(height_shift_range=0.5)\n",
        "max_img_num = 12\n",
        "imgs = []\n",
        "for img in datagen.flow(x_train[1:2], batch_size=1):\n",
        "    imgs.append(img[0])\n",
        "    # datagen.flowは無限ループするため必要な枚数取得できたらループを抜ける\n",
        "    if len(imgs) >= max_img_num: \n",
        "      break\n",
        "show_imgs(imgs)"
      ],
      "execution_count": 10,
      "outputs": [
        {
          "output_type": "display_data",
          "data": {
            "image/png": "[encoded data removed]",
            "text/plain": [
              "<PIL.Image.Image image mode=RGB size=256x64 at 0x7F051D10DF50>"
            ]
          },
          "metadata": {}
        },
        {
          "output_type": "display_data",
          "data": {
            "image/png": "[encoded data removed]",
            "text/plain": [
              "<PIL.Image.Image image mode=RGB size=256x64 at 0x7F051D10DF90>"
            ]
          },
          "metadata": {}
        },
        {
          "output_type": "display_data",
          "data": {
            "image/png": "[encoded data removed]",
            "text/plain": [
              "<PIL.Image.Image image mode=RGB size=256x64 at 0x7F052F6C6610>"
            ]
          },
          "metadata": {}
        }
      ]
    },
    {
      "cell_type": "markdown",
      "metadata": {
        "id": "RxhrnR-k6FaL"
      },
      "source": [
        "**拡大・縮小 zooming in and out**"
      ]
    },
    {
      "cell_type": "code",
      "metadata": {
        "id": "Wag9G1DE6FaR",
        "colab": {
          "base_uri": "https://localhost:8080/",
          "height": 209
        },
        "outputId": "1eba763e-c03a-41b1-cebe-3dccf923981e"
      },
      "source": [
        "datagen = ImageDataGenerator(zoom_range=0.5)\n",
        "max_img_num = 12\n",
        "imgs = []\n",
        "for img in datagen.flow(x_train[1:2], batch_size=1):\n",
        "    imgs.append(img[0])\n",
        "    # datagen.flowは無限ループするため必要な枚数取得できたらループを抜ける\n",
        "    if len(imgs) >= max_img_num: \n",
        "      break\n",
        "show_imgs(imgs)"
      ],
      "execution_count": 11,
      "outputs": [
        {
          "output_type": "display_data",
          "data": {
            "image/png": "[encoded data removed]",
            "text/plain": [
              "<PIL.Image.Image image mode=RGB size=256x64 at 0x7F051D0BB310>"
            ]
          },
          "metadata": {}
        },
        {
          "output_type": "display_data",
          "data": {
            "image/png": "[encoded data removed]",
            "text/plain": [
              "<PIL.Image.Image image mode=RGB size=256x64 at 0x7F051D0BB790>"
            ]
          },
          "metadata": {}
        },
        {
          "output_type": "display_data",
          "data": {
            "image/png": "[encoded data removed]",
            "text/plain": [
              "<PIL.Image.Image image mode=RGB size=256x64 at 0x7F051D0BB290>"
            ]
          },
          "metadata": {}
        }
      ]
    },
    {
      "cell_type": "markdown",
      "metadata": {
        "id": "hIXZ29qj8GAV"
      },
      "source": [
        "**せん断 Shearing**\n",
        "\n",
        "剪断（せんだん）とは，定数 $m$ に対して\n",
        "$$ [x,y] \\mapsto [x, mx+y]$$\n",
        "という変換を行うことです．\n",
        "\n",
        "Shearing is the above transfoiration for a constant $m$."
      ]
    },
    {
      "cell_type": "code",
      "metadata": {
        "id": "LUnoWW0F8GAW",
        "colab": {
          "base_uri": "https://localhost:8080/",
          "height": 209
        },
        "outputId": "26a3c98f-260f-4f21-8c04-33236fab9c33"
      },
      "source": [
        "datagen = ImageDataGenerator(shear_range=20.0)\n",
        "max_img_num = 12\n",
        "imgs = []\n",
        "for img in datagen.flow(x_train[1:2], batch_size=1):\n",
        "    imgs.append(img[0])\n",
        "    # datagen.flowは無限ループするため必要な枚数取得できたらループを抜ける\n",
        "    if len(imgs) >= max_img_num: \n",
        "      break\n",
        "show_imgs(imgs)"
      ],
      "execution_count": 12,
      "outputs": [
        {
          "output_type": "display_data",
          "data": {
            "image/png": "[encoded data removed]",
            "text/plain": [
              "<PIL.Image.Image image mode=RGB size=256x64 at 0x7F051D0BBE10>"
            ]
          },
          "metadata": {}
        },
        {
          "output_type": "display_data",
          "data": {
            "image/png": "[encoded data removed]",
            "text/plain": [
              "<PIL.Image.Image image mode=RGB size=256x64 at 0x7F051D0BBFD0>"
            ]
          },
          "metadata": {}
        },
        {
          "output_type": "display_data",
          "data": {
            "image/png": "[encoded data removed]",
            "text/plain": [
              "<PIL.Image.Image image mode=RGB size=256x64 at 0x7F051D0BBE10>"
            ]
          },
          "metadata": {}
        }
      ]
    },
    {
      "cell_type": "markdown",
      "metadata": {
        "id": "KD-t1xRZ8yvy"
      },
      "source": [
        "**左右反転・上下反転**"
      ]
    },
    {
      "cell_type": "code",
      "metadata": {
        "id": "MmZpKas_8yv2",
        "colab": {
          "base_uri": "https://localhost:8080/",
          "height": 209
        },
        "outputId": "b029ebfd-06db-43cc-adfe-218f8469c541"
      },
      "source": [
        "datagen = ImageDataGenerator(horizontal_flip = True, vertical_flip = True)\n",
        "max_img_num = 12\n",
        "imgs = []\n",
        "for img in datagen.flow(x_train[1:2], batch_size=1):\n",
        "    imgs.append(img[0])\n",
        "    # datagen.flowは無限ループするため必要な枚数取得できたらループを抜ける\n",
        "    if len(imgs) >= max_img_num: \n",
        "      break\n",
        "show_imgs(imgs)"
      ],
      "execution_count": 13,
      "outputs": [
        {
          "output_type": "display_data",
          "data": {
            "image/png": "[encoded data removed]",
            "text/plain": [
              "<PIL.Image.Image image mode=RGB size=256x64 at 0x7F051D0BB150>"
            ]
          },
          "metadata": {}
        },
        {
          "output_type": "display_data",
          "data": {
            "image/png": "[encoded data removed]",
            "text/plain": [
              "<PIL.Image.Image image mode=RGB size=256x64 at 0x7F0526DC27D0>"
            ]
          },
          "metadata": {}
        },
        {
          "output_type": "display_data",
          "data": {
            "image/png": "[encoded data removed]",
            "text/plain": [
              "<PIL.Image.Image image mode=RGB size=256x64 at 0x7F0526DC2550>"
            ]
          },
          "metadata": {}
        }
      ]
    },
    {
      "cell_type": "markdown",
      "metadata": {
        "id": "zZs-L0J1-2rx"
      },
      "source": [
        "**ランダムカット（ランダム消去）Random cut (or erasing)**\n",
        "\n",
        "ランダムに長方形領域を削除することをランダムカットといいます．ランダムカットは `ImageDataGenerator` に標準では入っていませんが，プラグインが，\n",
        "https://github.com/yu4u/cutout-random-erasing に公開されています．パラメータは以下の通りです．\n",
        "\n",
        "* p : the probability that random erasing is performed\n",
        "* s_l, s_h : minimum / maximum proportion of erased area against input image\n",
        "* r_1, r_2 : minimum / maximum aspect ratio of erased area\n",
        "* v_l, v_h : minimum / maximum value for erased area\n",
        "* pixel_level : pixel-level randomization for erased area\n",
        "\n",
        "Randomly deleting a rectangular area is called random cut. Random cut is not included in `ImageDataGenerator` by default, but a plugin is available at the avove site. "
      ]
    },
    {
      "cell_type": "code",
      "metadata": {
        "id": "aIyye89y-25L",
        "colab": {
          "base_uri": "https://localhost:8080/"
        },
        "outputId": "de7295c8-3b96-44a1-f216-a9ac575ef59e"
      },
      "source": [
        "!git clone https://github.com/yu4u/cutout-random-erasing ./random_eraser \n",
        "                                                      #github から cutout-random-erasingh を random_eraser にコピー\n",
        "\n",
        "import sys\n",
        "sys.path.append(\"/content/random_eraser/\")  #モジュールのあるディレクトリを直接指定してパスを通す\n",
        "\n",
        "from random_eraser import get_random_eraser # https://github.com/yu4u/cutout-random-erasing "
      ],
      "execution_count": 14,
      "outputs": [
        {
          "output_type": "stream",
          "name": "stdout",
          "text": [
            "Cloning into './random_eraser'...\n",
            "remote: Enumerating objects: 30, done.\u001b[K\n",
            "remote: Counting objects: 100% (4/4), done.\u001b[K\n",
            "remote: Compressing objects: 100% (4/4), done.\u001b[K\n",
            "remote: Total 30 (delta 0), reused 1 (delta 0), pack-reused 26\u001b[K\n",
            "Unpacking objects: 100% (30/30), done.\n"
          ]
        }
      ]
    },
    {
      "cell_type": "code",
      "metadata": {
        "id": "zWde79sf-9vi",
        "colab": {
          "base_uri": "https://localhost:8080/",
          "height": 209
        },
        "outputId": "2da90b9a-fdb8-494c-ade8-231554c3caa2"
      },
      "source": [
        "datagen = ImageDataGenerator(\n",
        "            preprocessing_function = get_random_eraser(p=0.5, s_l=0.02, s_h=0.2, r_1=0.3, r_2=1/0.3, v_l=0, v_h=0))\n",
        "\n",
        "max_img_num = 12\n",
        "imgs = []\n",
        "for img in datagen.flow(x_train[1:2], batch_size=1):\n",
        "    imgs.append(img[0])\n",
        "    # datagen.flowは無限ループするため必要な枚数取得できたらループを抜ける\n",
        "    if len(imgs) >= max_img_num: \n",
        "      break\n",
        "show_imgs(imgs)"
      ],
      "execution_count": 15,
      "outputs": [
        {
          "output_type": "display_data",
          "data": {
            "image/png": "[encoded data removed]",
            "text/plain": [
              "<PIL.Image.Image image mode=RGB size=256x64 at 0x7F051D0C6E50>"
            ]
          },
          "metadata": {}
        },
        {
          "output_type": "display_data",
          "data": {
            "image/png": "[encoded data removed]",
            "text/plain": [
              "<PIL.Image.Image image mode=RGB size=256x64 at 0x7F051D0949D0>"
            ]
          },
          "metadata": {}
        },
        {
          "output_type": "display_data",
          "data": {
            "image/png": "[encoded data removed]",
            "text/plain": [
              "<PIL.Image.Image image mode=RGB size=256x64 at 0x7F051D0C6390>"
            ]
          },
          "metadata": {}
        }
      ]
    },
    {
      "cell_type": "markdown",
      "metadata": {
        "id": "kvPHMDD9DIv-"
      },
      "source": [
        "## CNN の Cifar-10 に対する学習 Training CNNs for Cifar-10\n"
      ]
    },
    {
      "cell_type": "markdown",
      "metadata": {
        "id": "iVntkYGRvQXI"
      },
      "source": [
        "これまで通り，NumPy-CuPy を用いて学習しますが，データ増大には Keras の ImageDataGenerator を用います．\n",
        "\n",
        "As before, we train using NumPy-CuPy, but we use Keras' ImageDataGenerator for data augmentation."
      ]
    },
    {
      "cell_type": "markdown",
      "metadata": {
        "id": "x0MQePE3UM-c"
      },
      "source": [
        "データの読み込み，データ拡張の設定，モデル（ネットワーク）の生成およびコンパイルを行います．\n",
        "\n",
        "Loading data, setting up data extensions, generating and compiling models (networks)."
      ]
    },
    {
      "cell_type": "code",
      "metadata": {
        "id": "XXu9-auikVWr"
      },
      "source": [
        "import cupy as cp"
      ],
      "execution_count": 16,
      "outputs": []
    },
    {
      "cell_type": "markdown",
      "metadata": {
        "id": "l4IspWDdkjTp"
      },
      "source": [
        "最適化手法のクラス \n",
        "\n",
        "Optimization methos"
      ]
    },
    {
      "cell_type": "code",
      "metadata": {
        "id": "5BoIW9rC9j3D"
      },
      "source": [
        "#@title\n",
        "class SGD:\n",
        "  def __init__(self, learning_rate = 0.01):\n",
        "    self.lr = learning_rate\n",
        "\n",
        "  def update(self, params, grads):\n",
        "    for key in params:\n",
        "      params[key] -= self.lr * grads[key] \n",
        "\n",
        "class Momentum:\n",
        "  def __init__(self, learning_rate = 0.01, alpha = 0.5):\n",
        "    '''\n",
        "    self.lr = learning_rate : 学習係数\n",
        "    self.alpha = alpha      : alpha\n",
        "    '''\n",
        "    self.lr = learning_rate\n",
        "    self.alpha = alpha\n",
        "    self.v = None \n",
        "\n",
        "  def update(self, params, grads):\n",
        "    '''\n",
        "    params : 更新するパラメータ\n",
        "    grads  : 目的関数のパラメータに関する勾配\n",
        "    self.v : モメンタム，パラメータと同じ形式\n",
        "\n",
        "    '''\n",
        "    # self.v の初期化\n",
        "    if self.v is None:\n",
        "      self.v = {}\n",
        "      for key in params:\n",
        "        self.v[key] = cp.zeros_like(params[key])\n",
        "    \n",
        "    # モメンタムとパラメータの更新\n",
        "    for key in params:\n",
        "      self.v[key] = self.alpha * self.v[key] - self.lr * grads[key] \n",
        "      params[key] += self.v[key]\n",
        "\n",
        "class Adam:\n",
        "  def __init__(self, learning_rate=0.001, beta1=0.9, beta2=0.999):\n",
        "    self.learning_rate = learning_rate\n",
        "    self.beta1 = beta1\n",
        "    self.beta2 = beta2\n",
        "    self.iter = 0\n",
        "    self.m = None\n",
        "    self.v = None\n",
        "    \n",
        "  def update(self, params, grads):\n",
        "    if self.m is None:\n",
        "      self.m, self.v = {}, {}\n",
        "      for key in params:\n",
        "        self.m[key] = cp.zeros_like(params[key])\n",
        "        self.v[key] = cp.zeros_like(params[key])\n",
        "\n",
        "    self.iter += 1\n",
        "    lr_t  = self.learning_rate * cp.sqrt(1.0 - self.beta2**self.iter) / (1.0 - self.beta1**self.iter)         \n",
        "      \n",
        "    for key in params.keys():\n",
        "      self.m[key] += (1 - self.beta1) * (grads[key] - self.m[key])\n",
        "      self.v[key] += (1 - self.beta2) * (grads[key]**2 - self.v[key])\n",
        "      params[key] -= lr_t * self.m[key] / (cp.sqrt(self.v[key]) + 1e-7)\n",
        "\n",
        "class AdaGrad:\n",
        "  def __init__(self, learning_rate = 0.01):\n",
        "    self.learning_rate = learning_rate\n",
        "    self.h = None\n",
        "      \n",
        "  def update(self, params, grads):\n",
        "    if self.h is None:\n",
        "      self.h = {}\n",
        "      for key in params:\n",
        "        self.h[key] = cp.zeros_like(params[key])\n",
        "        \n",
        "    for key in params:\n",
        "      self.h[key] += grads[key] * grads[key]\n",
        "      params[key] -= self.learning_rate * grads[key] / (cp.sqrt(self.h[key]) + 1e-7)  "
      ],
      "execution_count": 17,
      "outputs": []
    },
    {
      "cell_type": "markdown",
      "metadata": {
        "id": "ros4u9u7A9mz"
      },
      "source": [
        "層のクラス\n",
        "\n",
        "Classes of layers"
      ]
    },
    {
      "cell_type": "code",
      "metadata": {
        "id": "0iOQemqFwf3B"
      },
      "source": [
        "#@title\n",
        "\n",
        "def softmax(a):   \n",
        "  # a がベクトルのとき\n",
        "  if a.ndim == 1:\n",
        "    c = cp.max(a)#オーバーフロー対策1\n",
        "    x = a-c\n",
        "    x = 709*(x >= 709) + x*(x<709)#オーバーフロー対策2\n",
        "    exp_x = cp.exp(x)\n",
        "    sum_exp_x = cp.sum(exp_x)\n",
        "    return exp_x/sum_exp_x\n",
        "    \n",
        "  # a が２階の配列のとき\n",
        "  a = a.T\n",
        "  c = cp.max(a, axis=0) #オーバーフロー対策1\n",
        "  x = a - c\n",
        "  x = 709*(x >= 709) + x*(x<709) #オーバーフロー対策2\n",
        "  exp_x = cp.exp(x)\n",
        "  sum_exp_x = cp.sum(exp_x, axis=0)\n",
        "  return (exp_x/sum_exp_x).T\n",
        "\n",
        "def sigmoid(x):\n",
        "  x = -709*(x <= -709)+709*(x >= 709) + x*(x>-709) *(x<709) #オーバーフロー対策\n",
        "  return 1/(1+cp.exp(-x))\n",
        "\n",
        "\n",
        "class Affine:\n",
        "  def __init__(self, W, b):\n",
        "    self.W = W\n",
        "    self.b = b\n",
        "    self.x = None\n",
        "    self.dW = None\n",
        "    self.db = None\n",
        "    self.xshpe = None\n",
        "    \n",
        "  def forward(self, x):\n",
        "    #2階の配列に直す\n",
        "    self.xshape = x.shape\n",
        "    x = x.reshape(self.xshape[0],-1)\n",
        "    \n",
        "    self.x = x\n",
        "    out = cp.dot(self.x, self.W) +self.b\n",
        "    return out\n",
        "  \n",
        "  def backward(self,dout):\n",
        "    self.dW = cp.dot(self.x.T, dout)\n",
        "    self.db = cp.sum(dout, axis=0)\n",
        "    dx = cp.dot(dout, self.W.T)\n",
        "    \n",
        "    #元の形に戻す\n",
        "    dx = dx.reshape(*self.xshape)# *はカッコを外す \n",
        "    return dx\n",
        "  \n",
        "class Relu:       ####Relu層の定義\n",
        "  def __init__(self):\n",
        "    self.mask = None\n",
        "    \n",
        "  def forward(self, x):\n",
        "    self.mask = (x > 0)  # x> 0 ならTrue , x<= 0 ならFalse\n",
        "    out = x * self.mask  # x> 0 なら x * 1  , x<= 0 なら x * 0\n",
        "    return out\n",
        "  \n",
        "  def backward(self,dout):\n",
        "    dx = dout * self.mask\n",
        "    return dx\n",
        "\n",
        "class Sigmoid:\n",
        "  def __init__(self):\n",
        "    self.y = None\n",
        "\n",
        "  def forward(self, x):\n",
        "    self.y = sigmoid(x)\n",
        "    return self.y\n",
        "  \n",
        "  def backward(self,dout):\n",
        "    dx = dout*(1-self.y)*self.y\n",
        "    return dx\n",
        "\n",
        "  \n",
        "class SoftmaxWithLoss:\n",
        "  def __self__(self):\n",
        "    self.loss = None\n",
        "    self.y = None\n",
        "    self.t = None\n",
        "    \n",
        "  def forward(self, x, t):\n",
        "    y = softmax(x)\n",
        "    self.y = y\n",
        "    self.t = t\n",
        "    batch_size = y.shape[0]\n",
        "    return -cp.sum(t*cp.log(y+1e-7))/batch_size   # 1e-7 = 10^(-7)はlogの中に0を入力するのを防止するため\n",
        "  \n",
        "  def backward(self):\n",
        "    batch_size = self.y.shape[0]\n",
        "    dx = (self.y-self.t)/batch_size\n",
        "    return dx\n",
        "  \n",
        "class BatchNormalization:\n",
        "  def __init__(self, gamma = 1, beta = 0, momentum=0.9, running_mean=None, running_var=None):    \n",
        "    self.beta = beta\n",
        "    self.gamma = gamma\n",
        "    self.momentum = momentum\n",
        "    \n",
        "    # テスト時に使用する平均と分散\n",
        "    self.running_mean = running_mean\n",
        "    self.running_var = running_var\n",
        "   \n",
        "    self.std = None\n",
        "    self.xc = None\n",
        "    self.y = None\n",
        "    self.xshape = None\n",
        "  \n",
        "  def forward(self, x, train_flag = True):\n",
        "    \n",
        "    #2階の配列に直す\n",
        "    self.xshape = x.shape\n",
        "    x = x.reshape(self.xshape[0], -1)\n",
        "    \n",
        "    \n",
        "    if self.running_mean is None:\n",
        "      D = x.shape[1]\n",
        "      self.running_mean = cp.zeros(D)\n",
        "      self.running_var = cp.zeros(D)\n",
        "    \n",
        "    if train_flag:\n",
        "      mu = cp.mean(x, axis=0)  #バッチについての平均．\n",
        "      var = cp.mean((x-mu)**2, axis=0) \n",
        "      std = cp.sqrt(var+10e-7)     \n",
        "      xc = (x-mu)/std    \n",
        "      y = self.gamma * xc + self.beta\n",
        "      \n",
        "      self.std = std\n",
        "      self.xc = xc\n",
        "      \n",
        "      self.running_mean = self.momentum * self.running_mean + (1-self.momentum) * mu\n",
        "      self.running_var = self.momentum * self.running_var + (1-self.momentum) * var  \n",
        "      \n",
        "    else:\n",
        "      xc = (x - self.running_mean) / (cp.sqrt(self.running_var + 10e-7)) \n",
        "      y = self.gamma * xc + self.beta\n",
        "      \n",
        "    #yをxの元の形と同じ形にする\n",
        "    y = y.reshape(*self.xshape)\n",
        "    return y      \n",
        "  \n",
        "  def backward(self, dout):\n",
        "    #2階の配列に直す\n",
        "    dout = dout.reshape(self.xshape[0], -1)\n",
        "    \n",
        "    \n",
        "    self.dbeta = dout.sum(axis = 0) \n",
        "    self.dgamma = (self.xc * dout).sum(axis = 0)\n",
        "    c = cp.mean(dout, axis=0)\n",
        "    d = cp.mean(self.xc * dout, axis =0)\n",
        "    dx = dout - c - self.xc * d\n",
        "    dx *= self.gamma/self.std\n",
        "    \n",
        "    #dxをxの元の形と同じ形にする\n",
        "    dx = dx.reshape(*self.xshape)\n",
        "    return dx\n",
        "\n",
        "class Dropout:\n",
        "  def __init__(self, dropout_ratio = 0.5):\n",
        "    self.dropout_ratio = dropout_ratio\n",
        "    self.mask = None\n",
        "  \n",
        "  def forward(self, x, train_flag = True):\n",
        "    if train_flag:\n",
        "      self.mask = cp.random.rand(*x.shape) > self.dropout_ratio\n",
        "      return x * self.mask\n",
        "    else:\n",
        "      return x * (1.0 - self.dropout_ratio)\n",
        "  \n",
        "  def backward(self, dout):\n",
        "    return dout * self.mask\n",
        "\n",
        "\n",
        "class Convolution:\n",
        "  def __init__(self, F, b, stride=1, pad=0):\n",
        "    self.F = F\n",
        "    self.b = b\n",
        "    self.stride = stride\n",
        "    self.pad = pad\n",
        "        \n",
        "    #中間データ（backward時に使用）\n",
        "    self.xshape = None   \n",
        "    self.xh = None\n",
        "    self.f_col = None\n",
        "        \n",
        "    # 勾配\n",
        "    self.dF = None\n",
        "    self.db = None\n",
        "\n",
        "  def forward(self, x):\n",
        "    OC, C, FH, FW = self.F.shape\n",
        "    N, C, H, W = x.shape\n",
        "    pad = self.pad\n",
        "    stride = self.stride\n",
        "    \n",
        "    #出力サイズ\n",
        "    OH = (H + 2 * pad - FH)//stride +1\n",
        "    OW = (W + 2 * pad - FW)//stride +1\n",
        "    \n",
        "    # xh, xt, xcol の順に計算\n",
        "    x_pad = cp.pad(x, [(0,0), (0,0), (pad, pad), (pad, pad)], 'constant')# (N,C,H,W)のうち最後の2つの方向に関してパディングする \n",
        "    xh = cp.zeros((N, C, FH, FW, OH, OW))\n",
        "    for fh in range(FH):\n",
        "      for fw in range(FW):\n",
        "        xh[:,:,fh,fw,:,:] =x_pad[:,:,fh:fh + OH * stride:stride, fw: fw + OW * stride:stride] \n",
        "    xt = xh.transpose(0,4,5,1,2,3) # (N, OH, OW, C, FH, FW)\n",
        "    xcol = xt.reshape(N,OH,OW,-1)  # (N, OH, OW,  C * FH * FW)\n",
        "    \n",
        "    #出力 y を計算\n",
        "    fcol = self.F.reshape(OC,-1).T # (C * FH * FW, OC)\n",
        "    y = (cp.dot(xcol,fcol) + self.b).transpose(0,3,1,2)  #  (N, OH, OW, OC).transpose(0,3,1,2) = (N, OC, OH, OW)\n",
        "    \n",
        "    #クラス変数として格納\n",
        "    self.xshape = x.shape   \n",
        "    self.xh = xh\n",
        "    self.fcol = fcol\n",
        "     \n",
        "    return y\n",
        "    \n",
        "  def backward(self,dout):\n",
        "    OC, C, FH, FW = self.F.shape\n",
        "    N, OC, OH, OW = dout.shape\n",
        "    N, C, H, W = self.xshape\n",
        "    stride = self.stride\n",
        "    pad = self.pad\n",
        "    \n",
        "    # db と dF を計算\n",
        "    xh_col = self.xh.transpose(1,2,3,0,4,5).reshape(C,FH,FW,-1) # (C, FH, FW, N, OH, OW).reshape(C,FH,FW,-1) = (C, FH, FW, N * OH * OW)\n",
        "    dout_col = dout.transpose(1,0,2,3).reshape(OC,-1) # (OC, N * OH * OW)\n",
        "    self.db = dout_col.sum(axis = 1) # (OC,)\n",
        "    self.dF = cp.dot(dout_col, xh_col.transpose(0,1,3,2)) # (OC, N * OH * OW)(C, FH, N * OH * OW,  FW) = (OC, C, FH, FW)\n",
        "    \n",
        "    # dout と F から dxt を計算\n",
        "    dxt = cp.dot(dout.transpose(0,2,3,1), self.F.transpose(1,2,0,3))# (N, OH, OW, OC)( C, FH, OC, FW) = (N, OH, OW, C, FH, FW)\n",
        "    dxt = dxt.transpose(0,3,1,2,4,5) #(N, OH, OW, C, FH, FW)\n",
        "        \n",
        "    #  dxt から dx を計算\n",
        "    dx = cp.zeros((N, C, H+ 2*pad + stride - 1, W+ 2*pad + stride - 1), dtype=cp.float)  \n",
        "    for fh in range(FH):\n",
        "      for fw in range(FW):\n",
        "        dx[:,:,fh:fh + OH * stride: stride, fw: fw + OW * stride: stride] += dxt[:,:,:, :,fh,fw]\n",
        "    \n",
        "    return dx[:, :, pad:H+pad, pad:W+pad] \n",
        "      \n",
        "class Pooling:\n",
        "  def __init__(self, S):\n",
        "    self.S = S\n",
        "        \n",
        "    #中間データ（backward時に使用）\n",
        "    self.xshape = None   \n",
        "    self.argmax = None\n",
        " \n",
        "  def forward(self, x):\n",
        "    N, C, H, W = x.shape\n",
        "    S = self.S\n",
        "    FH, FW = S, S #本来は必要ないがコードを書く際に混乱するので導入\n",
        "    stride = S\n",
        "    self.xshape = x.shape\n",
        "    \n",
        "    #出力サイズ\n",
        "    OH = H//S\n",
        "    OW = W//S\n",
        "    \n",
        "    # xh, xt, xcol の順に計算    \n",
        "    xh = cp.zeros((N, C, FH, FW, OH, OW))\n",
        "    for fh in range(FH):\n",
        "      for fw in range(FW):\n",
        "        xh[:,:,fh,fw,:,:] =x[:,:,fh:fh + OH * stride:stride, fw: fw + OW * stride:stride] \n",
        "    xt = xh.transpose(0,1,4,5,2,3) # (N, C, OH, OW, FH, FW)\n",
        "    xcol = xt.reshape(N, C, OH,OW, -1)  # (N, C, OH, OW,  FH * FW)\n",
        "    \n",
        "    #argmaxを格納\n",
        "    self.argmax = xcol.argmax(axis = -1).flatten()\n",
        " \n",
        "   \n",
        "    #出力 y を計算\n",
        "    y = xcol.max(axis = 4)  # (N, C, OH, OW)\n",
        "    return y\n",
        "    \n",
        "  def backward(self,dout):\n",
        "    N, C, OH, OW = dout.shape\n",
        "    N, C, H, W = self.xshape\n",
        "    S = self.S\n",
        "    FH, FW = S, S #本来は必要ないがコードを書く際に混乱するので導入\n",
        "    stride = S\n",
        "   \n",
        "    # dout と　self.argmax から dxt を計算\n",
        "    dxt = cp.zeros((N * C * OH * OW, FH * FW))\n",
        "    dxt[cp.arange(N * C * OH * OW), self.argmax] = dout.flatten() # (N * C * OH *OW, FH*FW) =  (N * C * OH * OW)\n",
        "    dxt = dxt.reshape(N, C, OH, OW, FH, FW) \n",
        "        \n",
        "    #  dxt から dx を計算\n",
        "    dx = cp.zeros((N, C, H+ stride - 1, W+ stride - 1), dtype=cp.float)  \n",
        "    for fh in range(FH):\n",
        "      for fw in range(FW):\n",
        "        dx[:,:,fh:fh + OH * stride: stride, fw: fw + OW * stride: stride] += dxt[:,:,:, :,fh,fw]\n",
        "    \n",
        "    return dx[:, :, :H, :W]  \n",
        "      "
      ],
      "execution_count": 18,
      "outputs": []
    },
    {
      "cell_type": "markdown",
      "metadata": {
        "id": "BJ7nHw8wPWoy"
      },
      "source": [
        "ネットワーククラス\n",
        "\n",
        "Class of networks "
      ]
    },
    {
      "cell_type": "code",
      "metadata": {
        "id": "YikRRSHh7Au9"
      },
      "source": [
        "#@title\n",
        "import numpy as np\n",
        "from collections import OrderedDict\n",
        "\n",
        "class CNN:\n",
        "  '''\n",
        "    コンストラクタの引数\n",
        "    input_size          : 入力データ一つの次元\n",
        "    weight_decay_lambda : L2正則化の係数\n",
        "\n",
        "    クラス変数\n",
        "    self.layers      : 層を格納する順序付き辞書\n",
        "                       活性化関数も独立した層として扱う\n",
        "    self.params      : 重みパラメータを格納する辞書\n",
        "                       W1,W2 などと番号が付くのはAffine層の重みのみ \n",
        "    '''\n",
        "  def __init__(self, input_dim = (1,28,28),  weight_decay_lambda = 0.0):\n",
        "    self.all_dim_list = [input_dim] #各層を流れるデータの形を格納\n",
        "    self.params = {}\n",
        "    self.weight_decay_lambda = weight_decay_lambda\n",
        "    self.layers = OrderedDict()\n",
        "    self.batchnorm_flag = [False]\n",
        "    self.lastLayer = SoftmaxWithLoss()\n",
        "    self.idx = 0\n",
        "    \n",
        "  #層の追加  \n",
        "  '''\n",
        "  affine 層を付け加える場合は，\n",
        "  self.affine(size = 100, activation = 'relu', batchnorm = True) \n",
        "  とすると，層のサイズ100，活性化関数ReLU, バッチ正規化ありになる\n",
        "  self.affine(100, activation = 'sigmoid')\n",
        "  とすると，層のサイズ100，活性化関数Sigmoid, バッチ正規化なし\n",
        "    \n",
        "  dropout 層を付け加える場合は\n",
        "  self.dropout(dropout_ratio = 0.6)\n",
        "  とするとマスクされる確率が0.6\n",
        "  self.dropout()\n",
        "  とするとマスクされる確率が0.5\n",
        "  \n",
        "  畳み込み層の追加： \n",
        "  convolution(self, OC＝10, FH=3, FW=3, stride = 1, pad = 0, S = 2, activation = 'relu', batchnorm = False)\n",
        "  とすると stride = 1，pad = 0，プーリングのサイズ2，活性化ReLU，バッチ正規化なし\n",
        "  convolution(self, OC＝10, FH=3, FW=3)\n",
        "  とすると stride = 1，pad = 0，S = 1 つまりプーリングなし，活性化なし，バッチ正規化なし\n",
        "  '''\n",
        "  \n",
        "  #アファイン層を追加するメソッド\n",
        "  def affine(self, size, activation='relu',  batchnorm = False):\n",
        "    self.idx += 1\n",
        "    idx = self.idx    \n",
        "    self.all_dim_list.append(size)\n",
        "    \n",
        "    # Heの初期値によるパラメータの初期化\n",
        "    scale = cp.sqrt(2.0 / np.prod(self.all_dim_list[idx - 1]))\n",
        "    self.params['W' + str(idx)] = scale * cp.random.randn(np.prod(self.all_dim_list[idx-1]), size)\n",
        "    self.params['b' + str(idx)] = cp.zeros(size)\n",
        "    \n",
        "    #アファイン層の追加\n",
        "    self.layers['Affine' + str(idx)] = Affine(self.params['W' + str(idx)], self.params['b' + str(idx)])\n",
        "    \n",
        "    #バッチ正規化層の追加\n",
        "    if batchnorm:\n",
        "      self.batchnorm_flag.append(True)\n",
        "      self.params['gamma' + str(idx)] = cp.ones(size)\n",
        "      self.params['beta' + str(idx)] = cp.zeros(size)\n",
        "      self.layers['BatchNorm' + str(idx)] = BatchNormalization(self.params['gamma' + str(idx)], \n",
        "                                                                       self.params['beta' + str(idx)])\n",
        "    else:\n",
        "      self.batchnorm_flag.append(False)\n",
        "    \n",
        "    #活性化層の追加\n",
        "    if activation == 'relu':\n",
        "      self.layers['Relu' + str(idx)] = Relu()\n",
        "    if activation == 'sigmoid':\n",
        "      self.layers['Sigmoid' + str(idx)] = Sigmoid()\n",
        "  \n",
        "  #ドロップアウト層をの追加するメソッド    \n",
        "  def dropout(self, dropout_ratio = 0.5):\n",
        "    self.layers['Dropout' + str(self.idx)] = Dropout(dropout_ratio)      \n",
        "  \n",
        "  #畳み込み層を追加するメソッド\n",
        "  def convolution(self, OC, FH, FW, stride = 1, pad = 0, S = 2, activation=None, batchnorm = False):\n",
        "    self.idx += 1\n",
        "    idx = self.idx\n",
        "    C, H, W =  self.all_dim_list[idx - 1]    \n",
        "    \n",
        "    #出力サイズ\n",
        "    OH = (H + 2 * pad - FH)//stride +1 # //は切り捨て除算\n",
        "    OW = (W + 2 * pad - FW)//stride +1\n",
        "    \n",
        "    # パラメータの初期化（Heの初期値）\n",
        "    scale = cp.sqrt(2.0 / (C*FH*FW))\n",
        "    self.params['F' + str(idx)] = scale * cp.random.randn(OC, C, FH, FW)\n",
        "    self.params['b' + str(idx)] = cp.zeros(OC)\n",
        "    \n",
        "    #畳み込み層の追加\n",
        "    self.layers['Conv' + str(idx)] = Convolution(self.params['F' + str(idx)], self.params['b' + str(idx)], \n",
        "                                                        stride = stride, pad = pad)          \n",
        "    #バッチ正規化層の追加\n",
        "    if batchnorm:\n",
        "      self.batchnorm_flag.append(True)\n",
        "      self.params['gamma' + str(idx)] = cp.ones(OC*OH*OW)\n",
        "      self.params['beta' + str(idx)] = cp.zeros(OC*OH*OW)\n",
        "      self.layers['BatchNorm' + str(idx)] = BatchNormalization(self.params['gamma' + str(idx)], \n",
        "                                                                       self.params['beta' + str(idx)])\n",
        "    else:\n",
        "      self.batchnorm_flag.append(False)\n",
        "    \n",
        "    #活性化層の追加\n",
        "    if activation == 'relu':\n",
        "      self.layers['Relu' + str(idx)] = Relu()\n",
        "    if activation == 'sigmoid':\n",
        "      self.layers['Sigmoid' + str(idx)] = Sigmoid()\n",
        "    \n",
        "    #プーリング層の追加\n",
        "    if S > 1:\n",
        "      self.layers['Pooling' + str(idx)] = Pooling(S)\n",
        "      OH = OH//S\n",
        "      OW = OW//S\n",
        "      \n",
        "    #出力サイズの格納\n",
        "    self.all_dim_list.append((OC,OH,OW))\n",
        "    \n",
        "  \n",
        "  #順方向の計算 #Softmaxの手前まで\n",
        "  def predict(self, x, train_flg=False):\n",
        "    for key, layer in self.layers.items():\n",
        "      if \"Dropout\" in key or \"BatchNorm\" in key:\n",
        "        x = layer.forward(x, train_flg)\n",
        "      else:\n",
        "        x = layer.forward(x)\n",
        "    return x\n",
        "  \n",
        "  #誤差の計算\n",
        "  def loss(self,x,t, train_flg=False):\n",
        "    x = self.predict(x, train_flg)\n",
        "    return self.lastLayer.forward(x ,t)\n",
        "  \n",
        "  #精度（クラッシュ対策でバッチに分割して計算）\n",
        "  def accuracy(self, x, t, batch_size=100):\n",
        "    acc = 0.0\n",
        "    for i in range(int(x.shape[0] / batch_size)):\n",
        "      tx = x[i*batch_size:(i+1)*batch_size]\n",
        "      tt = t[i*batch_size:(i+1)*batch_size]\n",
        "      y = self.predict(tx, train_flg=False)\n",
        "      y = cp.argmax(y, axis=1)\n",
        "      tt = cp.argmax(tt, axis=1)\n",
        "      acc += cp.sum(y == tt)\n",
        "\n",
        "    return acc / x.shape[0]\n",
        "  \n",
        "  #誤差逆伝搬法による勾配の計算\n",
        "  def gradient(self,x,t):\n",
        "    self.loss(x,t,train_flg = True)\n",
        "    \n",
        "    dout = self.lastLayer.backward()\n",
        "    \n",
        "    layers = list(self.layers.values())\n",
        "    layers.reverse()\n",
        "    for layer in layers:\n",
        "      dout = layer.backward(dout)\n",
        "    \n",
        "    #出力辞書の生成\n",
        "    grads = {}\n",
        "    all_num = len(self.all_dim_list)\n",
        "    \n",
        "    for idx in range(1, all_num):\n",
        "      #アファイン層か畳み込み層かで場合分けして勾配をgradsに追加\n",
        "      if type(self.all_dim_list[idx]) == int:#アファインのときはデータの型は整数型\n",
        "        grads['W' + str(idx)] = self.layers['Affine' + str(idx)].dW+ self.weight_decay_lambda * self.params['W' + str(idx)]\n",
        "        grads['b' + str(idx)] = self.layers['Affine' + str(idx)].db\n",
        "      else:#アファインのときはデータの型はtuple\n",
        "        grads['F' + str(idx)] = self.layers['Conv' + str(idx)].dF+ self.weight_decay_lambda * self.params['F' + str(idx)]\n",
        "        grads['b' + str(idx)] = self.layers['Conv' + str(idx)].db\n",
        "      \n",
        "      #正規化層の勾配をgradsに追加\n",
        "      if self.batchnorm_flag[idx]:\n",
        "        grads['gamma' + str(idx)] = self.layers['BatchNorm' + str(idx)].dgamma\n",
        "        grads['beta' + str(idx)] = self.layers['BatchNorm' + str(idx)].dbeta\n",
        "    \n",
        "    return grads\n",
        "\n"
      ],
      "execution_count": 19,
      "outputs": []
    },
    {
      "cell_type": "markdown",
      "metadata": {
        "id": "A5A6ziXobTL2"
      },
      "source": [
        "### 学習を行う関数 Function for training\n",
        "\n",
        "ここで`ImageDataGenerator`を用います．\n",
        "\n",
        "The `ImageDataGenerator` is used here.\n"
      ]
    },
    {
      "cell_type": "code",
      "metadata": {
        "id": "V37UIQ9nlUIQ"
      },
      "source": [
        "from tensorflow.keras.preprocessing.image import ImageDataGenerator \n",
        "from random_eraser import get_random_eraser # https://github.com/yu4u/cutout-random-erasing \n",
        "\n",
        "datagen = ImageDataGenerator(\n",
        "            featurewise_center=False,  # set input mean to 0 over the dataset\n",
        "            samplewise_center=False,  # set each sample mean to 0\n",
        "            featurewise_std_normalization=False,  # divide inputs by std of the dataset\n",
        "            samplewise_std_normalization=False,  # divide each input by its std\n",
        "            zca_whitening=False,  # apply ZCA whitening\n",
        "            zca_epsilon=1e-06,  # epsilon for ZCA whitening\n",
        "            rotation_range=15,  # randomly rotate images in the range (degrees, 0 to 180)\n",
        "            # randomly shift images horizontally (fraction of total width)\n",
        "            width_shift_range=0.1,\n",
        "            # randomly shift images vertically (fraction of total height)\n",
        "            height_shift_range=0.1,\n",
        "            shear_range=2.0,  # set range for random shear\n",
        "            zoom_range=0.1,  # set range for random zoom\n",
        "            channel_shift_range=0,  # set range for random channel shifts\n",
        "            # set mode for filling points outside the input boundaries\n",
        "            fill_mode='nearest',\n",
        "            cval=0.,  # value used for fill_mode = \"constant\"\n",
        "            horizontal_flip=True,  # randomly flip images\n",
        "            vertical_flip=False,  # randomly flip images\n",
        "            # set rescaling factor (applied before any other transformation)\n",
        "            rescale=None,\n",
        "            # set function that will be applied on each input\n",
        "            preprocessing_function = get_random_eraser(p=0.5, s_l=0.02, s_h=0.1, r_1=0.3, r_2=1/0.3, v_l=0, v_h=0),\n",
        "            # image data format, either \"channels_first\" or \"channels_last\"\n",
        "            # fraction of images reserved for validation (strictly between 0 and 1)\n",
        "            validation_split=0.0)"
      ],
      "execution_count": 20,
      "outputs": []
    },
    {
      "cell_type": "code",
      "metadata": {
        "id": "zhb4A-NnbRPX",
        "cellView": "both"
      },
      "source": [
        "import time\n",
        "\n",
        "#学習用の関数\n",
        "def training(network, x_train, t_train,  x_test, t_test, iters_num=10000,  batch_size=100, augmentation=False):\n",
        "  '''\n",
        "  この関数を使う前に optimizer を与えておく必要がある\n",
        "  例：\n",
        "  optimizer = SGD(learning_rate = 0.01)\n",
        "  '''\n",
        "  network.train_accuracy_list =[] \n",
        "  network.test_accuracy_list =[] \n",
        "  train_size = x_train.shape[0]\n",
        "  t0 = time.time()\n",
        "\n",
        "  for i in range(iters_num):\n",
        "    if i%int(iters_num/10) ==0:\n",
        "      #精度の記録 \n",
        "      choice = cp.random.choice(len(x_train),len(x_test))\n",
        "      x_train_part, t_train_part = x_train[choice], t_train[choice]\n",
        "      train_accuracy = network.accuracy(x_train_part,t_train_part)\n",
        "      test_accuracy = network.accuracy(x_test,t_test)\n",
        "      network.train_accuracy_list.append(train_accuracy)\n",
        "      network.test_accuracy_list.append(test_accuracy)\n",
        "      t1 = time.time()\n",
        "      print('iteration:', i, 'lap time:', t1-t0 ,' train_accuracy = ', train_accuracy,\n",
        "            ' test_accuracy = ', test_accuracy)\n",
        "      t0 = t1\n",
        "\n",
        "    #ミニバッチを選ぶ\n",
        "    batch_mask = cp.random.choice(train_size,batch_size, replace=False)\n",
        "    x_batch = x_train[batch_mask]\n",
        "    t_batch = t_train[batch_mask]\n",
        "\n",
        "    if augmentation:\n",
        "      #ImageDataGeneratorの入力はNumpy でチャンネルラスト\n",
        "      x_batch, t_batch = datagen.flow(cp.asnumpy(x_batch.transpose(0,2,3,1)), cp.asnumpy(t_batch), batch_size=batch_size)[0]\n",
        "      x_batch, t_batch = cp.array(x_batch.transpose(0,3,1,2)), cp.array(t_batch)\n",
        "\n",
        "    #勾配を計算  \n",
        "    grads = network.gradient(x_batch,t_batch)     \n",
        "\n",
        "    # パラメータを更新 \n",
        "    optimizer.update(network.params, grads)\n",
        "\n",
        "  #精度の記録  \n",
        "  choice = cp.random.choice(len(x_test),len(x_test))\n",
        "  x_train_part, t_train_part = x_train[choice], t_train[choice]\n",
        "  train_accuracy = network.accuracy(x_train_part,t_train_part)\n",
        "  test_accuracy = network.accuracy(x_test,t_test)\n",
        "  network.train_accuracy_list.append(train_accuracy)\n",
        "  network.test_accuracy_list.append(test_accuracy)\n",
        "  t1 = time.time()\n",
        "  print('iteration:', i, 'lap time:', t1-t0 ,' train_accuracy = ', train_accuracy,\n",
        "        ' test_accuracy = ', test_accuracy)\n",
        "      "
      ],
      "execution_count": 21,
      "outputs": []
    },
    {
      "cell_type": "code",
      "metadata": {
        "id": "PHAnSPnGoei5",
        "colab": {
          "base_uri": "https://localhost:8080/"
        },
        "outputId": "0039bc6d-b0dc-45e9-9700-fcc18368ada8"
      },
      "source": [
        "x_train_cp, x_test_cp = cp.array(x_train.transpose(0,3,1,2)), cp.array(x_test.transpose(0,3,1,2))\n",
        "\n",
        "y_train_cp, y_test_cp = cp.array(y_train), cp.array(y_test)\n",
        "y_test_cp.shape"
      ],
      "execution_count": 22,
      "outputs": [
        {
          "output_type": "execute_result",
          "data": {
            "text/plain": [
              "(10000, 10)"
            ]
          },
          "metadata": {},
          "execution_count": 22
        }
      ]
    },
    {
      "cell_type": "code",
      "metadata": {
        "id": "iHlL1Nq9UsMG"
      },
      "source": [
        "network = CNN(input_dim=(3,32,32), weight_decay_lambda = 0.001)\n",
        "network.convolution(OC = 16, FH = 3, FW =3, pad =1, S = 1, activation = 'relu')\n",
        "network.convolution(OC = 16, FH = 3, FW =3, pad =1, S = 2, activation = 'relu')\n",
        "network.convolution(OC = 32, FH = 3, FW =3, pad =1, S = 1, activation = 'relu')\n",
        "network.convolution(OC = 32, FH = 3, FW =3, pad =2, S = 2, activation = 'relu')\n",
        "network.affine(500)\n",
        "network.affine(50)\n",
        "network.dropout()\n",
        "network.affine(10, activation = None)\n",
        "network.dropout()\n"
      ],
      "execution_count": 23,
      "outputs": []
    },
    {
      "cell_type": "markdown",
      "metadata": {
        "id": "MhV10avH9wYa"
      },
      "source": [
        "aurmentationなし \n",
        "\n",
        "100 * 5000 / 50000 = 10 エポック学習\n",
        "\n",
        "10 epochs training with augmentation"
      ]
    },
    {
      "cell_type": "code",
      "metadata": {
        "id": "tqWaivujVDze",
        "colab": {
          "base_uri": "https://localhost:8080/",
          "height": 523
        },
        "outputId": "e84f288c-0d8a-4b79-a43c-eae8e14fec6e"
      },
      "source": [
        "import matplotlib.pyplot as plt \n",
        "\n",
        "optimizer = Adam(learning_rate=0.001)\n",
        "training(network, x_train_cp, y_train_cp, x_test_cp, y_test_cp, iters_num=5000, batch_size = 100)\n",
        "x = np.arange(0,len(network.train_accuracy_list),1) \n",
        "\n",
        "#グラフが見にくくなるので初期値は表示しない\n",
        "plt.plot(x[1:], network.train_accuracy_list[1:], label = 'train_data')  \n",
        "plt.plot(x[1:], network.test_accuracy_list[1:], label = 'test_data')  \n",
        "\n",
        "plt.legend() #グラフの線の説明を表示"
      ],
      "execution_count": 24,
      "outputs": [
        {
          "output_type": "stream",
          "name": "stdout",
          "text": [
            "iteration: 0 lap time: 14.31815218925476  train_accuracy =  0.0905  test_accuracy =  0.0964\n"
          ]
        },
        {
          "output_type": "stream",
          "name": "stderr",
          "text": [
            "/usr/local/lib/python3.7/dist-packages/ipykernel_launcher.py:297: DeprecationWarning: `cupy.float` is a deprecated alias for the Python scalar type `float`. Please use the builtin `float` or its corresponding NumPy scalar type `cupy.float_` instead.\n",
            "/usr/local/lib/python3.7/dist-packages/ipykernel_launcher.py:242: DeprecationWarning: `cupy.float` is a deprecated alias for the Python scalar type `float`. Please use the builtin `float` or its corresponding NumPy scalar type `cupy.float_` instead.\n"
          ]
        },
        {
          "output_type": "stream",
          "name": "stdout",
          "text": [
            "iteration: 500 lap time: 48.28884744644165  train_accuracy =  0.3956  test_accuracy =  0.3995\n",
            "iteration: 1000 lap time: 39.1657874584198  train_accuracy =  0.486  test_accuracy =  0.4752\n",
            "iteration: 1500 lap time: 39.14410352706909  train_accuracy =  0.5264  test_accuracy =  0.5266\n",
            "iteration: 2000 lap time: 39.94332504272461  train_accuracy =  0.5704  test_accuracy =  0.557\n",
            "iteration: 2500 lap time: 39.13530921936035  train_accuracy =  0.618  test_accuracy =  0.6027\n",
            "iteration: 3000 lap time: 39.13809776306152  train_accuracy =  0.6479  test_accuracy =  0.6184\n",
            "iteration: 3500 lap time: 39.13664388656616  train_accuracy =  0.6645  test_accuracy =  0.6354\n",
            "iteration: 4000 lap time: 39.13563656806946  train_accuracy =  0.7019  test_accuracy =  0.6657\n",
            "iteration: 4500 lap time: 39.12736678123474  train_accuracy =  0.7202  test_accuracy =  0.6672\n",
            "iteration: 4999 lap time: 39.1287157535553  train_accuracy =  0.7007  test_accuracy =  0.6518\n"
          ]
        },
        {
          "output_type": "execute_result",
          "data": {
            "text/plain": [
              "<matplotlib.legend.Legend at 0x7f049e0d6a10>"
            ]
          },
          "metadata": {},
          "execution_count": 24
        },
        {
          "output_type": "display_data",
          "data": {
            "image/png": "[encoded data removed]",
            "text/plain": [
              "<Figure size 432x288 with 1 Axes>"
            ]
          },
          "metadata": {
            "needs_background": "light"
          }
        }
      ]
    },
    {
      "cell_type": "markdown",
      "metadata": {
        "id": "h7dEMpbS-IsX"
      },
      "source": [
        "augmentationあり\n",
        "\n",
        "Without augmentation"
      ]
    },
    {
      "cell_type": "code",
      "metadata": {
        "id": "7AWA5cIEyo7V"
      },
      "source": [
        "network = CNN(input_dim=(3,32,32), weight_decay_lambda = 0.001)\n",
        "network.convolution(OC = 16, FH = 3, FW =3, pad =1, S = 1, activation = 'relu')\n",
        "network.convolution(OC = 16, FH = 3, FW =3, pad =1, S = 2, activation = 'relu')\n",
        "network.convolution(OC = 32, FH = 3, FW =3, pad =1, S = 1, activation = 'relu')\n",
        "network.convolution(OC = 32, FH = 3, FW =3, pad =2, S = 2, activation = 'relu')\n",
        "network.affine(500)\n",
        "network.affine(50)\n",
        "network.dropout()\n",
        "network.affine(10, activation = None)\n",
        "network.dropout()\n"
      ],
      "execution_count": 25,
      "outputs": []
    },
    {
      "cell_type": "markdown",
      "metadata": {
        "id": "Hn305dN2yo7h"
      },
      "source": [
        "100 * 5000 / 50000 = 10 エポック学習"
      ]
    },
    {
      "cell_type": "code",
      "metadata": {
        "id": "eo5wTsQcyo7i",
        "colab": {
          "base_uri": "https://localhost:8080/",
          "height": 523
        },
        "outputId": "6fb0d158-b694-4b17-ea4b-ab04b0d78075"
      },
      "source": [
        "import matplotlib.pyplot as plt \n",
        "\n",
        "optimizer = Adam(learning_rate=0.001)\n",
        "training(network, x_train_cp, y_train_cp, x_test_cp, y_test_cp, iters_num=5000, batch_size = 100,\n",
        "         augmentation=True)\n",
        "x = np.arange(0,len(network.train_accuracy_list),1) \n",
        "\n",
        "#グラフが見にくくなるので初期値は表示しない\n",
        "plt.plot(x[1:], network.train_accuracy_list[1:], label = 'train_data')  \n",
        "plt.plot(x[1:], network.test_accuracy_list[1:], label = 'test_data')  \n",
        "\n",
        "plt.legend() #グラフの線の説明を表示"
      ],
      "execution_count": 26,
      "outputs": [
        {
          "output_type": "stream",
          "name": "stdout",
          "text": [
            "iteration: 0 lap time: 4.446393728256226  train_accuracy =  0.1002  test_accuracy =  0.0985\n"
          ]
        },
        {
          "output_type": "stream",
          "name": "stderr",
          "text": [
            "/usr/local/lib/python3.7/dist-packages/ipykernel_launcher.py:297: DeprecationWarning: `cupy.float` is a deprecated alias for the Python scalar type `float`. Please use the builtin `float` or its corresponding NumPy scalar type `cupy.float_` instead.\n",
            "/usr/local/lib/python3.7/dist-packages/ipykernel_launcher.py:242: DeprecationWarning: `cupy.float` is a deprecated alias for the Python scalar type `float`. Please use the builtin `float` or its corresponding NumPy scalar type `cupy.float_` instead.\n"
          ]
        },
        {
          "output_type": "stream",
          "name": "stdout",
          "text": [
            "iteration: 500 lap time: 68.86149954795837  train_accuracy =  0.4061  test_accuracy =  0.4112\n",
            "iteration: 1000 lap time: 68.0766716003418  train_accuracy =  0.403  test_accuracy =  0.4214\n",
            "iteration: 1500 lap time: 68.47050952911377  train_accuracy =  0.496  test_accuracy =  0.4906\n",
            "iteration: 2000 lap time: 68.20321226119995  train_accuracy =  0.5196  test_accuracy =  0.5212\n",
            "iteration: 2500 lap time: 68.32887053489685  train_accuracy =  0.5572  test_accuracy =  0.5453\n",
            "iteration: 3000 lap time: 68.22551608085632  train_accuracy =  0.5465  test_accuracy =  0.545\n",
            "iteration: 3500 lap time: 67.7879409790039  train_accuracy =  0.5809  test_accuracy =  0.5756\n",
            "iteration: 4000 lap time: 68.0213086605072  train_accuracy =  0.5972  test_accuracy =  0.5899\n",
            "iteration: 4500 lap time: 68.03876495361328  train_accuracy =  0.6196  test_accuracy =  0.6183\n",
            "iteration: 4999 lap time: 67.91367435455322  train_accuracy =  0.6007  test_accuracy =  0.6046\n"
          ]
        },
        {
          "output_type": "execute_result",
          "data": {
            "text/plain": [
              "<matplotlib.legend.Legend at 0x7f049db82510>"
            ]
          },
          "metadata": {},
          "execution_count": 26
        },
        {
          "output_type": "display_data",
          "data": {
            "image/png": "[encoded data removed]",
            "text/plain": [
              "<Figure size 432x288 with 1 Axes>"
            ]
          },
          "metadata": {
            "needs_background": "light"
          }
        }
      ]
    },
    {
      "cell_type": "markdown",
      "metadata": {
        "id": "f41o_jR2mXLA"
      },
      "source": [
        "この結果を比較してもよく分からないことと思います．\n",
        "\n",
        "You may not understand the comparison between these results."
      ]
    },
    {
      "cell_type": "markdown",
      "metadata": {
        "id": "AS_tpn4a_uKN"
      },
      "source": [
        "###Kerasで学習 Training using Keras\n",
        "\n",
        "cupy を使ってもまだ時間がかかるのでKerasでやってみます．\n",
        "\n",
        "It still takes a long time using cupy, so let's try using Keras."
      ]
    },
    {
      "cell_type": "code",
      "metadata": {
        "id": "YbGPHT3KgqUV"
      },
      "source": [
        "import tensorflow as tf\n",
        "import numpy as np\n",
        "from tensorflow.keras.layers import Input, Conv2D, BatchNormalization, Activation, MaxPooling2D, Dense, Dropout, Flatten\n",
        "from tensorflow.keras.models import Sequential\n",
        "\n",
        "def CNN(input_shape=(32, 32, 3), class_num=10):\n",
        "  model = Sequential()\n",
        "  model.add(Conv2D(16, (3, 3), padding='same', kernel_initializer='he_normal', input_shape=input_shape))\n",
        "  model.add(Activation('relu'))\n",
        "  model.add(Conv2D(16, (3, 3), padding='same', kernel_initializer='he_normal'))\n",
        "  model.add(BatchNormalization())\n",
        "  model.add(Activation('relu'))\n",
        "  model.add(MaxPooling2D(pool_size=(2, 2)))\n",
        "\n",
        "\n",
        "  model.add(Conv2D(32, (3, 3), padding='same', kernel_initializer='he_normal'))\n",
        "  model.add(Activation('relu'))\n",
        "  model.add(Conv2D(32, (3, 3), padding='same', kernel_initializer='he_normal'))\n",
        "  model.add(BatchNormalization())\n",
        "  model.add(Activation('relu'))\n",
        "  model.add(MaxPooling2D(pool_size=(2, 2)))\n",
        "\n",
        "  model.add(Conv2D(64, (3, 3), padding='same', kernel_initializer='he_normal'))\n",
        "  model.add(Activation('relu'))\n",
        "  model.add(Conv2D(64, (3, 3), padding='same', kernel_initializer='he_normal'))\n",
        "  model.add(BatchNormalization())\n",
        "  model.add(Activation('relu'))\n",
        "  model.add(MaxPooling2D(pool_size=(2, 2)))\n",
        "\n",
        "  model.add(Conv2D(128, (3, 3), padding='same', kernel_initializer='he_normal'))\n",
        "  model.add(Activation('relu'))\n",
        "  model.add(Conv2D(128, (3, 3), padding='same', kernel_initializer='he_normal'))\n",
        "  model.add(BatchNormalization())\n",
        "  model.add(Activation('relu'))\n",
        "  model.add(MaxPooling2D(pool_size=(2, 2)))\n",
        "  \n",
        "  model.add(Conv2D(256, (3, 3), padding='same', kernel_initializer='he_normal'))\n",
        "  model.add(Activation('relu'))\n",
        "  model.add(Conv2D(256, (3, 3), padding='same', kernel_initializer='he_normal'))\n",
        "  model.add(BatchNormalization())\n",
        "  model.add(Activation('relu'))\n",
        "  model.add(MaxPooling2D(pool_size=(2, 2)))\n",
        "\n",
        "\n",
        "  model.add(Flatten())\n",
        "  model.add(Dense(512, activation='relu', kernel_initializer='he_normal'))\n",
        "  model.add(Dropout(rate=0.5))\n",
        "  model.add(Dense(class_num, kernel_initializer='he_normal'))\n",
        "  model.add(Activation('softmax'))\n",
        "  return model\n",
        "  "
      ],
      "execution_count": 27,
      "outputs": []
    },
    {
      "cell_type": "code",
      "metadata": {
        "id": "Ci2VpYx-zG9B",
        "colab": {
          "base_uri": "https://localhost:8080/"
        },
        "outputId": "7c72d265-21fd-4f74-9571-37a711c7658a"
      },
      "source": [
        "import tensorflow.keras.backend as K\n",
        "\n",
        "K.clear_session()\n",
        "\n",
        "from keras.datasets import cifar10\n",
        "from tensorflow.keras.utils import to_categorical\n",
        "from tensorflow.keras.preprocessing.image import ImageDataGenerator \n",
        "from random_eraser import get_random_eraser # https://github.com/yu4u/cutout-random-erasing \n",
        "import os\n",
        "from tensorflow.keras.optimizers import Adam\n",
        " \n",
        "\n",
        "# Cifar-10 の読み込み\n",
        "(X_train, y_train), (X_test, y_test) = cifar10.load_data()\n",
        "x_train, x_test = (X_train / 255.0), (X_test / 255.0)\n",
        "y_train = to_categorical(y_train)\n",
        "y_test = to_categorical(y_test)  \n",
        "\n",
        "# データ増大の設定\n",
        "datagen = ImageDataGenerator(\n",
        "            featurewise_center=False,  # set input mean to 0 over the dataset\n",
        "            samplewise_center=False,  # set each sample mean to 0\n",
        "            featurewise_std_normalization=False,  # divide inputs by std of the dataset\n",
        "            samplewise_std_normalization=False,  # divide each input by its std\n",
        "            zca_whitening=False,  # apply ZCA whitening\n",
        "            zca_epsilon=1e-06,  # epsilon for ZCA whitening\n",
        "            rotation_range=15,  # randomly rotate images in the range (degrees, 0 to 180)\n",
        "            # randomly shift images horizontally (fraction of total width)\n",
        "            width_shift_range=0.1,\n",
        "            # randomly shift images vertically (fraction of total height)\n",
        "            height_shift_range=0.1,\n",
        "            shear_range=2.0,  # set range for random shear\n",
        "            zoom_range=0.1,  # set range for random zoom\n",
        "            channel_shift_range=0,  # set range for random channel shifts\n",
        "            # set mode for filling points outside the input boundaries\n",
        "            fill_mode='nearest',\n",
        "            cval=0.,  # value used for fill_mode = \"constant\"\n",
        "            horizontal_flip=True,  # randomly flip images\n",
        "            vertical_flip=False,  # randomly flip images\n",
        "            # set rescaling factor (applied before any other transformation)\n",
        "            rescale=None,\n",
        "            # set function that will be applied on each input\n",
        "            preprocessing_function = get_random_eraser(p=0.5, s_l=0.02, s_h=0.1, r_1=0.3, r_2=1/0.3, v_l=0, v_h=0),\n",
        "            # image data format, either \"channels_first\" or \"channels_last\"\n",
        "            # fraction of images reserved for validation (strictly between 0 and 1)\n",
        "            validation_split=0.0)\n",
        "\n",
        "# モデルを作成\n",
        "model = CNN(input_shape=(32,32,3), class_num=10)\n",
        "\n",
        "# モデルをコンパイル \n",
        "model.compile( Adam(lr=1e-3), loss=\"categorical_crossentropy\", metrics=[\"acc\"])"
      ],
      "execution_count": 28,
      "outputs": [
        {
          "output_type": "stream",
          "name": "stderr",
          "text": [
            "/usr/local/lib/python3.7/dist-packages/keras/optimizer_v2/optimizer_v2.py:356: UserWarning: The `lr` argument is deprecated, use `learning_rate` instead.\n",
            "  \"The `lr` argument is deprecated, use `learning_rate` instead.\")\n"
          ]
        }
      ]
    },
    {
      "cell_type": "code",
      "metadata": {
        "id": "3CMCv9w29AyF",
        "colab": {
          "base_uri": "https://localhost:8080/"
        },
        "outputId": "27ce62ff-dd5c-43f9-e548-d3bfa4c96442"
      },
      "source": [
        "model.summary()"
      ],
      "execution_count": 29,
      "outputs": [
        {
          "output_type": "stream",
          "name": "stdout",
          "text": [
            "Model: \"sequential\"\n",
            "_________________________________________________________________\n",
            "Layer (type)                 Output Shape              Param #   \n",
            "=================================================================\n",
            "conv2d (Conv2D)              (None, 32, 32, 16)        448       \n",
            "_________________________________________________________________\n",
            "activation (Activation)      (None, 32, 32, 16)        0         \n",
            "_________________________________________________________________\n",
            "conv2d_1 (Conv2D)            (None, 32, 32, 16)        2320      \n",
            "_________________________________________________________________\n",
            "batch_normalization (BatchNo (None, 32, 32, 16)        64        \n",
            "_________________________________________________________________\n",
            "activation_1 (Activation)    (None, 32, 32, 16)        0         \n",
            "_________________________________________________________________\n",
            "max_pooling2d (MaxPooling2D) (None, 16, 16, 16)        0         \n",
            "_________________________________________________________________\n",
            "conv2d_2 (Conv2D)            (None, 16, 16, 32)        4640      \n",
            "_________________________________________________________________\n",
            "activation_2 (Activation)    (None, 16, 16, 32)        0         \n",
            "_________________________________________________________________\n",
            "conv2d_3 (Conv2D)            (None, 16, 16, 32)        9248      \n",
            "_________________________________________________________________\n",
            "batch_normalization_1 (Batch (None, 16, 16, 32)        128       \n",
            "_________________________________________________________________\n",
            "activation_3 (Activation)    (None, 16, 16, 32)        0         \n",
            "_________________________________________________________________\n",
            "max_pooling2d_1 (MaxPooling2 (None, 8, 8, 32)          0         \n",
            "_________________________________________________________________\n",
            "conv2d_4 (Conv2D)            (None, 8, 8, 64)          18496     \n",
            "_________________________________________________________________\n",
            "activation_4 (Activation)    (None, 8, 8, 64)          0         \n",
            "_________________________________________________________________\n",
            "conv2d_5 (Conv2D)            (None, 8, 8, 64)          36928     \n",
            "_________________________________________________________________\n",
            "batch_normalization_2 (Batch (None, 8, 8, 64)          256       \n",
            "_________________________________________________________________\n",
            "activation_5 (Activation)    (None, 8, 8, 64)          0         \n",
            "_________________________________________________________________\n",
            "max_pooling2d_2 (MaxPooling2 (None, 4, 4, 64)          0         \n",
            "_________________________________________________________________\n",
            "conv2d_6 (Conv2D)            (None, 4, 4, 128)         73856     \n",
            "_________________________________________________________________\n",
            "activation_6 (Activation)    (None, 4, 4, 128)         0         \n",
            "_________________________________________________________________\n",
            "conv2d_7 (Conv2D)            (None, 4, 4, 128)         147584    \n",
            "_________________________________________________________________\n",
            "batch_normalization_3 (Batch (None, 4, 4, 128)         512       \n",
            "_________________________________________________________________\n",
            "activation_7 (Activation)    (None, 4, 4, 128)         0         \n",
            "_________________________________________________________________\n",
            "max_pooling2d_3 (MaxPooling2 (None, 2, 2, 128)         0         \n",
            "_________________________________________________________________\n",
            "conv2d_8 (Conv2D)            (None, 2, 2, 256)         295168    \n",
            "_________________________________________________________________\n",
            "activation_8 (Activation)    (None, 2, 2, 256)         0         \n",
            "_________________________________________________________________\n",
            "conv2d_9 (Conv2D)            (None, 2, 2, 256)         590080    \n",
            "_________________________________________________________________\n",
            "batch_normalization_4 (Batch (None, 2, 2, 256)         1024      \n",
            "_________________________________________________________________\n",
            "activation_9 (Activation)    (None, 2, 2, 256)         0         \n",
            "_________________________________________________________________\n",
            "max_pooling2d_4 (MaxPooling2 (None, 1, 1, 256)         0         \n",
            "_________________________________________________________________\n",
            "flatten (Flatten)            (None, 256)               0         \n",
            "_________________________________________________________________\n",
            "dense (Dense)                (None, 512)               131584    \n",
            "_________________________________________________________________\n",
            "dropout (Dropout)            (None, 512)               0         \n",
            "_________________________________________________________________\n",
            "dense_1 (Dense)              (None, 10)                5130      \n",
            "_________________________________________________________________\n",
            "activation_10 (Activation)   (None, 10)                0         \n",
            "=================================================================\n",
            "Total params: 1,317,466\n",
            "Trainable params: 1,316,474\n",
            "Non-trainable params: 992\n",
            "_________________________________________________________________\n"
          ]
        }
      ]
    },
    {
      "cell_type": "markdown",
      "metadata": {
        "id": "5MFINygJUcLu"
      },
      "source": [
        "学習係数をスケジュールして学習を行います．（20分以上かかるかもしれません．ランタイムを「GPU」にするのを忘れないでください．）\n",
        "\n",
        "Scheduling a learning coefficient. (It may take more than 20 minutes. Don't forget to set the runtime to \"GPU\"). "
      ]
    },
    {
      "cell_type": "code",
      "metadata": {
        "id": "xi1oTGj5HKJD",
        "colab": {
          "base_uri": "https://localhost:8080/"
        },
        "outputId": "1fcb98a3-e219-480b-d943-e153af700ebd"
      },
      "source": [
        "from tensorflow.keras.callbacks import LearningRateScheduler\n",
        "\n",
        "#schedulerの設定\n",
        "def step_decay(epoch):\n",
        "    x = 0.002\n",
        "    if epoch >= 30: x = 0.0008\n",
        "    if epoch >= 40: x = 0.0001\n",
        "    return x\n",
        "decay = LearningRateScheduler(step_decay, verbose=1)\n",
        "#datagen.fit(X_train)\n",
        "#validationgen.fit(x_test)\n",
        "\n",
        "#データ増大と学習率の変更をしながら学習\n",
        "history = model.fit_generator(datagen.flow(x_train, y_train, batch_size=128), \n",
        "                              steps_per_epoch=len(x_train) // 128, epochs=50,\n",
        "                              workers=8, use_multiprocessing=True, #これを指定するとイメージジェネレーターを並列にやってくれる \n",
        "                              validation_data=(x_test,y_test), callbacks=[decay])"
      ],
      "execution_count": 30,
      "outputs": [
        {
          "output_type": "stream",
          "name": "stderr",
          "text": [
            "/usr/local/lib/python3.7/dist-packages/keras/engine/training.py:1972: UserWarning: `Model.fit_generator` is deprecated and will be removed in a future version. Please use `Model.fit`, which supports generators.\n",
            "  warnings.warn('`Model.fit_generator` is deprecated and '\n"
          ]
        },
        {
          "output_type": "stream",
          "name": "stdout",
          "text": [
            "Epoch 1/50\n",
            "\n",
            "Epoch 00001: LearningRateScheduler setting learning rate to 0.002.\n",
            "390/390 [==============================] - 69s 96ms/step - loss: 1.8084 - acc: 0.3180 - val_loss: 1.6859 - val_acc: 0.4057\n",
            "Epoch 2/50\n",
            "\n",
            "Epoch 00002: LearningRateScheduler setting learning rate to 0.002.\n",
            "390/390 [==============================] - 38s 95ms/step - loss: 1.3972 - acc: 0.4915 - val_loss: 1.5621 - val_acc: 0.4799\n",
            "Epoch 3/50\n",
            "\n",
            "Epoch 00003: LearningRateScheduler setting learning rate to 0.002.\n",
            "390/390 [==============================] - 38s 94ms/step - loss: 1.2264 - acc: 0.5652 - val_loss: 1.1996 - val_acc: 0.5998\n",
            "Epoch 4/50\n",
            "\n",
            "Epoch 00004: LearningRateScheduler setting learning rate to 0.002.\n",
            "390/390 [==============================] - 37s 94ms/step - loss: 1.1021 - acc: 0.6115 - val_loss: 1.3519 - val_acc: 0.5747\n",
            "Epoch 5/50\n",
            "\n",
            "Epoch 00005: LearningRateScheduler setting learning rate to 0.002.\n",
            "390/390 [==============================] - 39s 96ms/step - loss: 1.0152 - acc: 0.6481 - val_loss: 1.3846 - val_acc: 0.5873\n",
            "Epoch 6/50\n",
            "\n",
            "Epoch 00006: LearningRateScheduler setting learning rate to 0.002.\n",
            "390/390 [==============================] - 38s 96ms/step - loss: 0.9617 - acc: 0.6681 - val_loss: 1.0233 - val_acc: 0.6621\n",
            "Epoch 7/50\n",
            "\n",
            "Epoch 00007: LearningRateScheduler setting learning rate to 0.002.\n",
            "390/390 [==============================] - 38s 96ms/step - loss: 0.9067 - acc: 0.6915 - val_loss: 0.9120 - val_acc: 0.6894\n",
            "Epoch 8/50\n",
            "\n",
            "Epoch 00008: LearningRateScheduler setting learning rate to 0.002.\n",
            "390/390 [==============================] - 39s 96ms/step - loss: 0.8583 - acc: 0.7063 - val_loss: 0.8609 - val_acc: 0.7184\n",
            "Epoch 9/50\n",
            "\n",
            "Epoch 00009: LearningRateScheduler setting learning rate to 0.002.\n",
            "390/390 [==============================] - 39s 97ms/step - loss: 0.8203 - acc: 0.7232 - val_loss: 0.8482 - val_acc: 0.7237\n",
            "Epoch 10/50\n",
            "\n",
            "Epoch 00010: LearningRateScheduler setting learning rate to 0.002.\n",
            "390/390 [==============================] - 40s 99ms/step - loss: 0.7868 - acc: 0.7343 - val_loss: 0.9476 - val_acc: 0.6874\n",
            "Epoch 11/50\n",
            "\n",
            "Epoch 00011: LearningRateScheduler setting learning rate to 0.002.\n",
            "390/390 [==============================] - 39s 96ms/step - loss: 0.7621 - acc: 0.7422 - val_loss: 1.2549 - val_acc: 0.6404\n",
            "Epoch 12/50\n",
            "\n",
            "Epoch 00012: LearningRateScheduler setting learning rate to 0.002.\n",
            "390/390 [==============================] - 39s 97ms/step - loss: 0.7382 - acc: 0.7508 - val_loss: 0.8300 - val_acc: 0.7303\n",
            "Epoch 13/50\n",
            "\n",
            "Epoch 00013: LearningRateScheduler setting learning rate to 0.002.\n",
            "390/390 [==============================] - 39s 96ms/step - loss: 0.7180 - acc: 0.7574 - val_loss: 0.8368 - val_acc: 0.7389\n",
            "Epoch 14/50\n",
            "\n",
            "Epoch 00014: LearningRateScheduler setting learning rate to 0.002.\n",
            "390/390 [==============================] - 40s 100ms/step - loss: 0.6906 - acc: 0.7657 - val_loss: 0.7541 - val_acc: 0.7570\n",
            "Epoch 15/50\n",
            "\n",
            "Epoch 00015: LearningRateScheduler setting learning rate to 0.002.\n",
            "390/390 [==============================] - 40s 100ms/step - loss: 0.6699 - acc: 0.7735 - val_loss: 0.8607 - val_acc: 0.7414\n",
            "Epoch 16/50\n",
            "\n",
            "Epoch 00016: LearningRateScheduler setting learning rate to 0.002.\n",
            "390/390 [==============================] - 39s 97ms/step - loss: 0.6515 - acc: 0.7791 - val_loss: 0.8870 - val_acc: 0.7237\n",
            "Epoch 17/50\n",
            "\n",
            "Epoch 00017: LearningRateScheduler setting learning rate to 0.002.\n",
            "390/390 [==============================] - 40s 98ms/step - loss: 0.6438 - acc: 0.7803 - val_loss: 0.7411 - val_acc: 0.7670\n",
            "Epoch 18/50\n",
            "\n",
            "Epoch 00018: LearningRateScheduler setting learning rate to 0.002.\n",
            "390/390 [==============================] - 40s 99ms/step - loss: 0.6263 - acc: 0.7897 - val_loss: 0.6483 - val_acc: 0.7738\n",
            "Epoch 19/50\n",
            "\n",
            "Epoch 00019: LearningRateScheduler setting learning rate to 0.002.\n",
            "390/390 [==============================] - 40s 99ms/step - loss: 0.6125 - acc: 0.7923 - val_loss: 0.7387 - val_acc: 0.7730\n",
            "Epoch 20/50\n",
            "\n",
            "Epoch 00020: LearningRateScheduler setting learning rate to 0.002.\n",
            "390/390 [==============================] - 39s 97ms/step - loss: 0.5859 - acc: 0.8019 - val_loss: 0.7497 - val_acc: 0.7688\n",
            "Epoch 21/50\n",
            "\n",
            "Epoch 00021: LearningRateScheduler setting learning rate to 0.002.\n",
            "390/390 [==============================] - 45s 112ms/step - loss: 0.5867 - acc: 0.8026 - val_loss: 0.6659 - val_acc: 0.7820\n",
            "Epoch 22/50\n",
            "\n",
            "Epoch 00022: LearningRateScheduler setting learning rate to 0.002.\n",
            "390/390 [==============================] - 41s 100ms/step - loss: 0.5701 - acc: 0.8057 - val_loss: 0.8713 - val_acc: 0.7409\n",
            "Epoch 23/50\n",
            "\n",
            "Epoch 00023: LearningRateScheduler setting learning rate to 0.002.\n",
            "390/390 [==============================] - 40s 98ms/step - loss: 0.5614 - acc: 0.8085 - val_loss: 0.6215 - val_acc: 0.7943\n",
            "Epoch 24/50\n",
            "\n",
            "Epoch 00024: LearningRateScheduler setting learning rate to 0.002.\n",
            "390/390 [==============================] - 40s 98ms/step - loss: 0.5455 - acc: 0.8139 - val_loss: 0.6009 - val_acc: 0.8032\n",
            "Epoch 25/50\n",
            "\n",
            "Epoch 00025: LearningRateScheduler setting learning rate to 0.002.\n",
            "390/390 [==============================] - 40s 99ms/step - loss: 0.5464 - acc: 0.8168 - val_loss: 0.7888 - val_acc: 0.7582\n",
            "Epoch 26/50\n",
            "\n",
            "Epoch 00026: LearningRateScheduler setting learning rate to 0.002.\n",
            "390/390 [==============================] - 41s 99ms/step - loss: 0.5380 - acc: 0.8193 - val_loss: 0.6834 - val_acc: 0.7789\n",
            "Epoch 27/50\n",
            "\n",
            "Epoch 00027: LearningRateScheduler setting learning rate to 0.002.\n",
            "390/390 [==============================] - 40s 98ms/step - loss: 0.5214 - acc: 0.8228 - val_loss: 0.5789 - val_acc: 0.8101\n",
            "Epoch 28/50\n",
            "\n",
            "Epoch 00028: LearningRateScheduler setting learning rate to 0.002.\n",
            "390/390 [==============================] - 41s 100ms/step - loss: 0.5156 - acc: 0.8246 - val_loss: 0.7212 - val_acc: 0.7756\n",
            "Epoch 29/50\n",
            "\n",
            "Epoch 00029: LearningRateScheduler setting learning rate to 0.002.\n",
            "390/390 [==============================] - 41s 100ms/step - loss: 0.5055 - acc: 0.8285 - val_loss: 0.5751 - val_acc: 0.8121\n",
            "Epoch 30/50\n",
            "\n",
            "Epoch 00030: LearningRateScheduler setting learning rate to 0.002.\n",
            "390/390 [==============================] - 42s 101ms/step - loss: 0.5012 - acc: 0.8276 - val_loss: 0.5846 - val_acc: 0.8086\n",
            "Epoch 31/50\n",
            "\n",
            "Epoch 00031: LearningRateScheduler setting learning rate to 0.0008.\n",
            "390/390 [==============================] - 41s 101ms/step - loss: 0.4408 - acc: 0.8497 - val_loss: 0.5316 - val_acc: 0.8296\n",
            "Epoch 32/50\n",
            "\n",
            "Epoch 00032: LearningRateScheduler setting learning rate to 0.0008.\n",
            "390/390 [==============================] - 40s 98ms/step - loss: 0.4246 - acc: 0.8553 - val_loss: 0.5652 - val_acc: 0.8170\n",
            "Epoch 33/50\n",
            "\n",
            "Epoch 00033: LearningRateScheduler setting learning rate to 0.0008.\n",
            "390/390 [==============================] - 41s 102ms/step - loss: 0.4145 - acc: 0.8589 - val_loss: 0.5645 - val_acc: 0.8212\n",
            "Epoch 34/50\n",
            "\n",
            "Epoch 00034: LearningRateScheduler setting learning rate to 0.0008.\n",
            "390/390 [==============================] - 40s 100ms/step - loss: 0.4103 - acc: 0.8599 - val_loss: 0.5788 - val_acc: 0.8195\n",
            "Epoch 35/50\n",
            "\n",
            "Epoch 00035: LearningRateScheduler setting learning rate to 0.0008.\n",
            "390/390 [==============================] - 41s 100ms/step - loss: 0.4069 - acc: 0.8614 - val_loss: 0.5502 - val_acc: 0.8294\n",
            "Epoch 36/50\n",
            "\n",
            "Epoch 00036: LearningRateScheduler setting learning rate to 0.0008.\n",
            "390/390 [==============================] - 41s 99ms/step - loss: 0.3991 - acc: 0.8628 - val_loss: 0.5756 - val_acc: 0.8150\n",
            "Epoch 37/50\n",
            "\n",
            "Epoch 00037: LearningRateScheduler setting learning rate to 0.0008.\n",
            "390/390 [==============================] - 41s 100ms/step - loss: 0.3905 - acc: 0.8660 - val_loss: 0.5117 - val_acc: 0.8387\n",
            "Epoch 38/50\n",
            "\n",
            "Epoch 00038: LearningRateScheduler setting learning rate to 0.0008.\n",
            "390/390 [==============================] - 40s 99ms/step - loss: 0.3942 - acc: 0.8665 - val_loss: 0.5692 - val_acc: 0.8172\n",
            "Epoch 39/50\n",
            "\n",
            "Epoch 00039: LearningRateScheduler setting learning rate to 0.0008.\n",
            "390/390 [==============================] - 40s 100ms/step - loss: 0.3920 - acc: 0.8638 - val_loss: 0.4901 - val_acc: 0.8414\n",
            "Epoch 40/50\n",
            "\n",
            "Epoch 00040: LearningRateScheduler setting learning rate to 0.0008.\n",
            "390/390 [==============================] - 40s 99ms/step - loss: 0.3885 - acc: 0.8659 - val_loss: 0.5096 - val_acc: 0.8391\n",
            "Epoch 41/50\n",
            "\n",
            "Epoch 00041: LearningRateScheduler setting learning rate to 0.0001.\n",
            "390/390 [==============================] - 40s 98ms/step - loss: 0.3529 - acc: 0.8783 - val_loss: 0.4913 - val_acc: 0.8455\n",
            "Epoch 42/50\n",
            "\n",
            "Epoch 00042: LearningRateScheduler setting learning rate to 0.0001.\n",
            "390/390 [==============================] - 41s 101ms/step - loss: 0.3521 - acc: 0.8795 - val_loss: 0.4758 - val_acc: 0.8492\n",
            "Epoch 43/50\n",
            "\n",
            "Epoch 00043: LearningRateScheduler setting learning rate to 0.0001.\n",
            "390/390 [==============================] - 41s 100ms/step - loss: 0.3474 - acc: 0.8814 - val_loss: 0.4763 - val_acc: 0.8486\n",
            "Epoch 44/50\n",
            "\n",
            "Epoch 00044: LearningRateScheduler setting learning rate to 0.0001.\n",
            "390/390 [==============================] - 41s 101ms/step - loss: 0.3366 - acc: 0.8839 - val_loss: 0.4711 - val_acc: 0.8521\n",
            "Epoch 45/50\n",
            "\n",
            "Epoch 00045: LearningRateScheduler setting learning rate to 0.0001.\n",
            "390/390 [==============================] - 42s 103ms/step - loss: 0.3387 - acc: 0.8822 - val_loss: 0.4712 - val_acc: 0.8512\n",
            "Epoch 46/50\n",
            "\n",
            "Epoch 00046: LearningRateScheduler setting learning rate to 0.0001.\n",
            "390/390 [==============================] - 41s 100ms/step - loss: 0.3397 - acc: 0.8827 - val_loss: 0.4919 - val_acc: 0.8463\n",
            "Epoch 47/50\n",
            "\n",
            "Epoch 00047: LearningRateScheduler setting learning rate to 0.0001.\n",
            "390/390 [==============================] - 42s 102ms/step - loss: 0.3401 - acc: 0.8824 - val_loss: 0.4794 - val_acc: 0.8513\n",
            "Epoch 48/50\n",
            "\n",
            "Epoch 00048: LearningRateScheduler setting learning rate to 0.0001.\n",
            "390/390 [==============================] - 41s 101ms/step - loss: 0.3353 - acc: 0.8835 - val_loss: 0.4784 - val_acc: 0.8491\n",
            "Epoch 49/50\n",
            "\n",
            "Epoch 00049: LearningRateScheduler setting learning rate to 0.0001.\n",
            "390/390 [==============================] - 41s 101ms/step - loss: 0.3334 - acc: 0.8833 - val_loss: 0.4818 - val_acc: 0.8486\n",
            "Epoch 50/50\n",
            "\n",
            "Epoch 00050: LearningRateScheduler setting learning rate to 0.0001.\n",
            "390/390 [==============================] - 42s 102ms/step - loss: 0.3367 - acc: 0.8840 - val_loss: 0.5025 - val_acc: 0.8435\n"
          ]
        }
      ]
    },
    {
      "cell_type": "markdown",
      "metadata": {
        "id": "nffU_jpdvVzj"
      },
      "source": [
        "テストデータに対する精度は約85%となりました．\n",
        "\n",
        "The accuracy for the test data was about 85%."
      ]
    },
    {
      "cell_type": "code",
      "metadata": {
        "id": "z6T4FlTRLAgQ",
        "colab": {
          "base_uri": "https://localhost:8080/",
          "height": 265
        },
        "outputId": "9b6356fd-3c53-4278-9cfb-b110607c5266"
      },
      "source": [
        "import matplotlib.pyplot as plt\n",
        "\n",
        "train_acc = history.history['acc']\n",
        "test_acc = history.history['val_acc']\n",
        "x = np.arange(len(train_acc))\n",
        "plt.plot(x, train_acc, label = 'train accuracy')\n",
        "plt.plot(x, test_acc, label = 'test accuracy')\n",
        "plt.legend() #グラフの線の説明を表示\n",
        "plt.show()\n"
      ],
      "execution_count": 31,
      "outputs": [
        {
          "output_type": "display_data",
          "data": {
            "image/png": "[encoded data removed]",
            "text/plain": [
              "<Figure size 432x288 with 1 Axes>"
            ]
          },
          "metadata": {
            "needs_background": "light"
          }
        }
      ]
    },
    {
      "cell_type": "markdown",
      "metadata": {
        "id": "KU0uOujCqGIQ"
      },
      "source": [
        "**データ増大なしの場合**\n",
        "\n",
        "ちなみに，データ増大なしだと以下のようになります．（こちらは7分以内．）\n",
        "\n",
        "Without data augmentation, the result is as follows. (This is within 7 minutes.)\n"
      ]
    },
    {
      "cell_type": "code",
      "metadata": {
        "id": "xFMdAgbbVEXE",
        "colab": {
          "base_uri": "https://localhost:8080/"
        },
        "outputId": "d1b8401a-deb1-4864-ac06-e9ee55950020"
      },
      "source": [
        "from tensorflow.keras.callbacks import LearningRateScheduler\n",
        "\n",
        "# モデルを作成\n",
        "model = CNN(input_shape=(32,32,3), class_num=10)\n",
        "\n",
        "# モデルをコンパイル \n",
        "model.compile( Adam(lr=1e-3), loss=\"categorical_crossentropy\", metrics=[\"acc\"])\n",
        "\n",
        "#schedulerの設定\n",
        "def step_decay(epoch):\n",
        "    x = 0.002\n",
        "    if epoch >= 30: x = 0.0008\n",
        "    if epoch >= 40: x = 0.0001\n",
        "    return x\n",
        "decay = LearningRateScheduler(step_decay, verbose=1)\n",
        "\n",
        "history = model.fit(x_train, y_train, batch_size=128, epochs = 50, verbose=1,validation_data=(x_test,y_test), callbacks=[decay])"
      ],
      "execution_count": 32,
      "outputs": [
        {
          "output_type": "stream",
          "name": "stderr",
          "text": [
            "/usr/local/lib/python3.7/dist-packages/keras/optimizer_v2/optimizer_v2.py:356: UserWarning: The `lr` argument is deprecated, use `learning_rate` instead.\n",
            "  \"The `lr` argument is deprecated, use `learning_rate` instead.\")\n"
          ]
        },
        {
          "output_type": "stream",
          "name": "stdout",
          "text": [
            "Epoch 1/50\n",
            "\n",
            "Epoch 00001: LearningRateScheduler setting learning rate to 0.002.\n",
            "391/391 [==============================] - 15s 36ms/step - loss: 1.5842 - acc: 0.4171 - val_loss: 1.3973 - val_acc: 0.5174\n",
            "Epoch 2/50\n",
            "\n",
            "Epoch 00002: LearningRateScheduler setting learning rate to 0.002.\n",
            "391/391 [==============================] - 13s 33ms/step - loss: 1.1185 - acc: 0.6035 - val_loss: 1.2082 - val_acc: 0.5796\n",
            "Epoch 3/50\n",
            "\n",
            "Epoch 00003: LearningRateScheduler setting learning rate to 0.002.\n",
            "391/391 [==============================] - 13s 33ms/step - loss: 0.9363 - acc: 0.6734 - val_loss: 1.0133 - val_acc: 0.6495\n",
            "Epoch 4/50\n",
            "\n",
            "Epoch 00004: LearningRateScheduler setting learning rate to 0.002.\n",
            "391/391 [==============================] - 13s 33ms/step - loss: 0.8062 - acc: 0.7211 - val_loss: 1.0293 - val_acc: 0.6580\n",
            "Epoch 5/50\n",
            "\n",
            "Epoch 00005: LearningRateScheduler setting learning rate to 0.002.\n",
            "391/391 [==============================] - 13s 33ms/step - loss: 0.7023 - acc: 0.7605 - val_loss: 0.9667 - val_acc: 0.6704\n",
            "Epoch 6/50\n",
            "\n",
            "Epoch 00006: LearningRateScheduler setting learning rate to 0.002.\n",
            "391/391 [==============================] - 13s 33ms/step - loss: 0.6286 - acc: 0.7869 - val_loss: 1.0866 - val_acc: 0.6658\n",
            "Epoch 7/50\n",
            "\n",
            "Epoch 00007: LearningRateScheduler setting learning rate to 0.002.\n",
            "391/391 [==============================] - 13s 33ms/step - loss: 0.5670 - acc: 0.8106 - val_loss: 0.9233 - val_acc: 0.7200\n",
            "Epoch 8/50\n",
            "\n",
            "Epoch 00008: LearningRateScheduler setting learning rate to 0.002.\n",
            "391/391 [==============================] - 13s 34ms/step - loss: 0.5146 - acc: 0.8251 - val_loss: 0.9645 - val_acc: 0.7009\n",
            "Epoch 9/50\n",
            "\n",
            "Epoch 00009: LearningRateScheduler setting learning rate to 0.002.\n",
            "391/391 [==============================] - 13s 33ms/step - loss: 0.4627 - acc: 0.8439 - val_loss: 1.1273 - val_acc: 0.6817\n",
            "Epoch 10/50\n",
            "\n",
            "Epoch 00010: LearningRateScheduler setting learning rate to 0.002.\n",
            "391/391 [==============================] - 13s 33ms/step - loss: 0.4114 - acc: 0.8607 - val_loss: 0.8568 - val_acc: 0.7384\n",
            "Epoch 11/50\n",
            "\n",
            "Epoch 00011: LearningRateScheduler setting learning rate to 0.002.\n",
            "391/391 [==============================] - 13s 33ms/step - loss: 0.3721 - acc: 0.8735 - val_loss: 0.7533 - val_acc: 0.7677\n",
            "Epoch 12/50\n",
            "\n",
            "Epoch 00012: LearningRateScheduler setting learning rate to 0.002.\n",
            "391/391 [==============================] - 13s 34ms/step - loss: 0.3307 - acc: 0.8895 - val_loss: 0.8009 - val_acc: 0.7753\n",
            "Epoch 13/50\n",
            "\n",
            "Epoch 00013: LearningRateScheduler setting learning rate to 0.002.\n",
            "391/391 [==============================] - 13s 34ms/step - loss: 0.2949 - acc: 0.8990 - val_loss: 0.9349 - val_acc: 0.7438\n",
            "Epoch 14/50\n",
            "\n",
            "Epoch 00014: LearningRateScheduler setting learning rate to 0.002.\n",
            "391/391 [==============================] - 13s 34ms/step - loss: 0.2650 - acc: 0.9111 - val_loss: 0.8651 - val_acc: 0.7696\n",
            "Epoch 15/50\n",
            "\n",
            "Epoch 00015: LearningRateScheduler setting learning rate to 0.002.\n",
            "391/391 [==============================] - 13s 34ms/step - loss: 0.2345 - acc: 0.9208 - val_loss: 1.0159 - val_acc: 0.7460\n",
            "Epoch 16/50\n",
            "\n",
            "Epoch 00016: LearningRateScheduler setting learning rate to 0.002.\n",
            "391/391 [==============================] - 13s 33ms/step - loss: 0.2116 - acc: 0.9289 - val_loss: 0.9368 - val_acc: 0.7587\n",
            "Epoch 17/50\n",
            "\n",
            "Epoch 00017: LearningRateScheduler setting learning rate to 0.002.\n",
            "391/391 [==============================] - 13s 33ms/step - loss: 0.1842 - acc: 0.9383 - val_loss: 1.2289 - val_acc: 0.7334\n",
            "Epoch 18/50\n",
            "\n",
            "Epoch 00018: LearningRateScheduler setting learning rate to 0.002.\n",
            "391/391 [==============================] - 13s 33ms/step - loss: 0.1704 - acc: 0.9428 - val_loss: 0.9735 - val_acc: 0.7646\n",
            "Epoch 19/50\n",
            "\n",
            "Epoch 00019: LearningRateScheduler setting learning rate to 0.002.\n",
            "391/391 [==============================] - 13s 33ms/step - loss: 0.1533 - acc: 0.9485 - val_loss: 1.4180 - val_acc: 0.7173\n",
            "Epoch 20/50\n",
            "\n",
            "Epoch 00020: LearningRateScheduler setting learning rate to 0.002.\n",
            "391/391 [==============================] - 13s 33ms/step - loss: 0.1369 - acc: 0.9540 - val_loss: 0.9747 - val_acc: 0.7842\n",
            "Epoch 21/50\n",
            "\n",
            "Epoch 00021: LearningRateScheduler setting learning rate to 0.002.\n",
            "391/391 [==============================] - 13s 34ms/step - loss: 0.1185 - acc: 0.9608 - val_loss: 1.1906 - val_acc: 0.7698\n",
            "Epoch 22/50\n",
            "\n",
            "Epoch 00022: LearningRateScheduler setting learning rate to 0.002.\n",
            "391/391 [==============================] - 13s 33ms/step - loss: 0.1203 - acc: 0.9597 - val_loss: 1.4206 - val_acc: 0.7361\n",
            "Epoch 23/50\n",
            "\n",
            "Epoch 00023: LearningRateScheduler setting learning rate to 0.002.\n",
            "391/391 [==============================] - 13s 33ms/step - loss: 0.1128 - acc: 0.9631 - val_loss: 1.2544 - val_acc: 0.7603\n",
            "Epoch 24/50\n",
            "\n",
            "Epoch 00024: LearningRateScheduler setting learning rate to 0.002.\n",
            "391/391 [==============================] - 13s 33ms/step - loss: 0.0999 - acc: 0.9666 - val_loss: 1.1387 - val_acc: 0.7686\n",
            "Epoch 25/50\n",
            "\n",
            "Epoch 00025: LearningRateScheduler setting learning rate to 0.002.\n",
            "391/391 [==============================] - 13s 33ms/step - loss: 0.0944 - acc: 0.9700 - val_loss: 1.2782 - val_acc: 0.7661\n",
            "Epoch 26/50\n",
            "\n",
            "Epoch 00026: LearningRateScheduler setting learning rate to 0.002.\n",
            "391/391 [==============================] - 13s 33ms/step - loss: 0.0913 - acc: 0.9701 - val_loss: 1.4969 - val_acc: 0.7479\n",
            "Epoch 27/50\n",
            "\n",
            "Epoch 00027: LearningRateScheduler setting learning rate to 0.002.\n",
            "391/391 [==============================] - 13s 33ms/step - loss: 0.0888 - acc: 0.9702 - val_loss: 1.1646 - val_acc: 0.7743\n",
            "Epoch 28/50\n",
            "\n",
            "Epoch 00028: LearningRateScheduler setting learning rate to 0.002.\n",
            "391/391 [==============================] - 13s 33ms/step - loss: 0.0781 - acc: 0.9749 - val_loss: 1.1732 - val_acc: 0.7764\n",
            "Epoch 29/50\n",
            "\n",
            "Epoch 00029: LearningRateScheduler setting learning rate to 0.002.\n",
            "391/391 [==============================] - 13s 33ms/step - loss: 0.0753 - acc: 0.9756 - val_loss: 1.3550 - val_acc: 0.7523\n",
            "Epoch 30/50\n",
            "\n",
            "Epoch 00030: LearningRateScheduler setting learning rate to 0.002.\n",
            "391/391 [==============================] - 13s 33ms/step - loss: 0.0746 - acc: 0.9751 - val_loss: 1.1436 - val_acc: 0.7846\n",
            "Epoch 31/50\n",
            "\n",
            "Epoch 00031: LearningRateScheduler setting learning rate to 0.0008.\n",
            "391/391 [==============================] - 13s 33ms/step - loss: 0.0212 - acc: 0.9933 - val_loss: 1.3244 - val_acc: 0.8042\n",
            "Epoch 32/50\n",
            "\n",
            "Epoch 00032: LearningRateScheduler setting learning rate to 0.0008.\n",
            "391/391 [==============================] - 13s 33ms/step - loss: 0.0077 - acc: 0.9976 - val_loss: 1.5132 - val_acc: 0.7971\n",
            "Epoch 33/50\n",
            "\n",
            "Epoch 00033: LearningRateScheduler setting learning rate to 0.0008.\n",
            "391/391 [==============================] - 13s 33ms/step - loss: 0.0077 - acc: 0.9978 - val_loss: 1.6817 - val_acc: 0.7909\n",
            "Epoch 34/50\n",
            "\n",
            "Epoch 00034: LearningRateScheduler setting learning rate to 0.0008.\n",
            "391/391 [==============================] - 13s 34ms/step - loss: 0.0151 - acc: 0.9953 - val_loss: 1.6415 - val_acc: 0.7739\n",
            "Epoch 35/50\n",
            "\n",
            "Epoch 00035: LearningRateScheduler setting learning rate to 0.0008.\n",
            "391/391 [==============================] - 13s 33ms/step - loss: 0.0163 - acc: 0.9947 - val_loss: 1.5696 - val_acc: 0.7910\n",
            "Epoch 36/50\n",
            "\n",
            "Epoch 00036: LearningRateScheduler setting learning rate to 0.0008.\n",
            "391/391 [==============================] - 13s 33ms/step - loss: 0.0135 - acc: 0.9959 - val_loss: 1.5539 - val_acc: 0.7899\n",
            "Epoch 37/50\n",
            "\n",
            "Epoch 00037: LearningRateScheduler setting learning rate to 0.0008.\n",
            "391/391 [==============================] - 13s 33ms/step - loss: 0.0161 - acc: 0.9947 - val_loss: 1.5055 - val_acc: 0.7934\n",
            "Epoch 38/50\n",
            "\n",
            "Epoch 00038: LearningRateScheduler setting learning rate to 0.0008.\n",
            "391/391 [==============================] - 13s 33ms/step - loss: 0.0145 - acc: 0.9957 - val_loss: 1.5685 - val_acc: 0.7941\n",
            "Epoch 39/50\n",
            "\n",
            "Epoch 00039: LearningRateScheduler setting learning rate to 0.0008.\n",
            "391/391 [==============================] - 13s 33ms/step - loss: 0.0134 - acc: 0.9960 - val_loss: 1.5795 - val_acc: 0.7932\n",
            "Epoch 40/50\n",
            "\n",
            "Epoch 00040: LearningRateScheduler setting learning rate to 0.0008.\n",
            "391/391 [==============================] - 13s 34ms/step - loss: 0.0132 - acc: 0.9956 - val_loss: 1.6435 - val_acc: 0.7861\n",
            "Epoch 41/50\n",
            "\n",
            "Epoch 00041: LearningRateScheduler setting learning rate to 0.0001.\n",
            "391/391 [==============================] - 13s 34ms/step - loss: 0.0057 - acc: 0.9984 - val_loss: 1.5359 - val_acc: 0.8028\n",
            "Epoch 42/50\n",
            "\n",
            "Epoch 00042: LearningRateScheduler setting learning rate to 0.0001.\n",
            "391/391 [==============================] - 13s 33ms/step - loss: 0.0017 - acc: 0.9996 - val_loss: 1.5586 - val_acc: 0.8042\n",
            "Epoch 43/50\n",
            "\n",
            "Epoch 00043: LearningRateScheduler setting learning rate to 0.0001.\n",
            "391/391 [==============================] - 13s 33ms/step - loss: 0.0011 - acc: 0.9998 - val_loss: 1.5884 - val_acc: 0.8051\n",
            "Epoch 44/50\n",
            "\n",
            "Epoch 00044: LearningRateScheduler setting learning rate to 0.0001.\n",
            "391/391 [==============================] - 13s 34ms/step - loss: 7.1537e-04 - acc: 0.9999 - val_loss: 1.6394 - val_acc: 0.8050\n",
            "Epoch 45/50\n",
            "\n",
            "Epoch 00045: LearningRateScheduler setting learning rate to 0.0001.\n",
            "391/391 [==============================] - 13s 34ms/step - loss: 7.3955e-04 - acc: 0.9998 - val_loss: 1.6642 - val_acc: 0.8047\n",
            "Epoch 46/50\n",
            "\n",
            "Epoch 00046: LearningRateScheduler setting learning rate to 0.0001.\n",
            "391/391 [==============================] - 13s 34ms/step - loss: 5.4627e-04 - acc: 0.9999 - val_loss: 1.6962 - val_acc: 0.8062\n",
            "Epoch 47/50\n",
            "\n",
            "Epoch 00047: LearningRateScheduler setting learning rate to 0.0001.\n",
            "391/391 [==============================] - 13s 33ms/step - loss: 3.6017e-04 - acc: 1.0000 - val_loss: 1.7165 - val_acc: 0.8063\n",
            "Epoch 48/50\n",
            "\n",
            "Epoch 00048: LearningRateScheduler setting learning rate to 0.0001.\n",
            "391/391 [==============================] - 13s 33ms/step - loss: 5.1227e-04 - acc: 0.9999 - val_loss: 1.7633 - val_acc: 0.8068\n",
            "Epoch 49/50\n",
            "\n",
            "Epoch 00049: LearningRateScheduler setting learning rate to 0.0001.\n",
            "391/391 [==============================] - 13s 33ms/step - loss: 3.2893e-04 - acc: 0.9999 - val_loss: 1.7783 - val_acc: 0.8075\n",
            "Epoch 50/50\n",
            "\n",
            "Epoch 00050: LearningRateScheduler setting learning rate to 0.0001.\n",
            "391/391 [==============================] - 13s 33ms/step - loss: 2.7230e-04 - acc: 1.0000 - val_loss: 1.8103 - val_acc: 0.8095\n"
          ]
        }
      ]
    },
    {
      "cell_type": "markdown",
      "metadata": {
        "id": "FYNa0PcQvgFC"
      },
      "source": [
        "テストデータに対する精度は81%となりました．\n",
        "\n",
        "The accuracy for the test data was 81%."
      ]
    },
    {
      "cell_type": "code",
      "metadata": {
        "id": "sUgE_L1_qRHV",
        "colab": {
          "base_uri": "https://localhost:8080/",
          "height": 282
        },
        "outputId": "404374f5-24f2-4769-af48-ec146310e59c"
      },
      "source": [
        "import matplotlib.pyplot as plt\n",
        "\n",
        "train_acc = history.history['acc']\n",
        "test_acc = history.history['val_acc']\n",
        "x = np.arange(len(train_acc))\n",
        "plt.plot(x, train_acc, label = 'train accuracy')\n",
        "plt.plot(x, test_acc, label = 'test accuracy')\n",
        "plt.legend() #グラフの線の説明を表示"
      ],
      "execution_count": 33,
      "outputs": [
        {
          "output_type": "execute_result",
          "data": {
            "text/plain": [
              "<matplotlib.legend.Legend at 0x7f0499b98fd0>"
            ]
          },
          "metadata": {},
          "execution_count": 33
        },
        {
          "output_type": "display_data",
          "data": {
            "image/png": "[encoded data removed]",
            "text/plain": [
              "<Figure size 432x288 with 1 Axes>"
            ]
          },
          "metadata": {
            "needs_background": "light"
          }
        }
      ]
    },
    {
      "cell_type": "markdown",
      "metadata": {
        "id": "2b2rhpwSVkW0"
      },
      "source": [
        "訓練データに対する精度はこちらの方が上がりますが，汎化能力の向上の限界が早めに来ることが分かるかと思います．\n",
        "\n",
        "The accuracy on the training data is better, but you can see that the limit of the improvement in generalization ability comes earlier."
      ]
    },
    {
      "cell_type": "code",
      "metadata": {
        "id": "DBYa67zzF28e",
        "colab": {
          "base_uri": "https://localhost:8080/"
        },
        "outputId": "f20a0ec3-17cf-4326-9670-15fe9a9eb505"
      },
      "source": [
        "x_train.shape"
      ],
      "execution_count": 34,
      "outputs": [
        {
          "output_type": "execute_result",
          "data": {
            "text/plain": [
              "(50000, 32, 32, 3)"
            ]
          },
          "metadata": {},
          "execution_count": 34
        }
      ]
    },
    {
      "cell_type": "markdown",
      "metadata": {
        "id": "6C7G-TAmg7Ol"
      },
      "source": [
        "##PyTorchによる実装 Implementation by PyTorch"
      ]
    },
    {
      "cell_type": "code",
      "metadata": {
        "id": "XsRUluROCs4A"
      },
      "source": [
        "import datetime\n",
        "import numpy as np\n",
        "import torch\n",
        "import torch.nn as nn\n",
        "import torch.nn.functional as F\n",
        "import torch.optim as optim\n",
        "from torchvision import datasets, transforms\n",
        "from torch.autograd import Variable\n",
        " \n",
        "# 畳み込みニューラルネットワークでMNIST画像分類\n",
        " \n",
        "# モデルクラス定義\n",
        " \n",
        "class CNN(nn.Module):\n",
        "    def __init__(self):\n",
        "        # クラスの初期化\n",
        "        super(CNN, self).__init__()\n",
        "        # 画像を畳み込みを行うまで\n",
        "        self.head = nn.Sequential(\n",
        "            nn.Conv2d(in_channels=3, out_channels=16, kernel_size=(3, 3), stride=1, padding=1),\n",
        "            nn.Conv2d(in_channels=16, out_channels=16, kernel_size=(3, 3), stride=1, padding=1),\n",
        "            nn.ReLU(),\n",
        "            nn.MaxPool2d(kernel_size=2),\n",
        "            nn.Conv2d(in_channels=16, out_channels=32, kernel_size=(3, 3), stride=1, padding=1),\n",
        "            nn.Conv2d(in_channels=32, out_channels=32, kernel_size=(3, 3), stride=1, padding=1),\n",
        "            nn.ReLU(),\n",
        "            nn.MaxPool2d(kernel_size=2)\n",
        "        )\n",
        "        # 畳み込みで得られたベクトルを出力層に順伝播させるまで\n",
        "        self.tail = nn.Sequential(\n",
        "            nn.Linear(2048, 50),\n",
        "            nn.ReLU(),\n",
        "            nn.Linear(50, 50),\n",
        "            nn.ReLU(),\n",
        "            nn.Linear(50, 10)\n",
        "        )\n",
        " \n",
        "    def __call__(self, x):\n",
        "        # 順伝播を計算する関数\n",
        "        # :param x: 入力値\n",
        "        h = self.head(x)\n",
        "        h = h.view(-1, 2048)\n",
        "        h = self.tail(h)\n",
        "        y = F.log_softmax(h)\n",
        "        return y\n",
        " \n",
        " "
      ],
      "execution_count": 35,
      "outputs": []
    },
    {
      "cell_type": "markdown",
      "metadata": {
        "id": "Ko4Ci9lpigYl"
      },
      "source": [
        "PyTorchではデータをミニバッチにして生成するための DataLoaderというクラスのインスタンスを用意する必要があります．\n",
        "\n",
        "PyTorch requires an instance of a class called DataLoader to generate mini-batches of data."
      ]
    },
    {
      "cell_type": "code",
      "metadata": {
        "id": "Xrwbm91FK4Zo",
        "colab": {
          "base_uri": "https://localhost:8080/",
          "height": 390,
          "referenced_widgets": [
            "894c7acdf57a418ab8de2d89329a5f59",
            "af7c0a5b201b4754bdfa32ef8e39a1b1",
            "971742d666c74a42b4bf6c497f686723",
            "467be4329f3b4601b875a343115404b5",
            "ff5cce16372f4d23aab9ba117c1a8f63",
            "2a7a111d55414f9188f3632185e1da7e",
            "54ffc0a1ed7f4287a2c4c49b9388cdc7",
            "abc21a0ad5b740839f4a8df6edcdf5ad",
            "b8b0ea8f1f76431c9a2d2af3fb1cefd9",
            "b343948f076a4c57a0d6b77ec29cdc1e",
            "d9c68e59cbaf42d097f72274993805e9",
            "b535213b400d49a8b67bc7c16b7e445c",
            "f6464166efea4acd8e6bd7340f18d411",
            "7b6769b80f54496abe463c55ba364c15",
            "86965a2c48554bb1990126727b3dbe59",
            "0bfffa1fe1714c2298dbf506a7f8aef1",
            "e1f121994f414c1e94610e9bda077d18",
            "142a266c6d7d439cb22382ce27a351e0",
            "ddd3edc6d6484de4b916990f71ee7851",
            "ed006a5531bb4a23ae3434ff9c4c7756",
            "17aac7422ba64a22a0432bb294025ce9",
            "9d4318bedfa94fb3ae244976b5cba5aa"
          ]
        },
        "outputId": "52e3cb6b-5dd0-4982-ed91-5bcff705740b"
      },
      "source": [
        "\n",
        "# 学習\n",
        " \n",
        "EPOCH_NUM = 10\n",
        "BATCH_SIZE = 100\n",
        " \n",
        " \n",
        "# データのダウンロードとDataLoderの生成\n",
        "transform_train = transforms.Compose([transforms.RandomHorizontalFlip(p=0.1),\n",
        "                                      transforms.RandomRotation(degrees=10),\n",
        "                                      transforms.ToTensor(),\n",
        "                                      transforms.RandomErasing(p=0.5, scale=(0.02, 0.1), \n",
        "                                                               ratio=(0.3, 3.3), value=0, inplace=False),\n",
        "                                      transforms.Normalize((0.5, 0.5, 0.5), (0.5, 0.5, 0.5))])\n",
        "transform_test = transforms.Compose([transforms.ToTensor(),\n",
        "                                     transforms.Normalize((0.5, 0.5, 0.5), (0.5, 0.5, 0.5))])\n",
        "#train = torch.utils.data.Dataset(torch.from_numpy(train_x), torch.from_numpy(train_t))\n",
        "train = datasets.CIFAR10('/content/', train=True, \n",
        "                         transform=transform_train, download=True)\n",
        "train_loader = torch.utils.data.DataLoader(train, batch_size=BATCH_SIZE, shuffle=True)\n",
        "test = datasets.CIFAR10(root='./data', train=False,download=True, \n",
        "                        transform=transform_test)\n",
        "test_loader = torch.utils.data.DataLoader(test, batch_size=BATCH_SIZE, shuffle=True)\n",
        " \n",
        "device = torch.device(\"cuda\")\n",
        "\n",
        "# モデルの定義\n",
        "model = CNN().to(device)\n",
        "criterion = nn.CrossEntropyLoss()\n",
        "optimizer = torch.optim.Adam(model.parameters())\n",
        "# 学習開始\n",
        "st = datetime.datetime.now()\n",
        "for epoch in range(EPOCH_NUM):\n",
        "    # ミニバッチ学習\n",
        "    total_loss = 0\n",
        "    for i, (x,t) in enumerate(train_loader):\n",
        "        x, t = x.to(device, dtype=torch.float), t.to(device, dtype=torch.long)\n",
        "        optimizer.zero_grad()\n",
        "        y = model(x)\n",
        "        loss = criterion(y, t)\n",
        "        total_loss += loss.data\n",
        "        loss.backward()\n",
        "        optimizer.step()\n",
        "    if (epoch+1) % 1 == 0:\n",
        "        ed = datetime.datetime.now()\n",
        "        correct = 0\n",
        "        for i, (x,t) in enumerate (test_loader):\n",
        "          x, t = x.to(device, dtype=torch.float), t.to(device, dtype=torch.long)\n",
        "          y = model(x)\n",
        "          correct += (y.argmax(axis=1) == t).float().sum()\n",
        "\n",
        "        accuracy = correct / len(t)\n",
        "\n",
        "        print(\"epoch:\\t{}\\ttotal loss:\\t{}\\ttime:\\t{}\".format(epoch+1, total_loss, ed-st), \n",
        "              \"test_ccuracy = {}\".format(accuracy))\n",
        "        st = datetime.datetime.now()"
      ],
      "execution_count": 36,
      "outputs": [
        {
          "output_type": "stream",
          "name": "stdout",
          "text": [
            "Downloading https://www.cs.toronto.edu/~kriz/cifar-10-python.tar.gz to /content/cifar-10-python.tar.gz\n"
          ]
        },
        {
          "output_type": "display_data",
          "data": {
            "application/vnd.jupyter.widget-view+json": {
              "model_id": "894c7acdf57a418ab8de2d89329a5f59",
              "version_minor": 0,
              "version_major": 2
            },
            "text/plain": [
              "  0%|          | 0/170498071 [00:00<?, ?it/s]"
            ]
          },
          "metadata": {}
        },
        {
          "output_type": "stream",
          "name": "stdout",
          "text": [
            "Extracting /content/cifar-10-python.tar.gz to /content/\n",
            "Downloading https://www.cs.toronto.edu/~kriz/cifar-10-python.tar.gz to ./data/cifar-10-python.tar.gz\n"
          ]
        },
        {
          "output_type": "display_data",
          "data": {
            "application/vnd.jupyter.widget-view+json": {
              "model_id": "b535213b400d49a8b67bc7c16b7e445c",
              "version_minor": 0,
              "version_major": 2
            },
            "text/plain": [
              "  0%|          | 0/170498071 [00:00<?, ?it/s]"
            ]
          },
          "metadata": {}
        },
        {
          "output_type": "stream",
          "name": "stdout",
          "text": [
            "Extracting ./data/cifar-10-python.tar.gz to ./data\n"
          ]
        },
        {
          "output_type": "stream",
          "name": "stderr",
          "text": [
            "/usr/local/lib/python3.7/dist-packages/torch/nn/functional.py:718: UserWarning: Named tensors and all their associated APIs are an experimental feature and subject to change. Please do not use them for anything important until they are released as stable. (Triggered internally at  /pytorch/c10/core/TensorImpl.h:1156.)\n",
            "  return torch.max_pool2d(input, kernel_size, stride, padding, dilation, ceil_mode)\n",
            "/usr/local/lib/python3.7/dist-packages/ipykernel_launcher.py:44: UserWarning: Implicit dimension choice for log_softmax has been deprecated. Change the call to include dim=X as an argument.\n"
          ]
        },
        {
          "output_type": "stream",
          "name": "stdout",
          "text": [
            "epoch:\t1\ttotal loss:\t847.4666748046875\ttime:\t0:00:33.087289 test_ccuracy = 49.20000076293945\n",
            "epoch:\t2\ttotal loss:\t665.1822509765625\ttime:\t0:00:33.162980 test_ccuracy = 58.27000045776367\n",
            "epoch:\t3\ttotal loss:\t577.2032470703125\ttime:\t0:00:32.851107 test_ccuracy = 63.52000045776367\n",
            "epoch:\t4\ttotal loss:\t527.0576782226562\ttime:\t0:00:32.737777 test_ccuracy = 66.20999908447266\n",
            "epoch:\t5\ttotal loss:\t492.7456970214844\ttime:\t0:00:32.642222 test_ccuracy = 66.79999542236328\n",
            "epoch:\t6\ttotal loss:\t469.4662170410156\ttime:\t0:00:32.240104 test_ccuracy = 69.68999481201172\n",
            "epoch:\t7\ttotal loss:\t446.671875\ttime:\t0:00:32.612146 test_ccuracy = 69.43000030517578\n",
            "epoch:\t8\ttotal loss:\t432.7074279785156\ttime:\t0:00:33.184532 test_ccuracy = 70.83999633789062\n",
            "epoch:\t9\ttotal loss:\t418.6085205078125\ttime:\t0:00:32.665226 test_ccuracy = 71.97999572753906\n",
            "epoch:\t10\ttotal loss:\t408.4043884277344\ttime:\t0:00:32.660981 test_ccuracy = 71.88999938964844\n"
          ]
        }
      ]
    }
  ]
}