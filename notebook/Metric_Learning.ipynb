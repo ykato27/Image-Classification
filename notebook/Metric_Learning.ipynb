{
 "nbformat": 4,
 "nbformat_minor": 0,
 "metadata": {
  "colab": {
   "name": "Metric-Learning.ipynb",
   "provenance": [],
   "authorship_tag": "ABX9TyP5KLZ3n/kPdMpjrG14RYbN",
   "include_colab_link": true
  },
  "kernelspec": {
   "name": "python3",
   "display_name": "Python 3"
  },
  "language_info": {
   "name": "python"
  },
  "accelerator": "GPU",
  "widgets": {
   "application/vnd.jupyter.widget-state+json": {
    "a3a30993f5d540fd870fc18b8b062f0a": {
     "model_module": "@jupyter-widgets/controls",
     "model_name": "HBoxModel",
     "state": {
      "_view_name": "HBoxView",
      "_dom_classes": [],
      "_model_name": "HBoxModel",
      "_view_module": "@jupyter-widgets/controls",
      "_model_module_version": "1.5.0",
      "_view_count": null,
      "_view_module_version": "1.5.0",
      "box_style": "",
      "layout": "IPY_MODEL_73ddfa5e02c64c44ba6fd9427532fa67",
      "_model_module": "@jupyter-widgets/controls",
      "children": [
       "IPY_MODEL_30c2d5631ffd40e0bc9f75b283574782",
       "IPY_MODEL_4a2ecbf45d18454c9f86ed9d301f30b6"
      ]
     }
    },
    "73ddfa5e02c64c44ba6fd9427532fa67": {
     "model_module": "@jupyter-widgets/base",
     "model_name": "LayoutModel",
     "state": {
      "_view_name": "LayoutView",
      "grid_template_rows": null,
      "right": null,
      "justify_content": null,
      "_view_module": "@jupyter-widgets/base",
      "overflow": null,
      "_model_module_version": "1.2.0",
      "_view_count": null,
      "flex_flow": null,
      "width": null,
      "min_width": null,
      "border": null,
      "align_items": null,
      "bottom": null,
      "_model_module": "@jupyter-widgets/base",
      "top": null,
      "grid_column": null,
      "overflow_y": null,
      "overflow_x": null,
      "grid_auto_flow": null,
      "grid_area": null,
      "grid_template_columns": null,
      "flex": null,
      "_model_name": "LayoutModel",
      "justify_items": null,
      "grid_row": null,
      "max_height": null,
      "align_content": null,
      "visibility": null,
      "align_self": null,
      "height": null,
      "min_height": null,
      "padding": null,
      "grid_auto_rows": null,
      "grid_gap": null,
      "max_width": null,
      "order": null,
      "_view_module_version": "1.2.0",
      "grid_template_areas": null,
      "object_position": null,
      "object_fit": null,
      "grid_auto_columns": null,
      "margin": null,
      "display": null,
      "left": null
     }
    },
    "30c2d5631ffd40e0bc9f75b283574782": {
     "model_module": "@jupyter-widgets/controls",
     "model_name": "FloatProgressModel",
     "state": {
      "_view_name": "ProgressView",
      "style": "IPY_MODEL_3d77a51b31574d78b664b0155c9bea35",
      "_dom_classes": [],
      "description": "",
      "_model_name": "FloatProgressModel",
      "bar_style": "success",
      "max": 170498071,
      "_view_module": "@jupyter-widgets/controls",
      "_model_module_version": "1.5.0",
      "value": 170498071,
      "_view_count": null,
      "_view_module_version": "1.5.0",
      "orientation": "horizontal",
      "min": 0,
      "description_tooltip": null,
      "_model_module": "@jupyter-widgets/controls",
      "layout": "IPY_MODEL_3e9a5df7254b4f50b01aa367145ad0f9"
     }
    },
    "4a2ecbf45d18454c9f86ed9d301f30b6": {
     "model_module": "@jupyter-widgets/controls",
     "model_name": "HTMLModel",
     "state": {
      "_view_name": "HTMLView",
      "style": "IPY_MODEL_364692ccca5844e79515e1c28ddd2600",
      "_dom_classes": [],
      "description": "",
      "_model_name": "HTMLModel",
      "placeholder": "​",
      "_view_module": "@jupyter-widgets/controls",
      "_model_module_version": "1.5.0",
      "value": " 170499072/? [00:07&lt;00:00, 22558175.72it/s]",
      "_view_count": null,
      "_view_module_version": "1.5.0",
      "description_tooltip": null,
      "_model_module": "@jupyter-widgets/controls",
      "layout": "IPY_MODEL_da5b47b2e8884730be51e288f0a100d8"
     }
    },
    "3d77a51b31574d78b664b0155c9bea35": {
     "model_module": "@jupyter-widgets/controls",
     "model_name": "ProgressStyleModel",
     "state": {
      "_view_name": "StyleView",
      "_model_name": "ProgressStyleModel",
      "description_width": "initial",
      "_view_module": "@jupyter-widgets/base",
      "_model_module_version": "1.5.0",
      "_view_count": null,
      "_view_module_version": "1.2.0",
      "bar_color": null,
      "_model_module": "@jupyter-widgets/controls"
     }
    },
    "3e9a5df7254b4f50b01aa367145ad0f9": {
     "model_module": "@jupyter-widgets/base",
     "model_name": "LayoutModel",
     "state": {
      "_view_name": "LayoutView",
      "grid_template_rows": null,
      "right": null,
      "justify_content": null,
      "_view_module": "@jupyter-widgets/base",
      "overflow": null,
      "_model_module_version": "1.2.0",
      "_view_count": null,
      "flex_flow": null,
      "width": null,
      "min_width": null,
      "border": null,
      "align_items": null,
      "bottom": null,
      "_model_module": "@jupyter-widgets/base",
      "top": null,
      "grid_column": null,
      "overflow_y": null,
      "overflow_x": null,
      "grid_auto_flow": null,
      "grid_area": null,
      "grid_template_columns": null,
      "flex": null,
      "_model_name": "LayoutModel",
      "justify_items": null,
      "grid_row": null,
      "max_height": null,
      "align_content": null,
      "visibility": null,
      "align_self": null,
      "height": null,
      "min_height": null,
      "padding": null,
      "grid_auto_rows": null,
      "grid_gap": null,
      "max_width": null,
      "order": null,
      "_view_module_version": "1.2.0",
      "grid_template_areas": null,
      "object_position": null,
      "object_fit": null,
      "grid_auto_columns": null,
      "margin": null,
      "display": null,
      "left": null
     }
    },
    "364692ccca5844e79515e1c28ddd2600": {
     "model_module": "@jupyter-widgets/controls",
     "model_name": "DescriptionStyleModel",
     "state": {
      "_view_name": "StyleView",
      "_model_name": "DescriptionStyleModel",
      "description_width": "",
      "_view_module": "@jupyter-widgets/base",
      "_model_module_version": "1.5.0",
      "_view_count": null,
      "_view_module_version": "1.2.0",
      "_model_module": "@jupyter-widgets/controls"
     }
    },
    "da5b47b2e8884730be51e288f0a100d8": {
     "model_module": "@jupyter-widgets/base",
     "model_name": "LayoutModel",
     "state": {
      "_view_name": "LayoutView",
      "grid_template_rows": null,
      "right": null,
      "justify_content": null,
      "_view_module": "@jupyter-widgets/base",
      "overflow": null,
      "_model_module_version": "1.2.0",
      "_view_count": null,
      "flex_flow": null,
      "width": null,
      "min_width": null,
      "border": null,
      "align_items": null,
      "bottom": null,
      "_model_module": "@jupyter-widgets/base",
      "top": null,
      "grid_column": null,
      "overflow_y": null,
      "overflow_x": null,
      "grid_auto_flow": null,
      "grid_area": null,
      "grid_template_columns": null,
      "flex": null,
      "_model_name": "LayoutModel",
      "justify_items": null,
      "grid_row": null,
      "max_height": null,
      "align_content": null,
      "visibility": null,
      "align_self": null,
      "height": null,
      "min_height": null,
      "padding": null,
      "grid_auto_rows": null,
      "grid_gap": null,
      "max_width": null,
      "order": null,
      "_view_module_version": "1.2.0",
      "grid_template_areas": null,
      "object_position": null,
      "object_fit": null,
      "grid_auto_columns": null,
      "margin": null,
      "display": null,
      "left": null
     }
    }
   }
  }
 },
 "cells": [
  {
   "cell_type": "markdown",
   "metadata": {
    "id": "view-in-github",
    "colab_type": "text"
   },
   "source": [
    "<a href=\"https://colab.research.google.com/github/ykato27/Image-Classification/blob/main/Metric_Learning.ipynb\" target=\"_parent\"><img src=\"https://colab.research.google.com/assets/colab-badge.svg\" alt=\"Open In Colab\"/></a>"
   ]
  },
  {
   "cell_type": "markdown",
   "metadata": {
    "id": "WtPpVX4vS2lI"
   },
   "source": [
    "Cifar10のデータ・セットを取得"
   ]
  },
  {
   "cell_type": "code",
   "metadata": {
    "colab": {
     "base_uri": "https://localhost:8080/",
     "height": 134,
     "referenced_widgets": [
      "a3a30993f5d540fd870fc18b8b062f0a",
      "73ddfa5e02c64c44ba6fd9427532fa67",
      "30c2d5631ffd40e0bc9f75b283574782",
      "4a2ecbf45d18454c9f86ed9d301f30b6",
      "3d77a51b31574d78b664b0155c9bea35",
      "3e9a5df7254b4f50b01aa367145ad0f9",
      "364692ccca5844e79515e1c28ddd2600",
      "da5b47b2e8884730be51e288f0a100d8"
     ]
    },
    "id": "vfYCWquTSZVM",
    "outputId": "379879fa-b23d-48a7-9404-643dedfed31c"
   },
   "source": [
    "from PIL import Image\n",
    "import torch\n",
    "import torchvision\n",
    "import torchvision.transforms as transforms\n",
    "\n",
    "\n",
    "transform = transforms.Compose(\n",
    "    [\n",
    "        transforms.ToTensor(),\n",
    "        transforms.Normalize((0.5, 0.5, 0.5), (0.5, 0.5, 0.5)),\n",
    "    ]\n",
    ")\n",
    "\n",
    "trainset = torchvision.datasets.CIFAR10(\n",
    "    root=\"./data\", train=True, download=True, transform=transform\n",
    ")\n",
    "\n",
    "testset = torchvision.datasets.CIFAR10(\n",
    "    root=\"./data\", train=False, download=True, transform=transform\n",
    ")\n",
    "\n",
    "dataset_size = trainset.data.shape[0]\n",
    "dataset_size"
   ],
   "execution_count": 1,
   "outputs": [
    {
     "output_type": "stream",
     "text": [
      "Downloading https://www.cs.toronto.edu/~kriz/cifar-10-python.tar.gz to ./data/cifar-10-python.tar.gz\n"
     ],
     "name": "stdout"
    },
    {
     "output_type": "display_data",
     "data": {
      "application/vnd.jupyter.widget-view+json": {
       "model_id": "a3a30993f5d540fd870fc18b8b062f0a",
       "version_minor": 0,
       "version_major": 2
      },
      "text/plain": [
       "HBox(children=(FloatProgress(value=0.0, max=170498071.0), HTML(value='')))"
      ]
     },
     "metadata": {
      "tags": []
     }
    },
    {
     "output_type": "stream",
     "text": [
      "\n",
      "Extracting ./data/cifar-10-python.tar.gz to ./data\n",
      "Files already downloaded and verified\n"
     ],
     "name": "stdout"
    },
    {
     "output_type": "execute_result",
     "data": {
      "text/plain": [
       "50000"
      ]
     },
     "metadata": {
      "tags": []
     },
     "execution_count": 1
    }
   ]
  },
  {
   "cell_type": "markdown",
   "metadata": {
    "id": "mdgs-tj6TNlM"
   },
   "source": [
    "- ラベルごとにデータを分けて保存するための処理を記述\n",
    "- 同一ラベルと異なるラベルで学習するための準備"
   ]
  },
  {
   "cell_type": "code",
   "metadata": {
    "id": "VHTMk68-S4pt"
   },
   "source": [
    "from collections import defaultdict\n",
    "\n",
    "\n",
    "train_data_set = defaultdict(list)\n",
    "\n",
    "for index, label in enumerate(trainset.targets):\n",
    "    train_data_set[label].append(Image.fromarray(trainset.data[index]))\n",
    "\n",
    "test_data_set = defaultdict(list)\n",
    "\n",
    "for index, label in enumerate(testset.targets):\n",
    "    test_data_set[label].append(Image.fromarray(testset.data[index]))"
   ],
   "execution_count": 2,
   "outputs": []
  },
  {
   "cell_type": "markdown",
   "metadata": {
    "id": "Kckt_1quTW9R"
   },
   "source": [
    "- Cifar10の学習データ取得するためのクラス\n",
    "- indexが奇数の場合は同一ラベルのデータ\n",
    "- 偶数の場合は異なるラベルのデータを取得"
   ]
  },
  {
   "cell_type": "code",
   "metadata": {
    "id": "JfP7GwP1TVDz"
   },
   "source": [
    "import os\n",
    "import random\n",
    "import time\n",
    "\n",
    "import numpy as np\n",
    "from numpy.random import choice as npc\n",
    "from torch.utils.data import DataLoader\n",
    "from torch.utils.data import Dataset\n",
    "import torchvision.datasets as dset\n",
    "\n",
    "\n",
    "class Cifar10Train(Dataset):\n",
    "    def __init__(self, datas, transform=None):\n",
    "        super(Cifar10Train, self).__init__()\n",
    "        np.random.seed(0)\n",
    "        self.datas = datas\n",
    "        self.num_classes = len(datas)\n",
    "        self.transform = transform\n",
    "\n",
    "    def __len__(self):\n",
    "        size = len(self.datas) * len(self.datas[0])\n",
    "        return size\n",
    "\n",
    "    def __getitem__(self, index):\n",
    "        # image1 = random.choice(self.dataset.imgs)\n",
    "        label = None\n",
    "        img1 = None\n",
    "        img2 = None\n",
    "        # get image from same class\n",
    "        if index % 2 == 1:\n",
    "            label = 1.0\n",
    "            idx1 = random.randint(0, self.num_classes - 1)\n",
    "            image1 = random.choice(self.datas[idx1])\n",
    "            image2 = random.choice(self.datas[idx1])\n",
    "        # get image from different class\n",
    "        else:\n",
    "            label = 0.0\n",
    "            idx1 = random.randint(0, self.num_classes - 1)\n",
    "            idx2 = random.randint(0, self.num_classes - 1)\n",
    "            while idx1 == idx2:\n",
    "                idx2 = random.randint(0, self.num_classes - 1)\n",
    "            image1 = random.choice(self.datas[idx1])\n",
    "            image2 = random.choice(self.datas[idx2])\n",
    "\n",
    "        if self.transform:\n",
    "            image1 = self.transform(image1)\n",
    "            image2 = self.transform(image2)\n",
    "        return (\n",
    "            image1,\n",
    "            image2,\n",
    "            torch.from_numpy(np.array([label], dtype=np.float32)),\n",
    "        )"
   ],
   "execution_count": 3,
   "outputs": []
  },
  {
   "cell_type": "markdown",
   "metadata": {
    "id": "WHgc7_d3ThOu"
   },
   "source": [
    "Cifar10の評価データ取得するためのクラス"
   ]
  },
  {
   "cell_type": "code",
   "metadata": {
    "id": "onL9mOxWTelr"
   },
   "source": [
    "class Cifar10Test(Dataset):\n",
    "    def __init__(self, datas, transform=None, times=200, way=20):\n",
    "        np.random.seed(1)\n",
    "        super(Cifar10Test, self).__init__()\n",
    "        self.transform = transform\n",
    "        self.times = times\n",
    "        self.way = way\n",
    "        self.img1 = None\n",
    "        self.c1 = None\n",
    "        self.datas = datas\n",
    "        self.num_classes = len(datas)\n",
    "\n",
    "    def __len__(self):\n",
    "        return self.times * self.way\n",
    "\n",
    "    def __getitem__(self, index):\n",
    "        idx = index % self.way\n",
    "        label = None\n",
    "        # generate image pair from same class\n",
    "        if idx == 0:\n",
    "            self.c1 = random.randint(0, self.num_classes - 1)\n",
    "            self.img1 = random.choice(self.datas[self.c1])\n",
    "            img2 = random.choice(self.datas[self.c1])\n",
    "        # generate image pair from different class\n",
    "        else:\n",
    "            c2 = random.randint(0, self.num_classes - 1)\n",
    "            while self.c1 == c2:\n",
    "                c2 = random.randint(0, self.num_classes - 1)\n",
    "            img2 = random.choice(self.datas[c2])\n",
    "\n",
    "        if self.transform:\n",
    "            img1 = self.transform(self.img1)\n",
    "            img2 = self.transform(img2)\n",
    "        return img1, img2"
   ],
   "execution_count": 4,
   "outputs": []
  },
  {
   "cell_type": "code",
   "metadata": {
    "id": "xGvOrsnUTjUC"
   },
   "source": [
    "import torch.nn as nn\n",
    "import torch.nn.functional as F\n",
    "\n",
    "\n",
    "class Siamese(nn.Module):\n",
    "    def __init__(self):\n",
    "        super(Siamese, self).__init__()\n",
    "        self.conv = nn.Sequential(\n",
    "            nn.Conv2d(3, 64, 10),\n",
    "            nn.ReLU(inplace=True),\n",
    "            nn.MaxPool2d(2),\n",
    "            nn.Conv2d(64, 128, 7),\n",
    "            nn.ReLU(),\n",
    "            nn.MaxPool2d(2),\n",
    "            nn.Conv2d(128, 128, 2),\n",
    "            nn.ReLU(),\n",
    "            nn.Conv2d(128, 256, 1),\n",
    "            nn.ReLU(),\n",
    "        )\n",
    "        self.liner = nn.Sequential(nn.Linear(256, 4096), nn.Sigmoid())\n",
    "        self.out = nn.Linear(4096, 1)\n",
    "\n",
    "    def forward_one(self, x):\n",
    "        x = self.conv(x)\n",
    "        x = x.view(x.size()[0], -1)\n",
    "        x = self.liner(x)\n",
    "        return x\n",
    "\n",
    "    def forward(self, x1, x2):\n",
    "        out1 = self.forward_one(x1)\n",
    "        out2 = self.forward_one(x2)\n",
    "        dis = torch.abs(out1 - out2)\n",
    "        out = self.out(dis)\n",
    "        return out"
   ],
   "execution_count": 5,
   "outputs": []
  },
  {
   "cell_type": "code",
   "metadata": {
    "colab": {
     "base_uri": "https://localhost:8080/"
    },
    "id": "sOPTK9rqTl-t",
    "outputId": "5b56302c-b319-47e4-d7aa-908d6271800d"
   },
   "source": [
    "data_transforms = transforms.Compose(\n",
    "    [transforms.RandomAffine(15), transforms.ToTensor()]\n",
    ")\n",
    "\n",
    "\n",
    "trainSet = Cifar10Train(train_data_set, transform=data_transforms)\n",
    "\n",
    "trainLoader = DataLoader(\n",
    "    trainSet, batch_size=128, shuffle=False, num_workers=4\n",
    ")\n",
    "\n",
    "testSet = Cifar10Test(\n",
    "    test_data_set, transform=transforms.ToTensor(), times=200, way=5\n",
    ")\n",
    "testLoader = DataLoader(testSet, batch_size=5, shuffle=False, num_workers=4)\n",
    "\n",
    "loss_fn = torch.nn.BCEWithLogitsLoss(size_average=True)\n",
    "net = Siamese()"
   ],
   "execution_count": 6,
   "outputs": [
    {
     "output_type": "stream",
     "text": [
      "/usr/local/lib/python3.7/dist-packages/torch/utils/data/dataloader.py:477: UserWarning: This DataLoader will create 4 worker processes in total. Our suggested max number of worker in current system is 2, which is smaller than what this DataLoader is going to create. Please be aware that excessive worker creation might get DataLoader running slow or even freeze, lower the worker number to avoid potential slowness/freeze if necessary.\n",
      "  cpuset_checked))\n",
      "/usr/local/lib/python3.7/dist-packages/torch/nn/_reduction.py:42: UserWarning: size_average and reduce args will be deprecated, please use reduction='mean' instead.\n",
      "  warnings.warn(warning.format(ret))\n"
     ],
     "name": "stderr"
    }
   ]
  },
  {
   "cell_type": "markdown",
   "metadata": {
    "id": "kD1AkVO2Tr3X"
   },
   "source": [
    "SIAMESE NETWORKをGPUで学習するための変換設定"
   ]
  },
  {
   "cell_type": "code",
   "metadata": {
    "id": "PiWL7O5nTsU6"
   },
   "source": [
    "device = torch.device(\"cuda\" if torch.cuda.is_available() else \"cpu\")\n",
    "if device == \"cuda\":\n",
    "    net.cuda()\n",
    "\n",
    "net.train()\n",
    "\n",
    "optimizer = torch.optim.Adam(net.parameters(), lr=0.00006)\n",
    "optimizer.zero_grad()"
   ],
   "execution_count": 7,
   "outputs": []
  },
  {
   "cell_type": "markdown",
   "metadata": {
    "id": "OiJTUb28Tv5s"
   },
   "source": [
    "SIAMESE NETWORKを学習"
   ]
  },
  {
   "cell_type": "code",
   "metadata": {
    "colab": {
     "base_uri": "https://localhost:8080/"
    },
    "id": "glMBiDk9ToRT",
    "outputId": "c1abf02f-17b9-4436-aea9-ea7e00ae1213"
   },
   "source": [
    "from collections import deque\n",
    "import os\n",
    "import sys\n",
    "import time\n",
    "\n",
    "import matplotlib.pyplot as plt\n",
    "import numpy as np\n",
    "from torch.autograd import Variable\n",
    "\n",
    "\n",
    "train_loss = []\n",
    "loss_val = 0\n",
    "time_start = time.time()\n",
    "queue = deque(maxlen=20)\n",
    "max_iter = 50000\n",
    "\n",
    "for batch_id, (img1, img2, label) in enumerate(trainLoader, 1):\n",
    "    if batch_id > max_iter:\n",
    "        break\n",
    "    if device == \"cuda\":\n",
    "        img1, img2, label = (\n",
    "            Variable(img1.cuda()),\n",
    "            Variable(img2.cuda()),\n",
    "            Variable(label.cuda()),\n",
    "        )\n",
    "    else:\n",
    "        img1, img2, label = Variable(img1), Variable(img2), Variable(label)\n",
    "    optimizer.zero_grad()\n",
    "    output = net.forward(img1, img2)\n",
    "    loss = loss_fn(output, label)\n",
    "    loss_val += loss.item()\n",
    "    loss.backward()\n",
    "    optimizer.step()\n",
    "    if batch_id % 10 == 0:\n",
    "        print(\n",
    "            \"[%d]\\tloss:\\t%.5f\\ttime lapsed:\\t%.2f s\"\n",
    "            % (batch_id, loss_val / 10, time.time() - time_start)\n",
    "        )\n",
    "        loss_val = 0\n",
    "        time_start = time.time()\n",
    "    if batch_id % 100 == 0:\n",
    "        torch.save(\n",
    "            net.state_dict(), \"./model-inter-\" + str(batch_id + 1) + \".pt\"\n",
    "        )\n",
    "    if batch_id % 100 == 0:\n",
    "        right, error = 0, 0\n",
    "        for _, (test1, test2) in enumerate(testLoader, 1):\n",
    "            if device == \"cuda\":\n",
    "                test1, test2 = test1.cuda(), test2.cuda()\n",
    "            test1, test2 = Variable(test1), Variable(test2)\n",
    "            output = net.forward(test1, test2).data.cpu().numpy()\n",
    "            pred = np.argmax(output)\n",
    "            if pred == 0:\n",
    "                right += 1\n",
    "            else:\n",
    "                error += 1\n",
    "        print(\"*\" * 70)\n",
    "        print(\n",
    "            \"[%d]\\tTest set\\tcorrect:\\t%d\\terror:\\t%d\\tprecision:\\t%f\"\n",
    "            % (batch_id, right, error, right * 1.0 / (right + error))\n",
    "        )\n",
    "        print(\"*\" * 70)\n",
    "        queue.append(right * 1.0 / (right + error))\n",
    "    train_loss.append(loss_val)"
   ],
   "execution_count": 8,
   "outputs": [
    {
     "output_type": "stream",
     "text": [
      "/usr/local/lib/python3.7/dist-packages/torch/utils/data/dataloader.py:477: UserWarning: This DataLoader will create 4 worker processes in total. Our suggested max number of worker in current system is 2, which is smaller than what this DataLoader is going to create. Please be aware that excessive worker creation might get DataLoader running slow or even freeze, lower the worker number to avoid potential slowness/freeze if necessary.\n",
      "  cpuset_checked))\n"
     ],
     "name": "stderr"
    },
    {
     "output_type": "stream",
     "text": [
      "[10]\tloss:\t0.69309\ttime lapsed:\t7.15 s\n",
      "[20]\tloss:\t0.69296\ttime lapsed:\t6.72 s\n",
      "[30]\tloss:\t0.69258\ttime lapsed:\t6.57 s\n",
      "[40]\tloss:\t0.69166\ttime lapsed:\t6.48 s\n",
      "[50]\tloss:\t0.68987\ttime lapsed:\t6.56 s\n",
      "[60]\tloss:\t0.68705\ttime lapsed:\t6.56 s\n",
      "[70]\tloss:\t0.68750\ttime lapsed:\t6.41 s\n",
      "[80]\tloss:\t0.68637\ttime lapsed:\t6.51 s\n",
      "[90]\tloss:\t0.68212\ttime lapsed:\t6.54 s\n",
      "[100]\tloss:\t0.68371\ttime lapsed:\t6.46 s\n",
      "**********************************************************************\n",
      "[100]\tTest set\tcorrect:\t60\terror:\t140\tprecision:\t0.300000\n",
      "**********************************************************************\n",
      "[110]\tloss:\t0.68607\ttime lapsed:\t9.12 s\n",
      "[120]\tloss:\t0.68416\ttime lapsed:\t6.43 s\n",
      "[130]\tloss:\t0.67877\ttime lapsed:\t6.46 s\n",
      "[140]\tloss:\t0.67811\ttime lapsed:\t6.51 s\n",
      "[150]\tloss:\t0.68157\ttime lapsed:\t6.49 s\n",
      "[160]\tloss:\t0.67742\ttime lapsed:\t6.46 s\n",
      "[170]\tloss:\t0.68004\ttime lapsed:\t6.51 s\n",
      "[180]\tloss:\t0.67540\ttime lapsed:\t6.41 s\n",
      "[190]\tloss:\t0.67807\ttime lapsed:\t6.49 s\n",
      "[200]\tloss:\t0.66870\ttime lapsed:\t6.50 s\n",
      "**********************************************************************\n",
      "[200]\tTest set\tcorrect:\t56\terror:\t144\tprecision:\t0.280000\n",
      "**********************************************************************\n",
      "[210]\tloss:\t0.66893\ttime lapsed:\t9.56 s\n",
      "[220]\tloss:\t0.67358\ttime lapsed:\t6.58 s\n",
      "[230]\tloss:\t0.67134\ttime lapsed:\t6.66 s\n",
      "[240]\tloss:\t0.66921\ttime lapsed:\t6.64 s\n",
      "[250]\tloss:\t0.66497\ttime lapsed:\t6.67 s\n",
      "[260]\tloss:\t0.67177\ttime lapsed:\t6.61 s\n",
      "[270]\tloss:\t0.66946\ttime lapsed:\t6.62 s\n",
      "[280]\tloss:\t0.66122\ttime lapsed:\t6.61 s\n",
      "[290]\tloss:\t0.66989\ttime lapsed:\t6.52 s\n",
      "[300]\tloss:\t0.65548\ttime lapsed:\t6.53 s\n",
      "**********************************************************************\n",
      "[300]\tTest set\tcorrect:\t68\terror:\t132\tprecision:\t0.340000\n",
      "**********************************************************************\n",
      "[310]\tloss:\t0.64969\ttime lapsed:\t9.37 s\n",
      "[320]\tloss:\t0.66405\ttime lapsed:\t6.61 s\n",
      "[330]\tloss:\t0.66644\ttime lapsed:\t6.64 s\n",
      "[340]\tloss:\t0.66485\ttime lapsed:\t6.54 s\n",
      "[350]\tloss:\t0.65853\ttime lapsed:\t6.55 s\n",
      "[360]\tloss:\t0.65505\ttime lapsed:\t6.48 s\n",
      "[370]\tloss:\t0.65370\ttime lapsed:\t6.61 s\n",
      "[380]\tloss:\t0.65116\ttime lapsed:\t6.59 s\n",
      "[390]\tloss:\t0.64765\ttime lapsed:\t6.70 s\n"
     ],
     "name": "stdout"
    }
   ]
  },
  {
   "cell_type": "markdown",
   "metadata": {
    "id": "fZWSLDqYT4xa"
   },
   "source": [
    "検索処理のためのデータ・セットクラスを作成"
   ]
  },
  {
   "cell_type": "code",
   "metadata": {
    "colab": {
     "base_uri": "https://localhost:8080/"
    },
    "id": "1MvKgLNkTzS-",
    "outputId": "fb6dd1dc-c5ec-4a2a-b7c3-74894aac15da"
   },
   "source": [
    "class SerachDataSet(Dataset):\n",
    "    def __init__(self, datas, transform=None):\n",
    "        super(SerachDataSet, self).__init__()\n",
    "        np.random.seed(0)\n",
    "        self.datas = datas\n",
    "        self.num_classes = len(datas)\n",
    "        self.transform = transform\n",
    "\n",
    "    def __len__(self):\n",
    "        size = len(self.datas) * len(self.datas[0])\n",
    "        return size\n",
    "\n",
    "    def __getitem__(self, index):\n",
    "        # image1 = random.choice(self.dataset.imgs)\n",
    "        label = None\n",
    "        img1 = None\n",
    "        idx1 = random.randint(0, self.num_classes - 1)\n",
    "        image1 = random.choice(self.datas[idx1])\n",
    "\n",
    "        if self.transform:\n",
    "            image1 = self.transform(image1)\n",
    "        return image1, idx1\n",
    "\n",
    "\n",
    "testSet = SerachDataSet(test_data_set, transform=transforms.ToTensor())\n",
    "testLoader = DataLoader(testSet, batch_size=1, shuffle=False, num_workers=4)"
   ],
   "execution_count": 9,
   "outputs": [
    {
     "output_type": "stream",
     "text": [
      "/usr/local/lib/python3.7/dist-packages/torch/utils/data/dataloader.py:477: UserWarning: This DataLoader will create 4 worker processes in total. Our suggested max number of worker in current system is 2, which is smaller than what this DataLoader is going to create. Please be aware that excessive worker creation might get DataLoader running slow or even freeze, lower the worker number to avoid potential slowness/freeze if necessary.\n",
      "  cpuset_checked))\n"
     ],
     "name": "stderr"
    }
   ]
  },
  {
   "cell_type": "markdown",
   "metadata": {
    "id": "twibPu-7ULWT"
   },
   "source": [
    "学習したSIAMESE NETWORKで評価データのすべての画像特徴量を取得"
   ]
  },
  {
   "cell_type": "code",
   "metadata": {
    "colab": {
     "base_uri": "https://localhost:8080/"
    },
    "id": "-hCu2jf3UJJ6",
    "outputId": "4d6a3269-6333-47f4-caae-1c5504bb2fe4"
   },
   "source": [
    "import numpy as np\n",
    "import torch.nn as nn\n",
    "\n",
    "\n",
    "net = net.eval()\n",
    "\n",
    "\n",
    "# - test images -\n",
    "test_output = []\n",
    "test_output_name = []\n",
    "test_image = []\n",
    "\n",
    "for batch_idx, (x, label) in enumerate(testLoader):\n",
    "    feature = net.forward_one(x)\n",
    "    test_image.append(x)\n",
    "    test_output.append(np.array(feature.cpu().tolist()))\n",
    "    test_output_name.append(label)"
   ],
   "execution_count": 10,
   "outputs": [
    {
     "output_type": "stream",
     "text": [
      "/usr/local/lib/python3.7/dist-packages/torch/utils/data/dataloader.py:477: UserWarning: This DataLoader will create 4 worker processes in total. Our suggested max number of worker in current system is 2, which is smaller than what this DataLoader is going to create. Please be aware that excessive worker creation might get DataLoader running slow or even freeze, lower the worker number to avoid potential slowness/freeze if necessary.\n",
      "  cpuset_checked))\n"
     ],
     "name": "stderr"
    }
   ]
  },
  {
   "cell_type": "markdown",
   "metadata": {
    "id": "htXYMYnhUQV0"
   },
   "source": [
    "効率よく検索できるライブラリ`nmslib`を導入"
   ]
  },
  {
   "cell_type": "code",
   "metadata": {
    "colab": {
     "base_uri": "https://localhost:8080/"
    },
    "id": "R5xiPTHmUNrg",
    "outputId": "2f864bc9-903b-4df8-fce8-cb40029f6b99"
   },
   "source": [
    "! pip install nmslib"
   ],
   "execution_count": 11,
   "outputs": [
    {
     "output_type": "stream",
     "text": [
      "Collecting nmslib\n",
      "\u001b[?25l  Downloading https://files.pythonhosted.org/packages/be/77/aebbd03a32488024d2ae2230b47a28f6fa83c887318e673fa5d3234f7772/nmslib-2.1.1-cp37-cp37m-manylinux2010_x86_64.whl (13.5MB)\n",
      "\u001b[K     |████████████████████████████████| 13.5MB 230kB/s \n",
      "\u001b[?25hRequirement already satisfied: numpy>=1.10.0; python_version >= \"3.5\" in /usr/local/lib/python3.7/dist-packages (from nmslib) (1.19.5)\n",
      "Collecting pybind11<2.6.2\n",
      "\u001b[?25l  Downloading https://files.pythonhosted.org/packages/00/84/fc9dc13ee536ba5e6b8fd10ce368fea5b738fe394c3b296cde7c9b144a92/pybind11-2.6.1-py2.py3-none-any.whl (188kB)\n",
      "\u001b[K     |████████████████████████████████| 194kB 53.2MB/s \n",
      "\u001b[?25hRequirement already satisfied: psutil in /usr/local/lib/python3.7/dist-packages (from nmslib) (5.4.8)\n",
      "Installing collected packages: pybind11, nmslib\n",
      "Successfully installed nmslib-2.1.1 pybind11-2.6.1\n"
     ],
     "name": "stdout"
    }
   ]
  },
  {
   "cell_type": "code",
   "metadata": {
    "id": "sf5r3-S8UWpZ"
   },
   "source": [
    "import nmslib\n",
    "\n",
    "\n",
    "index = nmslib.init(method=\"hnsw\", space=\"cosinesimil\")\n",
    "index.addDataPointBatch(test_output)\n",
    "index.createIndex({\"post\": 2}, print_progress=True)"
   ],
   "execution_count": 12,
   "outputs": []
  },
  {
   "cell_type": "markdown",
   "metadata": {
    "id": "rnQzTVwBUaPK"
   },
   "source": [
    "検索対象とする画像を表示"
   ]
  },
  {
   "cell_type": "code",
   "metadata": {
    "colab": {
     "base_uri": "https://localhost:8080/",
     "height": 241
    },
    "id": "3MRvZJDFUYji",
    "outputId": "06aba4b4-1fd7-4c76-88b4-c7e3ec55d1da"
   },
   "source": [
    "import matplotlib.pyplot as plt\n",
    "\n",
    "\n",
    "def show_images(images, figsize=(20, 10), columns=5):\n",
    "    plt.figure(figsize=figsize)\n",
    "    for i, image in enumerate(images):\n",
    "        image = image.transpose(0, 1).transpose(1, 2)\n",
    "        plt.subplot(len(images) / columns + 1, columns, i + 1)\n",
    "        plt.imshow(image)\n",
    "\n",
    "\n",
    "show_images(test_image[0])"
   ],
   "execution_count": 13,
   "outputs": [
    {
     "output_type": "display_data",
     "data": {
      "image/png": "[encoded data removed]",
      "text/plain": [
       "<Figure size 1440x720 with 1 Axes>"
      ]
     },
     "metadata": {
      "tags": [],
      "needs_background": "light"
     }
    }
   ]
  },
  {
   "cell_type": "markdown",
   "metadata": {
    "id": "sJmPxC84UfKM"
   },
   "source": [
    "検索対象の画像をクエリとして画像の検索処理をしてTop19のデータを取得"
   ]
  },
  {
   "cell_type": "code",
   "metadata": {
    "colab": {
     "base_uri": "https://localhost:8080/",
     "height": 467
    },
    "id": "EHPCyEAiUc-F",
    "outputId": "44a7b8ed-404e-4e74-a9a2-e49135352541"
   },
   "source": [
    "ids, distances = index.knnQuery(test_output[0], k=19)\n",
    "search_images = []\n",
    "for id, distance in zip(ids, distances):\n",
    "    search_images.append(test_image[id][0])\n",
    "\n",
    "show_images(search_images)"
   ],
   "execution_count": 14,
   "outputs": [
    {
     "output_type": "display_data",
     "data": {
      "image/png": "[encoded data removed]",
      "text/plain": [
       "<Figure size 1440x720 with 19 Axes>"
      ]
     },
     "metadata": {
      "tags": [],
      "needs_background": "light"
     }
    }
   ]
  },
  {
   "cell_type": "code",
   "metadata": {
    "id": "TK68sbLRUgs0"
   },
   "source": [
    ""
   ],
   "execution_count": null,
   "outputs": []
  }
 ]
}
