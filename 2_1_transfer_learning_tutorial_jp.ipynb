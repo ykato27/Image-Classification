{
  "nbformat": 4,
  "nbformat_minor": 0,
  "metadata": {
    "kernelspec": {
      "display_name": "Python 3",
      "language": "python",
      "name": "python3"
    },
    "language_info": {
      "codemirror_mode": {
        "name": "ipython",
        "version": 3
      },
      "file_extension": ".py",
      "mimetype": "text/x-python",
      "name": "python",
      "nbconvert_exporter": "python",
      "pygments_lexer": "ipython3",
      "version": "3.6.8"
    },
    "colab": {
      "name": "2_1_transfer_learning_tutorial_jp.ipynb",
      "provenance": [],
      "collapsed_sections": [],
      "include_colab_link": true
    },
    "accelerator": "GPU",
    "widgets": {
      "application/vnd.jupyter.widget-state+json": {
        "7b55407a07dc4420a9700a67d344c205": {
          "model_module": "@jupyter-widgets/controls",
          "model_name": "HBoxModel",
          "model_module_version": "1.5.0",
          "state": {
            "_view_name": "HBoxView",
            "_dom_classes": [],
            "_model_name": "HBoxModel",
            "_view_module": "@jupyter-widgets/controls",
            "_model_module_version": "1.5.0",
            "_view_count": null,
            "_view_module_version": "1.5.0",
            "box_style": "",
            "layout": "IPY_MODEL_8e5f43b0e3e84adfb6f1838d6efdc96d",
            "_model_module": "@jupyter-widgets/controls",
            "children": [
              "IPY_MODEL_fe102693190b4eaa836359eba9e9d72a",
              "IPY_MODEL_ae08943964054c5686fc8fff382889d1",
              "IPY_MODEL_cf8b033b60914361ad4a1afc109f7dc7"
            ]
          }
        },
        "8e5f43b0e3e84adfb6f1838d6efdc96d": {
          "model_module": "@jupyter-widgets/base",
          "model_name": "LayoutModel",
          "model_module_version": "1.2.0",
          "state": {
            "_view_name": "LayoutView",
            "grid_template_rows": null,
            "right": null,
            "justify_content": null,
            "_view_module": "@jupyter-widgets/base",
            "overflow": null,
            "_model_module_version": "1.2.0",
            "_view_count": null,
            "flex_flow": null,
            "width": null,
            "min_width": null,
            "border": null,
            "align_items": null,
            "bottom": null,
            "_model_module": "@jupyter-widgets/base",
            "top": null,
            "grid_column": null,
            "overflow_y": null,
            "overflow_x": null,
            "grid_auto_flow": null,
            "grid_area": null,
            "grid_template_columns": null,
            "flex": null,
            "_model_name": "LayoutModel",
            "justify_items": null,
            "grid_row": null,
            "max_height": null,
            "align_content": null,
            "visibility": null,
            "align_self": null,
            "height": null,
            "min_height": null,
            "padding": null,
            "grid_auto_rows": null,
            "grid_gap": null,
            "max_width": null,
            "order": null,
            "_view_module_version": "1.2.0",
            "grid_template_areas": null,
            "object_position": null,
            "object_fit": null,
            "grid_auto_columns": null,
            "margin": null,
            "display": null,
            "left": null
          }
        },
        "fe102693190b4eaa836359eba9e9d72a": {
          "model_module": "@jupyter-widgets/controls",
          "model_name": "HTMLModel",
          "model_module_version": "1.5.0",
          "state": {
            "_view_name": "HTMLView",
            "style": "IPY_MODEL_54adaa486c3048a0a1f2abf449ff5820",
            "_dom_classes": [],
            "description": "",
            "_model_name": "HTMLModel",
            "placeholder": "​",
            "_view_module": "@jupyter-widgets/controls",
            "_model_module_version": "1.5.0",
            "value": "100%",
            "_view_count": null,
            "_view_module_version": "1.5.0",
            "description_tooltip": null,
            "_model_module": "@jupyter-widgets/controls",
            "layout": "IPY_MODEL_15c8b23c213e407a99eb8093cd78146a"
          }
        },
        "ae08943964054c5686fc8fff382889d1": {
          "model_module": "@jupyter-widgets/controls",
          "model_name": "FloatProgressModel",
          "model_module_version": "1.5.0",
          "state": {
            "_view_name": "ProgressView",
            "style": "IPY_MODEL_df78fe3fba324081804420cc2663398f",
            "_dom_classes": [],
            "description": "",
            "_model_name": "FloatProgressModel",
            "bar_style": "success",
            "max": 46830571,
            "_view_module": "@jupyter-widgets/controls",
            "_model_module_version": "1.5.0",
            "value": 46830571,
            "_view_count": null,
            "_view_module_version": "1.5.0",
            "orientation": "horizontal",
            "min": 0,
            "description_tooltip": null,
            "_model_module": "@jupyter-widgets/controls",
            "layout": "IPY_MODEL_4ec70855fcfa4368ada9a55969cdc12c"
          }
        },
        "cf8b033b60914361ad4a1afc109f7dc7": {
          "model_module": "@jupyter-widgets/controls",
          "model_name": "HTMLModel",
          "model_module_version": "1.5.0",
          "state": {
            "_view_name": "HTMLView",
            "style": "IPY_MODEL_bd72e89448ba4d0d92ea48aa993bf174",
            "_dom_classes": [],
            "description": "",
            "_model_name": "HTMLModel",
            "placeholder": "​",
            "_view_module": "@jupyter-widgets/controls",
            "_model_module_version": "1.5.0",
            "value": " 44.7M/44.7M [00:01&lt;00:00, 21.8MB/s]",
            "_view_count": null,
            "_view_module_version": "1.5.0",
            "description_tooltip": null,
            "_model_module": "@jupyter-widgets/controls",
            "layout": "IPY_MODEL_0838f5c94cd04948aeb82107df11858f"
          }
        },
        "54adaa486c3048a0a1f2abf449ff5820": {
          "model_module": "@jupyter-widgets/controls",
          "model_name": "DescriptionStyleModel",
          "model_module_version": "1.5.0",
          "state": {
            "_view_name": "StyleView",
            "_model_name": "DescriptionStyleModel",
            "description_width": "",
            "_view_module": "@jupyter-widgets/base",
            "_model_module_version": "1.5.0",
            "_view_count": null,
            "_view_module_version": "1.2.0",
            "_model_module": "@jupyter-widgets/controls"
          }
        },
        "15c8b23c213e407a99eb8093cd78146a": {
          "model_module": "@jupyter-widgets/base",
          "model_name": "LayoutModel",
          "model_module_version": "1.2.0",
          "state": {
            "_view_name": "LayoutView",
            "grid_template_rows": null,
            "right": null,
            "justify_content": null,
            "_view_module": "@jupyter-widgets/base",
            "overflow": null,
            "_model_module_version": "1.2.0",
            "_view_count": null,
            "flex_flow": null,
            "width": null,
            "min_width": null,
            "border": null,
            "align_items": null,
            "bottom": null,
            "_model_module": "@jupyter-widgets/base",
            "top": null,
            "grid_column": null,
            "overflow_y": null,
            "overflow_x": null,
            "grid_auto_flow": null,
            "grid_area": null,
            "grid_template_columns": null,
            "flex": null,
            "_model_name": "LayoutModel",
            "justify_items": null,
            "grid_row": null,
            "max_height": null,
            "align_content": null,
            "visibility": null,
            "align_self": null,
            "height": null,
            "min_height": null,
            "padding": null,
            "grid_auto_rows": null,
            "grid_gap": null,
            "max_width": null,
            "order": null,
            "_view_module_version": "1.2.0",
            "grid_template_areas": null,
            "object_position": null,
            "object_fit": null,
            "grid_auto_columns": null,
            "margin": null,
            "display": null,
            "left": null
          }
        },
        "df78fe3fba324081804420cc2663398f": {
          "model_module": "@jupyter-widgets/controls",
          "model_name": "ProgressStyleModel",
          "model_module_version": "1.5.0",
          "state": {
            "_view_name": "StyleView",
            "_model_name": "ProgressStyleModel",
            "description_width": "",
            "_view_module": "@jupyter-widgets/base",
            "_model_module_version": "1.5.0",
            "_view_count": null,
            "_view_module_version": "1.2.0",
            "bar_color": null,
            "_model_module": "@jupyter-widgets/controls"
          }
        },
        "4ec70855fcfa4368ada9a55969cdc12c": {
          "model_module": "@jupyter-widgets/base",
          "model_name": "LayoutModel",
          "model_module_version": "1.2.0",
          "state": {
            "_view_name": "LayoutView",
            "grid_template_rows": null,
            "right": null,
            "justify_content": null,
            "_view_module": "@jupyter-widgets/base",
            "overflow": null,
            "_model_module_version": "1.2.0",
            "_view_count": null,
            "flex_flow": null,
            "width": null,
            "min_width": null,
            "border": null,
            "align_items": null,
            "bottom": null,
            "_model_module": "@jupyter-widgets/base",
            "top": null,
            "grid_column": null,
            "overflow_y": null,
            "overflow_x": null,
            "grid_auto_flow": null,
            "grid_area": null,
            "grid_template_columns": null,
            "flex": null,
            "_model_name": "LayoutModel",
            "justify_items": null,
            "grid_row": null,
            "max_height": null,
            "align_content": null,
            "visibility": null,
            "align_self": null,
            "height": null,
            "min_height": null,
            "padding": null,
            "grid_auto_rows": null,
            "grid_gap": null,
            "max_width": null,
            "order": null,
            "_view_module_version": "1.2.0",
            "grid_template_areas": null,
            "object_position": null,
            "object_fit": null,
            "grid_auto_columns": null,
            "margin": null,
            "display": null,
            "left": null
          }
        },
        "bd72e89448ba4d0d92ea48aa993bf174": {
          "model_module": "@jupyter-widgets/controls",
          "model_name": "DescriptionStyleModel",
          "model_module_version": "1.5.0",
          "state": {
            "_view_name": "StyleView",
            "_model_name": "DescriptionStyleModel",
            "description_width": "",
            "_view_module": "@jupyter-widgets/base",
            "_model_module_version": "1.5.0",
            "_view_count": null,
            "_view_module_version": "1.2.0",
            "_model_module": "@jupyter-widgets/controls"
          }
        },
        "0838f5c94cd04948aeb82107df11858f": {
          "model_module": "@jupyter-widgets/base",
          "model_name": "LayoutModel",
          "model_module_version": "1.2.0",
          "state": {
            "_view_name": "LayoutView",
            "grid_template_rows": null,
            "right": null,
            "justify_content": null,
            "_view_module": "@jupyter-widgets/base",
            "overflow": null,
            "_model_module_version": "1.2.0",
            "_view_count": null,
            "flex_flow": null,
            "width": null,
            "min_width": null,
            "border": null,
            "align_items": null,
            "bottom": null,
            "_model_module": "@jupyter-widgets/base",
            "top": null,
            "grid_column": null,
            "overflow_y": null,
            "overflow_x": null,
            "grid_auto_flow": null,
            "grid_area": null,
            "grid_template_columns": null,
            "flex": null,
            "_model_name": "LayoutModel",
            "justify_items": null,
            "grid_row": null,
            "max_height": null,
            "align_content": null,
            "visibility": null,
            "align_self": null,
            "height": null,
            "min_height": null,
            "padding": null,
            "grid_auto_rows": null,
            "grid_gap": null,
            "max_width": null,
            "order": null,
            "_view_module_version": "1.2.0",
            "grid_template_areas": null,
            "object_position": null,
            "object_fit": null,
            "grid_auto_columns": null,
            "margin": null,
            "display": null,
            "left": null
          }
        }
      }
    }
  },
  "cells": [
    {
      "cell_type": "markdown",
      "metadata": {
        "id": "view-in-github",
        "colab_type": "text"
      },
      "source": [
        "<a href=\"https://colab.research.google.com/github/ykato27/Image-Classification/blob/main/2_1_transfer_learning_tutorial_jp.ipynb\" target=\"_parent\"><img src=\"https://colab.research.google.com/assets/colab-badge.svg\" alt=\"Open In Colab\"/></a>"
      ]
    },
    {
      "cell_type": "markdown",
      "metadata": {
        "id": "Ax5T0Hhay68L"
      },
      "source": [
        "「画像分類タスクに対する転移学習の方法」\n",
        "======\n",
        "【原題】TRANSFER LEARNING FOR COMPUTER VISION TUTORIAL\n",
        "\n",
        "【原著】[asank Chilamkurthy](https://chsasank.github.io)\n",
        "\n",
        "【元URL】https://pytorch.org/tutorials/beginner/transfer_learning_tutorial.html\n",
        "\n",
        "【翻訳】電通国際情報サービスISID AIトランスフォーメーションセンター　御手洗 拓真\n",
        "\n",
        "【日付】2020年11月16日\n",
        "\n",
        "【チュトーリアル概要】\n",
        "\n",
        "CNNを使用した画像分類モデルに対して、転移学習を実施する方法を解説します。\n",
        "\n",
        "---\n"
      ]
    },
    {
      "cell_type": "markdown",
      "metadata": {
        "id": "bMIE784AzKjU"
      },
      "source": [
        "本チュートリアルでは、画像分類用の畳み込みニューラルネットワーク（以下、ConvNetと記載）に対して、転移学習を使用して訓練する方法を学びます。\n",
        "\n",
        "転移学習自体の詳細については、[`cs231nコースのメモ`](https://cs231n.github.io/transfer-learning/)をご参照ください。\n",
        "\n",
        "（日本語訳注：スタンフォード大学が公開している画像認識をテーマとしたコースの資料）\n",
        "\n",
        "\n",
        "以下に、上記メモの内容を引用します。"
      ]
    },
    {
      "cell_type": "markdown",
      "metadata": {
        "id": "MKAvwMR-zpcd"
      },
      "source": [
        "```\n",
        "    実際には、(ランダムな初期値を使用して)畳み込みネットワーク全体をゼロから訓練するケースは非常に稀です。\n",
        "    なぜなら、ネットワークをゼロから訓練するために十分なサイズのデータセットを用意できるケースがほとんど無いからです。\n",
        "    ゼロからネットワークを訓練する代わりに、一般的には次のような対応をします。\n",
        "    まず、非常に大規模なデータセット（例えばImageNetなどは120万枚の画像を1000のカテゴリに分けて収録しています）でConvNetを事前学習します。\n",
        "    そしてこの訓練済みのConvNetを初期値、もしくは特徴量抽出器として実際のタスクで活用します。\n",
        "```"
      ]
    },
    {
      "cell_type": "markdown",
      "metadata": {
        "id": "TiuXz06ozvrk"
      },
      "source": [
        "上記の引用で紹介されていた転移学習の活用方法は、以下の2通りとなります。\n",
        "\n",
        "- **ConvNetをファインチューニングする** :  <br>\n",
        "    ランダムな値の代わりに訓練済みのパラメータを、訓練するネットワークの初期値として利用します。<br>\n",
        "    例えば、imagenet1000 dataset で訓練したネットワークをこの用途に使うことができます。<br>\n",
        "    訓練済みのパラメータを初期値として使う点以外は、通常通りにネットワークを訓練します。\n",
        "\n",
        "- **ConvNetを特徴量抽出器として使う** : <br> 最後の全結合層を除いて訓練済みネットワークの重みを固定します。<br>\n",
        "    次に最後の全結合層のみをランダムな重みを持つ新たなものに置き換えます。<br>\n",
        "    そして、この最終層だけを訓練します。"
      ]
    },
    {
      "cell_type": "code",
      "metadata": {
        "id": "VYwjh63Xy0hG"
      },
      "source": [
        "# License: BSD\n",
        "# Author: Sasank Chilamkurthy\n",
        "\n",
        "from __future__ import print_function, division\n",
        "\n",
        "import torch\n",
        "import torch.nn as nn\n",
        "import torch.optim as optim\n",
        "from torch.optim import lr_scheduler\n",
        "import numpy as np\n",
        "import torchvision\n",
        "from torchvision import datasets, models, transforms\n",
        "import matplotlib.pyplot as plt\n",
        "import time\n",
        "import os\n",
        "import copy\n",
        "\n",
        "plt.ion() # インタラクティブ・モード"
      ],
      "execution_count": 1,
      "outputs": []
    },
    {
      "cell_type": "markdown",
      "metadata": {
        "id": "ikBcn8CKy0hJ"
      },
      "source": [
        "データの読み込み \n",
        "----------------\n",
        "\n",
        "データの読み込みには`torchvision`と`torch.utils.data`パッケージを使用します。\n",
        "\n",
        "<br>\n",
        "\n",
        "本チュートリアルでは、課題例として**アリ**と**ハチ**の画像を分類するモデルを訓練します。\n",
        "\n",
        "アリとハチ、それぞれについて約120枚の訓練用画像があり、各クラスの評価用画像は75枚あります。\n",
        "\n",
        "通常、このデータセットの画像枚数はゼロからConvNetを訓練してモデルの性能を汎化させるには不十分です。\n",
        "\n",
        "しかし今回は転移学習（ファインチューニング）を使用するため、この量のデータセットでも効率的にモデルを汎化させることができると考えられます。\n",
        "\n",
        "なお、このデータセットはImageNetデータセットのごく一部（サブセット）です。\n",
        "\n"
      ]
    },
    {
      "cell_type": "markdown",
      "metadata": {
        "id": "1LnADOs-_rsI"
      },
      "source": [
        "**注意**：\n",
        "\n",
        "データは[`こちら`](https://download.pytorch.org/tutorial/hymenoptera_data.zip)からダウンロードして、カレントディレクトリに解凍してください。\n",
        "\n",
        "<br>\n",
        "\n",
        "（日本語訳注：日本語版チュートリアルでは、データセットをダウンロードするコードを以下に実装しています）\n",
        "_____"
      ]
    },
    {
      "cell_type": "code",
      "metadata": {
        "id": "GtUOMpyp0eRn",
        "colab": {
          "base_uri": "https://localhost:8080/"
        },
        "outputId": "fa21105f-7d1a-4f26-af56-f49904c49330"
      },
      "source": [
        "%%shell\n",
        "# データをダウンロード\n",
        "wget -P ./data https://download.pytorch.org/tutorial/hymenoptera_data.zip\n",
        "# zipファイルを解凍\n",
        "unzip ./data/hymenoptera_data.zip -d ./data"
      ],
      "execution_count": 2,
      "outputs": [
        {
          "output_type": "stream",
          "name": "stdout",
          "text": [
            "--2021-09-12 01:37:23--  https://download.pytorch.org/tutorial/hymenoptera_data.zip\n",
            "Resolving download.pytorch.org (download.pytorch.org)... 52.85.224.54, 52.85.224.68, 52.85.224.11, ...\n",
            "Connecting to download.pytorch.org (download.pytorch.org)|52.85.224.54|:443... connected.\n",
            "HTTP request sent, awaiting response... 200 OK\n",
            "Length: 47286322 (45M) [application/zip]\n",
            "Saving to: ‘./data/hymenoptera_data.zip’\n",
            "\n",
            "hymenoptera_data.zi 100%[===================>]  45.10M  55.9MB/s    in 0.8s    \n",
            "\n",
            "2021-09-12 01:37:24 (55.9 MB/s) - ‘./data/hymenoptera_data.zip’ saved [47286322/47286322]\n",
            "\n",
            "Archive:  ./data/hymenoptera_data.zip\n",
            "   creating: ./data/hymenoptera_data/\n",
            "   creating: ./data/hymenoptera_data/train/\n",
            "   creating: ./data/hymenoptera_data/train/ants/\n",
            "  inflating: ./data/hymenoptera_data/train/ants/0013035.jpg  \n",
            "  inflating: ./data/hymenoptera_data/train/ants/1030023514_aad5c608f9.jpg  \n",
            "  inflating: ./data/hymenoptera_data/train/ants/1095476100_3906d8afde.jpg  \n",
            "  inflating: ./data/hymenoptera_data/train/ants/1099452230_d1949d3250.jpg  \n",
            "  inflating: ./data/hymenoptera_data/train/ants/116570827_e9c126745d.jpg  \n",
            "  inflating: ./data/hymenoptera_data/train/ants/1225872729_6f0856588f.jpg  \n",
            "  inflating: ./data/hymenoptera_data/train/ants/1262877379_64fcada201.jpg  \n",
            "  inflating: ./data/hymenoptera_data/train/ants/1269756697_0bce92cdab.jpg  \n",
            "  inflating: ./data/hymenoptera_data/train/ants/1286984635_5119e80de1.jpg  \n",
            "  inflating: ./data/hymenoptera_data/train/ants/132478121_2a430adea2.jpg  \n",
            "  inflating: ./data/hymenoptera_data/train/ants/1360291657_dc248c5eea.jpg  \n",
            "  inflating: ./data/hymenoptera_data/train/ants/1368913450_e146e2fb6d.jpg  \n",
            "  inflating: ./data/hymenoptera_data/train/ants/1473187633_63ccaacea6.jpg  \n",
            "  inflating: ./data/hymenoptera_data/train/ants/148715752_302c84f5a4.jpg  \n",
            "  inflating: ./data/hymenoptera_data/train/ants/1489674356_09d48dde0a.jpg  \n",
            "  inflating: ./data/hymenoptera_data/train/ants/149244013_c529578289.jpg  \n",
            "  inflating: ./data/hymenoptera_data/train/ants/150801003_3390b73135.jpg  \n",
            "  inflating: ./data/hymenoptera_data/train/ants/150801171_cd86f17ed8.jpg  \n",
            "  inflating: ./data/hymenoptera_data/train/ants/154124431_65460430f2.jpg  \n",
            "  inflating: ./data/hymenoptera_data/train/ants/162603798_40b51f1654.jpg  \n",
            "  inflating: ./data/hymenoptera_data/train/ants/1660097129_384bf54490.jpg  \n",
            "  inflating: ./data/hymenoptera_data/train/ants/167890289_dd5ba923f3.jpg  \n",
            "  inflating: ./data/hymenoptera_data/train/ants/1693954099_46d4c20605.jpg  \n",
            "  inflating: ./data/hymenoptera_data/train/ants/175998972.jpg  \n",
            "  inflating: ./data/hymenoptera_data/train/ants/178538489_bec7649292.jpg  \n",
            "  inflating: ./data/hymenoptera_data/train/ants/1804095607_0341701e1c.jpg  \n",
            "  inflating: ./data/hymenoptera_data/train/ants/1808777855_2a895621d7.jpg  \n",
            "  inflating: ./data/hymenoptera_data/train/ants/188552436_605cc9b36b.jpg  \n",
            "  inflating: ./data/hymenoptera_data/train/ants/1917341202_d00a7f9af5.jpg  \n",
            "  inflating: ./data/hymenoptera_data/train/ants/1924473702_daa9aacdbe.jpg  \n",
            "  inflating: ./data/hymenoptera_data/train/ants/196057951_63bf063b92.jpg  \n",
            "  inflating: ./data/hymenoptera_data/train/ants/196757565_326437f5fe.jpg  \n",
            "  inflating: ./data/hymenoptera_data/train/ants/201558278_fe4caecc76.jpg  \n",
            "  inflating: ./data/hymenoptera_data/train/ants/201790779_527f4c0168.jpg  \n",
            "  inflating: ./data/hymenoptera_data/train/ants/2019439677_2db655d361.jpg  \n",
            "  inflating: ./data/hymenoptera_data/train/ants/207947948_3ab29d7207.jpg  \n",
            "  inflating: ./data/hymenoptera_data/train/ants/20935278_9190345f6b.jpg  \n",
            "  inflating: ./data/hymenoptera_data/train/ants/224655713_3956f7d39a.jpg  \n",
            "  inflating: ./data/hymenoptera_data/train/ants/2265824718_2c96f485da.jpg  \n",
            "  inflating: ./data/hymenoptera_data/train/ants/2265825502_fff99cfd2d.jpg  \n",
            "  inflating: ./data/hymenoptera_data/train/ants/226951206_d6bf946504.jpg  \n",
            "  inflating: ./data/hymenoptera_data/train/ants/2278278459_6b99605e50.jpg  \n",
            "  inflating: ./data/hymenoptera_data/train/ants/2288450226_a6e96e8fdf.jpg  \n",
            "  inflating: ./data/hymenoptera_data/train/ants/2288481644_83ff7e4572.jpg  \n",
            "  inflating: ./data/hymenoptera_data/train/ants/2292213964_ca51ce4bef.jpg  \n",
            "  inflating: ./data/hymenoptera_data/train/ants/24335309_c5ea483bb8.jpg  \n",
            "  inflating: ./data/hymenoptera_data/train/ants/245647475_9523dfd13e.jpg  \n",
            "  inflating: ./data/hymenoptera_data/train/ants/255434217_1b2b3fe0a4.jpg  \n",
            "  inflating: ./data/hymenoptera_data/train/ants/258217966_d9d90d18d3.jpg  \n",
            "  inflating: ./data/hymenoptera_data/train/ants/275429470_b2d7d9290b.jpg  \n",
            "  inflating: ./data/hymenoptera_data/train/ants/28847243_e79fe052cd.jpg  \n",
            "  inflating: ./data/hymenoptera_data/train/ants/318052216_84dff3f98a.jpg  \n",
            "  inflating: ./data/hymenoptera_data/train/ants/334167043_cbd1adaeb9.jpg  \n",
            "  inflating: ./data/hymenoptera_data/train/ants/339670531_94b75ae47a.jpg  \n",
            "  inflating: ./data/hymenoptera_data/train/ants/342438950_a3da61deab.jpg  \n",
            "  inflating: ./data/hymenoptera_data/train/ants/36439863_0bec9f554f.jpg  \n",
            "  inflating: ./data/hymenoptera_data/train/ants/374435068_7eee412ec4.jpg  \n",
            "  inflating: ./data/hymenoptera_data/train/ants/382971067_0bfd33afe0.jpg  \n",
            "  inflating: ./data/hymenoptera_data/train/ants/384191229_5779cf591b.jpg  \n",
            "  inflating: ./data/hymenoptera_data/train/ants/386190770_672743c9a7.jpg  \n",
            "  inflating: ./data/hymenoptera_data/train/ants/392382602_1b7bed32fa.jpg  \n",
            "  inflating: ./data/hymenoptera_data/train/ants/403746349_71384f5b58.jpg  \n",
            "  inflating: ./data/hymenoptera_data/train/ants/408393566_b5b694119b.jpg  \n",
            "  inflating: ./data/hymenoptera_data/train/ants/424119020_6d57481dab.jpg  \n",
            "  inflating: ./data/hymenoptera_data/train/ants/424873399_47658a91fb.jpg  \n",
            "  inflating: ./data/hymenoptera_data/train/ants/450057712_771b3bfc91.jpg  \n",
            "  inflating: ./data/hymenoptera_data/train/ants/45472593_bfd624f8dc.jpg  \n",
            "  inflating: ./data/hymenoptera_data/train/ants/459694881_ac657d3187.jpg  \n",
            "  inflating: ./data/hymenoptera_data/train/ants/460372577_f2f6a8c9fc.jpg  \n",
            "  inflating: ./data/hymenoptera_data/train/ants/460874319_0a45ab4d05.jpg  \n",
            "  inflating: ./data/hymenoptera_data/train/ants/466430434_4000737de9.jpg  \n",
            "  inflating: ./data/hymenoptera_data/train/ants/470127037_513711fd21.jpg  \n",
            "  inflating: ./data/hymenoptera_data/train/ants/474806473_ca6caab245.jpg  \n",
            "  inflating: ./data/hymenoptera_data/train/ants/475961153_b8c13fd405.jpg  \n",
            "  inflating: ./data/hymenoptera_data/train/ants/484293231_e53cfc0c89.jpg  \n",
            "  inflating: ./data/hymenoptera_data/train/ants/49375974_e28ba6f17e.jpg  \n",
            "  inflating: ./data/hymenoptera_data/train/ants/506249802_207cd979b4.jpg  \n",
            "  inflating: ./data/hymenoptera_data/train/ants/506249836_717b73f540.jpg  \n",
            "  inflating: ./data/hymenoptera_data/train/ants/512164029_c0a66b8498.jpg  \n",
            "  inflating: ./data/hymenoptera_data/train/ants/512863248_43c8ce579b.jpg  \n",
            "  inflating: ./data/hymenoptera_data/train/ants/518773929_734dbc5ff4.jpg  \n",
            "  inflating: ./data/hymenoptera_data/train/ants/522163566_fec115ca66.jpg  \n",
            "  inflating: ./data/hymenoptera_data/train/ants/522415432_2218f34bf8.jpg  \n",
            "  inflating: ./data/hymenoptera_data/train/ants/531979952_bde12b3bc0.jpg  \n",
            "  inflating: ./data/hymenoptera_data/train/ants/533848102_70a85ad6dd.jpg  \n",
            "  inflating: ./data/hymenoptera_data/train/ants/535522953_308353a07c.jpg  \n",
            "  inflating: ./data/hymenoptera_data/train/ants/540889389_48bb588b21.jpg  \n",
            "  inflating: ./data/hymenoptera_data/train/ants/541630764_dbd285d63c.jpg  \n",
            "  inflating: ./data/hymenoptera_data/train/ants/543417860_b14237f569.jpg  \n",
            "  inflating: ./data/hymenoptera_data/train/ants/560966032_988f4d7bc4.jpg  \n",
            "  inflating: ./data/hymenoptera_data/train/ants/5650366_e22b7e1065.jpg  \n",
            "  inflating: ./data/hymenoptera_data/train/ants/6240329_72c01e663e.jpg  \n",
            "  inflating: ./data/hymenoptera_data/train/ants/6240338_93729615ec.jpg  \n",
            "  inflating: ./data/hymenoptera_data/train/ants/649026570_e58656104b.jpg  \n",
            "  inflating: ./data/hymenoptera_data/train/ants/662541407_ff8db781e7.jpg  \n",
            "  inflating: ./data/hymenoptera_data/train/ants/67270775_e9fdf77e9d.jpg  \n",
            "  inflating: ./data/hymenoptera_data/train/ants/6743948_2b8c096dda.jpg  \n",
            "  inflating: ./data/hymenoptera_data/train/ants/684133190_35b62c0c1d.jpg  \n",
            "  inflating: ./data/hymenoptera_data/train/ants/69639610_95e0de17aa.jpg  \n",
            "  inflating: ./data/hymenoptera_data/train/ants/707895295_009cf23188.jpg  \n",
            "  inflating: ./data/hymenoptera_data/train/ants/7759525_1363d24e88.jpg  \n",
            "  inflating: ./data/hymenoptera_data/train/ants/795000156_a9900a4a71.jpg  \n",
            "  inflating: ./data/hymenoptera_data/train/ants/822537660_caf4ba5514.jpg  \n",
            "  inflating: ./data/hymenoptera_data/train/ants/82852639_52b7f7f5e3.jpg  \n",
            "  inflating: ./data/hymenoptera_data/train/ants/841049277_b28e58ad05.jpg  \n",
            "  inflating: ./data/hymenoptera_data/train/ants/886401651_f878e888cd.jpg  \n",
            "  inflating: ./data/hymenoptera_data/train/ants/892108839_f1aad4ca46.jpg  \n",
            "  inflating: ./data/hymenoptera_data/train/ants/938946700_ca1c669085.jpg  \n",
            "  inflating: ./data/hymenoptera_data/train/ants/957233405_25c1d1187b.jpg  \n",
            "  inflating: ./data/hymenoptera_data/train/ants/9715481_b3cb4114ff.jpg  \n",
            "  inflating: ./data/hymenoptera_data/train/ants/998118368_6ac1d91f81.jpg  \n",
            "  inflating: ./data/hymenoptera_data/train/ants/ant photos.jpg  \n",
            "  inflating: ./data/hymenoptera_data/train/ants/Ant_1.jpg  \n",
            "  inflating: ./data/hymenoptera_data/train/ants/army-ants-red-picture.jpg  \n",
            "  inflating: ./data/hymenoptera_data/train/ants/formica.jpeg  \n",
            "  inflating: ./data/hymenoptera_data/train/ants/hormiga_co_por.jpg  \n",
            "  inflating: ./data/hymenoptera_data/train/ants/imageNotFound.gif  \n",
            "  inflating: ./data/hymenoptera_data/train/ants/kurokusa.jpg  \n",
            "  inflating: ./data/hymenoptera_data/train/ants/MehdiabadiAnt2_600.jpg  \n",
            "  inflating: ./data/hymenoptera_data/train/ants/Nepenthes_rafflesiana_ant.jpg  \n",
            "  inflating: ./data/hymenoptera_data/train/ants/swiss-army-ant.jpg  \n",
            "  inflating: ./data/hymenoptera_data/train/ants/termite-vs-ant.jpg  \n",
            "  inflating: ./data/hymenoptera_data/train/ants/trap-jaw-ant-insect-bg.jpg  \n",
            "  inflating: ./data/hymenoptera_data/train/ants/VietnameseAntMimicSpider.jpg  \n",
            "   creating: ./data/hymenoptera_data/train/bees/\n",
            "  inflating: ./data/hymenoptera_data/train/bees/1092977343_cb42b38d62.jpg  \n",
            "  inflating: ./data/hymenoptera_data/train/bees/1093831624_fb5fbe2308.jpg  \n",
            "  inflating: ./data/hymenoptera_data/train/bees/1097045929_1753d1c765.jpg  \n",
            "  inflating: ./data/hymenoptera_data/train/bees/1232245714_f862fbe385.jpg  \n",
            "  inflating: ./data/hymenoptera_data/train/bees/129236073_0985e91c7d.jpg  \n",
            "  inflating: ./data/hymenoptera_data/train/bees/1295655112_7813f37d21.jpg  \n",
            "  inflating: ./data/hymenoptera_data/train/bees/132511197_0b86ad0fff.jpg  \n",
            "  inflating: ./data/hymenoptera_data/train/bees/132826773_dbbcb117b9.jpg  \n",
            "  inflating: ./data/hymenoptera_data/train/bees/150013791_969d9a968b.jpg  \n",
            "  inflating: ./data/hymenoptera_data/train/bees/1508176360_2972117c9d.jpg  \n",
            "  inflating: ./data/hymenoptera_data/train/bees/154600396_53e1252e52.jpg  \n",
            "  inflating: ./data/hymenoptera_data/train/bees/16838648_415acd9e3f.jpg  \n",
            "  inflating: ./data/hymenoptera_data/train/bees/1691282715_0addfdf5e8.jpg  \n",
            "  inflating: ./data/hymenoptera_data/train/bees/17209602_fe5a5a746f.jpg  \n",
            "  inflating: ./data/hymenoptera_data/train/bees/174142798_e5ad6d76e0.jpg  \n",
            "  inflating: ./data/hymenoptera_data/train/bees/1799726602_8580867f71.jpg  \n",
            "  inflating: ./data/hymenoptera_data/train/bees/1807583459_4fe92b3133.jpg  \n",
            "  inflating: ./data/hymenoptera_data/train/bees/196430254_46bd129ae7.jpg  \n",
            "  inflating: ./data/hymenoptera_data/train/bees/196658222_3fffd79c67.jpg  \n",
            "  inflating: ./data/hymenoptera_data/train/bees/198508668_97d818b6c4.jpg  \n",
            "  inflating: ./data/hymenoptera_data/train/bees/2031225713_50ed499635.jpg  \n",
            "  inflating: ./data/hymenoptera_data/train/bees/2037437624_2d7bce461f.jpg  \n",
            "  inflating: ./data/hymenoptera_data/train/bees/2053200300_8911ef438a.jpg  \n",
            "  inflating: ./data/hymenoptera_data/train/bees/205835650_e6f2614bee.jpg  \n",
            "  inflating: ./data/hymenoptera_data/train/bees/208702903_42fb4d9748.jpg  \n",
            "  inflating: ./data/hymenoptera_data/train/bees/21399619_3e61e5bb6f.jpg  \n",
            "  inflating: ./data/hymenoptera_data/train/bees/2227611847_ec72d40403.jpg  \n",
            "  inflating: ./data/hymenoptera_data/train/bees/2321139806_d73d899e66.jpg  \n",
            "  inflating: ./data/hymenoptera_data/train/bees/2330918208_8074770c20.jpg  \n",
            "  inflating: ./data/hymenoptera_data/train/bees/2345177635_caf07159b3.jpg  \n",
            "  inflating: ./data/hymenoptera_data/train/bees/2358061370_9daabbd9ac.jpg  \n",
            "  inflating: ./data/hymenoptera_data/train/bees/2364597044_3c3e3fc391.jpg  \n",
            "  inflating: ./data/hymenoptera_data/train/bees/2384149906_2cd8b0b699.jpg  \n",
            "  inflating: ./data/hymenoptera_data/train/bees/2397446847_04ef3cd3e1.jpg  \n",
            "  inflating: ./data/hymenoptera_data/train/bees/2405441001_b06c36fa72.jpg  \n",
            "  inflating: ./data/hymenoptera_data/train/bees/2445215254_51698ff797.jpg  \n",
            "  inflating: ./data/hymenoptera_data/train/bees/2452236943_255bfd9e58.jpg  \n",
            "  inflating: ./data/hymenoptera_data/train/bees/2467959963_a7831e9ff0.jpg  \n",
            "  inflating: ./data/hymenoptera_data/train/bees/2470492904_837e97800d.jpg  \n",
            "  inflating: ./data/hymenoptera_data/train/bees/2477324698_3d4b1b1cab.jpg  \n",
            "  inflating: ./data/hymenoptera_data/train/bees/2477349551_e75c97cf4d.jpg  \n",
            "  inflating: ./data/hymenoptera_data/train/bees/2486729079_62df0920be.jpg  \n",
            "  inflating: ./data/hymenoptera_data/train/bees/2486746709_c43cec0e42.jpg  \n",
            "  inflating: ./data/hymenoptera_data/train/bees/2493379287_4100e1dacc.jpg  \n",
            "  inflating: ./data/hymenoptera_data/train/bees/2495722465_879acf9d85.jpg  \n",
            "  inflating: ./data/hymenoptera_data/train/bees/2528444139_fa728b0f5b.jpg  \n",
            "  inflating: ./data/hymenoptera_data/train/bees/2538361678_9da84b77e3.jpg  \n",
            "  inflating: ./data/hymenoptera_data/train/bees/2551813042_8a070aeb2b.jpg  \n",
            "  inflating: ./data/hymenoptera_data/train/bees/2580598377_a4caecdb54.jpg  \n",
            "  inflating: ./data/hymenoptera_data/train/bees/2601176055_8464e6aa71.jpg  \n",
            "  inflating: ./data/hymenoptera_data/train/bees/2610833167_79bf0bcae5.jpg  \n",
            "  inflating: ./data/hymenoptera_data/train/bees/2610838525_fe8e3cae47.jpg  \n",
            "  inflating: ./data/hymenoptera_data/train/bees/2617161745_fa3ebe85b4.jpg  \n",
            "  inflating: ./data/hymenoptera_data/train/bees/2625499656_e3415e374d.jpg  \n",
            "  inflating: ./data/hymenoptera_data/train/bees/2634617358_f32fd16bea.jpg  \n",
            "  inflating: ./data/hymenoptera_data/train/bees/2638074627_6b3ae746a0.jpg  \n",
            "  inflating: ./data/hymenoptera_data/train/bees/2645107662_b73a8595cc.jpg  \n",
            "  inflating: ./data/hymenoptera_data/train/bees/2651621464_a2fa8722eb.jpg  \n",
            "  inflating: ./data/hymenoptera_data/train/bees/2652877533_a564830cbf.jpg  \n",
            "  inflating: ./data/hymenoptera_data/train/bees/266644509_d30bb16a1b.jpg  \n",
            "  inflating: ./data/hymenoptera_data/train/bees/2683605182_9d2a0c66cf.jpg  \n",
            "  inflating: ./data/hymenoptera_data/train/bees/2704348794_eb5d5178c2.jpg  \n",
            "  inflating: ./data/hymenoptera_data/train/bees/2707440199_cd170bd512.jpg  \n",
            "  inflating: ./data/hymenoptera_data/train/bees/2710368626_cb42882dc8.jpg  \n",
            "  inflating: ./data/hymenoptera_data/train/bees/2722592222_258d473e17.jpg  \n",
            "  inflating: ./data/hymenoptera_data/train/bees/2728759455_ce9bb8cd7a.jpg  \n",
            "  inflating: ./data/hymenoptera_data/train/bees/2756397428_1d82a08807.jpg  \n",
            "  inflating: ./data/hymenoptera_data/train/bees/2765347790_da6cf6cb40.jpg  \n",
            "  inflating: ./data/hymenoptera_data/train/bees/2781170484_5d61835d63.jpg  \n",
            "  inflating: ./data/hymenoptera_data/train/bees/279113587_b4843db199.jpg  \n",
            "  inflating: ./data/hymenoptera_data/train/bees/2792000093_e8ae0718cf.jpg  \n",
            "  inflating: ./data/hymenoptera_data/train/bees/2801728106_833798c909.jpg  \n",
            "  inflating: ./data/hymenoptera_data/train/bees/2822388965_f6dca2a275.jpg  \n",
            "  inflating: ./data/hymenoptera_data/train/bees/2861002136_52c7c6f708.jpg  \n",
            "  inflating: ./data/hymenoptera_data/train/bees/2908916142_a7ac8b57a8.jpg  \n",
            "  inflating: ./data/hymenoptera_data/train/bees/29494643_e3410f0d37.jpg  \n",
            "  inflating: ./data/hymenoptera_data/train/bees/2959730355_416a18c63c.jpg  \n",
            "  inflating: ./data/hymenoptera_data/train/bees/2962405283_22718d9617.jpg  \n",
            "  inflating: ./data/hymenoptera_data/train/bees/3006264892_30e9cced70.jpg  \n",
            "  inflating: ./data/hymenoptera_data/train/bees/3030189811_01d095b793.jpg  \n",
            "  inflating: ./data/hymenoptera_data/train/bees/3030772428_8578335616.jpg  \n",
            "  inflating: ./data/hymenoptera_data/train/bees/3044402684_3853071a87.jpg  \n",
            "  inflating: ./data/hymenoptera_data/train/bees/3074585407_9854eb3153.jpg  \n",
            "  inflating: ./data/hymenoptera_data/train/bees/3079610310_ac2d0ae7bc.jpg  \n",
            "  inflating: ./data/hymenoptera_data/train/bees/3090975720_71f12e6de4.jpg  \n",
            "  inflating: ./data/hymenoptera_data/train/bees/3100226504_c0d4f1e3f1.jpg  \n",
            "  inflating: ./data/hymenoptera_data/train/bees/342758693_c56b89b6b6.jpg  \n",
            "  inflating: ./data/hymenoptera_data/train/bees/354167719_22dca13752.jpg  \n",
            "  inflating: ./data/hymenoptera_data/train/bees/359928878_b3b418c728.jpg  \n",
            "  inflating: ./data/hymenoptera_data/train/bees/365759866_b15700c59b.jpg  \n",
            "  inflating: ./data/hymenoptera_data/train/bees/36900412_92b81831ad.jpg  \n",
            "  inflating: ./data/hymenoptera_data/train/bees/39672681_1302d204d1.jpg  \n",
            "  inflating: ./data/hymenoptera_data/train/bees/39747887_42df2855ee.jpg  \n",
            "  inflating: ./data/hymenoptera_data/train/bees/421515404_e87569fd8b.jpg  \n",
            "  inflating: ./data/hymenoptera_data/train/bees/444532809_9e931e2279.jpg  \n",
            "  inflating: ./data/hymenoptera_data/train/bees/446296270_d9e8b93ecf.jpg  \n",
            "  inflating: ./data/hymenoptera_data/train/bees/452462677_7be43af8ff.jpg  \n",
            "  inflating: ./data/hymenoptera_data/train/bees/452462695_40a4e5b559.jpg  \n",
            "  inflating: ./data/hymenoptera_data/train/bees/457457145_5f86eb7e9c.jpg  \n",
            "  inflating: ./data/hymenoptera_data/train/bees/465133211_80e0c27f60.jpg  \n",
            "  inflating: ./data/hymenoptera_data/train/bees/469333327_358ba8fe8a.jpg  \n",
            "  inflating: ./data/hymenoptera_data/train/bees/472288710_2abee16fa0.jpg  \n",
            "  inflating: ./data/hymenoptera_data/train/bees/473618094_8ffdcab215.jpg  \n",
            "  inflating: ./data/hymenoptera_data/train/bees/476347960_52edd72b06.jpg  \n",
            "  inflating: ./data/hymenoptera_data/train/bees/478701318_bbd5e557b8.jpg  \n",
            "  inflating: ./data/hymenoptera_data/train/bees/507288830_f46e8d4cb2.jpg  \n",
            "  inflating: ./data/hymenoptera_data/train/bees/509247772_2db2d01374.jpg  \n",
            "  inflating: ./data/hymenoptera_data/train/bees/513545352_fd3e7c7c5d.jpg  \n",
            "  inflating: ./data/hymenoptera_data/train/bees/522104315_5d3cb2758e.jpg  \n",
            "  inflating: ./data/hymenoptera_data/train/bees/537309131_532bfa59ea.jpg  \n",
            "  inflating: ./data/hymenoptera_data/train/bees/586041248_3032e277a9.jpg  \n",
            "  inflating: ./data/hymenoptera_data/train/bees/760526046_547e8b381f.jpg  \n",
            "  inflating: ./data/hymenoptera_data/train/bees/760568592_45a52c847f.jpg  \n",
            "  inflating: ./data/hymenoptera_data/train/bees/774440991_63a4aa0cbe.jpg  \n",
            "  inflating: ./data/hymenoptera_data/train/bees/85112639_6e860b0469.jpg  \n",
            "  inflating: ./data/hymenoptera_data/train/bees/873076652_eb098dab2d.jpg  \n",
            "  inflating: ./data/hymenoptera_data/train/bees/90179376_abc234e5f4.jpg  \n",
            "  inflating: ./data/hymenoptera_data/train/bees/92663402_37f379e57a.jpg  \n",
            "  inflating: ./data/hymenoptera_data/train/bees/95238259_98470c5b10.jpg  \n",
            "  inflating: ./data/hymenoptera_data/train/bees/969455125_58c797ef17.jpg  \n",
            "  inflating: ./data/hymenoptera_data/train/bees/98391118_bdb1e80cce.jpg  \n",
            "   creating: ./data/hymenoptera_data/val/\n",
            "   creating: ./data/hymenoptera_data/val/ants/\n",
            "  inflating: ./data/hymenoptera_data/val/ants/10308379_1b6c72e180.jpg  \n",
            "  inflating: ./data/hymenoptera_data/val/ants/1053149811_f62a3410d3.jpg  \n",
            "  inflating: ./data/hymenoptera_data/val/ants/1073564163_225a64f170.jpg  \n",
            "  inflating: ./data/hymenoptera_data/val/ants/1119630822_cd325ea21a.jpg  \n",
            "  inflating: ./data/hymenoptera_data/val/ants/1124525276_816a07c17f.jpg  \n",
            "  inflating: ./data/hymenoptera_data/val/ants/11381045_b352a47d8c.jpg  \n",
            "  inflating: ./data/hymenoptera_data/val/ants/119785936_dd428e40c3.jpg  \n",
            "  inflating: ./data/hymenoptera_data/val/ants/1247887232_edcb61246c.jpg  \n",
            "  inflating: ./data/hymenoptera_data/val/ants/1262751255_c56c042b7b.jpg  \n",
            "  inflating: ./data/hymenoptera_data/val/ants/1337725712_2eb53cd742.jpg  \n",
            "  inflating: ./data/hymenoptera_data/val/ants/1358854066_5ad8015f7f.jpg  \n",
            "  inflating: ./data/hymenoptera_data/val/ants/1440002809_b268d9a66a.jpg  \n",
            "  inflating: ./data/hymenoptera_data/val/ants/147542264_79506478c2.jpg  \n",
            "  inflating: ./data/hymenoptera_data/val/ants/152286280_411648ec27.jpg  \n",
            "  inflating: ./data/hymenoptera_data/val/ants/153320619_2aeb5fa0ee.jpg  \n",
            "  inflating: ./data/hymenoptera_data/val/ants/153783656_85f9c3ac70.jpg  \n",
            "  inflating: ./data/hymenoptera_data/val/ants/157401988_d0564a9d02.jpg  \n",
            "  inflating: ./data/hymenoptera_data/val/ants/159515240_d5981e20d1.jpg  \n",
            "  inflating: ./data/hymenoptera_data/val/ants/161076144_124db762d6.jpg  \n",
            "  inflating: ./data/hymenoptera_data/val/ants/161292361_c16e0bf57a.jpg  \n",
            "  inflating: ./data/hymenoptera_data/val/ants/170652283_ecdaff5d1a.jpg  \n",
            "  inflating: ./data/hymenoptera_data/val/ants/17081114_79b9a27724.jpg  \n",
            "  inflating: ./data/hymenoptera_data/val/ants/172772109_d0a8e15fb0.jpg  \n",
            "  inflating: ./data/hymenoptera_data/val/ants/1743840368_b5ccda82b7.jpg  \n",
            "  inflating: ./data/hymenoptera_data/val/ants/181942028_961261ef48.jpg  \n",
            "  inflating: ./data/hymenoptera_data/val/ants/183260961_64ab754c97.jpg  \n",
            "  inflating: ./data/hymenoptera_data/val/ants/2039585088_c6f47c592e.jpg  \n",
            "  inflating: ./data/hymenoptera_data/val/ants/205398178_c395c5e460.jpg  \n",
            "  inflating: ./data/hymenoptera_data/val/ants/208072188_f293096296.jpg  \n",
            "  inflating: ./data/hymenoptera_data/val/ants/209615353_eeb38ba204.jpg  \n",
            "  inflating: ./data/hymenoptera_data/val/ants/2104709400_8831b4fc6f.jpg  \n",
            "  inflating: ./data/hymenoptera_data/val/ants/212100470_b485e7b7b9.jpg  \n",
            "  inflating: ./data/hymenoptera_data/val/ants/2127908701_d49dc83c97.jpg  \n",
            "  inflating: ./data/hymenoptera_data/val/ants/2191997003_379df31291.jpg  \n",
            "  inflating: ./data/hymenoptera_data/val/ants/2211974567_ee4606b493.jpg  \n",
            "  inflating: ./data/hymenoptera_data/val/ants/2219621907_47bc7cc6b0.jpg  \n",
            "  inflating: ./data/hymenoptera_data/val/ants/2238242353_52c82441df.jpg  \n",
            "  inflating: ./data/hymenoptera_data/val/ants/2255445811_dabcdf7258.jpg  \n",
            "  inflating: ./data/hymenoptera_data/val/ants/239161491_86ac23b0a3.jpg  \n",
            "  inflating: ./data/hymenoptera_data/val/ants/263615709_cfb28f6b8e.jpg  \n",
            "  inflating: ./data/hymenoptera_data/val/ants/308196310_1db5ffa01b.jpg  \n",
            "  inflating: ./data/hymenoptera_data/val/ants/319494379_648fb5a1c6.jpg  \n",
            "  inflating: ./data/hymenoptera_data/val/ants/35558229_1fa4608a7a.jpg  \n",
            "  inflating: ./data/hymenoptera_data/val/ants/412436937_4c2378efc2.jpg  \n",
            "  inflating: ./data/hymenoptera_data/val/ants/436944325_d4925a38c7.jpg  \n",
            "  inflating: ./data/hymenoptera_data/val/ants/445356866_6cb3289067.jpg  \n",
            "  inflating: ./data/hymenoptera_data/val/ants/459442412_412fecf3fe.jpg  \n",
            "  inflating: ./data/hymenoptera_data/val/ants/470127071_8b8ee2bd74.jpg  \n",
            "  inflating: ./data/hymenoptera_data/val/ants/477437164_bc3e6e594a.jpg  \n",
            "  inflating: ./data/hymenoptera_data/val/ants/488272201_c5aa281348.jpg  \n",
            "  inflating: ./data/hymenoptera_data/val/ants/502717153_3e4865621a.jpg  \n",
            "  inflating: ./data/hymenoptera_data/val/ants/518746016_bcc28f8b5b.jpg  \n",
            "  inflating: ./data/hymenoptera_data/val/ants/540543309_ddbb193ee5.jpg  \n",
            "  inflating: ./data/hymenoptera_data/val/ants/562589509_7e55469b97.jpg  \n",
            "  inflating: ./data/hymenoptera_data/val/ants/57264437_a19006872f.jpg  \n",
            "  inflating: ./data/hymenoptera_data/val/ants/573151833_ebbc274b77.jpg  \n",
            "  inflating: ./data/hymenoptera_data/val/ants/649407494_9b6bc4949f.jpg  \n",
            "  inflating: ./data/hymenoptera_data/val/ants/751649788_78dd7d16ce.jpg  \n",
            "  inflating: ./data/hymenoptera_data/val/ants/768870506_8f115d3d37.jpg  \n",
            "  inflating: ./data/hymenoptera_data/val/ants/800px-Meat_eater_ant_qeen_excavating_hole.jpg  \n",
            "  inflating: ./data/hymenoptera_data/val/ants/8124241_36b290d372.jpg  \n",
            "  inflating: ./data/hymenoptera_data/val/ants/8398478_50ef10c47a.jpg  \n",
            "  inflating: ./data/hymenoptera_data/val/ants/854534770_31f6156383.jpg  \n",
            "  inflating: ./data/hymenoptera_data/val/ants/892676922_4ab37dce07.jpg  \n",
            "  inflating: ./data/hymenoptera_data/val/ants/94999827_36895faade.jpg  \n",
            "  inflating: ./data/hymenoptera_data/val/ants/Ant-1818.jpg  \n",
            "  inflating: ./data/hymenoptera_data/val/ants/ants-devouring-remains-of-large-dead-insect-on-red-tile-in-Stellenbosch-South-Africa-closeup-1-DHD.jpg  \n",
            "  inflating: ./data/hymenoptera_data/val/ants/desert_ant.jpg  \n",
            "  inflating: ./data/hymenoptera_data/val/ants/F.pergan.28(f).jpg  \n",
            "  inflating: ./data/hymenoptera_data/val/ants/Hormiga.jpg  \n",
            "   creating: ./data/hymenoptera_data/val/bees/\n",
            "  inflating: ./data/hymenoptera_data/val/bees/1032546534_06907fe3b3.jpg  \n",
            "  inflating: ./data/hymenoptera_data/val/bees/10870992_eebeeb3a12.jpg  \n",
            "  inflating: ./data/hymenoptera_data/val/bees/1181173278_23c36fac71.jpg  \n",
            "  inflating: ./data/hymenoptera_data/val/bees/1297972485_33266a18d9.jpg  \n",
            "  inflating: ./data/hymenoptera_data/val/bees/1328423762_f7a88a8451.jpg  \n",
            "  inflating: ./data/hymenoptera_data/val/bees/1355974687_1341c1face.jpg  \n",
            "  inflating: ./data/hymenoptera_data/val/bees/144098310_a4176fd54d.jpg  \n",
            "  inflating: ./data/hymenoptera_data/val/bees/1486120850_490388f84b.jpg  \n",
            "  inflating: ./data/hymenoptera_data/val/bees/149973093_da3c446268.jpg  \n",
            "  inflating: ./data/hymenoptera_data/val/bees/151594775_ee7dc17b60.jpg  \n",
            "  inflating: ./data/hymenoptera_data/val/bees/151603988_2c6f7d14c7.jpg  \n",
            "  inflating: ./data/hymenoptera_data/val/bees/1519368889_4270261ee3.jpg  \n",
            "  inflating: ./data/hymenoptera_data/val/bees/152789693_220b003452.jpg  \n",
            "  inflating: ./data/hymenoptera_data/val/bees/177677657_a38c97e572.jpg  \n",
            "  inflating: ./data/hymenoptera_data/val/bees/1799729694_0c40101071.jpg  \n",
            "  inflating: ./data/hymenoptera_data/val/bees/181171681_c5a1a82ded.jpg  \n",
            "  inflating: ./data/hymenoptera_data/val/bees/187130242_4593a4c610.jpg  \n",
            "  inflating: ./data/hymenoptera_data/val/bees/203868383_0fcbb48278.jpg  \n",
            "  inflating: ./data/hymenoptera_data/val/bees/2060668999_e11edb10d0.jpg  \n",
            "  inflating: ./data/hymenoptera_data/val/bees/2086294791_6f3789d8a6.jpg  \n",
            "  inflating: ./data/hymenoptera_data/val/bees/2103637821_8d26ee6b90.jpg  \n",
            "  inflating: ./data/hymenoptera_data/val/bees/2104135106_a65eede1de.jpg  \n",
            "  inflating: ./data/hymenoptera_data/val/bees/215512424_687e1e0821.jpg  \n",
            "  inflating: ./data/hymenoptera_data/val/bees/2173503984_9c6aaaa7e2.jpg  \n",
            "  inflating: ./data/hymenoptera_data/val/bees/220376539_20567395d8.jpg  \n",
            "  inflating: ./data/hymenoptera_data/val/bees/224841383_d050f5f510.jpg  \n",
            "  inflating: ./data/hymenoptera_data/val/bees/2321144482_f3785ba7b2.jpg  \n",
            "  inflating: ./data/hymenoptera_data/val/bees/238161922_55fa9a76ae.jpg  \n",
            "  inflating: ./data/hymenoptera_data/val/bees/2407809945_fb525ef54d.jpg  \n",
            "  inflating: ./data/hymenoptera_data/val/bees/2415414155_1916f03b42.jpg  \n",
            "  inflating: ./data/hymenoptera_data/val/bees/2438480600_40a1249879.jpg  \n",
            "  inflating: ./data/hymenoptera_data/val/bees/2444778727_4b781ac424.jpg  \n",
            "  inflating: ./data/hymenoptera_data/val/bees/2457841282_7867f16639.jpg  \n",
            "  inflating: ./data/hymenoptera_data/val/bees/2470492902_3572c90f75.jpg  \n",
            "  inflating: ./data/hymenoptera_data/val/bees/2478216347_535c8fe6d7.jpg  \n",
            "  inflating: ./data/hymenoptera_data/val/bees/2501530886_e20952b97d.jpg  \n",
            "  inflating: ./data/hymenoptera_data/val/bees/2506114833_90a41c5267.jpg  \n",
            "  inflating: ./data/hymenoptera_data/val/bees/2509402554_31821cb0b6.jpg  \n",
            "  inflating: ./data/hymenoptera_data/val/bees/2525379273_dcb26a516d.jpg  \n",
            "  inflating: ./data/hymenoptera_data/val/bees/26589803_5ba7000313.jpg  \n",
            "  inflating: ./data/hymenoptera_data/val/bees/2668391343_45e272cd07.jpg  \n",
            "  inflating: ./data/hymenoptera_data/val/bees/2670536155_c170f49cd0.jpg  \n",
            "  inflating: ./data/hymenoptera_data/val/bees/2685605303_9eed79d59d.jpg  \n",
            "  inflating: ./data/hymenoptera_data/val/bees/2702408468_d9ed795f4f.jpg  \n",
            "  inflating: ./data/hymenoptera_data/val/bees/2709775832_85b4b50a57.jpg  \n",
            "  inflating: ./data/hymenoptera_data/val/bees/2717418782_bd83307d9f.jpg  \n",
            "  inflating: ./data/hymenoptera_data/val/bees/272986700_d4d4bf8c4b.jpg  \n",
            "  inflating: ./data/hymenoptera_data/val/bees/2741763055_9a7bb00802.jpg  \n",
            "  inflating: ./data/hymenoptera_data/val/bees/2745389517_250a397f31.jpg  \n",
            "  inflating: ./data/hymenoptera_data/val/bees/2751836205_6f7b5eff30.jpg  \n",
            "  inflating: ./data/hymenoptera_data/val/bees/2782079948_8d4e94a826.jpg  \n",
            "  inflating: ./data/hymenoptera_data/val/bees/2809496124_5f25b5946a.jpg  \n",
            "  inflating: ./data/hymenoptera_data/val/bees/2815838190_0a9889d995.jpg  \n",
            "  inflating: ./data/hymenoptera_data/val/bees/2841437312_789699c740.jpg  \n",
            "  inflating: ./data/hymenoptera_data/val/bees/2883093452_7e3a1eb53f.jpg  \n",
            "  inflating: ./data/hymenoptera_data/val/bees/290082189_f66cb80bfc.jpg  \n",
            "  inflating: ./data/hymenoptera_data/val/bees/296565463_d07a7bed96.jpg  \n",
            "  inflating: ./data/hymenoptera_data/val/bees/3077452620_548c79fda0.jpg  \n",
            "  inflating: ./data/hymenoptera_data/val/bees/348291597_ee836fbb1a.jpg  \n",
            "  inflating: ./data/hymenoptera_data/val/bees/350436573_41f4ecb6c8.jpg  \n",
            "  inflating: ./data/hymenoptera_data/val/bees/353266603_d3eac7e9a0.jpg  \n",
            "  inflating: ./data/hymenoptera_data/val/bees/372228424_16da1f8884.jpg  \n",
            "  inflating: ./data/hymenoptera_data/val/bees/400262091_701c00031c.jpg  \n",
            "  inflating: ./data/hymenoptera_data/val/bees/416144384_961c326481.jpg  \n",
            "  inflating: ./data/hymenoptera_data/val/bees/44105569_16720a960c.jpg  \n",
            "  inflating: ./data/hymenoptera_data/val/bees/456097971_860949c4fc.jpg  \n",
            "  inflating: ./data/hymenoptera_data/val/bees/464594019_1b24a28bb1.jpg  \n",
            "  inflating: ./data/hymenoptera_data/val/bees/485743562_d8cc6b8f73.jpg  \n",
            "  inflating: ./data/hymenoptera_data/val/bees/540976476_844950623f.jpg  \n",
            "  inflating: ./data/hymenoptera_data/val/bees/54736755_c057723f64.jpg  \n",
            "  inflating: ./data/hymenoptera_data/val/bees/57459255_752774f1b2.jpg  \n",
            "  inflating: ./data/hymenoptera_data/val/bees/576452297_897023f002.jpg  \n",
            "  inflating: ./data/hymenoptera_data/val/bees/586474709_ae436da045.jpg  \n",
            "  inflating: ./data/hymenoptera_data/val/bees/590318879_68cf112861.jpg  \n",
            "  inflating: ./data/hymenoptera_data/val/bees/59798110_2b6a3c8031.jpg  \n",
            "  inflating: ./data/hymenoptera_data/val/bees/603709866_a97c7cfc72.jpg  \n",
            "  inflating: ./data/hymenoptera_data/val/bees/603711658_4c8cd2201e.jpg  \n",
            "  inflating: ./data/hymenoptera_data/val/bees/65038344_52a45d090d.jpg  \n",
            "  inflating: ./data/hymenoptera_data/val/bees/6a00d8341c630a53ef00e553d0beb18834-800wi.jpg  \n",
            "  inflating: ./data/hymenoptera_data/val/bees/72100438_73de9f17af.jpg  \n",
            "  inflating: ./data/hymenoptera_data/val/bees/759745145_e8bc776ec8.jpg  \n",
            "  inflating: ./data/hymenoptera_data/val/bees/936182217_c4caa5222d.jpg  \n",
            "  inflating: ./data/hymenoptera_data/val/bees/abeja.jpg  \n"
          ]
        },
        {
          "output_type": "execute_result",
          "data": {
            "text/plain": [
              ""
            ]
          },
          "metadata": {},
          "execution_count": 2
        }
      ]
    },
    {
      "cell_type": "code",
      "metadata": {
        "id": "9MYfnOZ7y0hK",
        "colab": {
          "base_uri": "https://localhost:8080/"
        },
        "outputId": "8b3976cb-6836-4847-a53c-e84d1ff683ee"
      },
      "source": [
        "# 訓練データ用のデータ拡張と正規化\n",
        "# 検証データ用には正規化のみ実施\n",
        "data_transforms = {\n",
        "    'train': transforms.Compose([\n",
        "        transforms.RandomResizedCrop(224),\n",
        "        transforms.RandomHorizontalFlip(),\n",
        "        transforms.ToTensor(),\n",
        "        transforms.Normalize([0.485, 0.456, 0.406], [0.229, 0.224, 0.225])\n",
        "    ]),\n",
        "    'val': transforms.Compose([\n",
        "        transforms.Resize(256),\n",
        "        transforms.CenterCrop(224),\n",
        "        transforms.ToTensor(),\n",
        "        transforms.Normalize([0.485, 0.456, 0.406], [0.229, 0.224, 0.225])\n",
        "    ]),\n",
        "}\n",
        "\n",
        "data_dir = 'data/hymenoptera_data'\n",
        "image_datasets = {x: datasets.ImageFolder(os.path.join(data_dir, x),data_transforms[x])\n",
        "                  for x in ['train', 'val']}\n",
        "dataloaders = {x: torch.utils.data.DataLoader(image_datasets[x], batch_size=4,\n",
        "                                             shuffle=True, num_workers=4)\n",
        "              for x in ['train', 'val']}\n",
        "dataset_sizes = {x: len(image_datasets[x]) for x in ['train', 'val']}\n",
        "class_names = image_datasets['train'].classes\n",
        "\n",
        "device = torch.device(\"cuda:0\" if torch.cuda.is_available() else \"cpu\")"
      ],
      "execution_count": 3,
      "outputs": [
        {
          "output_type": "stream",
          "name": "stderr",
          "text": [
            "/usr/local/lib/python3.7/dist-packages/torch/utils/data/dataloader.py:481: UserWarning: This DataLoader will create 4 worker processes in total. Our suggested max number of worker in current system is 2, which is smaller than what this DataLoader is going to create. Please be aware that excessive worker creation might get DataLoader running slow or even freeze, lower the worker number to avoid potential slowness/freeze if necessary.\n",
            "  cpuset_checked))\n"
          ]
        }
      ]
    },
    {
      "cell_type": "markdown",
      "metadata": {
        "id": "6qlMR8fxy0hM"
      },
      "source": [
        "### 画像の可視化\n",
        "\n",
        "データ拡張（もしくはデータオーギュメンテーションと呼ぶ：Data Augmentation）を理解するために、いくつかの訓練画像を可視化してみましょう。"
      ]
    },
    {
      "cell_type": "code",
      "metadata": {
        "id": "vwDHbrhRy0hN",
        "colab": {
          "base_uri": "https://localhost:8080/",
          "height": 202
        },
        "outputId": "d624087b-2e9f-41d4-ef4a-590d1bc40c11"
      },
      "source": [
        "def imshow(inp, title=None):\n",
        "    \"\"\"Imshow for Tensor.\"\"\"\n",
        "    inp = inp.numpy().transpose((1, 2, 0))\n",
        "    mean = np.array([0.485, 0.456, 0.406])\n",
        "    std = np.array([0.229, 0.224, 0.225])\n",
        "    inp = std * inp + mean\n",
        "    inp = np.clip(inp, 0, 1)\n",
        "    plt.imshow(inp)\n",
        "    if title is not None:\n",
        "        plt.title(title)\n",
        "    plt.pause(0.001)  # プロット図が更新されるように少しだけ一時停止\n",
        "\n",
        "\n",
        "# 訓練データのバッチを取得する\n",
        "inputs, classes = next(iter(dataloaders['train']))\n",
        "\n",
        "# バッチからグリッドを作成する\n",
        "out = torchvision.utils.make_grid(inputs)\n",
        "\n",
        "imshow(out, title=[class_names[x] for x in classes])"
      ],
      "execution_count": 4,
      "outputs": [
        {
          "output_type": "stream",
          "name": "stderr",
          "text": [
            "/usr/local/lib/python3.7/dist-packages/torch/utils/data/dataloader.py:481: UserWarning: This DataLoader will create 4 worker processes in total. Our suggested max number of worker in current system is 2, which is smaller than what this DataLoader is going to create. Please be aware that excessive worker creation might get DataLoader running slow or even freeze, lower the worker number to avoid potential slowness/freeze if necessary.\n",
            "  cpuset_checked))\n"
          ]
        },
        {
          "output_type": "display_data",
          "data": {
            "image/png": "[encoded data removed]",
            "text/plain": [
              "<Figure size 432x288 with 1 Axes>"
            ]
          },
          "metadata": {
            "needs_background": "light"
          }
        }
      ]
    },
    {
      "cell_type": "markdown",
      "metadata": {
        "id": "Ng3MIlapy0hP"
      },
      "source": [
        "モデルの訓練\n",
        "--------------------\n",
        "\n",
        "それではモデルの訓練用に、一般的な関数実装しましょう。\n",
        "\n",
        "以下のサンプルコードでは、次の内容を実装しています。\n",
        "\n",
        "-   学習率のスケジューリング\n",
        "-   ベストモデルの保存\n",
        "\n",
        "サンプルコードの`scheduler`という変数は、学習率をスケジュールするオブジェクト（学習率を特定のタイミングで変更する）です。\n",
        "\n",
        "`torch.optim.lr_scheduler`クラスからインスタンス化して作られています。"
      ]
    },
    {
      "cell_type": "code",
      "metadata": {
        "id": "maQOubIky0hQ"
      },
      "source": [
        "def train_model(model, criterion, optimizer, scheduler, num_epochs=25):\n",
        "    since = time.time()\n",
        "\n",
        "    best_model_wts = copy.deepcopy(model.state_dict())\n",
        "    best_acc = 0.0\n",
        "\n",
        "    for epoch in range(num_epochs):\n",
        "        print('Epoch {}/{}'.format(epoch, num_epochs - 1))\n",
        "        print('-' * 10)\n",
        "\n",
        "        # 各エポックには訓練フェーズと検証フェーズがあります\n",
        "        for phase in ['train', 'val']:\n",
        "            if phase == 'train':\n",
        "                model.train()  # モデルを訓練モードに設定します\n",
        "            else:\n",
        "                model.eval()   # モードを評価するモデルを設定します\n",
        "\n",
        "            running_loss = 0.0\n",
        "            running_corrects = 0\n",
        "\n",
        "            # データをイレテートします\n",
        "            for inputs, labels in dataloaders[phase]:\n",
        "                inputs = inputs.to(device)\n",
        "                labels = labels.to(device)\n",
        "\n",
        "                # パラメータの勾配をゼロにします\n",
        "                optimizer.zero_grad()\n",
        "\n",
        "                # 順伝播\n",
        "                # 訓練の時だけ、履歴を保持します\n",
        "                with torch.set_grad_enabled(phase == 'train'):\n",
        "                    outputs = model(inputs)\n",
        "                    _, preds = torch.max(outputs, 1)\n",
        "                    loss = criterion(outputs, labels)\n",
        "\n",
        "                    # 訓練の時だけ逆伝播＋オプティマイズを行います\n",
        "                    if phase == 'train':\n",
        "                        loss.backward()\n",
        "                        optimizer.step()\n",
        "\n",
        "                # 損失を計算します\n",
        "                running_loss += loss.item() * inputs.size(0)\n",
        "                running_corrects += torch.sum(preds == labels.data)\n",
        "            if phase == 'train':\n",
        "                scheduler.step()\n",
        "\n",
        "            epoch_loss = running_loss / dataset_sizes[phase]\n",
        "            epoch_acc = running_corrects.double() / dataset_sizes[phase]\n",
        "\n",
        "            print('{} Loss: {:.4f} Acc: {:.4f}'.format(\n",
        "                phase, epoch_loss, epoch_acc))\n",
        "\n",
        "            # モデルをディープ・コピーします\n",
        "            if phase == 'val' and epoch_acc > best_acc:\n",
        "                best_acc = epoch_acc\n",
        "                best_model_wts = copy.deepcopy(model.state_dict())\n",
        "\n",
        "        print()\n",
        "\n",
        "    time_elapsed = time.time() - since\n",
        "    print('Training complete in {:.0f}m {:.0f}s'.format(\n",
        "        time_elapsed // 60, time_elapsed % 60))\n",
        "    print('Best val Acc: {:4f}'.format(best_acc))\n",
        "\n",
        "    # ベストモデルの重みをロードします\n",
        "    model.load_state_dict(best_model_wts)\n",
        "    return model"
      ],
      "execution_count": 5,
      "outputs": []
    },
    {
      "cell_type": "markdown",
      "metadata": {
        "id": "pYuWF4Vuy0hT"
      },
      "source": [
        "### モデル予測値の可視化\n",
        "\n",
        "適当な数枚の画像に対する予測結果を表示する、汎用的な関数を実装します。"
      ]
    },
    {
      "cell_type": "code",
      "metadata": {
        "id": "ESTgO9xSy0hT"
      },
      "source": [
        "def visualize_model(model, num_images=6):\n",
        "    was_training = model.training\n",
        "    model.eval()\n",
        "    images_so_far = 0\n",
        "    fig = plt.figure()\n",
        "\n",
        "    with torch.no_grad():\n",
        "        for i, (inputs, labels) in enumerate(dataloaders['val']):\n",
        "            inputs = inputs.to(device)\n",
        "            labels = labels.to(device)\n",
        "\n",
        "            outputs = model(inputs)\n",
        "            _, preds = torch.max(outputs, 1)\n",
        "\n",
        "            for j in range(inputs.size()[0]):\n",
        "                images_so_far += 1\n",
        "                ax = plt.subplot(num_images//2, 2, images_so_far)\n",
        "                ax.axis('off')\n",
        "                ax.set_title('predicted: {}'.format(class_names[preds[j]]))\n",
        "                imshow(inputs.cpu().data[j])\n",
        "\n",
        "                if images_so_far == num_images:\n",
        "                    model.train(mode=was_training)\n",
        "                    return\n",
        "        model.train(mode=was_training)"
      ],
      "execution_count": 6,
      "outputs": []
    },
    {
      "cell_type": "markdown",
      "metadata": {
        "id": "Txn_AjQ_y0hW"
      },
      "source": [
        "ConvNetをファインチューニングする方法\n",
        "--------------------\n",
        "\n",
        "訓練済みモデルをロードし、最後の全結合層を新しいものに置き換えます。"
      ]
    },
    {
      "cell_type": "code",
      "metadata": {
        "id": "XKQcmN2My0hW",
        "colab": {
          "base_uri": "https://localhost:8080/",
          "height": 86,
          "referenced_widgets": [
            "7b55407a07dc4420a9700a67d344c205",
            "8e5f43b0e3e84adfb6f1838d6efdc96d",
            "fe102693190b4eaa836359eba9e9d72a",
            "ae08943964054c5686fc8fff382889d1",
            "cf8b033b60914361ad4a1afc109f7dc7",
            "54adaa486c3048a0a1f2abf449ff5820",
            "15c8b23c213e407a99eb8093cd78146a",
            "df78fe3fba324081804420cc2663398f",
            "4ec70855fcfa4368ada9a55969cdc12c",
            "bd72e89448ba4d0d92ea48aa993bf174",
            "0838f5c94cd04948aeb82107df11858f"
          ]
        },
        "outputId": "4d34cc54-a64b-42da-9eec-f1fd958129f3"
      },
      "source": [
        "model_ft = models.resnet18(pretrained=True)\n",
        "num_ftrs = model_ft.fc.in_features\n",
        "# ここでは，各出力サンプルのサイズは2に設定されています\n",
        "# なお、NN.Linear(num_ftrs, len(class_names))という書き方で一般化することもできます。\n",
        "model_ft.fc = nn.Linear(num_ftrs, 2)\n",
        "\n",
        "model_ft = model_ft.to(device)\n",
        "\n",
        "criterion = nn.CrossEntropyLoss()\n",
        "\n",
        "# ネットワークのすべてのパラメータが最適化対象です\n",
        "optimizer_ft = optim.SGD(model_ft.parameters(), lr=0.001, momentum=0.9)\n",
        "\n",
        "# 7エポックごとに学習率を1/10ずつ減衰させます\n",
        "exp_lr_scheduler = lr_scheduler.StepLR(optimizer_ft, step_size=7, gamma=0.1)"
      ],
      "execution_count": 7,
      "outputs": [
        {
          "output_type": "stream",
          "name": "stderr",
          "text": [
            "Downloading: \"https://download.pytorch.org/models/resnet18-f37072fd.pth\" to /root/.cache/torch/hub/checkpoints/resnet18-f37072fd.pth\n"
          ]
        },
        {
          "output_type": "display_data",
          "data": {
            "application/vnd.jupyter.widget-view+json": {
              "model_id": "7b55407a07dc4420a9700a67d344c205",
              "version_minor": 0,
              "version_major": 2
            },
            "text/plain": [
              "  0%|          | 0.00/44.7M [00:00<?, ?B/s]"
            ]
          },
          "metadata": {}
        }
      ]
    },
    {
      "cell_type": "markdown",
      "metadata": {
        "id": "GyQQsnrTy0ha"
      },
      "source": [
        "### 訓練と評価\n",
        "\n",
        "訓練と評価にかかる時間はCPU環境では15～25分くらいで、GPU環境では1分未満です。\n",
        "\n",
        "（日本語訳注：本ノートブックはGoogle ColaboratoryのGPU設定で保存しています）"
      ]
    },
    {
      "cell_type": "code",
      "metadata": {
        "id": "GD8pRINdy0hb",
        "colab": {
          "base_uri": "https://localhost:8080/"
        },
        "outputId": "a91cf9b3-e982-4133-85eb-2fe90c19ad0d"
      },
      "source": [
        "model_ft = train_model(model_ft, criterion, optimizer_ft, exp_lr_scheduler,\n",
        "                       num_epochs=25)"
      ],
      "execution_count": 8,
      "outputs": [
        {
          "output_type": "stream",
          "name": "stdout",
          "text": [
            "Epoch 0/24\n",
            "----------\n"
          ]
        },
        {
          "output_type": "stream",
          "name": "stderr",
          "text": [
            "/usr/local/lib/python3.7/dist-packages/torch/utils/data/dataloader.py:481: UserWarning: This DataLoader will create 4 worker processes in total. Our suggested max number of worker in current system is 2, which is smaller than what this DataLoader is going to create. Please be aware that excessive worker creation might get DataLoader running slow or even freeze, lower the worker number to avoid potential slowness/freeze if necessary.\n",
            "  cpuset_checked))\n",
            "/usr/local/lib/python3.7/dist-packages/torch/nn/functional.py:718: UserWarning: Named tensors and all their associated APIs are an experimental feature and subject to change. Please do not use them for anything important until they are released as stable. (Triggered internally at  /pytorch/c10/core/TensorImpl.h:1156.)\n",
            "  return torch.max_pool2d(input, kernel_size, stride, padding, dilation, ceil_mode)\n"
          ]
        },
        {
          "output_type": "stream",
          "name": "stdout",
          "text": [
            "train Loss: 0.5374 Acc: 0.6967\n",
            "val Loss: 0.1741 Acc: 0.9412\n",
            "\n",
            "Epoch 1/24\n",
            "----------\n",
            "train Loss: 0.4204 Acc: 0.8279\n",
            "val Loss: 0.2400 Acc: 0.9020\n",
            "\n",
            "Epoch 2/24\n",
            "----------\n",
            "train Loss: 0.3923 Acc: 0.8770\n",
            "val Loss: 0.3742 Acc: 0.8431\n",
            "\n",
            "Epoch 3/24\n",
            "----------\n",
            "train Loss: 0.3969 Acc: 0.8566\n",
            "val Loss: 0.2858 Acc: 0.8758\n",
            "\n",
            "Epoch 4/24\n",
            "----------\n",
            "train Loss: 0.4358 Acc: 0.8074\n",
            "val Loss: 0.2239 Acc: 0.9216\n",
            "\n",
            "Epoch 5/24\n",
            "----------\n",
            "train Loss: 0.6006 Acc: 0.7623\n",
            "val Loss: 0.3728 Acc: 0.8301\n",
            "\n",
            "Epoch 6/24\n",
            "----------\n",
            "train Loss: 0.5028 Acc: 0.7951\n",
            "val Loss: 0.3061 Acc: 0.9020\n",
            "\n",
            "Epoch 7/24\n",
            "----------\n",
            "train Loss: 0.4785 Acc: 0.8402\n",
            "val Loss: 0.1971 Acc: 0.9346\n",
            "\n",
            "Epoch 8/24\n",
            "----------\n",
            "train Loss: 0.3536 Acc: 0.8893\n",
            "val Loss: 0.1973 Acc: 0.9281\n",
            "\n",
            "Epoch 9/24\n",
            "----------\n",
            "train Loss: 0.4067 Acc: 0.8607\n",
            "val Loss: 0.2142 Acc: 0.9216\n",
            "\n",
            "Epoch 10/24\n",
            "----------\n",
            "train Loss: 0.3669 Acc: 0.8607\n",
            "val Loss: 0.1663 Acc: 0.9412\n",
            "\n",
            "Epoch 11/24\n",
            "----------\n",
            "train Loss: 0.3562 Acc: 0.8607\n",
            "val Loss: 0.1710 Acc: 0.9477\n",
            "\n",
            "Epoch 12/24\n",
            "----------\n",
            "train Loss: 0.3426 Acc: 0.8770\n",
            "val Loss: 0.1540 Acc: 0.9477\n",
            "\n",
            "Epoch 13/24\n",
            "----------\n",
            "train Loss: 0.2812 Acc: 0.8934\n",
            "val Loss: 0.1551 Acc: 0.9412\n",
            "\n",
            "Epoch 14/24\n",
            "----------\n",
            "train Loss: 0.3579 Acc: 0.8525\n",
            "val Loss: 0.1593 Acc: 0.9412\n",
            "\n",
            "Epoch 15/24\n",
            "----------\n",
            "train Loss: 0.2513 Acc: 0.8975\n",
            "val Loss: 0.1649 Acc: 0.9412\n",
            "\n",
            "Epoch 16/24\n",
            "----------\n",
            "train Loss: 0.2553 Acc: 0.8975\n",
            "val Loss: 0.1486 Acc: 0.9412\n",
            "\n",
            "Epoch 17/24\n",
            "----------\n",
            "train Loss: 0.2115 Acc: 0.9098\n",
            "val Loss: 0.1630 Acc: 0.9346\n",
            "\n",
            "Epoch 18/24\n",
            "----------\n",
            "train Loss: 0.2404 Acc: 0.8730\n",
            "val Loss: 0.1601 Acc: 0.9542\n",
            "\n",
            "Epoch 19/24\n",
            "----------\n",
            "train Loss: 0.2477 Acc: 0.8893\n",
            "val Loss: 0.1575 Acc: 0.9542\n",
            "\n",
            "Epoch 20/24\n",
            "----------\n",
            "train Loss: 0.3016 Acc: 0.8811\n",
            "val Loss: 0.1650 Acc: 0.9412\n",
            "\n",
            "Epoch 21/24\n",
            "----------\n",
            "train Loss: 0.2793 Acc: 0.8975\n",
            "val Loss: 0.1608 Acc: 0.9477\n",
            "\n",
            "Epoch 22/24\n",
            "----------\n",
            "train Loss: 0.2895 Acc: 0.8852\n",
            "val Loss: 0.1653 Acc: 0.9412\n",
            "\n",
            "Epoch 23/24\n",
            "----------\n",
            "train Loss: 0.3148 Acc: 0.8607\n",
            "val Loss: 0.1519 Acc: 0.9412\n",
            "\n",
            "Epoch 24/24\n",
            "----------\n",
            "train Loss: 0.2435 Acc: 0.8770\n",
            "val Loss: 0.1362 Acc: 0.9542\n",
            "\n",
            "Training complete in 2m 31s\n",
            "Best val Acc: 0.954248\n"
          ]
        }
      ]
    },
    {
      "cell_type": "code",
      "metadata": {
        "id": "SuPP36P8y0he",
        "colab": {
          "base_uri": "https://localhost:8080/",
          "height": 635
        },
        "outputId": "8c017e38-a2c9-4c6d-d444-85a5ca07fd78"
      },
      "source": [
        "visualize_model(model_ft)"
      ],
      "execution_count": 9,
      "outputs": [
        {
          "output_type": "stream",
          "name": "stderr",
          "text": [
            "/usr/local/lib/python3.7/dist-packages/torch/utils/data/dataloader.py:481: UserWarning: This DataLoader will create 4 worker processes in total. Our suggested max number of worker in current system is 2, which is smaller than what this DataLoader is going to create. Please be aware that excessive worker creation might get DataLoader running slow or even freeze, lower the worker number to avoid potential slowness/freeze if necessary.\n",
            "  cpuset_checked))\n"
          ]
        },
        {
          "output_type": "display_data",
          "data": {
            "image/png": "[encoded data removed]",
            "text/plain": [
              "<Figure size 432x288 with 1 Axes>"
            ]
          },
          "metadata": {
            "needs_background": "light"
          }
        },
        {
          "output_type": "display_data",
          "data": {
            "image/png": "[encoded data removed]",
            "text/plain": [
              "<Figure size 432x288 with 1 Axes>"
            ]
          },
          "metadata": {
            "needs_background": "light"
          }
        },
        {
          "output_type": "display_data",
          "data": {
            "image/png": "[encoded data removed]",
            "text/plain": [
              "<Figure size 432x288 with 1 Axes>"
            ]
          },
          "metadata": {
            "needs_background": "light"
          }
        },
        {
          "output_type": "display_data",
          "data": {
            "image/png": "[encoded data removed]",
            "text/plain": [
              "<Figure size 432x288 with 1 Axes>"
            ]
          },
          "metadata": {
            "needs_background": "light"
          }
        },
        {
          "output_type": "display_data",
          "data": {
            "image/png": "[encoded data removed]",
            "text/plain": [
              "<Figure size 432x288 with 1 Axes>"
            ]
          },
          "metadata": {
            "needs_background": "light"
          }
        },
        {
          "output_type": "display_data",
          "data": {
            "image/png": "[encoded data removed]",
            "text/plain": [
              "<Figure size 432x288 with 1 Axes>"
            ]
          },
          "metadata": {
            "needs_background": "light"
          }
        }
      ]
    },
    {
      "cell_type": "markdown",
      "metadata": {
        "id": "iPA3VjPty0hg"
      },
      "source": [
        "## Conv Netを特徴抽出器として使う方法\n",
        "\n",
        "今回のケースでは、最後の全結合層を除くすべてのネットワークのパラメータを固定します。\n",
        "\n",
        "パラメータを固定するためには、`requires_grad = False `を設定する必要があります。\n",
        "\n",
        "これによって、`backward()`で勾配が計算されないようになります。\n",
        "\n",
        "<br>\n",
        "\n",
        "勾配計算の詳細は[こちら](https://pytorch.org/docs/notes/autograd.html#excluding-subgraphs-from-backward)のドキュメントをご覧ください"
      ]
    },
    {
      "cell_type": "code",
      "metadata": {
        "id": "zvdPZKLiy0hg"
      },
      "source": [
        "model_conv = torchvision.models.resnet18(pretrained=True)\n",
        "for param in model_conv.parameters():\n",
        "    param.requires_grad = False\n",
        "\n",
        "# 新しく構築されたモジュールのパラメータは、デフォルトでは requires_grad=True になっています。\n",
        "num_ftrs = model_conv.fc.in_features\n",
        "model_conv.fc = nn.Linear(num_ftrs, 2)\n",
        "\n",
        "model_conv = model_conv.to(device)\n",
        "\n",
        "criterion = nn.CrossEntropyLoss()\n",
        "\n",
        " # ファインチューニングとは違い、最終層のパラメータのみが最適化されていることを確認してください\n",
        "optimizer_conv = optim.SGD(model_conv.fc.parameters(), lr=0.001, momentum=0.9)\n",
        "\n",
        "# 7エポックごとに学習率を0.1倍ずつ減衰させる\n",
        "exp_lr_scheduler = lr_scheduler.StepLR(optimizer_conv, step_size=7, gamma=0.1)"
      ],
      "execution_count": 10,
      "outputs": []
    },
    {
      "cell_type": "markdown",
      "metadata": {
        "id": "OtA67Kl6y0hj"
      },
      "source": [
        "### 訓練と評価\n",
        "\n",
        "ファインチューニングの場合に比べると、訓練と評価にかかる時間はCPUを使う場合でも約半分になります。\n",
        "\n",
        "ほとんどのネットワークで勾配を計算する必要がないために、このような訓練時間の短縮を見込むことができます。\n",
        "\n",
        "ただし、順伝播の計算が不要になるわけではありません。\n",
        "\n",
        "<br>\n",
        "\n",
        "（日本語訳注：上記説明では、勾配をrequires_grad = Falseにすると記載・説明されていますが、明示的にその操作をせず、代わりに、SGDでの訓練対象をmodel_conv.fc.parameters()として、最終層のみが訓練対象になるように設定されています。）\n"
      ]
    },
    {
      "cell_type": "code",
      "metadata": {
        "id": "qKc1KEsoy0hj",
        "colab": {
          "base_uri": "https://localhost:8080/"
        },
        "outputId": "105478c6-5676-409b-9976-d097680a2b2a"
      },
      "source": [
        "model_conv = train_model(model_conv, criterion, optimizer_conv,\n",
        "                         exp_lr_scheduler, num_epochs=25)"
      ],
      "execution_count": 11,
      "outputs": [
        {
          "output_type": "stream",
          "name": "stdout",
          "text": [
            "Epoch 0/24\n",
            "----------\n"
          ]
        },
        {
          "output_type": "stream",
          "name": "stderr",
          "text": [
            "/usr/local/lib/python3.7/dist-packages/torch/utils/data/dataloader.py:481: UserWarning: This DataLoader will create 4 worker processes in total. Our suggested max number of worker in current system is 2, which is smaller than what this DataLoader is going to create. Please be aware that excessive worker creation might get DataLoader running slow or even freeze, lower the worker number to avoid potential slowness/freeze if necessary.\n",
            "  cpuset_checked))\n"
          ]
        },
        {
          "output_type": "stream",
          "name": "stdout",
          "text": [
            "train Loss: 0.5346 Acc: 0.7131\n",
            "val Loss: 0.2274 Acc: 0.9281\n",
            "\n",
            "Epoch 1/24\n",
            "----------\n",
            "train Loss: 0.4115 Acc: 0.8197\n",
            "val Loss: 0.3265 Acc: 0.8497\n",
            "\n",
            "Epoch 2/24\n",
            "----------\n",
            "train Loss: 0.4562 Acc: 0.7992\n",
            "val Loss: 0.2285 Acc: 0.9216\n",
            "\n",
            "Epoch 3/24\n",
            "----------\n",
            "train Loss: 0.5122 Acc: 0.7746\n",
            "val Loss: 0.2758 Acc: 0.8889\n",
            "\n",
            "Epoch 4/24\n",
            "----------\n",
            "train Loss: 0.3997 Acc: 0.8320\n",
            "val Loss: 0.1809 Acc: 0.9477\n",
            "\n",
            "Epoch 5/24\n",
            "----------\n",
            "train Loss: 0.3118 Acc: 0.8689\n",
            "val Loss: 0.1785 Acc: 0.9542\n",
            "\n",
            "Epoch 6/24\n",
            "----------\n",
            "train Loss: 0.4996 Acc: 0.7992\n",
            "val Loss: 0.1894 Acc: 0.9477\n",
            "\n",
            "Epoch 7/24\n",
            "----------\n",
            "train Loss: 0.3002 Acc: 0.8811\n",
            "val Loss: 0.1733 Acc: 0.9542\n",
            "\n",
            "Epoch 8/24\n",
            "----------\n",
            "train Loss: 0.3634 Acc: 0.8320\n",
            "val Loss: 0.1775 Acc: 0.9477\n",
            "\n",
            "Epoch 9/24\n",
            "----------\n",
            "train Loss: 0.3262 Acc: 0.8484\n",
            "val Loss: 0.2003 Acc: 0.9477\n",
            "\n",
            "Epoch 10/24\n",
            "----------\n",
            "train Loss: 0.3229 Acc: 0.8279\n",
            "val Loss: 0.1756 Acc: 0.9477\n",
            "\n",
            "Epoch 11/24\n",
            "----------\n",
            "train Loss: 0.3329 Acc: 0.8525\n",
            "val Loss: 0.1701 Acc: 0.9542\n",
            "\n",
            "Epoch 12/24\n",
            "----------\n",
            "train Loss: 0.3902 Acc: 0.8238\n",
            "val Loss: 0.1780 Acc: 0.9542\n",
            "\n",
            "Epoch 13/24\n",
            "----------\n",
            "train Loss: 0.3158 Acc: 0.8484\n",
            "val Loss: 0.1859 Acc: 0.9412\n",
            "\n",
            "Epoch 14/24\n",
            "----------\n",
            "train Loss: 0.4057 Acc: 0.8197\n",
            "val Loss: 0.1758 Acc: 0.9412\n",
            "\n",
            "Epoch 15/24\n",
            "----------\n",
            "train Loss: 0.3187 Acc: 0.8607\n",
            "val Loss: 0.2099 Acc: 0.9412\n",
            "\n",
            "Epoch 16/24\n",
            "----------\n",
            "train Loss: 0.3387 Acc: 0.8730\n",
            "val Loss: 0.1637 Acc: 0.9477\n",
            "\n",
            "Epoch 17/24\n",
            "----------\n",
            "train Loss: 0.4117 Acc: 0.8156\n",
            "val Loss: 0.1646 Acc: 0.9477\n",
            "\n",
            "Epoch 18/24\n",
            "----------\n",
            "train Loss: 0.4140 Acc: 0.8484\n",
            "val Loss: 0.1874 Acc: 0.9542\n",
            "\n",
            "Epoch 19/24\n",
            "----------\n",
            "train Loss: 0.3906 Acc: 0.8279\n",
            "val Loss: 0.1961 Acc: 0.9412\n",
            "\n",
            "Epoch 20/24\n",
            "----------\n",
            "train Loss: 0.2647 Acc: 0.8934\n",
            "val Loss: 0.1891 Acc: 0.9412\n",
            "\n",
            "Epoch 21/24\n",
            "----------\n",
            "train Loss: 0.3598 Acc: 0.8484\n",
            "val Loss: 0.1609 Acc: 0.9412\n",
            "\n",
            "Epoch 22/24\n",
            "----------\n",
            "train Loss: 0.2554 Acc: 0.8893\n",
            "val Loss: 0.1801 Acc: 0.9477\n",
            "\n",
            "Epoch 23/24\n",
            "----------\n",
            "train Loss: 0.3932 Acc: 0.8238\n",
            "val Loss: 0.1888 Acc: 0.9477\n",
            "\n",
            "Epoch 24/24\n",
            "----------\n",
            "train Loss: 0.3277 Acc: 0.8730\n",
            "val Loss: 0.1870 Acc: 0.9477\n",
            "\n",
            "Training complete in 1m 44s\n",
            "Best val Acc: 0.954248\n"
          ]
        }
      ]
    },
    {
      "cell_type": "code",
      "metadata": {
        "id": "JMSITYcfy0hl",
        "colab": {
          "base_uri": "https://localhost:8080/",
          "height": 635
        },
        "outputId": "2f93a9fc-f710-476f-ad8e-1ef2f0478ba1"
      },
      "source": [
        "visualize_model(model_conv)\n",
        "\n",
        "plt.ioff()\n",
        "plt.show()"
      ],
      "execution_count": 12,
      "outputs": [
        {
          "output_type": "stream",
          "name": "stderr",
          "text": [
            "/usr/local/lib/python3.7/dist-packages/torch/utils/data/dataloader.py:481: UserWarning: This DataLoader will create 4 worker processes in total. Our suggested max number of worker in current system is 2, which is smaller than what this DataLoader is going to create. Please be aware that excessive worker creation might get DataLoader running slow or even freeze, lower the worker number to avoid potential slowness/freeze if necessary.\n",
            "  cpuset_checked))\n"
          ]
        },
        {
          "output_type": "display_data",
          "data": {
            "image/png": "[encoded data removed]",
            "text/plain": [
              "<Figure size 432x288 with 1 Axes>"
            ]
          },
          "metadata": {
            "needs_background": "light"
          }
        },
        {
          "output_type": "display_data",
          "data": {
            "image/png": "[encoded data removed]",
            "text/plain": [
              "<Figure size 432x288 with 1 Axes>"
            ]
          },
          "metadata": {
            "needs_background": "light"
          }
        },
        {
          "output_type": "display_data",
          "data": {
            "image/png": "[encoded data removed]",
            "text/plain": [
              "<Figure size 432x288 with 1 Axes>"
            ]
          },
          "metadata": {
            "needs_background": "light"
          }
        },
        {
          "output_type": "display_data",
          "data": {
            "image/png": "[encoded data removed]",
            "text/plain": [
              "<Figure size 432x288 with 1 Axes>"
            ]
          },
          "metadata": {
            "needs_background": "light"
          }
        },
        {
          "output_type": "display_data",
          "data": {
            "image/png": "[encoded data removed]",
            "text/plain": [
              "<Figure size 432x288 with 1 Axes>"
            ]
          },
          "metadata": {
            "needs_background": "light"
          }
        },
        {
          "output_type": "display_data",
          "data": {
            "image/png": "[encoded data removed]",
            "text/plain": [
              "<Figure size 432x288 with 1 Axes>"
            ]
          },
          "metadata": {
            "needs_background": "light"
          }
        }
      ]
    },
    {
      "cell_type": "markdown",
      "metadata": {
        "id": "QAwS93oay0ho"
      },
      "source": [
        "さらなる学習のために\n",
        "------------\n",
        "\n",
        "転移学習の応用についてさらに学びたい方は、[画像認識のための量子を用いた転移学習チュートリアル（Quantized Transfer Learning for Computer Vision Tutorial）](https://pytorch.org/tutorials/intermediate/quantized_transfer_learning_tutorial.html)もチェックしてみてください。"
      ]
    }
  ]
}