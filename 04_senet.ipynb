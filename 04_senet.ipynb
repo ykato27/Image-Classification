{
  "nbformat": 4,
  "nbformat_minor": 0,
  "metadata": {
    "kernelspec": {
      "display_name": "Python 3",
      "language": "python",
      "name": "python3"
    },
    "language_info": {
      "codemirror_mode": {
        "name": "ipython",
        "version": 3
      },
      "file_extension": ".py",
      "mimetype": "text/x-python",
      "name": "python",
      "nbconvert_exporter": "python",
      "pygments_lexer": "ipython3",
      "version": "3.7.6"
    },
    "colab": {
      "name": "04_senet.ipynb",
      "provenance": [],
      "collapsed_sections": [],
      "include_colab_link": true
    },
    "accelerator": "GPU",
    "widgets": {
      "application/vnd.jupyter.widget-state+json": {
        "57bd2b15cd5543309f0dfb0d194f9b99": {
          "model_module": "@jupyter-widgets/controls",
          "model_name": "HBoxModel",
          "model_module_version": "1.5.0",
          "state": {
            "_view_name": "HBoxView",
            "_dom_classes": [],
            "_model_name": "HBoxModel",
            "_view_module": "@jupyter-widgets/controls",
            "_model_module_version": "1.5.0",
            "_view_count": null,
            "_view_module_version": "1.5.0",
            "box_style": "",
            "layout": "IPY_MODEL_dc0e35b318d444029064e9233bc9d1a2",
            "_model_module": "@jupyter-widgets/controls",
            "children": [
              "IPY_MODEL_b6c1fd43c8454e98b2f73dc75e0bd154",
              "IPY_MODEL_139bf97dc4734d6ab13e817fa9b165e9"
            ]
          }
        },
        "dc0e35b318d444029064e9233bc9d1a2": {
          "model_module": "@jupyter-widgets/base",
          "model_name": "LayoutModel",
          "model_module_version": "1.2.0",
          "state": {
            "_view_name": "LayoutView",
            "grid_template_rows": null,
            "right": null,
            "justify_content": null,
            "_view_module": "@jupyter-widgets/base",
            "overflow": null,
            "_model_module_version": "1.2.0",
            "_view_count": null,
            "flex_flow": null,
            "width": null,
            "min_width": null,
            "border": null,
            "align_items": null,
            "bottom": null,
            "_model_module": "@jupyter-widgets/base",
            "top": null,
            "grid_column": null,
            "overflow_y": null,
            "overflow_x": null,
            "grid_auto_flow": null,
            "grid_area": null,
            "grid_template_columns": null,
            "flex": null,
            "_model_name": "LayoutModel",
            "justify_items": null,
            "grid_row": null,
            "max_height": null,
            "align_content": null,
            "visibility": null,
            "align_self": null,
            "height": null,
            "min_height": null,
            "padding": null,
            "grid_auto_rows": null,
            "grid_gap": null,
            "max_width": null,
            "order": null,
            "_view_module_version": "1.2.0",
            "grid_template_areas": null,
            "object_position": null,
            "object_fit": null,
            "grid_auto_columns": null,
            "margin": null,
            "display": null,
            "left": null
          }
        },
        "b6c1fd43c8454e98b2f73dc75e0bd154": {
          "model_module": "@jupyter-widgets/controls",
          "model_name": "FloatProgressModel",
          "model_module_version": "1.5.0",
          "state": {
            "_view_name": "ProgressView",
            "style": "IPY_MODEL_ca851abd1d2e45e5ab20fc68a7bbe137",
            "_dom_classes": [],
            "description": "",
            "_model_name": "FloatProgressModel",
            "bar_style": "success",
            "max": 1,
            "_view_module": "@jupyter-widgets/controls",
            "_model_module_version": "1.5.0",
            "value": 1,
            "_view_count": null,
            "_view_module_version": "1.5.0",
            "orientation": "horizontal",
            "min": 0,
            "description_tooltip": null,
            "_model_module": "@jupyter-widgets/controls",
            "layout": "IPY_MODEL_bda57aaa931446c7a1276512b88aae82"
          }
        },
        "139bf97dc4734d6ab13e817fa9b165e9": {
          "model_module": "@jupyter-widgets/controls",
          "model_name": "HTMLModel",
          "model_module_version": "1.5.0",
          "state": {
            "_view_name": "HTMLView",
            "style": "IPY_MODEL_8c4790aecef040dfbd554c78e8e026f7",
            "_dom_classes": [],
            "description": "",
            "_model_name": "HTMLModel",
            "placeholder": "​",
            "_view_module": "@jupyter-widgets/controls",
            "_model_module_version": "1.5.0",
            "value": " 170500096/? [00:06&lt;00:00, 24884017.40it/s]",
            "_view_count": null,
            "_view_module_version": "1.5.0",
            "description_tooltip": null,
            "_model_module": "@jupyter-widgets/controls",
            "layout": "IPY_MODEL_7bb754831d074f1c953c2d02edd2a01f"
          }
        },
        "ca851abd1d2e45e5ab20fc68a7bbe137": {
          "model_module": "@jupyter-widgets/controls",
          "model_name": "ProgressStyleModel",
          "model_module_version": "1.5.0",
          "state": {
            "_view_name": "StyleView",
            "_model_name": "ProgressStyleModel",
            "description_width": "initial",
            "_view_module": "@jupyter-widgets/base",
            "_model_module_version": "1.5.0",
            "_view_count": null,
            "_view_module_version": "1.2.0",
            "bar_color": null,
            "_model_module": "@jupyter-widgets/controls"
          }
        },
        "bda57aaa931446c7a1276512b88aae82": {
          "model_module": "@jupyter-widgets/base",
          "model_name": "LayoutModel",
          "model_module_version": "1.2.0",
          "state": {
            "_view_name": "LayoutView",
            "grid_template_rows": null,
            "right": null,
            "justify_content": null,
            "_view_module": "@jupyter-widgets/base",
            "overflow": null,
            "_model_module_version": "1.2.0",
            "_view_count": null,
            "flex_flow": null,
            "width": null,
            "min_width": null,
            "border": null,
            "align_items": null,
            "bottom": null,
            "_model_module": "@jupyter-widgets/base",
            "top": null,
            "grid_column": null,
            "overflow_y": null,
            "overflow_x": null,
            "grid_auto_flow": null,
            "grid_area": null,
            "grid_template_columns": null,
            "flex": null,
            "_model_name": "LayoutModel",
            "justify_items": null,
            "grid_row": null,
            "max_height": null,
            "align_content": null,
            "visibility": null,
            "align_self": null,
            "height": null,
            "min_height": null,
            "padding": null,
            "grid_auto_rows": null,
            "grid_gap": null,
            "max_width": null,
            "order": null,
            "_view_module_version": "1.2.0",
            "grid_template_areas": null,
            "object_position": null,
            "object_fit": null,
            "grid_auto_columns": null,
            "margin": null,
            "display": null,
            "left": null
          }
        },
        "8c4790aecef040dfbd554c78e8e026f7": {
          "model_module": "@jupyter-widgets/controls",
          "model_name": "DescriptionStyleModel",
          "model_module_version": "1.5.0",
          "state": {
            "_view_name": "StyleView",
            "_model_name": "DescriptionStyleModel",
            "description_width": "",
            "_view_module": "@jupyter-widgets/base",
            "_model_module_version": "1.5.0",
            "_view_count": null,
            "_view_module_version": "1.2.0",
            "_model_module": "@jupyter-widgets/controls"
          }
        },
        "7bb754831d074f1c953c2d02edd2a01f": {
          "model_module": "@jupyter-widgets/base",
          "model_name": "LayoutModel",
          "model_module_version": "1.2.0",
          "state": {
            "_view_name": "LayoutView",
            "grid_template_rows": null,
            "right": null,
            "justify_content": null,
            "_view_module": "@jupyter-widgets/base",
            "overflow": null,
            "_model_module_version": "1.2.0",
            "_view_count": null,
            "flex_flow": null,
            "width": null,
            "min_width": null,
            "border": null,
            "align_items": null,
            "bottom": null,
            "_model_module": "@jupyter-widgets/base",
            "top": null,
            "grid_column": null,
            "overflow_y": null,
            "overflow_x": null,
            "grid_auto_flow": null,
            "grid_area": null,
            "grid_template_columns": null,
            "flex": null,
            "_model_name": "LayoutModel",
            "justify_items": null,
            "grid_row": null,
            "max_height": null,
            "align_content": null,
            "visibility": null,
            "align_self": null,
            "height": null,
            "min_height": null,
            "padding": null,
            "grid_auto_rows": null,
            "grid_gap": null,
            "max_width": null,
            "order": null,
            "_view_module_version": "1.2.0",
            "grid_template_areas": null,
            "object_position": null,
            "object_fit": null,
            "grid_auto_columns": null,
            "margin": null,
            "display": null,
            "left": null
          }
        }
      }
    }
  },
  "cells": [
    {
      "cell_type": "markdown",
      "metadata": {
        "id": "view-in-github",
        "colab_type": "text"
      },
      "source": [
        "<a href=\"https://colab.research.google.com/github/ykato27/Image-Classification/blob/main/04_senet.ipynb\" target=\"_parent\"><img src=\"https://colab.research.google.com/assets/colab-badge.svg\" alt=\"Open In Colab\"/></a>"
      ]
    },
    {
      "cell_type": "markdown",
      "metadata": {
        "id": "vQfhYcVF8KPt"
      },
      "source": [
        "# Squeeze-and-Excitation Networks (SENet)\n",
        "\n",
        "---\n",
        "\n",
        "## 目的\n",
        "SENetの構造を理解する.\n",
        "\n",
        "SENetを用いてCIFAR-10データセットに対する物体認識を行う．\n",
        "\n",
        "## Squeeze-and-Excitation Networks (SENet)\n",
        "Squeeze-and-Excitation Networks (SENet)[1]とは，認識に有益なチャネルに対して重み付けするSE blockをベースラインのネットワークに導入することで認識精度の高精度化ができる手法です．\n",
        "SE blockは少ないパラメータで設計されているため，非常に効率的であり，わずかなパラメータ数の上昇で認識精度の向上が可能です．\n",
        "また，SE blockは汎用性が高く，従来のあらゆるモデル (e.g., VGG[3], ResNet[4]) に導入することができます．\n",
        "SENetは，特徴マップにGlobal Average Pooling (GAP)[2] を施し，各特徴マップの空間方向に対する平均値を算出します．\n",
        "その後，2層の全結合層，ReLU，Sigmoid関数を介して特徴マップの各チャネルに対する重みを獲得します．\n",
        "最後に，各チャネルの重みを対応するチャネルに重み付けします．\n",
        "これにより，認識に有益なチャネルに着目した学習が可能となります． \n",
        "\n",
        "<img src=\"https://drive.google.com/uc?export=view&id=1PXZ86xjVO1YWaBdRHhCCgoY1eWQP9pR6\" width=100%>\n",
        "\n",
        "\n"
      ]
    },
    {
      "cell_type": "markdown",
      "metadata": {
        "id": "V8ehSX6U8KPv"
      },
      "source": [
        "## モジュールのインポート\n",
        "プログラムの実行に必要なモジュールをインポートします．\n",
        "今回は，機械学習ライブラリであるPytorchを使用します．\n",
        "PyTorchとは，Python向けのオープンソース機械学習ライブラリで，Facebookに開発されました．"
      ]
    },
    {
      "cell_type": "code",
      "metadata": {
        "id": "VaNXqInW8KPv"
      },
      "source": [
        "import torch\n",
        "import torchvision\n",
        "import torchvision.transforms as transforms\n",
        "import torch.backends.cudnn as cudnn\n",
        "import torchsummary"
      ],
      "execution_count": null,
      "outputs": []
    },
    {
      "cell_type": "markdown",
      "metadata": {
        "id": "b4gEy7cGCfz8"
      },
      "source": [
        "## GPUの確認\n",
        "GPUを使用した計算が可能かどうかを確認します．\n",
        "下記のコードを実行してGPU情報を確認します． GPUの確認を行うためには，上部のメニューバーの「ランタイム」→「ランタイムのタイプを変更」からハードウェアアクセラレータをGPUにしてください．\n",
        "\n",
        "`Use CUDA: True`と表示されれば，GPUを使用した計算をPytorchで行うことが可能です． CPUとなっている場合は，上記に記載している手順にしたがって，設定を変更してください．"
      ]
    },
    {
      "cell_type": "code",
      "metadata": {
        "id": "p9fjeG_U8KP1",
        "colab": {
          "base_uri": "https://localhost:8080/"
        },
        "outputId": "a0a368fd-0fc6-4535-a265-74b90567f15b"
      },
      "source": [
        "device = torch.device(\"cuda:0\" if torch.cuda.is_available() else \"cpu\")\n",
        "use_cuda = torch.cuda.is_available()\n",
        "cudnn.benchmark = True\n",
        "print('Use CUDA:', use_cuda)"
      ],
      "execution_count": null,
      "outputs": [
        {
          "output_type": "stream",
          "text": [
            "Use CUDA: True\n"
          ],
          "name": "stdout"
        }
      ]
    },
    {
      "cell_type": "markdown",
      "metadata": {
        "id": "Uanw74k0F9iw"
      },
      "source": [
        "下記のコードを実行してGPU情報を確認します．\n",
        "\n"
      ]
    },
    {
      "cell_type": "code",
      "metadata": {
        "id": "eeUIUazLGGPu",
        "colab": {
          "base_uri": "https://localhost:8080/"
        },
        "outputId": "d456acbd-6b7c-48f0-b8d5-bbd53f49a629"
      },
      "source": [
        "!nvidia-smi"
      ],
      "execution_count": null,
      "outputs": [
        {
          "output_type": "stream",
          "text": [
            "Fri Dec  4 05:00:48 2020       \n",
            "+-----------------------------------------------------------------------------+\n",
            "| NVIDIA-SMI 455.38       Driver Version: 418.67       CUDA Version: 10.1     |\n",
            "|-------------------------------+----------------------+----------------------+\n",
            "| GPU  Name        Persistence-M| Bus-Id        Disp.A | Volatile Uncorr. ECC |\n",
            "| Fan  Temp  Perf  Pwr:Usage/Cap|         Memory-Usage | GPU-Util  Compute M. |\n",
            "|                               |                      |               MIG M. |\n",
            "|===============================+======================+======================|\n",
            "|   0  Tesla T4            Off  | 00000000:00:04.0 Off |                    0 |\n",
            "| N/A   66C    P8    13W /  70W |     10MiB / 15079MiB |      0%      Default |\n",
            "|                               |                      |                 ERR! |\n",
            "+-------------------------------+----------------------+----------------------+\n",
            "                                                                               \n",
            "+-----------------------------------------------------------------------------+\n",
            "| Processes:                                                                  |\n",
            "|  GPU   GI   CI        PID   Type   Process name                  GPU Memory |\n",
            "|        ID   ID                                                   Usage      |\n",
            "|=============================================================================|\n",
            "|  No running processes found                                                 |\n",
            "+-----------------------------------------------------------------------------+\n"
          ],
          "name": "stdout"
        }
      ]
    },
    {
      "cell_type": "markdown",
      "metadata": {
        "id": "HJiKvt08lkjY"
      },
      "source": [
        "## 使用するデータセット\n",
        "\n",
        "### データセット\n",
        "今回の物体認識では，CIFAR-10データセットを使用します．CIFAR-10データセットは，飛行機や犬などの10クラスの物体が表示されている画像から構成されたデータセットです．\n",
        "\n",
        "![CIFAR10_sample.png](https://qiita-image-store.s3.ap-northeast-1.amazonaws.com/0/176458/b6b43478-c85f-9211-7bc6-227d9b387af5.png)"
      ]
    },
    {
      "cell_type": "markdown",
      "metadata": {
        "id": "xNzvYQL58KP4"
      },
      "source": [
        "### データセットのダウンロードと読み込み\n",
        "実験に使用するCIFAR-10データセットを読み込みます．\n",
        "１回の誤差を算出するデータ数 (ミニバッチサイズ) は，128とします．\n",
        "まず，CIFAR-10データセットをダウンロードします．\n",
        "次に，ダウンロードしたデータセットを読み込みます．\n",
        "学習には，大量のデータを利用しますが，それでも十分ではありません． そこで，データ拡張 (data augmentation) により，データのバリエーションを増やします． 一般的な方法は，画像の左右反転，明るさ変換などです．"
      ]
    },
    {
      "cell_type": "code",
      "metadata": {
        "id": "leWJTOIL8KP4",
        "colab": {
          "base_uri": "https://localhost:8080/",
          "height": 102,
          "referenced_widgets": [
            "57bd2b15cd5543309f0dfb0d194f9b99",
            "dc0e35b318d444029064e9233bc9d1a2",
            "b6c1fd43c8454e98b2f73dc75e0bd154",
            "139bf97dc4734d6ab13e817fa9b165e9",
            "ca851abd1d2e45e5ab20fc68a7bbe137",
            "bda57aaa931446c7a1276512b88aae82",
            "8c4790aecef040dfbd554c78e8e026f7",
            "7bb754831d074f1c953c2d02edd2a01f"
          ]
        },
        "outputId": "8b04743e-4e81-45c6-cd6a-fadd90f26c03"
      },
      "source": [
        "batch_size = 128\n",
        "\n",
        "transform_train = transforms.Compose([\n",
        "    transforms.RandomCrop(32, padding=4),\n",
        "    transforms.RandomHorizontalFlip(),\n",
        "    transforms.ToTensor(),\n",
        "    transforms.Normalize((0.4914, 0.4822, 0.4465), (0.2023, 0.1994, 0.2010)),\n",
        "])\n",
        "\n",
        "transform_test = transforms.Compose([\n",
        "    transforms.ToTensor(),\n",
        "    transforms.Normalize((0.4914, 0.4822, 0.4465), (0.2023, 0.1994, 0.2010)),\n",
        "])\n",
        "\n",
        "trainset = torchvision.datasets.CIFAR10(root='./data', train=True,\n",
        "                                        download=True, transform=transform_train)\n",
        "trainloader = torch.utils.data.DataLoader(trainset, batch_size=batch_size,\n",
        "                                          shuffle=True, num_workers=20)\n",
        "\n",
        "testset = torchvision.datasets.CIFAR10(root='./data', train=False,\n",
        "                                       download=True, transform=transform_test)\n",
        "testloader = torch.utils.data.DataLoader(testset, batch_size=batch_size,\n",
        "                                         shuffle=False, num_workers=20)\n",
        "\n",
        "classes = ('plane', 'car', 'bird', 'cat',\n",
        "           'deer', 'dog', 'frog', 'horse', 'ship', 'truck')"
      ],
      "execution_count": null,
      "outputs": [
        {
          "output_type": "stream",
          "text": [
            "Downloading https://www.cs.toronto.edu/~kriz/cifar-10-python.tar.gz to ./data/cifar-10-python.tar.gz\n"
          ],
          "name": "stdout"
        },
        {
          "output_type": "display_data",
          "data": {
            "application/vnd.jupyter.widget-view+json": {
              "model_id": "57bd2b15cd5543309f0dfb0d194f9b99",
              "version_minor": 0,
              "version_major": 2
            },
            "text/plain": [
              "HBox(children=(FloatProgress(value=1.0, bar_style='info', max=1.0), HTML(value='')))"
            ]
          },
          "metadata": {
            "tags": []
          }
        },
        {
          "output_type": "stream",
          "text": [
            "Extracting ./data/cifar-10-python.tar.gz to ./data\n",
            "Files already downloaded and verified\n"
          ],
          "name": "stdout"
        }
      ]
    },
    {
      "cell_type": "markdown",
      "metadata": {
        "id": "zHQfAwb_8KP7"
      },
      "source": [
        "### CIFAR-10データセットの表示\n",
        "CIFAR-10データセットに含まれる画像を表示してみます．\n",
        "ここでは，matplotlibを用いて複数の画像を表示させるプログラムを利用します．\n",
        "学習データは5万枚，1つのデータサイズは3x32x32の画像のような形式となっています． これは32x32ピクセルのカラー画像という意味になります．\n",
        "\n"
      ]
    },
    {
      "cell_type": "code",
      "metadata": {
        "id": "Fod_SRFR8KP8",
        "colab": {
          "base_uri": "https://localhost:8080/",
          "height": 211
        },
        "outputId": "a45fd251-f1ed-4225-b5cf-4f82175ad1f4"
      },
      "source": [
        "import matplotlib.pyplot as plt\n",
        "import numpy as np\n",
        "\n",
        "# functions to show an image\n",
        "def imshow(img):\n",
        "    npimg = img.numpy()\n",
        "    npimg = ((npimg.transpose((1,2,0))  * [0.2023, 0.1994, 0.2010]) + [0.4914, 0.4822, 0.4465])  # unnormalize\n",
        "    plt.imshow(npimg)\n",
        "    plt.show()\n",
        "\n",
        "# get some random training images\n",
        "dataiter = iter(testloader)\n",
        "images, labels = dataiter.next()\n",
        "\n",
        "# show images\n",
        "imshow(torchvision.utils.make_grid(images[0:4]))\n",
        "# print labels\n",
        "print(' '.join('%5s' % classes[labels[j]] for j in range(4)))"
      ],
      "execution_count": null,
      "outputs": [
        {
          "output_type": "stream",
          "text": [
            "Clipping input data to the valid range for imshow with RGB data ([0..1] for floats or [0..255] for integers).\n"
          ],
          "name": "stderr"
        },
        {
          "output_type": "stream",
          "text": [
            "\n"
          ],
          "name": "stdout"
        },
        {
          "output_type": "display_data",
          "data": {
            "image/png": "[encoded data removed]",
            "text/plain": [
              "<Figure size 432x288 with 1 Axes>"
            ]
          },
          "metadata": {
            "tags": [],
            "needs_background": "light"
          }
        },
        {
          "output_type": "stream",
          "text": [
            "  cat  ship  ship plane\n"
          ],
          "name": "stdout"
        }
      ]
    },
    {
      "cell_type": "markdown",
      "metadata": {
        "id": "DduOi-s18KP_"
      },
      "source": [
        "## ネットワークモデルの定義\n",
        "次に，SENetを定義します．\n",
        "今回は，ResNetにSENetを導入したモデル (SE-ResNet) を使用します．SE-ResNetの層の深さ (depth) は，110層に設定します．"
      ]
    },
    {
      "cell_type": "code",
      "metadata": {
        "id": "O0cpWP_w8KP_",
        "colab": {
          "base_uri": "https://localhost:8080/"
        },
        "outputId": "30a7ab5d-4aa5-488e-db1e-fbdb3126a697"
      },
      "source": [
        "import torch.nn as nn\n",
        "import torch.nn.functional as F\n",
        "import math\n",
        "\n",
        "def conv3x3(in_planes, out_planes, stride=1):\n",
        "    \"3x3 convolution with padding\"\n",
        "    return nn.Conv2d(in_planes, out_planes, kernel_size=3, stride=stride,\n",
        "                     padding=1, bias=False)\n",
        "\n",
        "class BasicBlock(nn.Module):\n",
        "    expansion = 1\n",
        "\n",
        "    def __init__(self, inplanes, planes, stride=1, downsample=None):\n",
        "        super(BasicBlock, self).__init__()\n",
        "        self.conv1 = conv3x3(inplanes, planes, stride)\n",
        "        self.bn1 = nn.BatchNorm2d(planes)\n",
        "        self.relu = nn.ReLU(inplace=True)\n",
        "        self.conv2 = conv3x3(planes, planes)\n",
        "        self.bn2 = nn.BatchNorm2d(planes)\n",
        "        self.downsample = downsample\n",
        "        self.stride = stride\n",
        "\n",
        "        \"\"\"\n",
        "        if planes == 16:\n",
        "            self.globalAvgPool = nn.AvgPool2d(32, stride=1)\n",
        "        elif planes == 32:\n",
        "            self.globalAvgPool = nn.AvgPool2d(16, stride=1)\n",
        "        elif planes == 64:\n",
        "            if down_size:\n",
        "                self.globalAvgPool = nn.AvgPool2d(8, stride=1)\n",
        "            else:\n",
        "                self.globalAvgPool = nn.AvgPool2d(16, stride=1)\n",
        "        \"\"\"\n",
        "        self.globalAvgPool = nn.AdaptiveAvgPool2d(1)\n",
        "        self.fc1 = nn.Linear(in_features=planes, out_features=planes // 4)\n",
        "        self.fc2 = nn.Linear(in_features=planes // 4, out_features=planes)\n",
        "        self.sigmoid = nn.Sigmoid()\n",
        "\n",
        "    def forward(self, x):\n",
        "        residual = x\n",
        "\n",
        "        out = self.conv1(x)\n",
        "        out = self.bn1(out)\n",
        "        out = self.relu(out)\n",
        "\n",
        "        out = self.conv2(out)\n",
        "        out = self.bn2(out)\n",
        "\n",
        "        if self.downsample is not None:\n",
        "            residual = self.downsample(x)\n",
        "\n",
        "        # SE Block\n",
        "        original_out = out\n",
        "        out = self.globalAvgPool(out)\n",
        "        out = out.view(out.size(0), -1)\n",
        "        out = self.fc1(out)\n",
        "        out = self.relu(out)\n",
        "        out = self.fc2(out)\n",
        "        out = self.sigmoid(out)\n",
        "        out = out.view(out.size(0), out.size(1), 1, 1)\n",
        "        out = out * original_out\n",
        "        #out = out + original_out\n",
        "\n",
        "        out += residual\n",
        "        out = self.relu(out)\n",
        "\n",
        "        return out\n",
        "\n",
        "\n",
        "class Bottleneck(nn.Module):\n",
        "    expansion = 4\n",
        "\n",
        "    def __init__(self, inplanes, planes, stride=1, downsample=None):\n",
        "        super(Bottleneck, self).__init__()\n",
        "        self.conv1 = nn.Conv2d(inplanes, planes, kernel_size=1, bias=False)\n",
        "        self.bn1 = nn.BatchNorm2d(planes)\n",
        "        self.conv2 = nn.Conv2d(planes, planes, kernel_size=3, stride=stride,\n",
        "                               padding=1, bias=False)\n",
        "        self.bn2 = nn.BatchNorm2d(planes)\n",
        "        self.conv3 = nn.Conv2d(planes, planes * 4, kernel_size=1, bias=False)\n",
        "        self.bn3 = nn.BatchNorm2d(planes * 4)\n",
        "        self.relu = nn.ReLU(inplace=True)\n",
        "        \"\"\"\n",
        "        if planes == 64:\n",
        "            self.globalAvgPool = nn.AvgPool2d(56, stride=1)\n",
        "        elif planes == 128:\n",
        "            self.globalAvgPool = nn.AvgPool2d(28, stride=1)\n",
        "        elif planes == 256:\n",
        "            self.globalAvgPool = nn.AvgPool2d(14, stride=1)\n",
        "        elif planes == 512:\n",
        "            if down_size:\n",
        "                self.globalAvgPool = nn.AvgPool2d(7, stride=1)\n",
        "            else:\n",
        "                self.globalAvgPool = nn.AvgPool2d(14, stride=1)\n",
        "        \"\"\"\n",
        "        self.globalAvgPool = nn.AdaptiveAvgPool2d(1)\n",
        "        self.fc1 = nn.Linear(in_features=planes * 4, out_features=planes * 4 // 16)\n",
        "        self.fc2 = nn.Linear(in_features=planes * 4 // 16, out_features=planes * 4)\n",
        "        self.sigmoid = nn.Sigmoid()\n",
        "        self.downsample = downsample\n",
        "        self.stride = stride\n",
        "\n",
        "    def forward(self, x):\n",
        "        residual = x\n",
        "\n",
        "        out = self.conv1(x)\n",
        "        out = self.bn1(out)\n",
        "        out = self.relu(out)\n",
        "\n",
        "        out = self.conv2(out)\n",
        "        out = self.bn2(out)\n",
        "        out = self.relu(out)\n",
        "\n",
        "        out = self.conv3(out)\n",
        "        out = self.bn3(out)\n",
        "\n",
        "        if self.downsample is not None:\n",
        "            residual = self.downsample(x)\n",
        "\n",
        "        # SE Block\n",
        "        original_out = out\n",
        "        out = self.globalAvgPool(out)\n",
        "        out = out.view(out.size(0), -1)\n",
        "        out = self.fc1(out)\n",
        "        out = self.relu(out)\n",
        "        out = self.fc2(out)\n",
        "        out = self.sigmoid(out)\n",
        "        out = out.view(out.size(0),out.size(1),1,1)\n",
        "        out = out * original_out\n",
        "        #out = out + original_out\n",
        "\n",
        "        out += residual\n",
        "        out = self.relu(out)\n",
        "\n",
        "        return out\n",
        "\n",
        "\n",
        "class SE_ResNet(nn.Module):\n",
        "\n",
        "    def __init__(self, depth, num_classes=10):\n",
        "        super(SE_ResNet, self).__init__()\n",
        "        # Model type specifies number of layers for CIFAR-10 model\n",
        "        block_name = 'Bottleneck' if depth >=44 else 'BasicBlock'\n",
        "        if block_name.lower() == 'basicblock':\n",
        "            assert (depth - 2) % 6 == 0, 'When use basicblock, depth should be 6n+2, e.g. 20, 32, 44'\n",
        "            n = (depth - 2) // 6\n",
        "            block = BasicBlock\n",
        "        elif block_name.lower() == 'bottleneck':\n",
        "            assert (depth - 2) % 9 == 0, 'When use bottleneck, depth should be 9n+2, e.g. 47, 56, 110, 1199'\n",
        "            n = (depth - 2) // 9\n",
        "            block = Bottleneck\n",
        "        else:\n",
        "            raise ValueError('block_name shoule be Basicblock or Bottleneck')\n",
        "\n",
        "        self.inplanes = 16\n",
        "        self.conv1 = nn.Conv2d(3, 16, kernel_size=3, padding=1,\n",
        "                               bias=False)\n",
        "        self.bn1 = nn.BatchNorm2d(16)\n",
        "        self.relu = nn.ReLU(inplace=True)\n",
        "        self.layer1 = self._make_layer(block, 16, n)\n",
        "        self.layer2 = self._make_layer(block, 32, n, stride=2)\n",
        "        self.layer3 = self._make_layer(block, 64, n, stride=2)\n",
        "        self.avgpool = nn.AvgPool2d(8)\n",
        "        self.fc = nn.Linear(64 * block.expansion, num_classes)\n",
        "\n",
        "        for m in self.modules():\n",
        "            if isinstance(m, nn.Conv2d):\n",
        "                n = m.kernel_size[0] * m.kernel_size[1] * m.out_channels\n",
        "                m.weight.data.normal_(0, math.sqrt(2. / n))\n",
        "            elif isinstance(m, nn.BatchNorm2d):\n",
        "                m.weight.data.fill_(1)\n",
        "                m.bias.data.zero_()\n",
        "\n",
        "    def _make_layer(self, block, planes, blocks, stride=1):\n",
        "        downsample = None\n",
        "        if stride != 1 or self.inplanes != planes * block.expansion:\n",
        "            downsample = nn.Sequential(\n",
        "                nn.Conv2d(self.inplanes, planes * block.expansion,\n",
        "                          kernel_size=1, stride=stride, bias=False),\n",
        "                nn.BatchNorm2d(planes * block.expansion),\n",
        "            )\n",
        "\n",
        "        layers = []\n",
        "        layers.append(block(self.inplanes, planes, stride, downsample))\n",
        "        self.inplanes = planes * block.expansion\n",
        "        for i in range(1, blocks):\n",
        "            layers.append(block(self.inplanes, planes))\n",
        "\n",
        "        return nn.Sequential(*layers)\n",
        "\n",
        "    def forward(self, x):\n",
        "        x = self.conv1(x)\n",
        "        x = self.bn1(x)\n",
        "        x = self.relu(x)    # 32x32\n",
        "\n",
        "        x = self.layer1(x)  # 32x32\n",
        "        x = self.layer2(x)  # 16x16\n",
        "        x = self.layer3(x)  # 8x8\n",
        "\n",
        "        x = self.avgpool(x)\n",
        "        x = x.view(x.size(0), -1)\n",
        "        x = self.fc(x)\n",
        "\n",
        "        return x\n",
        "\n",
        "depth = 20 # e.g. 20, 32, 44, 47, 56, 110, 1199\n",
        "model = SE_ResNet(depth)\n",
        "model.to(device)"
      ],
      "execution_count": null,
      "outputs": [
        {
          "output_type": "execute_result",
          "data": {
            "text/plain": [
              "SE_ResNet(\n",
              "  (conv1): Conv2d(3, 16, kernel_size=(3, 3), stride=(1, 1), padding=(1, 1), bias=False)\n",
              "  (bn1): BatchNorm2d(16, eps=1e-05, momentum=0.1, affine=True, track_running_stats=True)\n",
              "  (relu): ReLU(inplace=True)\n",
              "  (layer1): Sequential(\n",
              "    (0): BasicBlock(\n",
              "      (conv1): Conv2d(16, 16, kernel_size=(3, 3), stride=(1, 1), padding=(1, 1), bias=False)\n",
              "      (bn1): BatchNorm2d(16, eps=1e-05, momentum=0.1, affine=True, track_running_stats=True)\n",
              "      (relu): ReLU(inplace=True)\n",
              "      (conv2): Conv2d(16, 16, kernel_size=(3, 3), stride=(1, 1), padding=(1, 1), bias=False)\n",
              "      (bn2): BatchNorm2d(16, eps=1e-05, momentum=0.1, affine=True, track_running_stats=True)\n",
              "      (globalAvgPool): AdaptiveAvgPool2d(output_size=1)\n",
              "      (fc1): Linear(in_features=16, out_features=4, bias=True)\n",
              "      (fc2): Linear(in_features=4, out_features=16, bias=True)\n",
              "      (sigmoid): Sigmoid()\n",
              "    )\n",
              "    (1): BasicBlock(\n",
              "      (conv1): Conv2d(16, 16, kernel_size=(3, 3), stride=(1, 1), padding=(1, 1), bias=False)\n",
              "      (bn1): BatchNorm2d(16, eps=1e-05, momentum=0.1, affine=True, track_running_stats=True)\n",
              "      (relu): ReLU(inplace=True)\n",
              "      (conv2): Conv2d(16, 16, kernel_size=(3, 3), stride=(1, 1), padding=(1, 1), bias=False)\n",
              "      (bn2): BatchNorm2d(16, eps=1e-05, momentum=0.1, affine=True, track_running_stats=True)\n",
              "      (globalAvgPool): AdaptiveAvgPool2d(output_size=1)\n",
              "      (fc1): Linear(in_features=16, out_features=4, bias=True)\n",
              "      (fc2): Linear(in_features=4, out_features=16, bias=True)\n",
              "      (sigmoid): Sigmoid()\n",
              "    )\n",
              "    (2): BasicBlock(\n",
              "      (conv1): Conv2d(16, 16, kernel_size=(3, 3), stride=(1, 1), padding=(1, 1), bias=False)\n",
              "      (bn1): BatchNorm2d(16, eps=1e-05, momentum=0.1, affine=True, track_running_stats=True)\n",
              "      (relu): ReLU(inplace=True)\n",
              "      (conv2): Conv2d(16, 16, kernel_size=(3, 3), stride=(1, 1), padding=(1, 1), bias=False)\n",
              "      (bn2): BatchNorm2d(16, eps=1e-05, momentum=0.1, affine=True, track_running_stats=True)\n",
              "      (globalAvgPool): AdaptiveAvgPool2d(output_size=1)\n",
              "      (fc1): Linear(in_features=16, out_features=4, bias=True)\n",
              "      (fc2): Linear(in_features=4, out_features=16, bias=True)\n",
              "      (sigmoid): Sigmoid()\n",
              "    )\n",
              "  )\n",
              "  (layer2): Sequential(\n",
              "    (0): BasicBlock(\n",
              "      (conv1): Conv2d(16, 32, kernel_size=(3, 3), stride=(2, 2), padding=(1, 1), bias=False)\n",
              "      (bn1): BatchNorm2d(32, eps=1e-05, momentum=0.1, affine=True, track_running_stats=True)\n",
              "      (relu): ReLU(inplace=True)\n",
              "      (conv2): Conv2d(32, 32, kernel_size=(3, 3), stride=(1, 1), padding=(1, 1), bias=False)\n",
              "      (bn2): BatchNorm2d(32, eps=1e-05, momentum=0.1, affine=True, track_running_stats=True)\n",
              "      (downsample): Sequential(\n",
              "        (0): Conv2d(16, 32, kernel_size=(1, 1), stride=(2, 2), bias=False)\n",
              "        (1): BatchNorm2d(32, eps=1e-05, momentum=0.1, affine=True, track_running_stats=True)\n",
              "      )\n",
              "      (globalAvgPool): AdaptiveAvgPool2d(output_size=1)\n",
              "      (fc1): Linear(in_features=32, out_features=8, bias=True)\n",
              "      (fc2): Linear(in_features=8, out_features=32, bias=True)\n",
              "      (sigmoid): Sigmoid()\n",
              "    )\n",
              "    (1): BasicBlock(\n",
              "      (conv1): Conv2d(32, 32, kernel_size=(3, 3), stride=(1, 1), padding=(1, 1), bias=False)\n",
              "      (bn1): BatchNorm2d(32, eps=1e-05, momentum=0.1, affine=True, track_running_stats=True)\n",
              "      (relu): ReLU(inplace=True)\n",
              "      (conv2): Conv2d(32, 32, kernel_size=(3, 3), stride=(1, 1), padding=(1, 1), bias=False)\n",
              "      (bn2): BatchNorm2d(32, eps=1e-05, momentum=0.1, affine=True, track_running_stats=True)\n",
              "      (globalAvgPool): AdaptiveAvgPool2d(output_size=1)\n",
              "      (fc1): Linear(in_features=32, out_features=8, bias=True)\n",
              "      (fc2): Linear(in_features=8, out_features=32, bias=True)\n",
              "      (sigmoid): Sigmoid()\n",
              "    )\n",
              "    (2): BasicBlock(\n",
              "      (conv1): Conv2d(32, 32, kernel_size=(3, 3), stride=(1, 1), padding=(1, 1), bias=False)\n",
              "      (bn1): BatchNorm2d(32, eps=1e-05, momentum=0.1, affine=True, track_running_stats=True)\n",
              "      (relu): ReLU(inplace=True)\n",
              "      (conv2): Conv2d(32, 32, kernel_size=(3, 3), stride=(1, 1), padding=(1, 1), bias=False)\n",
              "      (bn2): BatchNorm2d(32, eps=1e-05, momentum=0.1, affine=True, track_running_stats=True)\n",
              "      (globalAvgPool): AdaptiveAvgPool2d(output_size=1)\n",
              "      (fc1): Linear(in_features=32, out_features=8, bias=True)\n",
              "      (fc2): Linear(in_features=8, out_features=32, bias=True)\n",
              "      (sigmoid): Sigmoid()\n",
              "    )\n",
              "  )\n",
              "  (layer3): Sequential(\n",
              "    (0): BasicBlock(\n",
              "      (conv1): Conv2d(32, 64, kernel_size=(3, 3), stride=(2, 2), padding=(1, 1), bias=False)\n",
              "      (bn1): BatchNorm2d(64, eps=1e-05, momentum=0.1, affine=True, track_running_stats=True)\n",
              "      (relu): ReLU(inplace=True)\n",
              "      (conv2): Conv2d(64, 64, kernel_size=(3, 3), stride=(1, 1), padding=(1, 1), bias=False)\n",
              "      (bn2): BatchNorm2d(64, eps=1e-05, momentum=0.1, affine=True, track_running_stats=True)\n",
              "      (downsample): Sequential(\n",
              "        (0): Conv2d(32, 64, kernel_size=(1, 1), stride=(2, 2), bias=False)\n",
              "        (1): BatchNorm2d(64, eps=1e-05, momentum=0.1, affine=True, track_running_stats=True)\n",
              "      )\n",
              "      (globalAvgPool): AdaptiveAvgPool2d(output_size=1)\n",
              "      (fc1): Linear(in_features=64, out_features=16, bias=True)\n",
              "      (fc2): Linear(in_features=16, out_features=64, bias=True)\n",
              "      (sigmoid): Sigmoid()\n",
              "    )\n",
              "    (1): BasicBlock(\n",
              "      (conv1): Conv2d(64, 64, kernel_size=(3, 3), stride=(1, 1), padding=(1, 1), bias=False)\n",
              "      (bn1): BatchNorm2d(64, eps=1e-05, momentum=0.1, affine=True, track_running_stats=True)\n",
              "      (relu): ReLU(inplace=True)\n",
              "      (conv2): Conv2d(64, 64, kernel_size=(3, 3), stride=(1, 1), padding=(1, 1), bias=False)\n",
              "      (bn2): BatchNorm2d(64, eps=1e-05, momentum=0.1, affine=True, track_running_stats=True)\n",
              "      (globalAvgPool): AdaptiveAvgPool2d(output_size=1)\n",
              "      (fc1): Linear(in_features=64, out_features=16, bias=True)\n",
              "      (fc2): Linear(in_features=16, out_features=64, bias=True)\n",
              "      (sigmoid): Sigmoid()\n",
              "    )\n",
              "    (2): BasicBlock(\n",
              "      (conv1): Conv2d(64, 64, kernel_size=(3, 3), stride=(1, 1), padding=(1, 1), bias=False)\n",
              "      (bn1): BatchNorm2d(64, eps=1e-05, momentum=0.1, affine=True, track_running_stats=True)\n",
              "      (relu): ReLU(inplace=True)\n",
              "      (conv2): Conv2d(64, 64, kernel_size=(3, 3), stride=(1, 1), padding=(1, 1), bias=False)\n",
              "      (bn2): BatchNorm2d(64, eps=1e-05, momentum=0.1, affine=True, track_running_stats=True)\n",
              "      (globalAvgPool): AdaptiveAvgPool2d(output_size=1)\n",
              "      (fc1): Linear(in_features=64, out_features=16, bias=True)\n",
              "      (fc2): Linear(in_features=16, out_features=64, bias=True)\n",
              "      (sigmoid): Sigmoid()\n",
              "    )\n",
              "  )\n",
              "  (avgpool): AvgPool2d(kernel_size=8, stride=8, padding=0)\n",
              "  (fc): Linear(in_features=64, out_features=10, bias=True)\n",
              ")"
            ]
          },
          "metadata": {
            "tags": []
          },
          "execution_count": 6
        }
      ]
    },
    {
      "cell_type": "markdown",
      "metadata": {
        "id": "uFCekfs78KQC"
      },
      "source": [
        "## 損失関数と最適化手法の定義\n",
        "学習に使用する損失関数と最適化手法を定義します．\n",
        "今回は，分類問題を扱うため，クロスエントロピー誤差を計算するための`CrossEntropyLoss`を`criterion`として定義します．\n",
        "また，`scheduler`で学習率のスケジューリングを行います．\n",
        "`scheduler`では，初期の学習率を0.1に設定し，全体のエポック数の1/2と3/4で学習率を0.1倍します．\n",
        "最適化手法には，確率的勾配降下法 (stochastic gradient descent: SGD) を用いて学習します．\n",
        "最後に，定義したネットワークの詳細情報を`torchsummary.summary()`関数を用いて表示します．"
      ]
    },
    {
      "cell_type": "code",
      "metadata": {
        "id": "rntVJhx98KQC",
        "colab": {
          "base_uri": "https://localhost:8080/"
        },
        "outputId": "96956944-1147-412a-931b-b28978ce9ce7"
      },
      "source": [
        "import torch.optim as optim\n",
        "from torch.optim import SGD, lr_scheduler\n",
        "\n",
        "criterion = nn.CrossEntropyLoss()\n",
        "optimizer = optim.SGD(model.parameters(), lr=0.1, momentum=0.9, weight_decay=5e-4)\n",
        "scheduler = lr_scheduler.MultiStepLR(optimizer, milestones=[50, 75], gamma=0.1) # 50 < 75\n",
        "\n",
        "# モデルの情報を表示\n",
        "torchsummary.summary(model, (3, 32, 32))"
      ],
      "execution_count": null,
      "outputs": [
        {
          "output_type": "stream",
          "text": [
            "----------------------------------------------------------------\n",
            "        Layer (type)               Output Shape         Param #\n",
            "================================================================\n",
            "            Conv2d-1           [-1, 16, 32, 32]             432\n",
            "       BatchNorm2d-2           [-1, 16, 32, 32]              32\n",
            "              ReLU-3           [-1, 16, 32, 32]               0\n",
            "            Conv2d-4           [-1, 16, 32, 32]           2,304\n",
            "       BatchNorm2d-5           [-1, 16, 32, 32]              32\n",
            "              ReLU-6           [-1, 16, 32, 32]               0\n",
            "            Conv2d-7           [-1, 16, 32, 32]           2,304\n",
            "       BatchNorm2d-8           [-1, 16, 32, 32]              32\n",
            " AdaptiveAvgPool2d-9             [-1, 16, 1, 1]               0\n",
            "           Linear-10                    [-1, 4]              68\n",
            "             ReLU-11                    [-1, 4]               0\n",
            "           Linear-12                   [-1, 16]              80\n",
            "          Sigmoid-13                   [-1, 16]               0\n",
            "             ReLU-14           [-1, 16, 32, 32]               0\n",
            "       BasicBlock-15           [-1, 16, 32, 32]               0\n",
            "           Conv2d-16           [-1, 16, 32, 32]           2,304\n",
            "      BatchNorm2d-17           [-1, 16, 32, 32]              32\n",
            "             ReLU-18           [-1, 16, 32, 32]               0\n",
            "           Conv2d-19           [-1, 16, 32, 32]           2,304\n",
            "      BatchNorm2d-20           [-1, 16, 32, 32]              32\n",
            "AdaptiveAvgPool2d-21             [-1, 16, 1, 1]               0\n",
            "           Linear-22                    [-1, 4]              68\n",
            "             ReLU-23                    [-1, 4]               0\n",
            "           Linear-24                   [-1, 16]              80\n",
            "          Sigmoid-25                   [-1, 16]               0\n",
            "             ReLU-26           [-1, 16, 32, 32]               0\n",
            "       BasicBlock-27           [-1, 16, 32, 32]               0\n",
            "           Conv2d-28           [-1, 16, 32, 32]           2,304\n",
            "      BatchNorm2d-29           [-1, 16, 32, 32]              32\n",
            "             ReLU-30           [-1, 16, 32, 32]               0\n",
            "           Conv2d-31           [-1, 16, 32, 32]           2,304\n",
            "      BatchNorm2d-32           [-1, 16, 32, 32]              32\n",
            "AdaptiveAvgPool2d-33             [-1, 16, 1, 1]               0\n",
            "           Linear-34                    [-1, 4]              68\n",
            "             ReLU-35                    [-1, 4]               0\n",
            "           Linear-36                   [-1, 16]              80\n",
            "          Sigmoid-37                   [-1, 16]               0\n",
            "             ReLU-38           [-1, 16, 32, 32]               0\n",
            "       BasicBlock-39           [-1, 16, 32, 32]               0\n",
            "           Conv2d-40           [-1, 32, 16, 16]           4,608\n",
            "      BatchNorm2d-41           [-1, 32, 16, 16]              64\n",
            "             ReLU-42           [-1, 32, 16, 16]               0\n",
            "           Conv2d-43           [-1, 32, 16, 16]           9,216\n",
            "      BatchNorm2d-44           [-1, 32, 16, 16]              64\n",
            "           Conv2d-45           [-1, 32, 16, 16]             512\n",
            "      BatchNorm2d-46           [-1, 32, 16, 16]              64\n",
            "AdaptiveAvgPool2d-47             [-1, 32, 1, 1]               0\n",
            "           Linear-48                    [-1, 8]             264\n",
            "             ReLU-49                    [-1, 8]               0\n",
            "           Linear-50                   [-1, 32]             288\n",
            "          Sigmoid-51                   [-1, 32]               0\n",
            "             ReLU-52           [-1, 32, 16, 16]               0\n",
            "       BasicBlock-53           [-1, 32, 16, 16]               0\n",
            "           Conv2d-54           [-1, 32, 16, 16]           9,216\n",
            "      BatchNorm2d-55           [-1, 32, 16, 16]              64\n",
            "             ReLU-56           [-1, 32, 16, 16]               0\n",
            "           Conv2d-57           [-1, 32, 16, 16]           9,216\n",
            "      BatchNorm2d-58           [-1, 32, 16, 16]              64\n",
            "AdaptiveAvgPool2d-59             [-1, 32, 1, 1]               0\n",
            "           Linear-60                    [-1, 8]             264\n",
            "             ReLU-61                    [-1, 8]               0\n",
            "           Linear-62                   [-1, 32]             288\n",
            "          Sigmoid-63                   [-1, 32]               0\n",
            "             ReLU-64           [-1, 32, 16, 16]               0\n",
            "       BasicBlock-65           [-1, 32, 16, 16]               0\n",
            "           Conv2d-66           [-1, 32, 16, 16]           9,216\n",
            "      BatchNorm2d-67           [-1, 32, 16, 16]              64\n",
            "             ReLU-68           [-1, 32, 16, 16]               0\n",
            "           Conv2d-69           [-1, 32, 16, 16]           9,216\n",
            "      BatchNorm2d-70           [-1, 32, 16, 16]              64\n",
            "AdaptiveAvgPool2d-71             [-1, 32, 1, 1]               0\n",
            "           Linear-72                    [-1, 8]             264\n",
            "             ReLU-73                    [-1, 8]               0\n",
            "           Linear-74                   [-1, 32]             288\n",
            "          Sigmoid-75                   [-1, 32]               0\n",
            "             ReLU-76           [-1, 32, 16, 16]               0\n",
            "       BasicBlock-77           [-1, 32, 16, 16]               0\n",
            "           Conv2d-78             [-1, 64, 8, 8]          18,432\n",
            "      BatchNorm2d-79             [-1, 64, 8, 8]             128\n",
            "             ReLU-80             [-1, 64, 8, 8]               0\n",
            "           Conv2d-81             [-1, 64, 8, 8]          36,864\n",
            "      BatchNorm2d-82             [-1, 64, 8, 8]             128\n",
            "           Conv2d-83             [-1, 64, 8, 8]           2,048\n",
            "      BatchNorm2d-84             [-1, 64, 8, 8]             128\n",
            "AdaptiveAvgPool2d-85             [-1, 64, 1, 1]               0\n",
            "           Linear-86                   [-1, 16]           1,040\n",
            "             ReLU-87                   [-1, 16]               0\n",
            "           Linear-88                   [-1, 64]           1,088\n",
            "          Sigmoid-89                   [-1, 64]               0\n",
            "             ReLU-90             [-1, 64, 8, 8]               0\n",
            "       BasicBlock-91             [-1, 64, 8, 8]               0\n",
            "           Conv2d-92             [-1, 64, 8, 8]          36,864\n",
            "      BatchNorm2d-93             [-1, 64, 8, 8]             128\n",
            "             ReLU-94             [-1, 64, 8, 8]               0\n",
            "           Conv2d-95             [-1, 64, 8, 8]          36,864\n",
            "      BatchNorm2d-96             [-1, 64, 8, 8]             128\n",
            "AdaptiveAvgPool2d-97             [-1, 64, 1, 1]               0\n",
            "           Linear-98                   [-1, 16]           1,040\n",
            "             ReLU-99                   [-1, 16]               0\n",
            "          Linear-100                   [-1, 64]           1,088\n",
            "         Sigmoid-101                   [-1, 64]               0\n",
            "            ReLU-102             [-1, 64, 8, 8]               0\n",
            "      BasicBlock-103             [-1, 64, 8, 8]               0\n",
            "          Conv2d-104             [-1, 64, 8, 8]          36,864\n",
            "     BatchNorm2d-105             [-1, 64, 8, 8]             128\n",
            "            ReLU-106             [-1, 64, 8, 8]               0\n",
            "          Conv2d-107             [-1, 64, 8, 8]          36,864\n",
            "     BatchNorm2d-108             [-1, 64, 8, 8]             128\n",
            "AdaptiveAvgPool2d-109             [-1, 64, 1, 1]               0\n",
            "          Linear-110                   [-1, 16]           1,040\n",
            "            ReLU-111                   [-1, 16]               0\n",
            "          Linear-112                   [-1, 64]           1,088\n",
            "         Sigmoid-113                   [-1, 64]               0\n",
            "            ReLU-114             [-1, 64, 8, 8]               0\n",
            "      BasicBlock-115             [-1, 64, 8, 8]               0\n",
            "       AvgPool2d-116             [-1, 64, 1, 1]               0\n",
            "          Linear-117                   [-1, 10]             650\n",
            "================================================================\n",
            "Total params: 280,958\n",
            "Trainable params: 280,958\n",
            "Non-trainable params: 0\n",
            "----------------------------------------------------------------\n",
            "Input size (MB): 0.01\n",
            "Forward/backward pass size (MB): 5.17\n",
            "Params size (MB): 1.07\n",
            "Estimated Total Size (MB): 6.25\n",
            "----------------------------------------------------------------\n"
          ],
          "name": "stdout"
        }
      ]
    },
    {
      "cell_type": "markdown",
      "metadata": {
        "id": "Z4NRFd6i8KQF"
      },
      "source": [
        "## 学習\n",
        "読み込んだCIFAR-10データセットと作成したネットワークを用いて，学習を行います．\n",
        "今回は，学習エポック数を100とします．\n",
        "1エポック学習するごとに学習したモデルを評価し，最も認識精度の高いモデルが保存されます．\n",
        "各更新において，学習用データと教師データをそれぞれ`inputs`と`targets`とします．\n",
        "学習モデルに`inputs`を与えて，SENetの出力を取得します．\n",
        "SENetの出力と教師ラベル`targets`との誤差を`criterion`で算出します．\n",
        "また，認識精度も算出します．\n",
        "そして，誤差をbackward関数で逆伝播し，ネットワークの更新を行います．\n",
        "認識精度も同時に計算して，`print`関数で学習経過における誤差や認識精度を表示します．"
      ]
    },
    {
      "cell_type": "code",
      "metadata": {
        "id": "nnMVTad98KQG",
        "colab": {
          "base_uri": "https://localhost:8080/"
        },
        "outputId": "23cf7a36-ada6-4176-ec63-94f4bf32408a"
      },
      "source": [
        "epochs = 100\n",
        "best_acc = 0  # best test accuracy\n",
        "\n",
        "# Training\n",
        "for epoch in range(epochs):\n",
        "    scheduler.step()\n",
        "    train_running_loss = 0.0\n",
        "    train_running_acc = 0.0\n",
        "\n",
        "    # training\n",
        "    model.train()\n",
        "    train_loss = 0\n",
        "    correct = 0\n",
        "    total = 0\n",
        "    count = 0\n",
        "    for batch_idx, (inputs, targets) in enumerate(trainloader):\n",
        "        inputs, targets = inputs.to(device), targets.to(device)\n",
        "        optimizer.zero_grad()\n",
        "        outputs = model(inputs)\n",
        "        loss = criterion(outputs, targets)\n",
        "        loss.backward()\n",
        "        optimizer.step()\n",
        "\n",
        "\n",
        "        train_loss += loss.item()\n",
        "        _, predicted = outputs.max(1)\n",
        "        total += targets.size(0)\n",
        "        correct += predicted.eq(targets).sum().item()\n",
        "\n",
        "        # print statistics\n",
        "        train_running_loss += loss\n",
        "        train_running_acc += 100.*correct/total\n",
        "        count += 1\n",
        "\n",
        "    print('[Epoch %d] Train Loss: %.5f | Train Acc: %.3f%%'\n",
        "                  % (epoch + 1, train_loss/count, train_running_acc/count))\n",
        "    \n",
        "    # testing\n",
        "    model.eval() \n",
        "    with torch.no_grad():\n",
        "        test_running_loss = 0.0\n",
        "        test_running_acc = 0.0\n",
        "        test_loss = 0\n",
        "        correct = 0\n",
        "        total = 0\n",
        "        count = 0\n",
        "        for batch_idx, (inputs, targets) in enumerate(testloader):\n",
        "            inputs, targets = inputs.to(device), targets.to(device)\n",
        "            outputs = model(inputs)\n",
        "            loss = criterion(outputs, targets)\n",
        "\n",
        "            test_loss += loss.item()\n",
        "            _, predicted = outputs.max(1)\n",
        "            total += targets.size(0)\n",
        "            correct += predicted.eq(targets).sum().item()\n",
        "\n",
        "            # print statistics\n",
        "            test_running_loss += loss\n",
        "            test_running_acc += 100.*correct/total\n",
        "            count += 1\n",
        "\n",
        "        print('Test Loss: %.5f | Test Acc: %.3f%%'\n",
        "                      % (test_loss/count, test_running_acc/count))\n",
        "        \n",
        "    # save model\n",
        "    if test_running_acc/count > best_acc:\n",
        "        best_acc = max(test_running_acc/count, best_acc)\n",
        "        PATH = './cifar_net.pth'\n",
        "        torch.save(model.state_dict(), PATH)\n",
        "    \n",
        "print('Finished Training')"
      ],
      "execution_count": null,
      "outputs": [
        {
          "output_type": "stream",
          "text": [
            "/usr/local/lib/python3.6/dist-packages/torch/optim/lr_scheduler.py:136: UserWarning: Detected call of `lr_scheduler.step()` before `optimizer.step()`. In PyTorch 1.1.0 and later, you should call them in the opposite order: `optimizer.step()` before `lr_scheduler.step()`.  Failure to do this will result in PyTorch skipping the first value of the learning rate schedule. See more details at https://pytorch.org/docs/stable/optim.html#how-to-adjust-learning-rate\n",
            "  \"https://pytorch.org/docs/stable/optim.html#how-to-adjust-learning-rate\", UserWarning)\n"
          ],
          "name": "stderr"
        },
        {
          "output_type": "stream",
          "text": [
            "[Epoch 1] Train Loss: 1.55324 | Train Acc: 32.108%\n",
            "Test Loss: 1.47607 | Test Acc: 48.669%\n",
            "[Epoch 2] Train Loss: 1.05303 | Train Acc: 59.927%\n",
            "Test Loss: 1.19521 | Test Acc: 61.161%\n",
            "[Epoch 3] Train Loss: 0.86513 | Train Acc: 67.888%\n",
            "Test Loss: 1.23629 | Test Acc: 61.315%\n",
            "[Epoch 4] Train Loss: 0.75312 | Train Acc: 73.061%\n",
            "Test Loss: 0.88095 | Test Acc: 70.366%\n",
            "[Epoch 5] Train Loss: 0.68603 | Train Acc: 76.184%\n",
            "Test Loss: 0.87224 | Test Acc: 69.977%\n",
            "[Epoch 6] Train Loss: 0.64714 | Train Acc: 77.528%\n",
            "Test Loss: 0.72965 | Test Acc: 75.162%\n",
            "[Epoch 7] Train Loss: 0.61396 | Train Acc: 78.664%\n",
            "Test Loss: 1.14402 | Test Acc: 64.253%\n",
            "[Epoch 8] Train Loss: 0.59140 | Train Acc: 79.932%\n",
            "Test Loss: 0.80504 | Test Acc: 73.224%\n",
            "[Epoch 9] Train Loss: 0.58036 | Train Acc: 80.121%\n",
            "Test Loss: 0.97865 | Test Acc: 68.951%\n",
            "[Epoch 10] Train Loss: 0.55511 | Train Acc: 80.913%\n",
            "Test Loss: 0.79333 | Test Acc: 72.829%\n",
            "[Epoch 11] Train Loss: 0.54602 | Train Acc: 81.300%\n",
            "Test Loss: 0.70325 | Test Acc: 76.491%\n",
            "[Epoch 12] Train Loss: 0.53618 | Train Acc: 81.427%\n",
            "Test Loss: 0.64020 | Test Acc: 77.561%\n",
            "[Epoch 13] Train Loss: 0.52944 | Train Acc: 81.926%\n",
            "Test Loss: 0.97232 | Test Acc: 70.128%\n",
            "[Epoch 14] Train Loss: 0.51659 | Train Acc: 82.191%\n",
            "Test Loss: 0.75483 | Test Acc: 76.253%\n",
            "[Epoch 15] Train Loss: 0.50997 | Train Acc: 82.255%\n",
            "Test Loss: 0.73145 | Test Acc: 75.231%\n",
            "[Epoch 16] Train Loss: 0.50132 | Train Acc: 82.786%\n",
            "Test Loss: 0.75379 | Test Acc: 75.467%\n",
            "[Epoch 17] Train Loss: 0.50174 | Train Acc: 82.905%\n",
            "Test Loss: 0.67105 | Test Acc: 77.368%\n",
            "[Epoch 18] Train Loss: 0.49441 | Train Acc: 82.990%\n",
            "Test Loss: 0.70155 | Test Acc: 76.995%\n",
            "[Epoch 19] Train Loss: 0.49011 | Train Acc: 83.556%\n",
            "Test Loss: 0.89210 | Test Acc: 72.207%\n",
            "[Epoch 20] Train Loss: 0.48684 | Train Acc: 83.671%\n",
            "Test Loss: 0.58288 | Test Acc: 79.920%\n",
            "[Epoch 21] Train Loss: 0.48254 | Train Acc: 83.653%\n",
            "Test Loss: 0.69721 | Test Acc: 75.607%\n",
            "[Epoch 22] Train Loss: 0.47912 | Train Acc: 83.462%\n",
            "Test Loss: 0.69020 | Test Acc: 76.369%\n",
            "[Epoch 23] Train Loss: 0.47175 | Train Acc: 84.090%\n",
            "Test Loss: 0.61377 | Test Acc: 79.171%\n",
            "[Epoch 24] Train Loss: 0.46883 | Train Acc: 83.905%\n",
            "Test Loss: 0.70114 | Test Acc: 77.578%\n",
            "[Epoch 25] Train Loss: 0.46318 | Train Acc: 84.046%\n",
            "Test Loss: 0.72715 | Test Acc: 76.509%\n",
            "[Epoch 26] Train Loss: 0.46656 | Train Acc: 83.947%\n",
            "Test Loss: 0.54971 | Test Acc: 82.169%\n",
            "[Epoch 27] Train Loss: 0.45621 | Train Acc: 84.886%\n",
            "Test Loss: 0.89618 | Test Acc: 72.691%\n",
            "[Epoch 28] Train Loss: 0.46052 | Train Acc: 84.186%\n",
            "Test Loss: 0.72148 | Test Acc: 75.506%\n",
            "[Epoch 29] Train Loss: 0.45422 | Train Acc: 84.224%\n",
            "Test Loss: 0.60053 | Test Acc: 79.566%\n",
            "[Epoch 30] Train Loss: 0.45832 | Train Acc: 84.617%\n",
            "Test Loss: 0.54206 | Test Acc: 81.061%\n",
            "[Epoch 31] Train Loss: 0.45402 | Train Acc: 84.878%\n",
            "Test Loss: 0.79654 | Test Acc: 74.818%\n",
            "[Epoch 32] Train Loss: 0.45302 | Train Acc: 84.398%\n",
            "Test Loss: 0.79662 | Test Acc: 75.890%\n",
            "[Epoch 33] Train Loss: 0.45413 | Train Acc: 84.455%\n",
            "Test Loss: 0.91682 | Test Acc: 70.845%\n",
            "[Epoch 34] Train Loss: 0.44562 | Train Acc: 84.879%\n",
            "Test Loss: 0.68952 | Test Acc: 78.043%\n",
            "[Epoch 35] Train Loss: 0.44637 | Train Acc: 85.068%\n",
            "Test Loss: 1.01227 | Test Acc: 67.429%\n",
            "[Epoch 36] Train Loss: 0.44708 | Train Acc: 84.576%\n",
            "Test Loss: 0.60846 | Test Acc: 79.491%\n",
            "[Epoch 37] Train Loss: 0.44061 | Train Acc: 85.054%\n",
            "Test Loss: 0.62353 | Test Acc: 79.050%\n",
            "[Epoch 38] Train Loss: 0.44522 | Train Acc: 84.858%\n",
            "Test Loss: 0.73019 | Test Acc: 76.958%\n",
            "[Epoch 39] Train Loss: 0.43840 | Train Acc: 85.616%\n",
            "Test Loss: 0.80875 | Test Acc: 73.711%\n",
            "[Epoch 40] Train Loss: 0.44290 | Train Acc: 84.786%\n",
            "Test Loss: 0.74818 | Test Acc: 75.257%\n",
            "[Epoch 41] Train Loss: 0.44413 | Train Acc: 84.655%\n",
            "Test Loss: 0.85450 | Test Acc: 69.867%\n",
            "[Epoch 42] Train Loss: 0.43114 | Train Acc: 85.215%\n",
            "Test Loss: 0.69920 | Test Acc: 77.027%\n",
            "[Epoch 43] Train Loss: 0.43856 | Train Acc: 84.994%\n",
            "Test Loss: 0.56733 | Test Acc: 80.580%\n",
            "[Epoch 44] Train Loss: 0.43435 | Train Acc: 85.130%\n",
            "Test Loss: 0.87378 | Test Acc: 71.652%\n",
            "[Epoch 45] Train Loss: 0.43416 | Train Acc: 84.817%\n",
            "Test Loss: 0.85043 | Test Acc: 75.428%\n",
            "[Epoch 46] Train Loss: 0.43606 | Train Acc: 85.160%\n",
            "Test Loss: 0.60869 | Test Acc: 79.680%\n",
            "[Epoch 47] Train Loss: 0.43672 | Train Acc: 85.226%\n",
            "Test Loss: 0.70110 | Test Acc: 77.794%\n",
            "[Epoch 48] Train Loss: 0.43179 | Train Acc: 85.345%\n",
            "Test Loss: 0.72355 | Test Acc: 76.041%\n",
            "[Epoch 49] Train Loss: 0.42962 | Train Acc: 85.287%\n",
            "Test Loss: 0.62060 | Test Acc: 79.389%\n",
            "[Epoch 50] Train Loss: 0.28742 | Train Acc: 89.429%\n",
            "Test Loss: 0.29496 | Test Acc: 89.651%\n",
            "[Epoch 51] Train Loss: 0.23700 | Train Acc: 91.905%\n",
            "Test Loss: 0.28816 | Test Acc: 90.272%\n",
            "[Epoch 52] Train Loss: 0.22016 | Train Acc: 92.547%\n",
            "Test Loss: 0.27875 | Test Acc: 90.868%\n",
            "[Epoch 53] Train Loss: 0.20881 | Train Acc: 92.921%\n",
            "Test Loss: 0.28086 | Test Acc: 90.512%\n",
            "[Epoch 54] Train Loss: 0.19638 | Train Acc: 93.429%\n",
            "Test Loss: 0.27355 | Test Acc: 91.089%\n",
            "[Epoch 55] Train Loss: 0.19102 | Train Acc: 93.424%\n",
            "Test Loss: 0.27095 | Test Acc: 90.897%\n",
            "[Epoch 56] Train Loss: 0.18381 | Train Acc: 93.761%\n",
            "Test Loss: 0.26959 | Test Acc: 91.225%\n",
            "[Epoch 57] Train Loss: 0.17959 | Train Acc: 94.114%\n",
            "Test Loss: 0.27942 | Test Acc: 90.766%\n",
            "[Epoch 58] Train Loss: 0.17313 | Train Acc: 94.061%\n",
            "Test Loss: 0.27400 | Test Acc: 90.751%\n",
            "[Epoch 59] Train Loss: 0.16763 | Train Acc: 94.285%\n",
            "Test Loss: 0.27091 | Test Acc: 91.117%\n",
            "[Epoch 60] Train Loss: 0.16354 | Train Acc: 94.697%\n",
            "Test Loss: 0.27390 | Test Acc: 90.896%\n",
            "[Epoch 61] Train Loss: 0.16048 | Train Acc: 94.571%\n",
            "Test Loss: 0.29838 | Test Acc: 90.189%\n",
            "[Epoch 62] Train Loss: 0.15632 | Train Acc: 94.847%\n",
            "Test Loss: 0.28051 | Test Acc: 90.777%\n",
            "[Epoch 63] Train Loss: 0.15486 | Train Acc: 94.966%\n",
            "Test Loss: 0.28293 | Test Acc: 90.742%\n",
            "[Epoch 64] Train Loss: 0.15339 | Train Acc: 94.971%\n",
            "Test Loss: 0.27587 | Test Acc: 90.694%\n",
            "[Epoch 65] Train Loss: 0.15199 | Train Acc: 94.999%\n",
            "Test Loss: 0.29683 | Test Acc: 90.409%\n",
            "[Epoch 66] Train Loss: 0.14948 | Train Acc: 94.886%\n",
            "Test Loss: 0.30375 | Test Acc: 90.209%\n",
            "[Epoch 67] Train Loss: 0.14763 | Train Acc: 95.181%\n",
            "Test Loss: 0.30786 | Test Acc: 90.031%\n",
            "[Epoch 68] Train Loss: 0.14776 | Train Acc: 95.133%\n",
            "Test Loss: 0.27975 | Test Acc: 91.378%\n",
            "[Epoch 69] Train Loss: 0.14535 | Train Acc: 95.020%\n",
            "Test Loss: 0.27901 | Test Acc: 91.156%\n",
            "[Epoch 70] Train Loss: 0.14412 | Train Acc: 95.245%\n",
            "Test Loss: 0.28033 | Test Acc: 90.975%\n",
            "[Epoch 71] Train Loss: 0.14465 | Train Acc: 95.063%\n",
            "Test Loss: 0.29478 | Test Acc: 90.729%\n",
            "[Epoch 72] Train Loss: 0.14493 | Train Acc: 94.998%\n",
            "Test Loss: 0.30179 | Test Acc: 90.066%\n",
            "[Epoch 73] Train Loss: 0.14292 | Train Acc: 95.222%\n",
            "Test Loss: 0.30305 | Test Acc: 90.560%\n",
            "[Epoch 74] Train Loss: 0.14387 | Train Acc: 95.324%\n",
            "Test Loss: 0.32318 | Test Acc: 89.407%\n",
            "[Epoch 75] Train Loss: 0.10697 | Train Acc: 96.302%\n",
            "Test Loss: 0.25190 | Test Acc: 91.840%\n",
            "[Epoch 76] Train Loss: 0.09270 | Train Acc: 97.005%\n",
            "Test Loss: 0.24922 | Test Acc: 91.757%\n",
            "[Epoch 77] Train Loss: 0.08841 | Train Acc: 97.173%\n",
            "Test Loss: 0.24954 | Test Acc: 92.021%\n",
            "[Epoch 78] Train Loss: 0.08375 | Train Acc: 97.563%\n",
            "Test Loss: 0.25174 | Test Acc: 91.997%\n",
            "[Epoch 79] Train Loss: 0.08311 | Train Acc: 97.430%\n",
            "Test Loss: 0.25161 | Test Acc: 92.190%\n",
            "[Epoch 80] Train Loss: 0.08059 | Train Acc: 97.383%\n",
            "Test Loss: 0.25382 | Test Acc: 92.187%\n",
            "[Epoch 81] Train Loss: 0.07669 | Train Acc: 97.713%\n",
            "Test Loss: 0.25415 | Test Acc: 91.835%\n",
            "[Epoch 82] Train Loss: 0.07534 | Train Acc: 97.680%\n",
            "Test Loss: 0.25168 | Test Acc: 91.880%\n",
            "[Epoch 83] Train Loss: 0.07526 | Train Acc: 97.804%\n",
            "Test Loss: 0.25445 | Test Acc: 91.895%\n",
            "[Epoch 84] Train Loss: 0.07347 | Train Acc: 97.680%\n",
            "Test Loss: 0.25699 | Test Acc: 92.053%\n",
            "[Epoch 85] Train Loss: 0.07212 | Train Acc: 97.739%\n",
            "Test Loss: 0.25483 | Test Acc: 92.032%\n",
            "[Epoch 86] Train Loss: 0.07043 | Train Acc: 97.814%\n",
            "Test Loss: 0.25445 | Test Acc: 91.987%\n",
            "[Epoch 87] Train Loss: 0.06718 | Train Acc: 98.060%\n",
            "Test Loss: 0.25572 | Test Acc: 92.000%\n",
            "[Epoch 88] Train Loss: 0.06841 | Train Acc: 97.998%\n",
            "Test Loss: 0.25466 | Test Acc: 91.895%\n",
            "[Epoch 89] Train Loss: 0.06750 | Train Acc: 98.007%\n",
            "Test Loss: 0.25513 | Test Acc: 92.079%\n",
            "[Epoch 90] Train Loss: 0.06779 | Train Acc: 97.920%\n",
            "Test Loss: 0.25701 | Test Acc: 92.173%\n",
            "[Epoch 91] Train Loss: 0.06538 | Train Acc: 98.070%\n",
            "Test Loss: 0.25706 | Test Acc: 92.189%\n",
            "[Epoch 92] Train Loss: 0.06489 | Train Acc: 98.076%\n",
            "Test Loss: 0.25590 | Test Acc: 92.119%\n",
            "[Epoch 93] Train Loss: 0.06430 | Train Acc: 98.160%\n",
            "Test Loss: 0.26172 | Test Acc: 92.115%\n",
            "[Epoch 94] Train Loss: 0.06245 | Train Acc: 98.126%\n",
            "Test Loss: 0.25874 | Test Acc: 91.994%\n",
            "[Epoch 95] Train Loss: 0.06138 | Train Acc: 98.305%\n",
            "Test Loss: 0.25823 | Test Acc: 92.078%\n",
            "[Epoch 96] Train Loss: 0.06178 | Train Acc: 98.078%\n",
            "Test Loss: 0.25688 | Test Acc: 92.028%\n",
            "[Epoch 97] Train Loss: 0.06210 | Train Acc: 98.307%\n",
            "Test Loss: 0.26227 | Test Acc: 92.013%\n",
            "[Epoch 98] Train Loss: 0.05800 | Train Acc: 98.296%\n",
            "Test Loss: 0.25882 | Test Acc: 92.028%\n",
            "[Epoch 99] Train Loss: 0.05985 | Train Acc: 98.296%\n",
            "Test Loss: 0.26196 | Test Acc: 92.170%\n",
            "[Epoch 100] Train Loss: 0.05747 | Train Acc: 98.455%\n",
            "Test Loss: 0.26031 | Test Acc: 92.156%\n",
            "Finished Training\n"
          ],
          "name": "stdout"
        }
      ]
    },
    {
      "cell_type": "markdown",
      "metadata": {
        "id": "wlOo-rzY8KQL"
      },
      "source": [
        "##テスト\n",
        "学習したネットワークのテストデータに対する認識精度の確認を行います．まず，学習したネットワークを評価するために保存したモデルをロードします．"
      ]
    },
    {
      "cell_type": "code",
      "metadata": {
        "id": "WSa0ATFj8KQP",
        "colab": {
          "base_uri": "https://localhost:8080/"
        },
        "outputId": "2670c27e-6559-4e7c-b68d-982e0cfcf6a8"
      },
      "source": [
        "depth = 20 #e.g. 20, 32, 44, 47, 56, 110, 1199\n",
        "model = SE_ResNet(depth)\n",
        "model.to(device)\n",
        "PATH = './cifar_net.pth'\n",
        "model.load_state_dict(torch.load(PATH))"
      ],
      "execution_count": null,
      "outputs": [
        {
          "output_type": "execute_result",
          "data": {
            "text/plain": [
              "<All keys matched successfully>"
            ]
          },
          "metadata": {
            "tags": []
          },
          "execution_count": 9
        }
      ]
    },
    {
      "cell_type": "markdown",
      "metadata": {
        "id": "VwWfJO358KQS"
      },
      "source": [
        "次に，学習したネットワークを用いて，テストデータに対する認識精度の確認を行います．\n",
        "`model.eval()`を適用することで，ネットワーク演算を評価モードへ変更します． これにより，学習時と評価時で挙動が異なる演算（dropout等）を変更することが可能です． また，`torch.no_grad()`を適用することで，学習時には必要になる勾配情報を保持することなく演算を行います．"
      ]
    },
    {
      "cell_type": "code",
      "metadata": {
        "id": "ij38kQBP8KQS",
        "colab": {
          "base_uri": "https://localhost:8080/"
        },
        "outputId": "ed409792-6ceb-477d-f8f1-1974079eac26"
      },
      "source": [
        "# testing\n",
        "model.eval() \n",
        "with torch.no_grad():\n",
        "    test_running_loss = 0.0\n",
        "    test_running_acc = 0.0\n",
        "    test_loss = 0\n",
        "    correct = 0\n",
        "    total = 0\n",
        "    count = 0\n",
        "    for batch_idx, (inputs, targets) in enumerate(testloader):\n",
        "        inputs, targets = inputs.to(device), targets.to(device)\n",
        "        outputs = model(inputs)\n",
        "        loss = criterion(outputs, targets)\n",
        "\n",
        "        test_loss += loss.item()\n",
        "        _, predicted = outputs.max(1)\n",
        "        total += targets.size(0)\n",
        "        correct += predicted.eq(targets).sum().item()\n",
        "\n",
        "        # print statistics\n",
        "        test_running_loss += loss\n",
        "        test_running_acc += 100.*correct/total\n",
        "        count += 1\n",
        "\n",
        "    print('Test Loss: %.5f | Test Acc: %.3f%%'\n",
        "                  % (test_loss/count, test_running_acc/count))"
      ],
      "execution_count": null,
      "outputs": [
        {
          "output_type": "stream",
          "text": [
            "Test Loss: 0.25161 | Test Acc: 92.190%\n"
          ],
          "name": "stdout"
        }
      ]
    },
    {
      "cell_type": "markdown",
      "metadata": {
        "id": "qiY_kiXb8KQV"
      },
      "source": [
        "## 課題\n",
        "1. エポック数やミニバッチサイズを変えて実験しましょう．"
      ]
    },
    {
      "cell_type": "code",
      "metadata": {
        "id": "1AQOyIMFfwo4"
      },
      "source": [
        "#ここにコードを書く"
      ],
      "execution_count": null,
      "outputs": []
    },
    {
      "cell_type": "markdown",
      "metadata": {
        "id": "oypMA_2LfxGr"
      },
      "source": [
        "2. SE-ResNetの層数を変えて認識精度の変化を比較しましょう．"
      ]
    },
    {
      "cell_type": "code",
      "metadata": {
        "id": "6F10--iYf2Xq"
      },
      "source": [
        "#ここにコードを書く"
      ],
      "execution_count": null,
      "outputs": []
    },
    {
      "cell_type": "markdown",
      "metadata": {
        "id": "k6FLIkg3r22K"
      },
      "source": [
        "# 参考文献\n",
        "- [1] J. Hu, L. Shen, and G. Sun, \"Squeeze-and-excitation networks\".\n",
        "In 2018 IEEE Conference on Computer Vision and\n",
        "Pattern Recognition, pp. 7132–7141, 2018.\n",
        "\n",
        "- [2] M. Lin, Q. Chen, and S. Yan, \"Network in network\".\n",
        "In 2nd International Conference on Learning Representations,\n",
        "Banff, AB, Canada, April 14-16, 2014, Conference\n",
        "Track Proceedings, 2014.\n",
        "\n",
        "- [3] S. Karen and Z. Andrew, \"Very deep convolutional networks\n",
        "for large-scale image recognition\". In International Confer-\n",
        "ence on Learning Representations, 2015.\n",
        "\n",
        "- [4] K. He, X. Zhang, S. Ren, and J. Sun,\n",
        "\"Deep residual learning for image recognition\". In 2016 IEEE Conference on Computer Vision and Pattern Recognition,\n",
        "pp. 770–778, 2016."
      ]
    }
  ]
}