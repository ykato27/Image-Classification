{
  "nbformat": 4,
  "nbformat_minor": 0,
  "metadata": {
    "colab": {
      "name": "3-5-2_CNN_GPU.ipynb",
      "provenance": [],
      "collapsed_sections": [],
      "include_colab_link": true
    },
    "kernelspec": {
      "name": "python3",
      "display_name": "Python 3"
    },
    "accelerator": "GPU"
  },
  "cells": [
    {
      "cell_type": "markdown",
      "metadata": {
        "id": "view-in-github",
        "colab_type": "text"
      },
      "source": [
        "<a href=\"https://colab.research.google.com/github/ykato27/Image-Classification/blob/main/3_5_2_CNN_GPU.ipynb\" target=\"_parent\"><img src=\"https://colab.research.google.com/assets/colab-badge.svg\" alt=\"Open In Colab\"/></a>"
      ]
    },
    {
      "cell_type": "markdown",
      "metadata": {
        "id": "peIEKVFZO50A"
      },
      "source": [
        "#GPUの使用 Using GPU"
      ]
    },
    {
      "cell_type": "markdown",
      "metadata": {
        "id": "sMd8AinOtO9h"
      },
      "source": [
        "##CuPy による配列計算 Array Computation with CuPy\n",
        "\n",
        "GPU を扱うには Cuda という専用言語を用いる必要がありますが，CuPy というモジュールを使えば，Python 上で NumPy とほとんど同様に配列を扱うことにより，勝手に GPU で計算してくれるようになります．\n",
        "\n",
        "In order to handle GPUs, we need to use a special language called Cuda, but if we use a module called CuPy, we can handle arrays in almost the same way as NumPy in Python automatically.\n"
      ]
    },
    {
      "cell_type": "markdown",
      "metadata": {
        "id": "oB1ajRHxiZ43"
      },
      "source": [
        "CuPy 公式ページ CuPy official page\n",
        "\n",
        "https://docs-cupy.chainer.org/en/stable/index.html\n",
        "\n",
        "NumPy との比較表 Comparison table with NumPy\n",
        "\n",
        "https://docs-cupy.chainer.org/en/stable/reference/comparison.html"
      ]
    },
    {
      "cell_type": "markdown",
      "metadata": {
        "id": "HKMcIAoTiUtC"
      },
      "source": [
        "#### CuPy の読み込み Loading CuPy \n",
        "\n",
        "まず，Colaboratory を GPU 対応に変えないといけません．\n",
        "\n",
        "上部バーから，ランタイム - ランタイムのタイプを選択 より，ハードウェアアクセラレータを GPU に変更し保存してください．\n",
        "\n",
        "その上で以下のセルを実行すれば，CuPy が読み込めます．\n",
        "\n",
        "\n",
        "First, we need to change the Collaboratory to GPU capable.\n",
        "\n",
        "From the top bar, select Runtime - Runtime Type, change the hardware accelerator to GPU, and save.\n",
        "\n",
        "Then, Cupy can be loaded by the following cell.\n"
      ]
    },
    {
      "cell_type": "code",
      "metadata": {
        "id": "aedg4o9HiWm0"
      },
      "source": [
        "import cupy as cp"
      ],
      "execution_count": 1,
      "outputs": []
    },
    {
      "cell_type": "markdown",
      "metadata": {
        "id": "EVeth7LRnclP"
      },
      "source": [
        "#### 簡単な配列の計算 Simple Array Computation\n",
        "\n",
        "使い方は基本的に `numpy.`（`np.`）　 を `cupy.`（`cp.`）に代えるだけです．\n",
        "\n",
        "The usage is basically just to replace `numpy.` (`np.`) with `cupy.` (`cp.`)."
      ]
    },
    {
      "cell_type": "code",
      "metadata": {
        "id": "-1tN8x51ncu3",
        "colab": {
          "base_uri": "https://localhost:8080/"
        },
        "outputId": "64025603-73c8-416b-db2f-db167e5b8619"
      },
      "source": [
        "x = cp.array([1, 2, 3]) #CuPyの配列を生成\n",
        "y = cp.array([2,1,2]) #CuPyの配列を生成\n",
        "z = cp.dot(x.reshape(3,1),y.reshape(1,3))\n",
        "print(z)\n",
        "\n",
        "z.sum(axis= 0)"
      ],
      "execution_count": 2,
      "outputs": [
        {
          "output_type": "stream",
          "name": "stdout",
          "text": [
            "[[2 1 2]\n",
            " [4 2 4]\n",
            " [6 3 6]]\n"
          ]
        },
        {
          "output_type": "execute_result",
          "data": {
            "text/plain": [
              "array([12,  6, 12])"
            ]
          },
          "metadata": {},
          "execution_count": 2
        }
      ]
    },
    {
      "cell_type": "markdown",
      "metadata": {
        "id": "zNMZJu5CmNmp"
      },
      "source": [
        "#### NumPy 配列との間の変換 Conversion to and from NumPy arrays"
      ]
    },
    {
      "cell_type": "code",
      "metadata": {
        "id": "w87-0PJ6mN56",
        "colab": {
          "base_uri": "https://localhost:8080/"
        },
        "outputId": "94ae307c-00e0-4fdd-8a8d-a1c985ef3269"
      },
      "source": [
        "x_gpu = cp.array([1, 2, 3]) #CuPyの配列を生成\n",
        "x_cpu = cp.asnumpy(x_gpu) #NumPyの配列に変換\n",
        "y_gpu = cp.array(x_cpu) #再びCuPyの配列に変換\n",
        "\n",
        "print(type(x_gpu),type(x_cpu),type(y_gpu))\n",
        "y_gpu\n"
      ],
      "execution_count": 3,
      "outputs": [
        {
          "output_type": "stream",
          "name": "stdout",
          "text": [
            "<class 'cupy._core.core.ndarray'> <class 'numpy.ndarray'> <class 'cupy._core.core.ndarray'>\n"
          ]
        },
        {
          "output_type": "execute_result",
          "data": {
            "text/plain": [
              "array([1, 2, 3])"
            ]
          },
          "metadata": {},
          "execution_count": 3
        }
      ]
    },
    {
      "cell_type": "markdown",
      "metadata": {
        "id": "QZESDD0BbVrB"
      },
      "source": [
        "## GPU を用いた畳み込みニューラルネットワークの学習 Training Convolutional Neural Networks Using GPUs"
      ]
    },
    {
      "cell_type": "markdown",
      "metadata": {
        "id": "z0Jw-VQs81nI"
      },
      "source": [
        "#### 最適化法と層のクラスの読み込み Loading Optimization Methods and Layer Classes\n",
        "\n",
        "これまでのものの `np.` を　`cp.` に代えただけです．\n",
        "\n",
        "We just substitute cp. for np. in the previous ones.\n",
        "\n"
      ]
    },
    {
      "cell_type": "markdown",
      "metadata": {
        "id": "pSsECCjN9m9t"
      },
      "source": [
        "#### 最適化法のクラス Classes of optimization methods"
      ]
    },
    {
      "cell_type": "code",
      "metadata": {
        "id": "5BoIW9rC9j3D",
        "cellView": "both"
      },
      "source": [
        "class SGD:\n",
        "  def __init__(self, learning_rate = 0.01):\n",
        "    self.lr = learning_rate\n",
        "\n",
        "  def update(self, params, grads):\n",
        "    for key in params:\n",
        "      params[key] -= self.lr * grads[key] \n",
        "\n",
        "class Momentum:\n",
        "  def __init__(self, learning_rate = 0.01, alpha = 0.5):\n",
        "    '''\n",
        "    self.lr = learning_rate : 学習係数\n",
        "    self.alpha = alpha      : alpha\n",
        "    '''\n",
        "    self.lr = learning_rate\n",
        "    self.alpha = alpha\n",
        "    self.v = None \n",
        "\n",
        "  def update(self, params, grads):\n",
        "    '''\n",
        "    params : 更新するパラメータ\n",
        "    grads  : 目的関数のパラメータに関する勾配\n",
        "    self.v : モメンタム，パラメータと同じ形式\n",
        "\n",
        "    '''\n",
        "    # self.v の初期化\n",
        "    if self.v is None:\n",
        "      self.v = {}\n",
        "      for key in params:\n",
        "        self.v[key] = cp.zeros_like(params[key])\n",
        "    \n",
        "    # モメンタムとパラメータの更新\n",
        "    for key in params:\n",
        "      self.v[key] = self.alpha * self.v[key] - self.lr * grads[key] \n",
        "      params[key] += self.v[key]\n",
        "\n",
        "class Adam:\n",
        "  def __init__(self, learning_rate=0.001, beta1=0.9, beta2=0.999):\n",
        "    self.learning_rate = learning_rate\n",
        "    self.beta1 = beta1\n",
        "    self.beta2 = beta2\n",
        "    self.iter = 0\n",
        "    self.m = None\n",
        "    self.v = None\n",
        "    \n",
        "  def update(self, params, grads):\n",
        "    if self.m is None:\n",
        "      self.m, self.v = {}, {}\n",
        "      for key in params:\n",
        "        self.m[key] = cp.zeros_like(params[key])\n",
        "        self.v[key] = cp.zeros_like(params[key])\n",
        "\n",
        "    self.iter += 1\n",
        "    lr_t  = self.learning_rate * cp.sqrt(1.0 - self.beta2**self.iter) / (1.0 - self.beta1**self.iter)         \n",
        "      \n",
        "    for key in params.keys():\n",
        "      self.m[key] += (1 - self.beta1) * (grads[key] - self.m[key])\n",
        "      self.v[key] += (1 - self.beta2) * (grads[key]**2 - self.v[key])\n",
        "      params[key] -= lr_t * self.m[key] / (cp.sqrt(self.v[key]) + 1e-7)\n",
        "\n",
        "class AdaGrad:\n",
        "  def __init__(self, learning_rate = 0.01):\n",
        "    self.learning_rate = learning_rate\n",
        "    self.h = None\n",
        "      \n",
        "  def update(self, params, grads):\n",
        "    if self.h is None:\n",
        "      self.h = {}\n",
        "      for key in params:\n",
        "        self.h[key] = cp.zeros_like(params[key])\n",
        "        \n",
        "    for key in params:\n",
        "      self.h[key] += grads[key] * grads[key]\n",
        "      params[key] -= self.learning_rate * grads[key] / (cp.sqrt(self.h[key]) + 1e-7)  "
      ],
      "execution_count": 4,
      "outputs": []
    },
    {
      "cell_type": "markdown",
      "metadata": {
        "id": "ros4u9u7A9mz"
      },
      "source": [
        "#### 層のクラス Classes of layers"
      ]
    },
    {
      "cell_type": "code",
      "metadata": {
        "id": "0iOQemqFwf3B"
      },
      "source": [
        "def softmax(a):   \n",
        "  # a がベクトルのとき\n",
        "  if a.ndim == 1:\n",
        "    c = cp.max(a)#オーバーフロー対策1\n",
        "    x = a-c\n",
        "    x = 709*(x >= 709) + x*(x<709)#オーバーフロー対策2\n",
        "    exp_x = cp.exp(x)\n",
        "    sum_exp_x = cp.sum(exp_x)\n",
        "    return exp_x/sum_exp_x\n",
        "    \n",
        "  # a が２階の配列のとき\n",
        "  a = a.T\n",
        "  c = cp.max(a, axis=0) #オーバーフロー対策1\n",
        "  x = a - c\n",
        "  x = 709*(x >= 709) + x*(x<709) #オーバーフロー対策2\n",
        "  exp_x = cp.exp(x)\n",
        "  sum_exp_x = cp.sum(exp_x, axis=0)\n",
        "  return (exp_x/sum_exp_x).T\n",
        "\n",
        "def sigmoid(x):\n",
        "  x = -709*(x <= -709)+709*(x >= 709) + x*(x>-709) *(x<709) #オーバーフロー対策\n",
        "  return 1/(1+cp.exp(-x))\n",
        "\n",
        "\n",
        "class Affine:\n",
        "  def __init__(self, W, b):\n",
        "    self.W = W\n",
        "    self.b = b\n",
        "    self.x = None\n",
        "    self.dW = None\n",
        "    self.db = None\n",
        "    self.xshpe = None\n",
        "    \n",
        "  def forward(self, x):\n",
        "    #2階の配列に直す\n",
        "    self.xshape = x.shape\n",
        "    x = x.reshape(self.xshape[0],-1)\n",
        "    \n",
        "    self.x = x\n",
        "    out = cp.dot(self.x, self.W) +self.b\n",
        "    return out\n",
        "  \n",
        "  def backward(self,dout):\n",
        "    self.dW = cp.dot(self.x.T, dout)\n",
        "    self.db = cp.sum(dout, axis=0)\n",
        "    dx = cp.dot(dout, self.W.T)\n",
        "    \n",
        "    #元の形に戻す\n",
        "    dx = dx.reshape(*self.xshape)# *はカッコを外す \n",
        "    return dx\n",
        "  \n",
        "class Relu:       ####Relu層の定義\n",
        "  def __init__(self):\n",
        "    self.mask = None\n",
        "    \n",
        "  def forward(self, x):\n",
        "    self.mask = (x > 0)  # x> 0 ならTrue , x<= 0 ならFalse\n",
        "    out = x * self.mask  # x> 0 なら x * 1  , x<= 0 なら x * 0\n",
        "    return out\n",
        "  \n",
        "  def backward(self,dout):\n",
        "    dx = dout * self.mask\n",
        "    return dx\n",
        "\n",
        "class Sigmoid:\n",
        "  def __init__(self):\n",
        "    self.y = None\n",
        "\n",
        "  def forward(self, x):\n",
        "    self.y = sigmoid(x)\n",
        "    return self.y\n",
        "  \n",
        "  def backward(self,dout):\n",
        "    dx = dout*(1-self.y)*self.y\n",
        "    return dx\n",
        "\n",
        "  \n",
        "class SoftmaxWithLoss:\n",
        "  def __self__(self):\n",
        "    self.loss = None\n",
        "    self.y = None\n",
        "    self.t = None\n",
        "    \n",
        "  def forward(self, x, t):\n",
        "    y = softmax(x)\n",
        "    self.y = y\n",
        "    self.t = t\n",
        "    batch_size = y.shape[0]\n",
        "    return -cp.sum(t*cp.log(y+1e-7))/batch_size   # 1e-7 = 10^(-7)はlogの中に0を入力するのを防止するため\n",
        "  \n",
        "  def backward(self):\n",
        "    batch_size = self.y.shape[0]\n",
        "    dx = (self.y-self.t)/batch_size\n",
        "    return dx\n",
        "  \n",
        "class BatchNormalization:\n",
        "  def __init__(self, gamma = 1, beta = 0, momentum=0.9, running_mean=None, running_var=None):    \n",
        "    self.beta = beta\n",
        "    self.gamma = gamma\n",
        "    self.momentum = momentum\n",
        "    \n",
        "    # テスト時に使用する平均と分散\n",
        "    self.running_mean = running_mean\n",
        "    self.running_var = running_var\n",
        "   \n",
        "    self.std = None\n",
        "    self.xc = None\n",
        "    self.y = None\n",
        "    self.xshape = None\n",
        "  \n",
        "  def forward(self, x, train_flag = True):\n",
        "    \n",
        "    #2階の配列に直す\n",
        "    self.xshape = x.shape\n",
        "    x = x.reshape(self.xshape[0], -1)\n",
        "    \n",
        "    \n",
        "    if self.running_mean is None:\n",
        "      D = x.shape[1]\n",
        "      self.running_mean = cp.zeros(D)\n",
        "      self.running_var = cp.zeros(D)\n",
        "    \n",
        "    if train_flag:\n",
        "      mu = cp.mean(x, axis=0)  #バッチについての平均．\n",
        "      var = cp.mean((x-mu)**2, axis=0) \n",
        "      std = cp.sqrt(var+10e-7)     \n",
        "      xc = (x-mu)/std    \n",
        "      y = self.gamma * xc + self.beta\n",
        "      \n",
        "      self.std = std\n",
        "      self.xc = xc\n",
        "      \n",
        "      self.running_mean = self.momentum * self.running_mean + (1-self.momentum) * mu\n",
        "      self.running_var = self.momentum * self.running_var + (1-self.momentum) * var  \n",
        "      \n",
        "    else:\n",
        "      xc = (x - self.running_mean) / (cp.sqrt(self.running_var + 10e-7)) \n",
        "      y = self.gamma * xc + self.beta\n",
        "      \n",
        "    #yをxの元の形と同じ形にする\n",
        "    y = y.reshape(*self.xshape)\n",
        "    return y      \n",
        "  \n",
        "  def backward(self, dout):\n",
        "    #2階の配列に直す\n",
        "    dout = dout.reshape(self.xshape[0], -1)\n",
        "    \n",
        "    \n",
        "    self.dbeta = dout.sum(axis = 0) \n",
        "    self.dgamma = (self.xc * dout).sum(axis = 0)\n",
        "    c = cp.mean(dout, axis=0)\n",
        "    d = cp.mean(self.xc * dout, axis =0)\n",
        "    dx = dout - c - self.xc * d\n",
        "    dx *= self.gamma/self.std\n",
        "    \n",
        "    #dxをxの元の形と同じ形にする\n",
        "    dx = dx.reshape(*self.xshape)\n",
        "    return dx\n",
        "\n",
        "class Dropout:\n",
        "  def __init__(self, dropout_ratio = 0.5):\n",
        "    self.dropout_ratio = dropout_ratio\n",
        "    self.mask = None\n",
        "  \n",
        "  def forward(self, x, train_flag = True):\n",
        "    if train_flag:\n",
        "      self.mask = cp.random.rand(*x.shape) > self.dropout_ratio\n",
        "      return x * self.mask\n",
        "    else:\n",
        "      return x * (1.0 - self.dropout_ratio)\n",
        "  \n",
        "  def backward(self, dout):\n",
        "    return dout * self.mask\n",
        "\n",
        "\n",
        "class Convolution:\n",
        "  def __init__(self, F, b, stride=1, pad=0):\n",
        "    self.F = F\n",
        "    self.b = b\n",
        "    self.stride = stride\n",
        "    self.pad = pad\n",
        "        \n",
        "    #中間データ（backward時に使用）\n",
        "    self.xshape = None   \n",
        "    self.xh = None\n",
        "    self.f_col = None\n",
        "        \n",
        "    # 勾配\n",
        "    self.dF = None\n",
        "    self.db = None\n",
        "\n",
        "  def forward(self, x):\n",
        "    OC, C, FH, FW = self.F.shape\n",
        "    N, C, H, W = x.shape\n",
        "    pad = self.pad\n",
        "    stride = self.stride\n",
        "    \n",
        "    #出力サイズ\n",
        "    OH = (H + 2 * pad - FH)//stride +1\n",
        "    OW = (W + 2 * pad - FW)//stride +1\n",
        "    \n",
        "    # xh, xt, xcol の順に計算\n",
        "    x_pad = cp.pad(x, [(0,0), (0,0), (pad, pad), (pad, pad)], 'constant')# (N,C,H,W)のうち最後の2つの方向に関してパディングする \n",
        "    xh = cp.zeros((N, C, FH, FW, OH, OW))\n",
        "    for fh in range(FH):\n",
        "      for fw in range(FW):\n",
        "        xh[:,:,fh,fw,:,:] =x_pad[:,:,fh:fh + OH * stride:stride, fw: fw + OW * stride:stride] \n",
        "    xt = xh.transpose(0,4,5,1,2,3) # (N, OH, OW, C, FH, FW)\n",
        "    xcol = xt.reshape(N,OH,OW,-1)  # (N, OH, OW,  C * FH * FW)\n",
        "    \n",
        "    #出力 y を計算\n",
        "    fcol = self.F.reshape(OC,-1).T # (C * FH * FW, OC)\n",
        "    y = (cp.dot(xcol,fcol) + self.b).transpose(0,3,1,2)  #  (N, OH, OW, OC).transpose(0,3,1,2) = (N, OC, OH, OW)\n",
        "    \n",
        "    #クラス変数として格納\n",
        "    self.xshape = x.shape   \n",
        "    self.xh = xh\n",
        "    self.fcol = fcol\n",
        "     \n",
        "    return y\n",
        "    \n",
        "  def backward(self,dout):\n",
        "    OC, C, FH, FW = self.F.shape\n",
        "    N, OC, OH, OW = dout.shape\n",
        "    N, C, H, W = self.xshape\n",
        "    stride = self.stride\n",
        "    pad = self.pad\n",
        "    \n",
        "    # db と dF を計算\n",
        "    xh_col = self.xh.transpose(1,2,3,0,4,5).reshape(C,FH,FW,-1) # (C, FH, FW, N, OH, OW).reshape(C,FH,FW,-1) = (C, FH, FW, N * OH * OW)\n",
        "    dout_col = dout.transpose(1,0,2,3).reshape(OC,-1) # (OC, N * OH * OW)\n",
        "    self.db = dout_col.sum(axis = 1) # (OC,)\n",
        "    self.dF = cp.dot(dout_col, xh_col.transpose(0,1,3,2)) # (OC, N * OH * OW)(C, FH, N * OH * OW,  FW) = (OC, C, FH, FW)\n",
        "    \n",
        "    # dout と F から dxt を計算\n",
        "    dxt = cp.dot(dout.transpose(0,2,3,1), self.F.transpose(1,2,0,3))# (N, OH, OW, OC)( C, FH, OC, FW) = (N, OH, OW, C, FH, FW)\n",
        "    dxt = dxt.transpose(0,3,1,2,4,5) #(N, OH, OW, C, FH, FW)\n",
        "        \n",
        "    #  dxt から dx を計算\n",
        "    dx = cp.zeros((N, C, H+ 2*pad + stride - 1, W+ 2*pad + stride - 1), dtype=cp.float)  \n",
        "    for fh in range(FH):\n",
        "      for fw in range(FW):\n",
        "        dx[:,:,fh:fh + OH * stride: stride, fw: fw + OW * stride: stride] += dxt[:,:,:, :,fh,fw]\n",
        "    \n",
        "    return dx[:, :, pad:H+pad, pad:W+pad] \n",
        "      \n",
        "class Pooling:\n",
        "  def __init__(self, S):\n",
        "    self.S = S\n",
        "        \n",
        "    #中間データ（backward時に使用）\n",
        "    self.xshape = None   \n",
        "    self.argmax = None\n",
        " \n",
        "  def forward(self, x):\n",
        "    N, C, H, W = x.shape\n",
        "    S = self.S\n",
        "    FH, FW = S, S #本来は必要ないがコードを書く際に混乱するので導入\n",
        "    stride = S\n",
        "    self.xshape = x.shape\n",
        "    \n",
        "    #出力サイズ\n",
        "    OH = H//S\n",
        "    OW = W//S\n",
        "    \n",
        "    # xh, xt, xcol の順に計算    \n",
        "    xh = cp.zeros((N, C, FH, FW, OH, OW))\n",
        "    for fh in range(FH):\n",
        "      for fw in range(FW):\n",
        "        xh[:,:,fh,fw,:,:] =x[:,:,fh:fh + OH * stride:stride, fw: fw + OW * stride:stride] \n",
        "    xt = xh.transpose(0,1,4,5,2,3) # (N, C, OH, OW, FH, FW)\n",
        "    xcol = xt.reshape(N, C, OH,OW, -1)  # (N, C, OH, OW,  FH * FW)\n",
        "    \n",
        "    #argmaxを格納\n",
        "    self.argmax = xcol.argmax(axis = -1).flatten()\n",
        " \n",
        "   \n",
        "    #出力 y を計算\n",
        "    y = xcol.max(axis = 4)  # (N, C, OH, OW)\n",
        "    return y\n",
        "    \n",
        "  def backward(self,dout):\n",
        "    N, C, OH, OW = dout.shape\n",
        "    N, C, H, W = self.xshape\n",
        "    S = self.S\n",
        "    FH, FW = S, S #本来は必要ないがコードを書く際に混乱するので導入\n",
        "    stride = S\n",
        "   \n",
        "    # dout と　self.argmax から dxt を計算\n",
        "    dxt = cp.zeros((N * C * OH * OW, FH * FW))\n",
        "    dxt[cp.arange(N * C * OH * OW), self.argmax] = dout.flatten() # (N * C * OH *OW, FH*FW) =  (N * C * OH * OW)\n",
        "    dxt = dxt.reshape(N, C, OH, OW, FH, FW) \n",
        "        \n",
        "    #  dxt から dx を計算\n",
        "    dx = cp.zeros((N, C, H+ stride - 1, W+ stride - 1), dtype=cp.float)  \n",
        "    for fh in range(FH):\n",
        "      for fw in range(FW):\n",
        "        dx[:,:,fh:fh + OH * stride: stride, fw: fw + OW * stride: stride] += dxt[:,:,:, :,fh,fw]\n",
        "    \n",
        "    return dx[:, :, :H, :W]  \n",
        "      "
      ],
      "execution_count": 5,
      "outputs": []
    },
    {
      "cell_type": "markdown",
      "metadata": {
        "id": "BJ7nHw8wPWoy"
      },
      "source": [
        "#### ネットワーククラス Network Class\n",
        "\n",
        "基本的に `np.` を　`cp.` に代えただけですが\n",
        "\n",
        "> np.prod はそのまま（対象が tuple のため）\n",
        "\n",
        "としています．この部分には大きな配列は出てこないので問題ありません．\n",
        "\n",
        "Basically, we just replace `np.` with `cp.`.\n",
        "\n",
        "> np.prod is left as it is (because the target is tuple).\n",
        "\n",
        "There are no problems because there are no large arrays in this part."
      ]
    },
    {
      "cell_type": "code",
      "metadata": {
        "id": "YikRRSHh7Au9"
      },
      "source": [
        "import numpy as np\n",
        "from collections import OrderedDict\n",
        "\n",
        "class CNN:\n",
        "  '''\n",
        "    コンストラクタの引数\n",
        "    input_size          : 入力データ一つの次元\n",
        "    weight_decay_lambda : L2正則化の係数\n",
        "\n",
        "    クラス変数\n",
        "    self.layers      : 層を格納する順序付き辞書\n",
        "                       活性化関数も独立した層として扱う\n",
        "    self.params      : 重みパラメータを格納する辞書\n",
        "                       W1,W2 などと番号が付くのはAffine層の重みのみ \n",
        "    '''\n",
        "  def __init__(self, input_dim = (1,28,28),  weight_decay_lambda = 0.0):\n",
        "    self.all_dim_list = [input_dim] #各層を流れるデータの形を格納\n",
        "    self.params = {}\n",
        "    self.weight_decay_lambda = weight_decay_lambda\n",
        "    self.layers = OrderedDict()\n",
        "    self.batchnorm_flag = [False]\n",
        "    self.lastLayer = SoftmaxWithLoss()\n",
        "    self.idx = 0\n",
        "    \n",
        "  #層の追加  \n",
        "  '''\n",
        "  affine 層を付け加える場合は，\n",
        "  self.affine(size = 100, activation = 'relu', batchnorm = True) \n",
        "  とすると，層のサイズ100，活性化関数ReLU, バッチ正規化ありになる\n",
        "  self.affine(100, activation = 'sigmoid')\n",
        "  とすると，層のサイズ100，活性化関数Sigmoid, バッチ正規化なし\n",
        "    \n",
        "  dropout 層を付け加える場合は\n",
        "  self.dropout(dropout_ratio = 0.6)\n",
        "  とするとマスクされる確率が0.6\n",
        "  self.dropout()\n",
        "  とするとマスクされる確率が0.5\n",
        "  \n",
        "  畳み込み層の追加： \n",
        "  convolution(self, OC＝10, FH=3, FW=3, stride = 1, pad = 0, S = 2, activation = 'relu', batchnorm = False)\n",
        "  とすると stride = 1，pad = 0，プーリングのサイズ2，活性化ReLU，バッチ正規化なし\n",
        "  convolution(self, OC＝10, FH=3, FW=3)\n",
        "  とすると stride = 1，pad = 0，S = 1 つまりプーリングなし，活性化なし，バッチ正規化なし\n",
        "  '''\n",
        "  \n",
        "  #アファイン層を追加するメソッド\n",
        "  def affine(self, size, activation='relu',  batchnorm = False):\n",
        "    self.idx += 1\n",
        "    idx = self.idx    \n",
        "    self.all_dim_list.append(size)\n",
        "    \n",
        "    # Heの初期値によるパラメータの初期化\n",
        "    scale = cp.sqrt(2.0 / np.prod(self.all_dim_list[idx - 1]))\n",
        "    self.params['W' + str(idx)] = scale * cp.random.randn(np.prod(self.all_dim_list[idx-1]), size)\n",
        "    self.params['b' + str(idx)] = cp.zeros(size)\n",
        "    \n",
        "    #アファイン層の追加\n",
        "    self.layers['Affine' + str(idx)] = Affine(self.params['W' + str(idx)], self.params['b' + str(idx)])\n",
        "    \n",
        "    #バッチ正規化層の追加\n",
        "    if batchnorm:\n",
        "      self.batchnorm_flag.append(True)\n",
        "      self.params['gamma' + str(idx)] = cp.ones(size)\n",
        "      self.params['beta' + str(idx)] = cp.zeros(size)\n",
        "      self.layers['BatchNorm' + str(idx)] = BatchNormalization(self.params['gamma' + str(idx)], \n",
        "                                                                       self.params['beta' + str(idx)])\n",
        "    else:\n",
        "      self.batchnorm_flag.append(False)\n",
        "    \n",
        "    #活性化層の追加\n",
        "    if activation == 'relu':\n",
        "      self.layers['Relu' + str(idx)] = Relu()\n",
        "    if activation == 'sigmoid':\n",
        "      self.layers['Sigmoid' + str(idx)] = Sigmoid()\n",
        "  \n",
        "  #ドロップアウト層をの追加するメソッド    \n",
        "  def dropout(self, dropout_ratio = 0.5):\n",
        "    self.layers['Dropout' + str(self.idx)] = Dropout(dropout_ratio)      \n",
        "  \n",
        "  #畳み込み層を追加するメソッド\n",
        "  def convolution(self, OC, FH, FW, stride = 1, pad = 0, S = 2, activation=None, batchnorm = False):\n",
        "    self.idx += 1\n",
        "    idx = self.idx\n",
        "    C, H, W =  self.all_dim_list[idx - 1]    \n",
        "    \n",
        "    #出力サイズ\n",
        "    OH = (H + 2 * pad - FH)//stride +1 # //は切り捨て除算\n",
        "    OW = (W + 2 * pad - FW)//stride +1\n",
        "    \n",
        "    # パラメータの初期化（Heの初期値）\n",
        "    scale = cp.sqrt(2.0 / (C*FH*FW))\n",
        "    self.params['F' + str(idx)] = scale * cp.random.randn(OC, C, FH, FW)\n",
        "    self.params['b' + str(idx)] = cp.zeros(OC)\n",
        "    \n",
        "    #畳み込み層の追加\n",
        "    self.layers['Conv' + str(idx)] = Convolution(self.params['F' + str(idx)], self.params['b' + str(idx)], \n",
        "                                                        stride = stride, pad = pad)          \n",
        "    #バッチ正規化層の追加\n",
        "    if batchnorm:\n",
        "      self.batchnorm_flag.append(True)\n",
        "      self.params['gamma' + str(idx)] = cp.ones(OC*OH*OW)\n",
        "      self.params['beta' + str(idx)] = cp.zeros(OC*OH*OW)\n",
        "      self.layers['BatchNorm' + str(idx)] = BatchNormalization(self.params['gamma' + str(idx)], \n",
        "                                                                       self.params['beta' + str(idx)])\n",
        "    else:\n",
        "      self.batchnorm_flag.append(False)\n",
        "    \n",
        "    #活性化層の追加\n",
        "    if activation == 'relu':\n",
        "      self.layers['Relu' + str(idx)] = Relu()\n",
        "    if activation == 'sigmoid':\n",
        "      self.layers['Sigmoid' + str(idx)] = Sigmoid()\n",
        "    \n",
        "    #プーリング層の追加\n",
        "    if S > 1:\n",
        "      self.layers['Pooling' + str(idx)] = Pooling(S)\n",
        "      OH = OH//S\n",
        "      OW = OW//S\n",
        "      \n",
        "    #出力サイズの格納\n",
        "    self.all_dim_list.append((OC,OH,OW))\n",
        "    \n",
        "  \n",
        "  #順方向の計算 #Softmaxの手前まで\n",
        "  def predict(self, x, train_flg=False):\n",
        "    for key, layer in self.layers.items():\n",
        "      if \"Dropout\" in key or \"BatchNorm\" in key:\n",
        "        x = layer.forward(x, train_flg)\n",
        "      else:\n",
        "        x = layer.forward(x)\n",
        "    return x\n",
        "  \n",
        "  #誤差の計算\n",
        "  def loss(self,x,t, train_flg=False):\n",
        "    x = self.predict(x, train_flg)\n",
        "    return self.lastLayer.forward(x ,t)\n",
        "  \n",
        "  #精度（クラッシュ対策でバッチに分割して計算）\n",
        "  def accuracy(self, x, t, batch_size=100):\n",
        "    acc = 0.0\n",
        "    for i in range(int(x.shape[0] / batch_size)):\n",
        "      tx = x[i*batch_size:(i+1)*batch_size]\n",
        "      tt = t[i*batch_size:(i+1)*batch_size]\n",
        "      y = self.predict(tx, train_flg=False)\n",
        "      y = cp.argmax(y, axis=1)\n",
        "      tt = cp.argmax(tt, axis=1)\n",
        "      acc += cp.sum(y == tt)\n",
        "\n",
        "    return acc / x.shape[0]\n",
        "  \n",
        "  #誤差逆伝搬法による勾配の計算\n",
        "  def gradient(self,x,t):\n",
        "    self.loss(x,t,train_flg = True)\n",
        "    \n",
        "    dout = self.lastLayer.backward()\n",
        "    \n",
        "    layers = list(self.layers.values())\n",
        "    layers.reverse()\n",
        "    for layer in layers:\n",
        "      dout = layer.backward(dout)\n",
        "    \n",
        "    #出力辞書の生成\n",
        "    grads = {}\n",
        "    all_num = len(self.all_dim_list)\n",
        "    \n",
        "    for idx in range(1, all_num):\n",
        "      #アファイン層か畳み込み層かで場合分けして勾配をgradsに追加\n",
        "      if type(self.all_dim_list[idx]) == int:#アファインのときはデータの型は整数型\n",
        "        grads['W' + str(idx)] = self.layers['Affine' + str(idx)].dW+ self.weight_decay_lambda * self.params['W' + str(idx)]\n",
        "        grads['b' + str(idx)] = self.layers['Affine' + str(idx)].db\n",
        "      else:#アファインのときはデータの型はtuple\n",
        "        grads['F' + str(idx)] = self.layers['Conv' + str(idx)].dF+ self.weight_decay_lambda * self.params['F' + str(idx)]\n",
        "        grads['b' + str(idx)] = self.layers['Conv' + str(idx)].db\n",
        "      \n",
        "      #正規化層の勾配をgradsに追加\n",
        "      if self.batchnorm_flag[idx]:\n",
        "        grads['gamma' + str(idx)] = self.layers['BatchNorm' + str(idx)].dgamma\n",
        "        grads['beta' + str(idx)] = self.layers['BatchNorm' + str(idx)].dbeta\n",
        "    \n",
        "    return grads\n",
        "\n"
      ],
      "execution_count": 6,
      "outputs": []
    },
    {
      "cell_type": "markdown",
      "metadata": {
        "id": "A5A6ziXobTL2"
      },
      "source": [
        "### 学習を行う関数 Function for training"
      ]
    },
    {
      "cell_type": "code",
      "metadata": {
        "id": "zhb4A-NnbRPX",
        "cellView": "both"
      },
      "source": [
        "#学習用の関数\n",
        "def training(network, x_train, t_train,  x_test, t_test, iters_num=10000,  batch_size=100):\n",
        "  '''\n",
        "  この関数を使う前に optimizer を与えておく必要がある\n",
        "  例：\n",
        "  optimizer = SGD(learning_rate = 0.01)\n",
        "  '''\n",
        "  network.train_accuracy_list =[] \n",
        "  network.test_accuracy_list =[] \n",
        "  train_size = x_train.shape[0]\n",
        "\n",
        "  for i in range(iters_num):\n",
        "    if i%int(iters_num/10) ==0:\n",
        "      #精度の記録 \n",
        "      choice = cp.random.choice(len(x_train),len(x_test))\n",
        "      x_train_part, t_train_part = x_train[choice], t_train[choice]\n",
        "      train_accuracy = network.accuracy(x_train_part,t_train_part)\n",
        "      test_accuracy = network.accuracy(x_test,t_test)\n",
        "      network.train_accuracy_list.append(train_accuracy)\n",
        "      network.test_accuracy_list.append(test_accuracy)\n",
        "      print('iteration:', i, ' train_accuracy = ', train_accuracy,\n",
        "            ' test_accuracy = ', test_accuracy)\n",
        "\n",
        "    #ミニバッチを選ぶ  \n",
        "    batch_mask = cp.random.choice(train_size,batch_size, replace=False)\n",
        "    x_batch = x_train[batch_mask]\n",
        "    t_batch = t_train[batch_mask]\n",
        "\n",
        "    #勾配を計算  \n",
        "    grads = network.gradient(x_batch,t_batch)     \n",
        "\n",
        "    # パラメータを更新 \n",
        "    optimizer.update(network.params, grads)\n",
        "\n",
        "  #精度の記録  \n",
        "  choice = cp.random.choice(len(x_test),len(x_test))\n",
        "  x_train_part, t_train_part = x_train[choice], t_train[choice]\n",
        "  train_accuracy = network.accuracy(x_train_part,t_train_part)\n",
        "  test_accuracy = network.accuracy(x_test,t_test)\n",
        "  network.train_accuracy_list.append(train_accuracy)\n",
        "  network.test_accuracy_list.append(test_accuracy)\n",
        "  print('iteration:', i, ' train_accuracy = ', train_accuracy,\n",
        "        ' test_accuracy = ', test_accuracy)\n",
        "      "
      ],
      "execution_count": 7,
      "outputs": []
    },
    {
      "cell_type": "markdown",
      "metadata": {
        "id": "0N0LMOWyQYCq"
      },
      "source": [
        "MNISTデータセットの読み込み\n",
        "\n",
        "Loading the MNIST data set\n"
      ]
    },
    {
      "cell_type": "code",
      "metadata": {
        "id": "zorG4ynnQYCs",
        "cellView": "form"
      },
      "source": [
        "#@title\n",
        "train = np.loadtxt('/content/sample_data/mnist_train_small.csv',  # 読み込みたいファイルのパス\\\n",
        "                  dtype = 'int',  # 出力される配列の要素のデータ型\\\n",
        "                  delimiter= ',',    # ファイルの区切り文字 \\\n",
        "                  #skiprows= 0,      # 先頭の何行を無視するか（指定した行数までは読み込まない）\\\n",
        "                  #usecols=None  # 読み込みたい列番号 \\\n",
        "                 )\n",
        "test = np.loadtxt('/content/sample_data/mnist_test.csv', \\\n",
        "                  dtype = 'int',  delimiter= ',')"
      ],
      "execution_count": 8,
      "outputs": []
    },
    {
      "cell_type": "code",
      "metadata": {
        "id": "A5FrhQBilEjo"
      },
      "source": [
        "# CuPyに直す\n",
        "train = cp.array(train) \n",
        "test = cp.array(test) "
      ],
      "execution_count": 9,
      "outputs": []
    },
    {
      "cell_type": "markdown",
      "metadata": {
        "id": "E2Jrq0jWScXx"
      },
      "source": [
        "前処理\n",
        "\n",
        "preprocessing"
      ]
    },
    {
      "cell_type": "code",
      "metadata": {
        "id": "7YneKn0EScX2"
      },
      "source": [
        "train_size = train.shape[0]\n",
        "x_train = train.T[1:].T/float(255)\n",
        "x_train = x_train.reshape(train_size,1,28,28)\n",
        "t_train =  cp.eye(10)[train.T[0]]\n",
        "test_size = test.shape[0]\n",
        "x_test = test.T[1:].T/float(255)\n",
        "x_test = x_test.reshape(test_size,1,28,28)\n",
        "t_test =  cp.eye(10)[test.T[0]]\n",
        "\n"
      ],
      "execution_count": 10,
      "outputs": []
    },
    {
      "cell_type": "markdown",
      "metadata": {
        "id": "nyDI8MSrQzwX"
      },
      "source": [
        "####  単純なCNN (Simple CNN)\n",
        "```\n",
        "入力 - conv - relu - pool - affine - relu - affine - softmax\n",
        "```\n",
        "\n",
        "という比較的簡単な CNN を定義してみましょう．\n",
        "\n",
        "Let's define a relatively simple CNN as above.\n"
      ]
    },
    {
      "cell_type": "code",
      "metadata": {
        "id": "PuUrKKxlqzEV"
      },
      "source": [
        "#Simple CNN\n",
        "network = CNN(input_dim=(1,28,28))\n",
        "network.convolution(OC = 30, FH = 5, FW =5, S = 2, activation = 'relu')\n",
        "network.affine(100)\n",
        "network.affine(10, activation = None)"
      ],
      "execution_count": 11,
      "outputs": []
    },
    {
      "cell_type": "markdown",
      "metadata": {
        "id": "dtY6qkpQNnbd"
      },
      "source": [
        "出来上がったネットワークの構造は `network.layers` および\n",
        "`network.all_dim_list`  で見られます．\n",
        "\n",
        "The structure of the resulting network can be seen by `network.layers` and `network.all_dim_list`.\n"
      ]
    },
    {
      "cell_type": "code",
      "metadata": {
        "id": "XM_BJO_yMrp5",
        "colab": {
          "base_uri": "https://localhost:8080/"
        },
        "outputId": "c7c185c6-a544-4400-c623-bf369246b772"
      },
      "source": [
        "print(network.all_dim_list)\n",
        "network.layers"
      ],
      "execution_count": 12,
      "outputs": [
        {
          "output_type": "stream",
          "name": "stdout",
          "text": [
            "[(1, 28, 28), (30, 12, 12), 100, 10]\n"
          ]
        },
        {
          "output_type": "execute_result",
          "data": {
            "text/plain": [
              "OrderedDict([('Conv1', <__main__.Convolution at 0x7f9ae9b55b90>),\n",
              "             ('Relu1', <__main__.Relu at 0x7f9ae9b55550>),\n",
              "             ('Pooling1', <__main__.Pooling at 0x7f9ae9b55a10>),\n",
              "             ('Affine2', <__main__.Affine at 0x7f9b161c3250>),\n",
              "             ('Relu2', <__main__.Relu at 0x7f9b161c3e50>),\n",
              "             ('Affine3', <__main__.Affine at 0x7f9b981e2a10>)])"
            ]
          },
          "metadata": {},
          "execution_count": 12
        }
      ]
    },
    {
      "cell_type": "markdown",
      "metadata": {
        "id": "CormwMAPQ7jF"
      },
      "source": [
        "iters_num=1000  （1000*100/20000 = 5回転 = 5エポック）学習させてみます．\n",
        "\n",
        "なお，\n",
        "\n",
        "> x = np.arange は NumPy のままです．\n",
        "\n",
        "これは matplotlib への対応ですが，これももちろん処理の速さには関係ありません．\n",
        "\n",
        "Let's train iters_num=1000 (1000*100/20000 = 5 rotations = 5 epochs).\n",
        "\n",
        "Note that\n",
        "\n",
        "> x = np.arange is still NumPy.\n",
        "\n",
        "This is a support for matplotlib, but of course this does not affect the speed of processing."
      ]
    },
    {
      "cell_type": "code",
      "metadata": {
        "id": "TKYVwZ71rYdA",
        "colab": {
          "base_uri": "https://localhost:8080/",
          "height": 523
        },
        "outputId": "a45df1e8-ba76-4778-8d76-0ad8c5fae978"
      },
      "source": [
        "import matplotlib.pyplot as plt \n",
        "\n",
        "optimizer = Adam(learning_rate=0.001)\n",
        "training(network, x_train, t_train, x_test, t_test, iters_num=1000, batch_size = 100)\n",
        "\n",
        "#学習履歴の表示\n",
        "x = np.arange(0,len(network.train_accuracy_list),1) \n",
        "\n",
        "#グラフが見にくくなるので初期値は表示しない\n",
        "plt.plot(x[1:], network.train_accuracy_list[1:], label = 'train_data')  \n",
        "plt.plot(x[1:], network.test_accuracy_list[1:], label = 'test_data')  \n",
        "\n",
        "plt.legend() #グラフの線の説明を表示"
      ],
      "execution_count": 13,
      "outputs": [
        {
          "output_type": "stream",
          "name": "stdout",
          "text": [
            "iteration: 0  train_accuracy =  0.1153  test_accuracy =  0.115\n"
          ]
        },
        {
          "output_type": "stream",
          "name": "stderr",
          "text": [
            "/usr/local/lib/python3.7/dist-packages/ipykernel_launcher.py:295: DeprecationWarning: `cupy.float` is a deprecated alias for the Python scalar type `float`. Please use the builtin `float` or its corresponding NumPy scalar type `cupy.float_` instead.\n",
            "/usr/local/lib/python3.7/dist-packages/ipykernel_launcher.py:240: DeprecationWarning: `cupy.float` is a deprecated alias for the Python scalar type `float`. Please use the builtin `float` or its corresponding NumPy scalar type `cupy.float_` instead.\n"
          ]
        },
        {
          "output_type": "stream",
          "name": "stdout",
          "text": [
            "iteration: 100  train_accuracy =  0.9247  test_accuracy =  0.9265\n",
            "iteration: 200  train_accuracy =  0.9421  test_accuracy =  0.9384\n",
            "iteration: 300  train_accuracy =  0.9676  test_accuracy =  0.9632\n",
            "iteration: 400  train_accuracy =  0.974  test_accuracy =  0.9698\n",
            "iteration: 500  train_accuracy =  0.9787  test_accuracy =  0.9723\n",
            "iteration: 600  train_accuracy =  0.9847  test_accuracy =  0.9735\n",
            "iteration: 700  train_accuracy =  0.9864  test_accuracy =  0.9763\n",
            "iteration: 800  train_accuracy =  0.9872  test_accuracy =  0.9768\n",
            "iteration: 900  train_accuracy =  0.991  test_accuracy =  0.9808\n",
            "iteration: 999  train_accuracy =  0.9887  test_accuracy =  0.9783\n"
          ]
        },
        {
          "output_type": "execute_result",
          "data": {
            "text/plain": [
              "<matplotlib.legend.Legend at 0x7f9af9cde390>"
            ]
          },
          "metadata": {},
          "execution_count": 13
        },
        {
          "output_type": "display_data",
          "data": {
            "image/png": "[encoded data removed]",
            "text/plain": [
              "<Figure size 432x288 with 1 Axes>"
            ]
          },
          "metadata": {
            "needs_background": "light"
          }
        }
      ]
    },
    {
      "cell_type": "markdown",
      "metadata": {
        "id": "hqm-76hAUsLh"
      },
      "source": [
        "#### 複雑な CNN (A complex CNN)\n",
        "\n",
        "```\n",
        "conv - relu - conv- relu - pool -\n",
        "conv - relu - conv- relu - pool -\n",
        "conv - relu - conv- relu - pool -\n",
        "affine - relu - dropout - affine - dropout - softmax\n",
        "```\n",
        "\n",
        "というネットワーク作ってみましょう．\n",
        "\n",
        "Let's create a network as above.\n"
      ]
    },
    {
      "cell_type": "code",
      "metadata": {
        "id": "iHlL1Nq9UsMG"
      },
      "source": [
        "network = CNN(input_dim=(1,28,28), weight_decay_lambda = 0.001)\n",
        "network.convolution(OC = 16, FH = 3, FW =3, pad =1, S = 1, activation = 'relu')\n",
        "network.convolution(OC = 16, FH = 3, FW =3, pad =1, S = 2, activation = 'relu')\n",
        "network.convolution(OC = 32, FH = 3, FW =3, pad =1, S = 1, activation = 'relu')\n",
        "network.convolution(OC = 32, FH = 3, FW =3, pad =2, S = 2, activation = 'relu')\n",
        "network.convolution(OC = 64, FH = 3, FW =3, pad =1, S = 1, activation = 'relu')\n",
        "network.convolution(OC = 64, FH = 3, FW =3, pad =1, S = 2, activation = 'relu')\n",
        "network.affine(50)\n",
        "network.dropout()\n",
        "network.affine(10, activation = None)\n",
        "network.dropout()\n"
      ],
      "execution_count": 14,
      "outputs": []
    },
    {
      "cell_type": "markdown",
      "metadata": {
        "id": "41VqbCoeUJP9"
      },
      "source": [
        "このようにCNNでは\n",
        "\n",
        "* チャンネルはだんだん大きくする\n",
        "* 画像サイズ（H，W）はだんだん小さくする\n",
        "\n",
        "のが一般的です．\n",
        "\n",
        "In this way, in CNN, it is common to \n",
        "* increase the channel size \n",
        "* decrease the image size (H, W)\n",
        "\n",
        "as the data moves through the layers."
      ]
    },
    {
      "cell_type": "code",
      "metadata": {
        "id": "pEuumWdXUsMW",
        "colab": {
          "base_uri": "https://localhost:8080/"
        },
        "outputId": "8b3e83bc-98b3-4c5c-a56d-ab82a24a955a"
      },
      "source": [
        "print(network.all_dim_list)\n",
        "network.layers"
      ],
      "execution_count": 15,
      "outputs": [
        {
          "output_type": "stream",
          "name": "stdout",
          "text": [
            "[(1, 28, 28), (16, 28, 28), (16, 14, 14), (32, 14, 14), (32, 8, 8), (64, 8, 8), (64, 4, 4), 50, 10]\n"
          ]
        },
        {
          "output_type": "execute_result",
          "data": {
            "text/plain": [
              "OrderedDict([('Conv1', <__main__.Convolution at 0x7f9b145b4f10>),\n",
              "             ('Relu1', <__main__.Relu at 0x7f9b145b4990>),\n",
              "             ('Conv2', <__main__.Convolution at 0x7f9b145b4490>),\n",
              "             ('Relu2', <__main__.Relu at 0x7f9b145b4c50>),\n",
              "             ('Pooling2', <__main__.Pooling at 0x7f9b145b4a90>),\n",
              "             ('Conv3', <__main__.Convolution at 0x7f9af9cf6ad0>),\n",
              "             ('Relu3', <__main__.Relu at 0x7f9af9cf6510>),\n",
              "             ('Conv4', <__main__.Convolution at 0x7f9af6d6d250>),\n",
              "             ('Relu4', <__main__.Relu at 0x7f9af6d6ddd0>),\n",
              "             ('Pooling4', <__main__.Pooling at 0x7f9af6d7d750>),\n",
              "             ('Conv5', <__main__.Convolution at 0x7f9af6d7dd90>),\n",
              "             ('Relu5', <__main__.Relu at 0x7f9af6d7de90>),\n",
              "             ('Conv6', <__main__.Convolution at 0x7f9af6d7d890>),\n",
              "             ('Relu6', <__main__.Relu at 0x7f9af6d7d490>),\n",
              "             ('Pooling6', <__main__.Pooling at 0x7f9af6d4b610>),\n",
              "             ('Affine7', <__main__.Affine at 0x7f9af9ce3990>),\n",
              "             ('Relu7', <__main__.Relu at 0x7f9af9ce3a50>),\n",
              "             ('Dropout7', <__main__.Dropout at 0x7f9ae9b55910>),\n",
              "             ('Affine8', <__main__.Affine at 0x7f9af9ce3090>),\n",
              "             ('Dropout8', <__main__.Dropout at 0x7f9b9bad4950>)])"
            ]
          },
          "metadata": {},
          "execution_count": 15
        }
      ]
    },
    {
      "cell_type": "markdown",
      "metadata": {
        "id": "rvuvAz-vUsMZ"
      },
      "source": [
        "学習させてみましょう．\n",
        "\n",
        "Let's train the model. "
      ]
    },
    {
      "cell_type": "code",
      "metadata": {
        "id": "tqWaivujVDze",
        "colab": {
          "base_uri": "https://localhost:8080/",
          "height": 523
        },
        "outputId": "a3d0fb37-479d-4960-bfd0-5e290947e079"
      },
      "source": [
        "import matplotlib.pyplot as plt \n",
        "\n",
        "optimizer = Adam(learning_rate=0.001)\n",
        "training(network, x_train, t_train, x_test, t_test, iters_num=1000, batch_size = 100)\n",
        "x = np.arange(0,len(network.train_accuracy_list),1) \n",
        "\n",
        "#グラフが見にくくなるので初期値は表示しない\n",
        "plt.plot(x[1:], network.train_accuracy_list[1:], label = 'train_data')  \n",
        "plt.plot(x[1:], network.test_accuracy_list[1:], label = 'test_data')  \n",
        "\n",
        "plt.legend() #グラフの線の説明を表示"
      ],
      "execution_count": 16,
      "outputs": [
        {
          "output_type": "stream",
          "name": "stdout",
          "text": [
            "iteration: 0  train_accuracy =  0.1096  test_accuracy =  0.1023\n"
          ]
        },
        {
          "output_type": "stream",
          "name": "stderr",
          "text": [
            "/usr/local/lib/python3.7/dist-packages/ipykernel_launcher.py:295: DeprecationWarning: `cupy.float` is a deprecated alias for the Python scalar type `float`. Please use the builtin `float` or its corresponding NumPy scalar type `cupy.float_` instead.\n",
            "/usr/local/lib/python3.7/dist-packages/ipykernel_launcher.py:240: DeprecationWarning: `cupy.float` is a deprecated alias for the Python scalar type `float`. Please use the builtin `float` or its corresponding NumPy scalar type `cupy.float_` instead.\n"
          ]
        },
        {
          "output_type": "stream",
          "name": "stdout",
          "text": [
            "iteration: 100  train_accuracy =  0.9227  test_accuracy =  0.9248\n",
            "iteration: 200  train_accuracy =  0.9611  test_accuracy =  0.9598\n",
            "iteration: 300  train_accuracy =  0.9559  test_accuracy =  0.9577\n",
            "iteration: 400  train_accuracy =  0.9665  test_accuracy =  0.9736\n",
            "iteration: 500  train_accuracy =  0.9803  test_accuracy =  0.9787\n",
            "iteration: 600  train_accuracy =  0.9786  test_accuracy =  0.9807\n",
            "iteration: 700  train_accuracy =  0.9792  test_accuracy =  0.981\n",
            "iteration: 800  train_accuracy =  0.9834  test_accuracy =  0.9834\n",
            "iteration: 900  train_accuracy =  0.9865  test_accuracy =  0.985\n",
            "iteration: 999  train_accuracy =  0.9853  test_accuracy =  0.9836\n"
          ]
        },
        {
          "output_type": "execute_result",
          "data": {
            "text/plain": [
              "<matplotlib.legend.Legend at 0x7f9af6d55710>"
            ]
          },
          "metadata": {},
          "execution_count": 16
        },
        {
          "output_type": "display_data",
          "data": {
            "image/png": "[encoded data removed]",
            "text/plain": [
              "<Figure size 432x288 with 1 Axes>"
            ]
          },
          "metadata": {
            "needs_background": "light"
          }
        }
      ]
    }
  ]
}